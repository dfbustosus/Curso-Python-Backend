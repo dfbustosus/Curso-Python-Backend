{
 "cells": [
  {
   "attachments": {},
   "cell_type": "markdown",
   "metadata": {},
   "source": [
    "# Errores\n",
    "\n",
    "## 1 Sintaxis"
   ]
  },
  {
   "cell_type": "code",
   "execution_count": 3,
   "metadata": {},
   "outputs": [
    {
     "ename": "SyntaxError",
     "evalue": "expected ':' (4244095929.py, line 3)",
     "output_type": "error",
     "traceback": [
      "\u001b[1;36m  Cell \u001b[1;32mIn [3], line 3\u001b[1;36m\u001b[0m\n\u001b[1;33m    if x==5\u001b[0m\n\u001b[1;37m           ^\u001b[0m\n\u001b[1;31mSyntaxError\u001b[0m\u001b[1;31m:\u001b[0m expected ':'\n"
     ]
    }
   ],
   "source": [
    "# Faltan carcateres\n",
    "x=5\n",
    "if x==5\n",
    "    print('Es igual a 5')"
   ]
  },
  {
   "cell_type": "code",
   "execution_count": 5,
   "metadata": {},
   "outputs": [
    {
     "ename": "IndentationError",
     "evalue": "expected an indented block after 'if' statement on line 3 (882970143.py, line 4)",
     "output_type": "error",
     "traceback": [
      "\u001b[1;36m  Cell \u001b[1;32mIn [5], line 4\u001b[1;36m\u001b[0m\n\u001b[1;33m    print('Mayor a 3')\u001b[0m\n\u001b[1;37m    ^\u001b[0m\n\u001b[1;31mIndentationError\u001b[0m\u001b[1;31m:\u001b[0m expected an indented block after 'if' statement on line 3\n"
     ]
    }
   ],
   "source": [
    "# Identacion mal\n",
    "x=5 \n",
    "if x >3:\n",
    "print('Mayor a 3')"
   ]
  },
  {
   "cell_type": "code",
   "execution_count": 6,
   "metadata": {},
   "outputs": [
    {
     "ename": "SyntaxError",
     "evalue": "Missing parentheses in call to 'print'. Did you mean print(...)? (1881718785.py, line 2)",
     "output_type": "error",
     "traceback": [
      "\u001b[1;36m  Cell \u001b[1;32mIn [6], line 2\u001b[1;36m\u001b[0m\n\u001b[1;33m    print \"Hola mundo\"\u001b[0m\n\u001b[1;37m    ^\u001b[0m\n\u001b[1;31mSyntaxError\u001b[0m\u001b[1;31m:\u001b[0m Missing parentheses in call to 'print'. Did you mean print(...)?\n"
     ]
    }
   ],
   "source": [
    "# Faltan parentesis\n",
    "print \"Hola mundo\""
   ]
  },
  {
   "cell_type": "code",
   "execution_count": 7,
   "metadata": {},
   "outputs": [
    {
     "ename": "SyntaxError",
     "evalue": "unterminated string literal (detected at line 2) (2875279545.py, line 2)",
     "output_type": "error",
     "traceback": [
      "\u001b[1;36m  Cell \u001b[1;32mIn [7], line 2\u001b[1;36m\u001b[0m\n\u001b[1;33m    print('Hola Mundo\")\u001b[0m\n\u001b[1;37m          ^\u001b[0m\n\u001b[1;31mSyntaxError\u001b[0m\u001b[1;31m:\u001b[0m unterminated string literal (detected at line 2)\n"
     ]
    }
   ],
   "source": [
    "# Mal uso de comillas\n",
    "print('Hola Mundo\")"
   ]
  },
  {
   "cell_type": "code",
   "execution_count": 8,
   "metadata": {},
   "outputs": [
    {
     "ename": "NameError",
     "evalue": "name 'david' is not defined",
     "output_type": "error",
     "traceback": [
      "\u001b[1;31m---------------------------------------------------------------------------\u001b[0m",
      "\u001b[1;31mNameError\u001b[0m                                 Traceback (most recent call last)",
      "\u001b[1;32mc:\\Users\\Windows\\Desktop\\Curso Python Coder\\Clase 11\\Clase 11. Youtube.ipynb Cell 6\u001b[0m in \u001b[0;36m2\n\u001b[0;32m      <a href='vscode-notebook-cell:/c%3A/Users/Windows/Desktop/Curso%20Python%20Coder/Clase%2011/Clase%2011.%20Youtube.ipynb#W5sZmlsZQ%3D%3D?line=0'>1</a>\u001b[0m \u001b[39m# Variables no definidas\u001b[39;00m\n\u001b[1;32m----> <a href='vscode-notebook-cell:/c%3A/Users/Windows/Desktop/Curso%20Python%20Coder/Clase%2011/Clase%2011.%20Youtube.ipynb#W5sZmlsZQ%3D%3D?line=1'>2</a>\u001b[0m \u001b[39mprint\u001b[39m(david)\n",
      "\u001b[1;31mNameError\u001b[0m: name 'david' is not defined"
     ]
    }
   ],
   "source": [
    "# Variables no definidas\n",
    "print(david)"
   ]
  },
  {
   "attachments": {},
   "cell_type": "markdown",
   "metadata": {},
   "source": [
    "## 2 Semantica\n",
    "Incorrecto uso de funciones o metodos"
   ]
  },
  {
   "cell_type": "code",
   "execution_count": 11,
   "metadata": {},
   "outputs": [
    {
     "ename": "TypeError",
     "evalue": "unsupported operand type(s) for +: 'int' and 'str'",
     "output_type": "error",
     "traceback": [
      "\u001b[1;31m---------------------------------------------------------------------------\u001b[0m",
      "\u001b[1;31mTypeError\u001b[0m                                 Traceback (most recent call last)",
      "\u001b[1;32mc:\\Users\\Windows\\Desktop\\Curso Python Coder\\Clase 11\\Clase 11. Youtube.ipynb Cell 8\u001b[0m in \u001b[0;36m2\n\u001b[0;32m      <a href='vscode-notebook-cell:/c%3A/Users/Windows/Desktop/Curso%20Python%20Coder/Clase%2011/Clase%2011.%20Youtube.ipynb#X10sZmlsZQ%3D%3D?line=0'>1</a>\u001b[0m \u001b[39m# Uso incorrecto de operaciones\u001b[39;00m\n\u001b[1;32m----> <a href='vscode-notebook-cell:/c%3A/Users/Windows/Desktop/Curso%20Python%20Coder/Clase%2011/Clase%2011.%20Youtube.ipynb#X10sZmlsZQ%3D%3D?line=1'>2</a>\u001b[0m x\u001b[39m=\u001b[39m \u001b[39m5\u001b[39;49m\u001b[39m+\u001b[39;49m \u001b[39m\"\u001b[39;49m\u001b[39m2\u001b[39;49m\u001b[39m\"\u001b[39;49m\n",
      "\u001b[1;31mTypeError\u001b[0m: unsupported operand type(s) for +: 'int' and 'str'"
     ]
    }
   ],
   "source": [
    "# Uso incorrecto de operaciones\n",
    "x= 5+ \"2\""
   ]
  },
  {
   "cell_type": "code",
   "execution_count": 12,
   "metadata": {},
   "outputs": [
    {
     "ename": "NameError",
     "evalue": "name 'y' is not defined",
     "output_type": "error",
     "traceback": [
      "\u001b[1;31m---------------------------------------------------------------------------\u001b[0m",
      "\u001b[1;31mNameError\u001b[0m                                 Traceback (most recent call last)",
      "\u001b[1;32mc:\\Users\\Windows\\Desktop\\Curso Python Coder\\Clase 11\\Clase 11. Youtube.ipynb Cell 9\u001b[0m in \u001b[0;36m2\n\u001b[0;32m      <a href='vscode-notebook-cell:/c%3A/Users/Windows/Desktop/Curso%20Python%20Coder/Clase%2011/Clase%2011.%20Youtube.ipynb#X11sZmlsZQ%3D%3D?line=0'>1</a>\u001b[0m \u001b[39m# Incorrecto usao de asignacion\u001b[39;00m\n\u001b[1;32m----> <a href='vscode-notebook-cell:/c%3A/Users/Windows/Desktop/Curso%20Python%20Coder/Clase%2011/Clase%2011.%20Youtube.ipynb#X11sZmlsZQ%3D%3D?line=1'>2</a>\u001b[0m x\u001b[39m=\u001b[39m y\u001b[39m+\u001b[39m\u001b[39m5\u001b[39m \n\u001b[0;32m      <a href='vscode-notebook-cell:/c%3A/Users/Windows/Desktop/Curso%20Python%20Coder/Clase%2011/Clase%2011.%20Youtube.ipynb#X11sZmlsZQ%3D%3D?line=2'>3</a>\u001b[0m y\u001b[39m=\u001b[39m \u001b[39m\"\u001b[39m\u001b[39mHola mundo\u001b[39m\u001b[39m\"\u001b[39m\n",
      "\u001b[1;31mNameError\u001b[0m: name 'y' is not defined"
     ]
    }
   ],
   "source": [
    "# Incorrecto usao de asignacion\n",
    "x= y+5 \n",
    "y= \"Hola mundo\""
   ]
  },
  {
   "cell_type": "code",
   "execution_count": 13,
   "metadata": {},
   "outputs": [
    {
     "ename": "ValueError",
     "evalue": "math domain error",
     "output_type": "error",
     "traceback": [
      "\u001b[1;31m---------------------------------------------------------------------------\u001b[0m",
      "\u001b[1;31mValueError\u001b[0m                                Traceback (most recent call last)",
      "\u001b[1;32mc:\\Users\\Windows\\Desktop\\Curso Python Coder\\Clase 11\\Clase 11. Youtube.ipynb Cell 10\u001b[0m in \u001b[0;36m4\n\u001b[0;32m      <a href='vscode-notebook-cell:/c%3A/Users/Windows/Desktop/Curso%20Python%20Coder/Clase%2011/Clase%2011.%20Youtube.ipynb#X12sZmlsZQ%3D%3D?line=1'>2</a>\u001b[0m \u001b[39mimport\u001b[39;00m \u001b[39mmath\u001b[39;00m \n\u001b[0;32m      <a href='vscode-notebook-cell:/c%3A/Users/Windows/Desktop/Curso%20Python%20Coder/Clase%2011/Clase%2011.%20Youtube.ipynb#X12sZmlsZQ%3D%3D?line=2'>3</a>\u001b[0m x\u001b[39m=\u001b[39m \u001b[39m-\u001b[39m\u001b[39m5\u001b[39m\n\u001b[1;32m----> <a href='vscode-notebook-cell:/c%3A/Users/Windows/Desktop/Curso%20Python%20Coder/Clase%2011/Clase%2011.%20Youtube.ipynb#X12sZmlsZQ%3D%3D?line=3'>4</a>\u001b[0m y\u001b[39m=\u001b[39m math\u001b[39m.\u001b[39;49msqrt(x)\n",
      "\u001b[1;31mValueError\u001b[0m: math domain error"
     ]
    }
   ],
   "source": [
    "# Incorrecto uso de una funcion\n",
    "import math \n",
    "x= -5\n",
    "y= math.sqrt(x)"
   ]
  },
  {
   "cell_type": "code",
   "execution_count": null,
   "metadata": {},
   "outputs": [],
   "source": [
    "# Incorrecto uso de loop\n",
    "x=0 \n",
    "while x<5:\n",
    "    print(x)"
   ]
  },
  {
   "cell_type": "code",
   "execution_count": 17,
   "metadata": {},
   "outputs": [],
   "source": [
    "# Incorrecto uso de condicionales\n",
    "x=5\n",
    "if x>10 and x<0:\n",
    "    print(\"x esta fuera del rango [0,10]\")"
   ]
  },
  {
   "attachments": {},
   "cell_type": "markdown",
   "metadata": {},
   "source": [
    "Los errores semánticos pueden ser más difíciles de detectar y corregir que los errores de sintaxis porque involucran errores en la lógica del código, en lugar de errores en la sintaxis del lenguaje."
   ]
  },
  {
   "attachments": {},
   "cell_type": "markdown",
   "metadata": {},
   "source": [
    "## 3 Runtime \n",
    "Los errores de tiempo de ejecución ocurren cuando un programa se está ejecutando y encuentra un error que hace que se detenga o bloquee.\n"
   ]
  },
  {
   "cell_type": "code",
   "execution_count": 18,
   "metadata": {},
   "outputs": [
    {
     "ename": "ZeroDivisionError",
     "evalue": "division by zero",
     "output_type": "error",
     "traceback": [
      "\u001b[1;31m---------------------------------------------------------------------------\u001b[0m",
      "\u001b[1;31mZeroDivisionError\u001b[0m                         Traceback (most recent call last)",
      "\u001b[1;32mc:\\Users\\Windows\\Desktop\\Curso Python Coder\\Clase 11\\Clase 11. Youtube.ipynb Cell 15\u001b[0m in \u001b[0;36m2\n\u001b[0;32m      <a href='vscode-notebook-cell:/c%3A/Users/Windows/Desktop/Curso%20Python%20Coder/Clase%2011/Clase%2011.%20Youtube.ipynb#X20sZmlsZQ%3D%3D?line=0'>1</a>\u001b[0m \u001b[39m# Division por cero\u001b[39;00m\n\u001b[1;32m----> <a href='vscode-notebook-cell:/c%3A/Users/Windows/Desktop/Curso%20Python%20Coder/Clase%2011/Clase%2011.%20Youtube.ipynb#X20sZmlsZQ%3D%3D?line=1'>2</a>\u001b[0m \u001b[39m5\u001b[39;49m\u001b[39m/\u001b[39;49m\u001b[39m0\u001b[39;49m\n",
      "\u001b[1;31mZeroDivisionError\u001b[0m: division by zero"
     ]
    }
   ],
   "source": [
    "# Division por cero\n",
    "5/0"
   ]
  },
  {
   "cell_type": "code",
   "execution_count": 19,
   "metadata": {},
   "outputs": [
    {
     "ename": "TypeError",
     "evalue": "can only concatenate str (not \"int\") to str",
     "output_type": "error",
     "traceback": [
      "\u001b[1;31m---------------------------------------------------------------------------\u001b[0m",
      "\u001b[1;31mTypeError\u001b[0m                                 Traceback (most recent call last)",
      "\u001b[1;32mc:\\Users\\Windows\\Desktop\\Curso Python Coder\\Clase 11\\Clase 11. Youtube.ipynb Cell 16\u001b[0m in \u001b[0;36m2\n\u001b[0;32m      <a href='vscode-notebook-cell:/c%3A/Users/Windows/Desktop/Curso%20Python%20Coder/Clase%2011/Clase%2011.%20Youtube.ipynb#X21sZmlsZQ%3D%3D?line=0'>1</a>\u001b[0m \u001b[39m# TypeError\u001b[39;00m\n\u001b[1;32m----> <a href='vscode-notebook-cell:/c%3A/Users/Windows/Desktop/Curso%20Python%20Coder/Clase%2011/Clase%2011.%20Youtube.ipynb#X21sZmlsZQ%3D%3D?line=1'>2</a>\u001b[0m x\u001b[39m=\u001b[39m \u001b[39m\"\u001b[39;49m\u001b[39m5\u001b[39;49m\u001b[39m\"\u001b[39;49m\u001b[39m+\u001b[39;49m\u001b[39m2\u001b[39;49m\n",
      "\u001b[1;31mTypeError\u001b[0m: can only concatenate str (not \"int\") to str"
     ]
    }
   ],
   "source": [
    "# TypeError\n",
    "x= \"5\"+2"
   ]
  },
  {
   "cell_type": "code",
   "execution_count": 20,
   "metadata": {},
   "outputs": [
    {
     "ename": "FileNotFoundError",
     "evalue": "[Errno 2] No such file or directory: 'archivo.txt'",
     "output_type": "error",
     "traceback": [
      "\u001b[1;31m---------------------------------------------------------------------------\u001b[0m",
      "\u001b[1;31mFileNotFoundError\u001b[0m                         Traceback (most recent call last)",
      "\u001b[1;32mc:\\Users\\Windows\\Desktop\\Curso Python Coder\\Clase 11\\Clase 11. Youtube.ipynb Cell 17\u001b[0m in \u001b[0;36m2\n\u001b[0;32m      <a href='vscode-notebook-cell:/c%3A/Users/Windows/Desktop/Curso%20Python%20Coder/Clase%2011/Clase%2011.%20Youtube.ipynb#X22sZmlsZQ%3D%3D?line=0'>1</a>\u001b[0m \u001b[39m# FileNotFoundError\u001b[39;00m\n\u001b[1;32m----> <a href='vscode-notebook-cell:/c%3A/Users/Windows/Desktop/Curso%20Python%20Coder/Clase%2011/Clase%2011.%20Youtube.ipynb#X22sZmlsZQ%3D%3D?line=1'>2</a>\u001b[0m \u001b[39mwith\u001b[39;00m \u001b[39mopen\u001b[39;49m(\u001b[39m\"\u001b[39;49m\u001b[39marchivo.txt\u001b[39;49m\u001b[39m\"\u001b[39;49m,\u001b[39m'\u001b[39;49m\u001b[39mr\u001b[39;49m\u001b[39m'\u001b[39;49m) \u001b[39mas\u001b[39;00m f:\n\u001b[0;32m      <a href='vscode-notebook-cell:/c%3A/Users/Windows/Desktop/Curso%20Python%20Coder/Clase%2011/Clase%2011.%20Youtube.ipynb#X22sZmlsZQ%3D%3D?line=2'>3</a>\u001b[0m     dat\u001b[39m=\u001b[39mf\u001b[39m.\u001b[39mread()\n",
      "File \u001b[1;32m~\\AppData\\Local\\Packages\\PythonSoftwareFoundation.Python.3.10_qbz5n2kfra8p0\\LocalCache\\local-packages\\Python310\\site-packages\\IPython\\core\\interactiveshell.py:282\u001b[0m, in \u001b[0;36m_modified_open\u001b[1;34m(file, *args, **kwargs)\u001b[0m\n\u001b[0;32m    275\u001b[0m \u001b[39mif\u001b[39;00m file \u001b[39min\u001b[39;00m {\u001b[39m0\u001b[39m, \u001b[39m1\u001b[39m, \u001b[39m2\u001b[39m}:\n\u001b[0;32m    276\u001b[0m     \u001b[39mraise\u001b[39;00m \u001b[39mValueError\u001b[39;00m(\n\u001b[0;32m    277\u001b[0m         \u001b[39mf\u001b[39m\u001b[39m\"\u001b[39m\u001b[39mIPython won\u001b[39m\u001b[39m'\u001b[39m\u001b[39mt let you open fd=\u001b[39m\u001b[39m{\u001b[39;00mfile\u001b[39m}\u001b[39;00m\u001b[39m by default \u001b[39m\u001b[39m\"\u001b[39m\n\u001b[0;32m    278\u001b[0m         \u001b[39m\"\u001b[39m\u001b[39mas it is likely to crash IPython. If you know what you are doing, \u001b[39m\u001b[39m\"\u001b[39m\n\u001b[0;32m    279\u001b[0m         \u001b[39m\"\u001b[39m\u001b[39myou can use builtins\u001b[39m\u001b[39m'\u001b[39m\u001b[39m open.\u001b[39m\u001b[39m\"\u001b[39m\n\u001b[0;32m    280\u001b[0m     )\n\u001b[1;32m--> 282\u001b[0m \u001b[39mreturn\u001b[39;00m io_open(file, \u001b[39m*\u001b[39margs, \u001b[39m*\u001b[39m\u001b[39m*\u001b[39mkwargs)\n",
      "\u001b[1;31mFileNotFoundError\u001b[0m: [Errno 2] No such file or directory: 'archivo.txt'"
     ]
    }
   ],
   "source": [
    "# FileNotFoundError\n",
    "with open(\"archivo.txt\",'r') as f:\n",
    "    dat=f.read()"
   ]
  },
  {
   "cell_type": "code",
   "execution_count": 21,
   "metadata": {},
   "outputs": [
    {
     "ename": "AttributeError",
     "evalue": "'int' object has no attribute 'append'",
     "output_type": "error",
     "traceback": [
      "\u001b[1;31m---------------------------------------------------------------------------\u001b[0m",
      "\u001b[1;31mAttributeError\u001b[0m                            Traceback (most recent call last)",
      "\u001b[1;32mc:\\Users\\Windows\\Desktop\\Curso Python Coder\\Clase 11\\Clase 11. Youtube.ipynb Cell 18\u001b[0m in \u001b[0;36m3\n\u001b[0;32m      <a href='vscode-notebook-cell:/c%3A/Users/Windows/Desktop/Curso%20Python%20Coder/Clase%2011/Clase%2011.%20Youtube.ipynb#X23sZmlsZQ%3D%3D?line=0'>1</a>\u001b[0m \u001b[39m# AttributeError\u001b[39;00m\n\u001b[0;32m      <a href='vscode-notebook-cell:/c%3A/Users/Windows/Desktop/Curso%20Python%20Coder/Clase%2011/Clase%2011.%20Youtube.ipynb#X23sZmlsZQ%3D%3D?line=1'>2</a>\u001b[0m x\u001b[39m=\u001b[39m\u001b[39m5\u001b[39m \n\u001b[1;32m----> <a href='vscode-notebook-cell:/c%3A/Users/Windows/Desktop/Curso%20Python%20Coder/Clase%2011/Clase%2011.%20Youtube.ipynb#X23sZmlsZQ%3D%3D?line=2'>3</a>\u001b[0m x\u001b[39m.\u001b[39;49mappend(\u001b[39m2\u001b[39m)\n",
      "\u001b[1;31mAttributeError\u001b[0m: 'int' object has no attribute 'append'"
     ]
    }
   ],
   "source": [
    "# AttributeError\n",
    "x=5 \n",
    "x.append(2)"
   ]
  },
  {
   "cell_type": "code",
   "execution_count": 22,
   "metadata": {},
   "outputs": [
    {
     "ename": "IndexError",
     "evalue": "list index out of range",
     "output_type": "error",
     "traceback": [
      "\u001b[1;31m---------------------------------------------------------------------------\u001b[0m",
      "\u001b[1;31mIndexError\u001b[0m                                Traceback (most recent call last)",
      "\u001b[1;32mc:\\Users\\Windows\\Desktop\\Curso Python Coder\\Clase 11\\Clase 11. Youtube.ipynb Cell 19\u001b[0m in \u001b[0;36m3\n\u001b[0;32m      <a href='vscode-notebook-cell:/c%3A/Users/Windows/Desktop/Curso%20Python%20Coder/Clase%2011/Clase%2011.%20Youtube.ipynb#X24sZmlsZQ%3D%3D?line=0'>1</a>\u001b[0m \u001b[39m# Error de indice\u001b[39;00m\n\u001b[0;32m      <a href='vscode-notebook-cell:/c%3A/Users/Windows/Desktop/Curso%20Python%20Coder/Clase%2011/Clase%2011.%20Youtube.ipynb#X24sZmlsZQ%3D%3D?line=1'>2</a>\u001b[0m lista\u001b[39m=\u001b[39m[\u001b[39m1\u001b[39m,\u001b[39m2\u001b[39m,\u001b[39m3\u001b[39m]\n\u001b[1;32m----> <a href='vscode-notebook-cell:/c%3A/Users/Windows/Desktop/Curso%20Python%20Coder/Clase%2011/Clase%2011.%20Youtube.ipynb#X24sZmlsZQ%3D%3D?line=2'>3</a>\u001b[0m lista[\u001b[39m4\u001b[39;49m]\n",
      "\u001b[1;31mIndexError\u001b[0m: list index out of range"
     ]
    }
   ],
   "source": [
    "# Error de indice\n",
    "lista=[1,2,3]\n",
    "lista[4]"
   ]
  },
  {
   "attachments": {},
   "cell_type": "markdown",
   "metadata": {},
   "source": [
    "## 4 Logicos\n"
   ]
  },
  {
   "cell_type": "code",
   "execution_count": 23,
   "metadata": {},
   "outputs": [
    {
     "name": "stdout",
     "output_type": "stream",
     "text": [
      "31.400000000000002\n"
     ]
    }
   ],
   "source": [
    "# errores de calculo\n",
    "r=5 \n",
    "a= 2*3.14*r \n",
    "print(a)"
   ]
  },
  {
   "cell_type": "code",
   "execution_count": 24,
   "metadata": {},
   "outputs": [
    {
     "name": "stdout",
     "output_type": "stream",
     "text": [
      "1\n",
      "2\n",
      "3\n",
      "4\n",
      "5\n",
      "6\n",
      "7\n",
      "8\n",
      "9\n"
     ]
    }
   ],
   "source": [
    "# off vy one\n",
    "for i in range(1,10):\n",
    "    print(i)"
   ]
  },
  {
   "cell_type": "code",
   "execution_count": 25,
   "metadata": {},
   "outputs": [
    {
     "name": "stdout",
     "output_type": "stream",
     "text": [
      "numero - y no par\n"
     ]
    }
   ],
   "source": [
    "# Logica de booleanos mal\n",
    "num= -4\n",
    "if num >0 and num%2==0:\n",
    "    print('Numero + y par')\n",
    "else:\n",
    "    print(\"numero - y no par\")"
   ]
  },
  {
   "attachments": {},
   "cell_type": "markdown",
   "metadata": {},
   "source": [
    "# Excepcion\n",
    "\n",
    "Es un error de ejecucion que termina la ejecucion de un programa\n",
    "\n",
    "# Manejo de excepciones\n",
    "\n",
    "Permite generar mensajes en correspondencia con la ocurrencia de errores dados y toma el paso correcto para solucionarlo"
   ]
  },
  {
   "attachments": {},
   "cell_type": "markdown",
   "metadata": {},
   "source": [
    "# Porque necesitamos excepciones\n",
    "\n",
    "1. El programa termina cuando un error ocurre\n",
    "2. Una temrinacion puede corromper al programa\n",
    "3. Las excepciones pueden caudas perdida de data\n"
   ]
  },
  {
   "attachments": {},
   "cell_type": "markdown",
   "metadata": {},
   "source": [
    "# Tipos de errores\n",
    "\n",
    "1. Errores logicos\n",
    "2. Errores de ejecucion\n",
    "3. Errores semanticos\n",
    "4. Errores sintaxis"
   ]
  },
  {
   "attachments": {},
   "cell_type": "markdown",
   "metadata": {},
   "source": [
    "# Como funcionan las excepciones\n",
    "\n",
    "```python\n",
    "try:\n",
    "    ejecutar codigo\n",
    "except:\n",
    "    Mensaje de error o pieza de codigo cuando hay una excepcion\n",
    "else:\n",
    "    No escepciones? Corre este codigo\n",
    "finally:\n",
    "    Siempre corre este codigo\n",
    "\n",
    "```\n",
    "\n",
    "Algunas reglas importantes:\n",
    "\n",
    "1. Puedes escribir un bloque try sin ningun except\n",
    "2. Puedes escribir varios bloques except para un simple try\n",
    "3. Puedes escribir multiples bloques except para manejar excepciones multiples\n",
    "4. Puedes escribir excepciones como objetos\n",
    "5. Puedes escribir multiples excepciones dentro de una tupla\n"
   ]
  },
  {
   "cell_type": "code",
   "execution_count": 26,
   "metadata": {},
   "outputs": [
    {
     "ename": "ZeroDivisionError",
     "evalue": "division by zero",
     "output_type": "error",
     "traceback": [
      "\u001b[1;31m---------------------------------------------------------------------------\u001b[0m",
      "\u001b[1;31mZeroDivisionError\u001b[0m                         Traceback (most recent call last)",
      "\u001b[1;32mc:\\Users\\Windows\\Desktop\\Curso Python Coder\\Clase 11\\Clase 11. Youtube.ipynb Cell 28\u001b[0m in \u001b[0;36m3\n\u001b[0;32m      <a href='vscode-notebook-cell:/c%3A/Users/Windows/Desktop/Curso%20Python%20Coder/Clase%2011/Clase%2011.%20Youtube.ipynb#X36sZmlsZQ%3D%3D?line=0'>1</a>\u001b[0m a\u001b[39m=\u001b[39m \u001b[39m10\u001b[39m\n\u001b[0;32m      <a href='vscode-notebook-cell:/c%3A/Users/Windows/Desktop/Curso%20Python%20Coder/Clase%2011/Clase%2011.%20Youtube.ipynb#X36sZmlsZQ%3D%3D?line=1'>2</a>\u001b[0m b\u001b[39m=\u001b[39m\u001b[39m0\u001b[39m \n\u001b[1;32m----> <a href='vscode-notebook-cell:/c%3A/Users/Windows/Desktop/Curso%20Python%20Coder/Clase%2011/Clase%2011.%20Youtube.ipynb#X36sZmlsZQ%3D%3D?line=2'>3</a>\u001b[0m c\u001b[39m=\u001b[39ma\u001b[39m/\u001b[39;49mb \n\u001b[0;32m      <a href='vscode-notebook-cell:/c%3A/Users/Windows/Desktop/Curso%20Python%20Coder/Clase%2011/Clase%2011.%20Youtube.ipynb#X36sZmlsZQ%3D%3D?line=3'>4</a>\u001b[0m \u001b[39mprint\u001b[39m(\u001b[39m\"\u001b[39m\u001b[39ma/b =\u001b[39m\u001b[39m%d\u001b[39;00m\u001b[39m\"\u001b[39m \u001b[39m%\u001b[39mc)\n",
      "\u001b[1;31mZeroDivisionError\u001b[0m: division by zero"
     ]
    }
   ],
   "source": [
    "a= 10\n",
    "b=0 \n",
    "c=a/b \n",
    "print(\"a/b =%d\" %c)"
   ]
  },
  {
   "cell_type": "code",
   "execution_count": 28,
   "metadata": {},
   "outputs": [
    {
     "name": "stdout",
     "output_type": "stream",
     "text": [
      "Nose puede dividir por cero\n"
     ]
    }
   ],
   "source": [
    "try:\n",
    "    a= int(input('Ingresa a:'))\n",
    "    b= int(input('Ingresa b:'))\n",
    "    c= a/b \n",
    "except:\n",
    "    print('Nose puede dividir por cero')"
   ]
  },
  {
   "cell_type": "code",
   "execution_count": 29,
   "metadata": {},
   "outputs": [
    {
     "name": "stdout",
     "output_type": "stream",
     "text": [
      "No puedes dividr por 0\n",
      "Completado\n"
     ]
    }
   ],
   "source": [
    "a=70\n",
    "b=0 \n",
    "try:\n",
    "    print(a/b)\n",
    "    print('Nueva linea')\n",
    "except ZeroDivisionError:\n",
    "    print('No puedes dividr por 0')\n",
    "print('Completado')"
   ]
  },
  {
   "cell_type": "code",
   "execution_count": 31,
   "metadata": {},
   "outputs": [
    {
     "name": "stdout",
     "output_type": "stream",
     "text": [
      "No puedes dividir por 0\n",
      "Completado\n"
     ]
    }
   ],
   "source": [
    "a=70 \n",
    "b=0\n",
    "try:\n",
    "    print(a/b)\n",
    "    print('Nueva linea')\n",
    "except ZeroDivisionError:\n",
    "    print('No puedes dividir por 0')\n",
    "print('Completado')"
   ]
  },
  {
   "cell_type": "code",
   "execution_count": 34,
   "metadata": {},
   "outputs": [
    {
     "name": "stdout",
     "output_type": "stream",
     "text": [
      "a/b =0\n",
      "DavidBU\n"
     ]
    }
   ],
   "source": [
    "try:\n",
    "    a= int(input('Ingresa a:'))\n",
    "    b= int(input('Ingresa b:'))\n",
    "    c= a/b \n",
    "    print('a/b =%d' %c)\n",
    "except Exception:\n",
    "    print('Nose puede dividir por cero')\n",
    "    print(Exception)\n",
    "else:\n",
    "    print('DavidBU')"
   ]
  },
  {
   "cell_type": "code",
   "execution_count": 35,
   "metadata": {},
   "outputs": [
    {
     "name": "stdout",
     "output_type": "stream",
     "text": [
      "No puedes dividir por 0 division by zero\n",
      "Completado\n"
     ]
    }
   ],
   "source": [
    "a=10\n",
    "b=0 \n",
    "try:\n",
    "    print(a/b)\n",
    "except Exception as a:\n",
    "    print('No puedes dividir por 0',a)\n",
    "print('Completado')"
   ]
  },
  {
   "cell_type": "code",
   "execution_count": 37,
   "metadata": {},
   "outputs": [
    {
     "name": "stdout",
     "output_type": "stream",
     "text": [
      "No puedes dividir por 0: division by zero\n",
      "Completado\n"
     ]
    }
   ],
   "source": [
    "a=10\n",
    "b=0\n",
    "try:\n",
    "    print(a/b)\n",
    "except Exception as a:\n",
    "    print('No puedes dividir por 0:', a)\n",
    "except NameError as b:\n",
    "    print(b)\n",
    "print('Completado')"
   ]
  },
  {
   "cell_type": "code",
   "execution_count": 40,
   "metadata": {},
   "outputs": [
    {
     "name": "stdout",
     "output_type": "stream",
     "text": [
      "Porfa entra un entero valido\n",
      "Gracias por usar este programa.\n"
     ]
    }
   ],
   "source": [
    "try:\n",
    "    # Codigo que mostarar una exception de ocurrir\n",
    "    x = int(input(\"Ingresa una numero: \"))\n",
    "    y = int(input(\"Ingresa otro: \"))\n",
    "    result = x / y\n",
    "except ValueError:\n",
    "    # Caso para excepcion de un tipo dado\n",
    "    print(\"Porfa entra un entero valido\")\n",
    "except ZeroDivisionError:\n",
    "    # Caso para otro tipo de excepcion\n",
    "    print(\"No podemos dividir por cero\")\n",
    "else:\n",
    "    # Codigo que se ejecuta si no ocurre ninguna excepcion\n",
    "    print(f\"The result is {result}.\")\n",
    "finally:\n",
    "    # Codigo que siempre se ejecuta no importa si ocurren excepciones o no\n",
    "    print(\"Gracias por usar este programa.\")"
   ]
  },
  {
   "attachments": {},
   "cell_type": "markdown",
   "metadata": {},
   "source": [
    "Le pedimos al usuario que ingrese dos números enteros y luego divida el primero por el segundo. Esto puede generar dos tipos específicos de excepciones: \n",
    "\n",
    "1. ValueError si el usuario ingresa un valor no entero, \n",
    "2. ZeroDivisionError si el usuario ingresa 0 como el segundo número.\n",
    "\n",
    "Si se genera una excepción, Python saltará al bloque de excepción apropiado. En este ejemplo, tenemos dos bloques excepto: uno para ValueError y otro para ZeroDivisionError.\n",
    "\n",
    "Si no se genera ninguna excepción, se ejecutará el código en el bloque else. Este bloque contiene código que solo debe ejecutarse si no se genera ninguna excepción. En este caso, estamos imprimiendo el resultado de la división.\n",
    "\n",
    "Finalmente, el bloque finalmente contiene código que siempre se ejecutará, independientemente de si se genera o no una excepción. En este ejemplo, estamos imprimiendo un mensaje de agradecimiento para el usuario.\n"
   ]
  }
 ],
 "metadata": {
  "kernelspec": {
   "display_name": "Python 3",
   "language": "python",
   "name": "python3"
  },
  "language_info": {
   "codemirror_mode": {
    "name": "ipython",
    "version": 3
   },
   "file_extension": ".py",
   "mimetype": "text/x-python",
   "name": "python",
   "nbconvert_exporter": "python",
   "pygments_lexer": "ipython3",
   "version": "3.10.10"
  },
  "orig_nbformat": 4,
  "vscode": {
   "interpreter": {
    "hash": "8649ced70e2df50cbec1162fce5f764529cbe99dc753d77d52a836183a2bd877"
   }
  }
 },
 "nbformat": 4,
 "nbformat_minor": 2
}
