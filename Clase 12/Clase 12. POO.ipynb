{
 "cells": [
  {
   "cell_type": "code",
   "execution_count": 1,
   "metadata": {},
   "outputs": [],
   "source": [
    "\"\"\" \n",
    " La palabra clave self permite al usuario especificar y acceder a los atributos y\n",
    "  métodos de una instancia de la clase.\n",
    "\"\"\"\n",
    "\n",
    "class Persona:\n",
    "    \"\"\"\n",
    "    Esta es una clase donde se agregan todos los datos\n",
    "    respecto a una persona\n",
    "    \"\"\"\n",
    "    def __init__(self, nombre, edad):\n",
    "        # Todo lo que definamos en __init__ se corre\n",
    "        # al crear una instancia de la clase\n",
    "        self.nombre = nombre\n",
    "        self.edad = edad\n",
    "\n",
    "#El parámetro self se refiere al objeto instanciado de esa clase sobre el cual se está invocando dicho método.\n",
    "\n",
    "#Link de Interes: https://ejemplos.net/que-significa-self-en-python/"
   ]
  },
  {
   "cell_type": "code",
   "execution_count": 2,
   "metadata": {},
   "outputs": [
    {
     "name": "stdout",
     "output_type": "stream",
     "text": [
      "Juan\n",
      "26\n"
     ]
    }
   ],
   "source": [
    "#Creamos un objeto p1 que es una instancia de la clase Persona\n",
    "p1 = Persona(\"Juan\", 26)\n",
    "\n",
    "print(p1.nombre) #Le pedimos a p1 su nombre\n",
    "print(p1.edad) #Le pedimos a p1 su edad"
   ]
  },
  {
   "cell_type": "code",
   "execution_count": 3,
   "metadata": {},
   "outputs": [
    {
     "data": {
      "text/plain": [
       "__main__.Persona"
      ]
     },
     "execution_count": 3,
     "metadata": {},
     "output_type": "execute_result"
    }
   ],
   "source": [
    "#Vemos el tipo de objeto que es p1\n",
    "type(p1)"
   ]
  },
  {
   "attachments": {},
   "cell_type": "markdown",
   "metadata": {},
   "source": [
    "# Ejercicio\n",
    "\n",
    "Representa mediante un diagrama de clases el siguiente escenario:\n",
    "\n",
    "Una aplicación necesita almacenar información sobre **empresas**, sus **empleados** y sus **clientes**. Ambos se caracterizan por su nombre y edad y derivan de una clase llamada `Persona`.\n",
    "\n",
    "- Los empleados tienen un sueldo bruto, los empleados que son directivos tienen una categoría, así como un conjunto de empleados subordinados.\n",
    "\n",
    "- De los clientes además se necesita conocer su teléfono de contacto.\n",
    "\n",
    "- La aplicación necesita mostrar los datos de empleados y clientes.\n"
   ]
  },
  {
   "attachments": {},
   "cell_type": "markdown",
   "metadata": {},
   "source": [
    "Puedes ver la solucion en esta pagina web: https://www.planttext.com/\n",
    "\n",
    "@startuml\n",
    "\n",
    "title Diagrama ejemplo David\n",
    "\n",
    "class Persona {\n",
    " nombre: String \n",
    "+ edad:int\n",
    "}\n",
    "\n",
    "class Empleado{\n",
    "- sueldobruto: float\n",
    "}\n",
    "\n",
    "class Directivo{\n",
    "categoria : String \n",
    "+ subordinados: int\n",
    "}\n",
    "\n",
    "class Cliente{\n",
    "+ telefono_contacto: int\n",
    "}\n",
    "\n",
    "\n",
    "Persona \"1\" *-- \"..1\"  Directivo\n",
    "Persona \"1\" *-- \"..1\"  Empleado\n",
    "Persona \"1\" *-- \"..1\"  Cliente\n",
    "\n",
    "\n",
    "\n",
    "@enduml"
   ]
  },
  {
   "attachments": {
    "image.png": {
     "image/png": "[encoded data removed]"
    }
   },
   "cell_type": "markdown",
   "metadata": {},
   "source": [
    "![image.png](attachment:image.png)"
   ]
  },
  {
   "cell_type": "code",
   "execution_count": 4,
   "metadata": {},
   "outputs": [],
   "source": [
    "class Persona:\n",
    "    def __init__(self, nombre, edad):\n",
    "        self.nombre = nombre\n",
    "        self.edad = edad\n",
    "\n",
    "class Empleado(Persona):\n",
    "    def __init__(self, nombre, edad, sueldo_bruto):\n",
    "        super().__init__(nombre, edad)\n",
    "        self.sueldo_bruto = sueldo_bruto\n",
    "\n",
    "class Directivo(Empleado):\n",
    "    def __init__(self, nombre, edad, sueldo_bruto, categoria, subordinados):\n",
    "        super().__init__(nombre, edad, sueldo_bruto)\n",
    "        self.categoria = categoria\n",
    "        self.subordinados = subordinados\n",
    "\n",
    "class Cliente(Persona):\n",
    "    def __init__(self, nombre, edad, telefono_contacto):\n",
    "        super().__init__(nombre, edad)\n",
    "        self.telefono_contacto = telefono_contacto"
   ]
  },
  {
   "cell_type": "code",
   "execution_count": 5,
   "metadata": {},
   "outputs": [],
   "source": [
    "# Ejemplo de uso\n",
    "empleado1 = Empleado(\"Juan\", 30, 2000)\n",
    "empleado2 = Empleado(\"Maria\", 25, 1800)\n",
    "directivo1 = Directivo(\"Pedro\", 40, 3000, \"Gerente\", [empleado1, empleado2])\n",
    "cliente1 = Cliente(\"Pablo\", 50, \"555-1234-5678\")"
   ]
  },
  {
   "cell_type": "code",
   "execution_count": 6,
   "metadata": {},
   "outputs": [
    {
     "name": "stdout",
     "output_type": "stream",
     "text": [
      "Empleado: Juan 30 2000\n",
      "Directivo: Pedro 40 3000 Gerente [<__main__.Empleado object at 0x000002573E01E6B0>, <__main__.Empleado object at 0x000002573E01E320>]\n",
      "Cliente: Pablo 50 555-1234-5678\n"
     ]
    }
   ],
   "source": [
    "print(\"Empleado:\", empleado1.nombre, empleado1.edad, empleado1.sueldo_bruto)\n",
    "print(\"Directivo:\", directivo1.nombre, directivo1.edad, directivo1.sueldo_bruto, directivo1.categoria, directivo1.subordinados)\n",
    "print(\"Cliente:\", cliente1.nombre, cliente1.edad, cliente1.telefono_contacto)"
   ]
  },
  {
   "attachments": {},
   "cell_type": "markdown",
   "metadata": {},
   "source": [
    "La clase `Persona` es la clase base que tiene los atributos comunes de nombre y edad. \n",
    "\n",
    "Luego, las clases `Empleado` y `Cliente` heredan de `Persona` y agregan atributos adicionales específicos. \n",
    "\n",
    "La clase `Directivo` hereda de `Empleado` y agrega la categoría y el conjunto de empleados subordinados.\n",
    "\n",
    "En el ejemplo de uso, se crean instancias de cada clase y se imprimen sus atributos correspondientes. Los datos de los empleados y clientes se pueden acceder y mostrar de manera efectiva."
   ]
  },
  {
   "attachments": {},
   "cell_type": "markdown",
   "metadata": {},
   "source": [
    "La clase `Persona` es la clase base de la que derivan las clases `Empleado` y `Cliente`. En otras palabras, `Empleado` y `Cliente` son subclases de Persona.\n",
    "\n",
    "La relación entre Persona y Empleado y entre Persona y Cliente es una relación de herencia. \n",
    "\n",
    "La clase Empleado y la clase Cliente heredan los atributos y métodos de la clase Persona.\n",
    "\n",
    "En resumen, podemos decir que `Persona` es la superclase común de `Empleado` y `Cliente`."
   ]
  }
 ],
 "metadata": {
  "kernelspec": {
   "display_name": "Python 3",
   "language": "python",
   "name": "python3"
  },
  "language_info": {
   "codemirror_mode": {
    "name": "ipython",
    "version": 3
   },
   "file_extension": ".py",
   "mimetype": "text/x-python",
   "name": "python",
   "nbconvert_exporter": "python",
   "pygments_lexer": "ipython3",
   "version": "3.10.10"
  },
  "orig_nbformat": 4,
  "vscode": {
   "interpreter": {
    "hash": "8649ced70e2df50cbec1162fce5f764529cbe99dc753d77d52a836183a2bd877"
   }
  }
 },
 "nbformat": 4,
 "nbformat_minor": 2
}
