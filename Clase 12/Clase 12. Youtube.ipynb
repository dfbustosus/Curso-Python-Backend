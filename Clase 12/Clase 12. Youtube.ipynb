{
 "cells": [
  {
   "attachments": {},
   "cell_type": "markdown",
   "metadata": {},
   "source": [
    "# POO\n",
    "## Agregacion"
   ]
  },
  {
   "cell_type": "code",
   "execution_count": 3,
   "metadata": {},
   "outputs": [
    {
     "name": "stdout",
     "output_type": "stream",
     "text": [
      "El coche se ha detenido.\n"
     ]
    }
   ],
   "source": [
    "class Motor:\n",
    "    def __init__(self, numero_serie):\n",
    "        self.numero_serie = numero_serie\n",
    "\n",
    "    def prender(self):\n",
    "        print(\"El motor se ha encendido.\")\n",
    "\n",
    "class Coche:\n",
    "    def __init__(self, color, marca, modelo, motor):\n",
    "        self.color = color\n",
    "        self.marca = marca\n",
    "        self.modelo = modelo\n",
    "        self.motor = motor\n",
    "\n",
    "    def estacionar(self):\n",
    "        print(\"El coche se ha estacionado.\")\n",
    "\n",
    "    def arrancar(self):\n",
    "        self.motor.prender()\n",
    "        print(\"El coche se ha arrancado.\")\n",
    "\n",
    "    def parar(self):\n",
    "        print(\"El coche se ha detenido.\")\n",
    "\n",
    "motor1 = Motor(\"12345\")\n",
    "coche1 = Coche(\"rojo\", \"Toyota\", \"Corolla\", motor1)\n",
    "\n",
    "coche1.parar() # Imprime \"El motor se ha encendido. El coche se ha arrancado.\""
   ]
  },
  {
   "attachments": {},
   "cell_type": "markdown",
   "metadata": {},
   "source": [
    "En este ejemplo, la clase Coche tiene una instancia de la clase Motor como atributo (self.motor). La relación entre Coche y Motor es una relación de agregación, ya que el Coche \"agrega\" una instancia de Motor a su conjunto de atributos, pero la instancia de Motor puede existir independientemente del Coche.\n",
    "\n",
    "El método arrancar de la clase Coche llama al método prender de la instancia de Motor, lo que demuestra que Coche tiene acceso a los métodos y atributos de la instancia de Motor que agregó."
   ]
  },
  {
   "attachments": {},
   "cell_type": "markdown",
   "metadata": {},
   "source": [
    "## Asociacion"
   ]
  },
  {
   "cell_type": "code",
   "execution_count": 5,
   "metadata": {},
   "outputs": [
    {
     "name": "stdout",
     "output_type": "stream",
     "text": [
      "El motor se ha encendido.\n",
      "El coche se ha arrancado.\n",
      "Juan\n",
      "Perez\n",
      "Toyota\n"
     ]
    }
   ],
   "source": [
    "class Motor:\n",
    "    def __init__(self, numero_serie):\n",
    "        self.numero_serie = numero_serie\n",
    "\n",
    "    def prender(self):\n",
    "        print(\"El motor se ha encendido.\")\n",
    "\n",
    "class Persona:\n",
    "    def __init__(self, nombre, apellido):\n",
    "        self.nombre = nombre\n",
    "        self.apellido = apellido\n",
    "\n",
    "class Coche:\n",
    "    def __init__(self, color, marca, modelo, motor, propietario):\n",
    "        self.color = color\n",
    "        self.marca = marca\n",
    "        self.modelo = modelo\n",
    "        self.motor = motor\n",
    "        self.propietario = propietario\n",
    "\n",
    "    def estacionar(self):\n",
    "        print(\"El coche se ha estacionado.\")\n",
    "\n",
    "    def arrancar(self):\n",
    "        self.motor.prender()\n",
    "        print(\"El coche se ha arrancado.\")\n",
    "\n",
    "    def parar(self):\n",
    "        print(\"El coche se ha detenido.\")\n",
    "\n",
    "motor1 = Motor(\"12345\")\n",
    "persona1 = Persona(\"Juan\", \"Perez\")\n",
    "coche1 = Coche(\"rojo\", \"Toyota\", \"Corolla\", motor1, persona1)\n",
    "\n",
    "coche1.arrancar() # Imprime \"El motor se ha encendido. El coche se ha arrancado.\"\n",
    "print(coche1.propietario.nombre) # Imprime \"Juan\"\n",
    "print(coche1.propietario.apellido) # Imprime \"Perez\"\n",
    "print(coche1.marca)"
   ]
  },
  {
   "attachments": {},
   "cell_type": "markdown",
   "metadata": {},
   "source": [
    "En este ejemplo, la clase Coche tiene una instancia de la clase Motor como atributo (self.motor) y una instancia de la clase Persona como propietario (self.propietario). La relación entre Coche, Motor, y Persona es una relación de asociación, ya que Coche y Motor están relacionados por la instancia de Motor que se agrega como atributo en Coche, y Coche y Persona están relacionados por la instancia de Persona que se agrega como atributo en Coche.\n",
    "\n",
    "El método arrancar de la clase Coche llama al método prender de la instancia de Motor, lo que demuestra que Coche tiene acceso a los métodos y atributos de la instancia de Motor que se agregó. Además, se puede acceder a los atributos de la instancia de Persona que se agregó como propietario en Coche."
   ]
  },
  {
   "attachments": {},
   "cell_type": "markdown",
   "metadata": {},
   "source": [
    "## Herencia simple"
   ]
  },
  {
   "cell_type": "code",
   "execution_count": 6,
   "metadata": {},
   "outputs": [
    {
     "name": "stdout",
     "output_type": "stream",
     "text": [
      "El motor se ha encendido.\n",
      "El coche se ha arrancado.\n",
      "El vehículo se ha estacionado.\n"
     ]
    }
   ],
   "source": [
    "class Vehiculo:\n",
    "    def __init__(self, color, marca, modelo):\n",
    "        self.color = color\n",
    "        self.marca = marca\n",
    "        self.modelo = modelo\n",
    "\n",
    "    def estacionar(self):\n",
    "        print(\"El vehículo se ha estacionado.\")\n",
    "\n",
    "class Coche(Vehiculo):\n",
    "    def __init__(self, color, marca, modelo, motor):\n",
    "        super().__init__(color, marca, modelo)\n",
    "        self.motor = motor\n",
    "\n",
    "    def arrancar(self):\n",
    "        self.motor.prender()\n",
    "        print(\"El coche se ha arrancado.\")\n",
    "\n",
    "    def parar(self):\n",
    "        print(\"El coche se ha detenido.\")\n",
    "\n",
    "class Motor:\n",
    "    def __init__(self, numero_serie):\n",
    "        self.numero_serie = numero_serie\n",
    "\n",
    "    def prender(self):\n",
    "        print(\"El motor se ha encendido.\")\n",
    "\n",
    "motor1 = Motor(\"12345\")\n",
    "coche1 = Coche(\"rojo\", \"Toyota\", \"Corolla\", motor1)\n",
    "\n",
    "coche1.arrancar() # Imprime \"El motor se ha encendido. El coche se ha arrancado.\"\n",
    "coche1.estacionar() # Imprime \"El vehículo se ha estacionado.\"\n"
   ]
  },
  {
   "attachments": {},
   "cell_type": "markdown",
   "metadata": {},
   "source": [
    "En este ejemplo, la clase Coche hereda de la clase Vehiculo. La clase Vehiculo tiene los atributos color, marca, y modelo, así como el método estacionar. La clase Coche tiene un atributo adicional motor, así como los métodos arrancar y parar.\n",
    "\n",
    "Al crear una instancia de Coche, se llama al método `__init__` de la clase Vehiculo usando `super().__init__(color, marca, modelo)` para inicializar los atributos color, marca, y modelo. Además, la instancia de Coche tiene acceso al método estacionar de la clase Vehiculo.\n",
    "\n",
    "El método arrancar de la clase Coche llama al método prender del objeto motor para encender el motor"
   ]
  },
  {
   "attachments": {},
   "cell_type": "markdown",
   "metadata": {},
   "source": [
    "## Herencia Multiple"
   ]
  },
  {
   "cell_type": "code",
   "execution_count": 9,
   "metadata": {},
   "outputs": [
    {
     "name": "stdout",
     "output_type": "stream",
     "text": [
      "El motor se ha encendido.\n",
      "La radio se ha encendido.\n",
      "El coche se ha arrancado.\n"
     ]
    }
   ],
   "source": [
    "class Motor:\n",
    "    def __init__(self, numero_serie):\n",
    "        self.numero_serie = numero_serie\n",
    "\n",
    "    def prender(self):\n",
    "        print(\"El motor se ha encendido.\")\n",
    "\n",
    "class Radio:\n",
    "    def __init__(self, marca, modelo):\n",
    "        self.marca = marca\n",
    "        self.modelo = modelo\n",
    "\n",
    "    def encender(self):\n",
    "        print(\"La radio se ha encendido.\")\n",
    "\n",
    "class Coche(Motor, Radio):\n",
    "    def __init__(self, color, numero_serie, radio_marca, radio_modelo):\n",
    "        Motor.__init__(self, numero_serie)\n",
    "        Radio.__init__(self, radio_marca, radio_modelo)\n",
    "        self.color = color\n",
    "\n",
    "    def arrancar(self):\n",
    "        self.prender()\n",
    "        self.encender()\n",
    "        print(\"El coche se ha arrancado.\")\n",
    "\n",
    "coche1 = Coche(\"rojo\", \"12345\", \"Sony\", \"XAV-AX1000\")\n",
    "coche1.arrancar() # Imprime \"El motor se ha encendido. La radio se ha encendido. El coche se ha arrancado.\"\n"
   ]
  },
  {
   "attachments": {},
   "cell_type": "markdown",
   "metadata": {},
   "source": [
    "En este ejemplo, la clase Coche hereda de las clases Motor y Radio. La clase Motor tiene un atributo numero_serie y el método prender, mientras que la clase Radio tiene atributos marca y modelo y el método encender. La clase Coche tiene un atributo adicional color y el método arrancar.\n",
    "\n",
    "Al crear una instancia de Coche, se llama al método `__init__` de las clases Motor y Radio usando `Motor.__init__(self, numero_serie)` y `Radio.__init__(self, radio_marca, radio_modelo)` para inicializar los atributos numero_serie, marca, y modelo. La instancia de Coche también tiene acceso a los métodos prender y encender de las clases Motor y Radio.\n",
    "\n",
    "El método arrancar de la clase Coche llama a los métodos prender y encender para encender el motor y la radio, respectivamente."
   ]
  }
 ],
 "metadata": {
  "kernelspec": {
   "display_name": "Python 3",
   "language": "python",
   "name": "python3"
  },
  "language_info": {
   "codemirror_mode": {
    "name": "ipython",
    "version": 3
   },
   "file_extension": ".py",
   "mimetype": "text/x-python",
   "name": "python",
   "nbconvert_exporter": "python",
   "pygments_lexer": "ipython3",
   "version": "3.10.10"
  },
  "orig_nbformat": 4,
  "vscode": {
   "interpreter": {
    "hash": "8649ced70e2df50cbec1162fce5f764529cbe99dc753d77d52a836183a2bd877"
   }
  }
 },
 "nbformat": 4,
 "nbformat_minor": 2
}
