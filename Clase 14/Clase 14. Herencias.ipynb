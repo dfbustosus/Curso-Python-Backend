{
 "cells": [
  {
   "cell_type": "code",
   "execution_count": 1,
   "metadata": {},
   "outputs": [],
   "source": [
    "# Clase padre\n",
    "class Animal:\n",
    "    pass\n",
    "#Clase hija que hereda de la padre\n",
    "class Perro(Animal):\n",
    "    pass"
   ]
  },
  {
   "cell_type": "markdown",
   "metadata": {},
   "source": [
    "Podemos tomar los elementos comunes y crear una clase Animal de la que hereden el resto respetando la filosofia **DRY**"
   ]
  },
  {
   "cell_type": "markdown",
   "metadata": {},
   "source": [
    "La herencia nos permite definir una clase que hereda todos los métodos y propiedades de otra clase.\n",
    "\n",
    "La clase principal es la clase de la que se hereda, también llamada clase base.\n",
    "\n",
    "La clase hija es la clase que hereda de otra clase, también llamada clase derivada."
   ]
  },
  {
   "cell_type": "markdown",
   "metadata": {},
   "source": [
    "# Principio DRY\n",
    "\n",
    "DONT REPEAT YOURSELF\n",
    "\n",
    "Evitar repetir código de manera innecesaria\n",
    "\n"
   ]
  },
  {
   "cell_type": "code",
   "execution_count": 2,
   "metadata": {},
   "outputs": [],
   "source": [
    "class Animal:\n",
    "    def __init__(self,especie,edad):\n",
    "        self.especie=especie \n",
    "        self.edad= edad \n",
    "\n",
    "    # Metodo generico pero con implementacion partiuclar\n",
    "    def hablar(self):\n",
    "        # metodo vacio\n",
    "        pass\n",
    "    # Metodo generico pero con implementacion particular\n",
    "    def moverse(self):\n",
    "        pass\n",
    "    # Metodo generico con la misma implementacion\n",
    "    def describeme(self):\n",
    "        print('Soy un animal de tipo:',type(self).__name__)"
   ]
  },
  {
   "cell_type": "code",
   "execution_count": 3,
   "metadata": {},
   "outputs": [
    {
     "name": "stdout",
     "output_type": "stream",
     "text": [
      "Soy un animal de tipo: Perro\n"
     ]
    }
   ],
   "source": [
    "# Perro hereda de Animal\n",
    "class Perro(Animal):\n",
    "    pass\n",
    "mi_perro=Perro('mamifero',10)\n",
    "mi_perro.describeme()"
   ]
  },
  {
   "cell_type": "code",
   "execution_count": 4,
   "metadata": {},
   "outputs": [],
   "source": [
    "# Podemos crear mas clases que hereden Animal\n",
    "class Perro(Animal):\n",
    "    def hablar(self): #heredado pero modificado\n",
    "        print('Guau')\n",
    "    def moverse(self): #heredado pero modificado\n",
    "        print('Caminando en 4 patas')\n",
    "class Vaca(Animal):\n",
    "    def hablar(self): #heredado pero modificado\n",
    "        print('Muuuu')\n",
    "    def moverse(self): #heredado pero modificado\n",
    "        print('Caminando en 4 patas')\n",
    "class Abeja(Animal):\n",
    "    def hablar(self): #heredado pero modificado\n",
    "        print('Bzzzz')\n",
    "    def moverse(self): #heredado pero modificado\n",
    "        print('Volando')\n",
    "    # Nuevo metodo\n",
    "    def picar(self): # nuevo metodo creado\n",
    "        print('Te pico!')\n"
   ]
  },
  {
   "cell_type": "code",
   "execution_count": 5,
   "metadata": {},
   "outputs": [
    {
     "name": "stdout",
     "output_type": "stream",
     "text": [
      "Guau\n",
      "Muuuu\n",
      "Soy un animal de tipo: Vaca\n",
      "Soy un animal de tipo: Abeja\n",
      "Te pico!\n"
     ]
    }
   ],
   "source": [
    "# Creamos nuevos obejtos con los metodos creados\n",
    "mi_perro=Perro('mamifero',8)\n",
    "mi_vaca=Vaca('mamifero',12)\n",
    "mi_abeja=Abeja('Insecto',1)\n",
    "mi_perro.hablar()\n",
    "mi_vaca.hablar()\n",
    "\n",
    "mi_vaca.describeme()\n",
    "mi_abeja.describeme()\n",
    "\n",
    "mi_abeja.picar()"
   ]
  },
  {
   "cell_type": "code",
   "execution_count": null,
   "metadata": {},
   "outputs": [],
   "source": [
    "# Metodo super()\n",
    "# Acceder a los metodos de la clase padre desde una de su shijas\n",
    "class Animal:\n",
    "    def __init__(self,especie,edad):\n",
    "        self.especie=especie \n",
    "        self.edad= edad \n",
    "\n",
    "    # Metodo generico pero con implementacion partiuclar\n",
    "    def hablar(self):\n",
    "        # metodo vacio\n",
    "        pass\n",
    "    # Metodo generico pero con implementacion particular\n",
    "    def moverse(self):\n",
    "        pass\n",
    "    # Metodo generico con la misma implementacion\n",
    "    def describeme(self):\n",
    "        print('Soy un animal de tipo:',type(self).__name__)\n",
    "\n",
    "class Perro(Animal):\n",
    "    def __init__(self, especie, edad,dueno):\n",
    "        # Alternativa 1\n",
    "        #self.especie=especie \n",
    "        #self.edad= edad\n",
    "        #self.dueno=dueno\n",
    "        # Alternativa 2\n",
    "        super().__init__(especie,edad)\n",
    "        self.dueno=dueno\n",
    "    def hablar(self): #heredado pero modificado\n",
    "        print('Guau')\n",
    "    def moverse(self): #heredado pero modificado\n",
    "        print('Caminando en 4 patas')"
   ]
  },
  {
   "cell_type": "code",
   "execution_count": null,
   "metadata": {},
   "outputs": [
    {
     "name": "stdout",
     "output_type": "stream",
     "text": [
      "mamifero\n",
      "7\n",
      "Luis\n"
     ]
    }
   ],
   "source": [
    "mi_perro =Perro('mamifero',7,'Luis')\n",
    "print(mi_perro.especie)\n",
    "print(mi_perro.edad)\n",
    "print(mi_perro.dueno)"
   ]
  },
  {
   "cell_type": "markdown",
   "metadata": {},
   "source": [
    "# Herencia\n",
    "**Diferentes formas de herencia**:\n",
    "1. **Herencia única**: cuando una clase secundaria hereda de una sola clase principal, se denomina herencia única. El ejemplo anterior.\n",
    "2. **Herencia múltiple**: cuando una clase secundaria hereda de varias clases principales, se denomina herencia múltiple.\n",
    "\n",
    "A diferencia de Java y C ++, Python admite herencia múltiple. Especificamos todas las clases principales como una lista separada por comas en el corchete."
   ]
  },
  {
   "cell_type": "code",
   "execution_count": null,
   "metadata": {},
   "outputs": [],
   "source": [
    "class Clase1:\n",
    "    pass \n",
    "class Clase2:\n",
    "    pass\n",
    "class Clase3(Clase1,Clase2):\n",
    "    pass"
   ]
  },
  {
   "cell_type": "code",
   "execution_count": null,
   "metadata": {},
   "outputs": [
    {
     "name": "stdout",
     "output_type": "stream",
     "text": [
      "(<class '__main__.Clase3'>, <class '__main__.Clase1'>, <class '__main__.Clase2'>, <class 'object'>)\n"
     ]
    }
   ],
   "source": [
    "# Method Order Resolution\n",
    "print(Clase3.__mro__)"
   ]
  },
  {
   "cell_type": "code",
   "execution_count": null,
   "metadata": {},
   "outputs": [],
   "source": [
    "class Clase1:\n",
    "    pass \n",
    "class Clase2(Clase1):\n",
    "    pass\n",
    "class Clase3(Clase2):\n",
    "    pass"
   ]
  },
  {
   "cell_type": "code",
   "execution_count": null,
   "metadata": {},
   "outputs": [
    {
     "name": "stdout",
     "output_type": "stream",
     "text": [
      "(<class '__main__.Clase3'>, <class '__main__.Clase2'>, <class '__main__.Clase1'>, <class 'object'>)\n"
     ]
    }
   ],
   "source": [
    "print(Clase3.__mro__)"
   ]
  },
  {
   "cell_type": "code",
   "execution_count": null,
   "metadata": {},
   "outputs": [
    {
     "name": "stdout",
     "output_type": "stream",
     "text": [
      "(<class '__main__.Clase4'>, <class '__main__.Clase1'>, <class '__main__.Clase2'>, <class '__main__.Clase3'>, <class 'object'>)\n"
     ]
    }
   ],
   "source": [
    "class Clase1:\n",
    "    pass\n",
    "class Clase2:\n",
    "    pass\n",
    "class Clase3:\n",
    "    pass\n",
    "class Clase4(Clase1,Clase2,Clase3):\n",
    "    pass\n",
    "\n",
    "print(Clase4.__mro__)"
   ]
  },
  {
   "cell_type": "markdown",
   "metadata": {},
   "source": [
    "3. **Herencia multinivel**: cuando tenemos una relación de hijo y nieto."
   ]
  },
  {
   "cell_type": "markdown",
   "metadata": {},
   "source": [
    "# Polimorfismo\n",
    "\n",
    "Objetos que pueden tomar diversas formas\n",
    "\n",
    "Objetos de diferentes clases pueden ser accedidos utilizando el mismo interfaz, mostrando un comportamiento distinto (tomando distintas formas) segun como sean accedidos"
   ]
  },
  {
   "cell_type": "code",
   "execution_count": 6,
   "metadata": {},
   "outputs": [],
   "source": [
    "class Persona():\n",
    "    def __init__(self):\n",
    "        self.cedula= 1145678\n",
    "    def mensaje(self):\n",
    "        print('Mensaje de la clase persona')\n",
    "class Obrero(Persona):\n",
    "    def __init__(self):\n",
    "        self.__especialista =1 \n",
    "    def mensaje(self):\n",
    "        print('Mensaje desde la clase obrero')"
   ]
  },
  {
   "cell_type": "code",
   "execution_count": 7,
   "metadata": {},
   "outputs": [
    {
     "name": "stdout",
     "output_type": "stream",
     "text": [
      "Mensaje de la clase persona\n"
     ]
    }
   ],
   "source": [
    "persona1= Persona()\n",
    "persona1.mensaje()"
   ]
  },
  {
   "cell_type": "code",
   "execution_count": 8,
   "metadata": {},
   "outputs": [
    {
     "name": "stdout",
     "output_type": "stream",
     "text": [
      "Mensaje desde la clase obrero\n"
     ]
    }
   ],
   "source": [
    "obrero1= Obrero()\n",
    "obrero1.mensaje()"
   ]
  },
  {
   "cell_type": "code",
   "execution_count": null,
   "metadata": {},
   "outputs": [
    {
     "name": "stdout",
     "output_type": "stream",
     "text": [
      "Cua, Cua!\n"
     ]
    }
   ],
   "source": [
    "# Duck typing\n",
    "# If it walks like a duck and it quacks like a duck, \n",
    "# then it must be a duck\n",
    "# Lo que le interesa a Python son los metodos no los tipos de objetos\n",
    "class Pato:\n",
    "    def hablar(self):\n",
    "        print('Cua, Cua!')\n",
    "p=Pato()\n",
    "p.hablar()\n"
   ]
  },
  {
   "cell_type": "code",
   "execution_count": null,
   "metadata": {},
   "outputs": [
    {
     "name": "stdout",
     "output_type": "stream",
     "text": [
      "Guau, Guau!\n",
      "Miau, MIau!\n",
      "Mu, Mu!\n"
     ]
    }
   ],
   "source": [
    "def llama_hablar(x):\n",
    "        x.hablar()\n",
    "# No hay herencia son clases independientes (Polimorfismo)\n",
    "class Perro:\n",
    "    def hablar(self):\n",
    "        print('Guau, Guau!')\n",
    "class Gato:\n",
    "    def hablar(self):\n",
    "        print('Miau, MIau!')\n",
    "class Vaca:\n",
    "    def hablar(self):\n",
    "        print('Mu, Mu!')\n",
    "\n",
    "llama_hablar(Perro())\n",
    "llama_hablar(Gato())\n",
    "llama_hablar(Vaca())"
   ]
  },
  {
   "cell_type": "code",
   "execution_count": null,
   "metadata": {},
   "outputs": [
    {
     "name": "stdout",
     "output_type": "stream",
     "text": [
      "Guau, Guau!\n",
      "Miau, MIau!\n",
      "Mu, Mu!\n"
     ]
    }
   ],
   "source": [
    "# Otra forma de verlo\n",
    "lista=[Perro(),Gato(),Vaca()]\n",
    "for animal in lista:\n",
    "    animal.hablar()"
   ]
  },
  {
   "cell_type": "code",
   "execution_count": null,
   "metadata": {},
   "outputs": [],
   "source": [
    "class Animal:\n",
    "    def hablar(self):\n",
    "        pass\n",
    "# Herencia de la anterior con  modificaciones en hablar\n",
    "class Perro(Animal):\n",
    "    def hablar(self):\n",
    "        print('Guau')\n",
    "class Gato(Animal):\n",
    "    def hablar(self):\n",
    "        print('Miau')"
   ]
  },
  {
   "cell_type": "code",
   "execution_count": null,
   "metadata": {},
   "outputs": [
    {
     "name": "stdout",
     "output_type": "stream",
     "text": [
      "Guau\n",
      "Miau\n"
     ]
    }
   ],
   "source": [
    "# Cada animal se comporta de manera distinta al usar hablar()\n",
    "# Variables animal ha tomado distintas formas\n",
    "for animal in Perro(),Gato():\n",
    "    animal.hablar()"
   ]
  },
  {
   "cell_type": "code",
   "execution_count": 9,
   "metadata": {},
   "outputs": [
    {
     "name": "stdout",
     "output_type": "stream",
     "text": [
      "Hola mi nota es 4.7 vivo en Cordoba             y peso 84.5\n",
      "Estoy nadando ahora\n"
     ]
    }
   ],
   "source": [
    "# Ejercicio\n",
    "class Cetaceo:\n",
    "    def __init__(self, notas, viveEn, peso):\n",
    "        #Hijo.__init__(self, name, age)\n",
    "        self.notas = notas\n",
    "        self.viveEn=viveEn\n",
    "        self.peso=peso \n",
    "    def hacer(self):\n",
    "        print(f'Hola mi nota es {self.notas} vivo en {self.viveEn}\\\n",
    "             y peso {self.peso}')\n",
    "    def nadar(self):\n",
    "        print('Estoy nadando ahora')\n",
    "cet1=Cetaceo(4.7, 'Cordoba',84.5)\n",
    "cet1.hacer()\n",
    "cet1.nadar()"
   ]
  },
  {
   "cell_type": "code",
   "execution_count": 12,
   "metadata": {},
   "outputs": [
    {
     "name": "stdout",
     "output_type": "stream",
     "text": [
      "Hola mi nota es Delfinidos mas grandes vivo en Cordoba             y peso 9.7\n",
      "Estoy nadando ahora\n",
      "Estoy comiendo desde mi madre\n"
     ]
    }
   ],
   "source": [
    "# Clase mamifero\n",
    "class Mamifero(Cetaceo):\n",
    "    # Constructor\n",
    "    def __init__(self,notas,viveEn,peso,cantMamas,esperanza):\n",
    "        Cetaceo.__init__(self, notas,viveEn,peso)\n",
    "        self.cantMamas = cantMamas\n",
    "        self.esperanza=esperanza\n",
    "    # mamar\n",
    "    def mamar(self):\n",
    "        print('Estoy comiendo desde mi madre')\n",
    "        #return self.address    \n",
    "mam1=Mamifero(\"Delfinidos mas grandes\", 'Cordoba',9.7, 1,10)\n",
    "mam1.hacer() #herencia\n",
    "mam1.nadar() # herencia\n",
    "mam1.mamar()"
   ]
  },
  {
   "cell_type": "code",
   "execution_count": 14,
   "metadata": {},
   "outputs": [
    {
     "name": "stdout",
     "output_type": "stream",
     "text": [
      "Hola mi nota es Delfinidos mas grandes vivo en Cordoba             y peso 9.7\n",
      "Estoy nadando ahora\n"
     ]
    }
   ],
   "source": [
    "# Clase mamifero\n",
    "class AnimalMarino(Cetaceo):\n",
    "    # Constructor\n",
    "    def __init__(self,notas,viveEn,peso,Branqueas,especie):\n",
    "        Cetaceo.__init__(self, notas,viveEn,peso)\n",
    "        self.Branqueas = Branqueas\n",
    "        self.especie=especie\n",
    "    # nadar\n",
    "    def nadar(self):\n",
    "        print('Estoy nadando ahora')\n",
    "\n",
    "mam1=AnimalMarino(\"Delfinidos mas grandes\", 'Cordoba',9.7, 1,10)\n",
    "mam1.hacer() #herencia\n",
    "mam1.nadar() "
   ]
  }
 ],
 "metadata": {
  "kernelspec": {
   "display_name": "Python 3",
   "language": "python",
   "name": "python3"
  },
  "language_info": {
   "codemirror_mode": {
    "name": "ipython",
    "version": 3
   },
   "file_extension": ".py",
   "mimetype": "text/x-python",
   "name": "python",
   "nbconvert_exporter": "python",
   "pygments_lexer": "ipython3",
   "version": "3.10.10"
  },
  "orig_nbformat": 4
 },
 "nbformat": 4,
 "nbformat_minor": 2
}
