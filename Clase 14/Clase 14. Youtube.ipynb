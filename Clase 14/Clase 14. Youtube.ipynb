{
 "cells": [
  {
   "cell_type": "code",
   "execution_count": 2,
   "metadata": {},
   "outputs": [
    {
     "name": "stdout",
     "output_type": "stream",
     "text": [
      "Alice is answering a call in English.\n",
      "Bob is answering a call in Spanish.\n",
      "Charlie is escalating the call to Billing department.\n",
      "David is escalating the call to Technical department.\n",
      "All employees are busy at the moment. Please try again later.\n"
     ]
    }
   ],
   "source": [
    "class Employee:\n",
    "    def __init__(self, name, employee_id, salary):\n",
    "        self.name = name\n",
    "        self.employee_id = employee_id\n",
    "        self.salary = salary\n",
    "        self.is_available = True\n",
    "\n",
    "class Agent(Employee):\n",
    "    def __init__(self, name, employee_id, salary, language):\n",
    "        super().__init__(name, employee_id, salary)\n",
    "        self.language = language\n",
    "\n",
    "    def answer_call(self):\n",
    "        print(f\"{self.name} is answering a call in {self.language}.\")\n",
    "        self.is_available = False\n",
    "\n",
    "class Manager(Employee):\n",
    "    def __init__(self, name, employee_id, salary, department):\n",
    "        super().__init__(name, employee_id, salary)\n",
    "        self.department = department\n",
    "\n",
    "    def escalate_call(self):\n",
    "        print(f\"{self.name} is escalating the call to {self.department} department.\")\n",
    "        self.is_available = False\n",
    "\n",
    "class CallCenter:\n",
    "    def __init__(self):\n",
    "        self.employees = []\n",
    "\n",
    "    def add_employee(self, employee):\n",
    "        self.employees.append(employee)\n",
    "\n",
    "    def dispatch_call(self):\n",
    "        available_employees = [employee for employee in self.employees if employee.is_available]\n",
    "        if not available_employees:\n",
    "            print(\"All employees are busy at the moment. Please try again later.\")\n",
    "            return\n",
    "        employee = available_employees[0]\n",
    "        if isinstance(employee, Agent):\n",
    "            employee.answer_call()\n",
    "        elif isinstance(employee, Manager):\n",
    "            employee.escalate_call()\n",
    "\n",
    "# Example usage\n",
    "agent1 = Agent(\"Alice\", 1001, 3000, \"English\")\n",
    "agent2 = Agent(\"Bob\", 1002, 3000, \"Spanish\")\n",
    "manager1 = Manager(\"Charlie\", 2001, 5000, \"Billing\")\n",
    "manager2 = Manager(\"David\", 2002, 5000, \"Technical\")\n",
    "call_center = CallCenter()\n",
    "call_center.add_employee(agent1)\n",
    "call_center.add_employee(agent2)\n",
    "call_center.add_employee(manager1)\n",
    "call_center.add_employee(manager2)\n",
    "call_center.dispatch_call()  # Alice responde la llamada en  English\n",
    "call_center.dispatch_call()  # Bob responde la llamada en Spanish\n",
    "call_center.dispatch_call()  # Charlie escala la llamada al Billing department\n",
    "call_center.dispatch_call()  # David escala la llamada a Technical department\n",
    "call_center.dispatch_call()  # Todos los empleados estan ocupados en el momento . Intenta despues\n"
   ]
  },
  {
   "attachments": {},
   "cell_type": "markdown",
   "metadata": {},
   "source": [
    "En este ejemplo, tenemos una clase base de empleado, clases de `agente y administrador` que se heredan de `empleado` y una clase de `centro de llamadas` que contiene una lista de instancias de empleado. \n",
    "\n",
    "Cada empleado tiene su propio conjunto de propiedades como `nombre, employee_id y salario`, y también tienen sus propios métodos que implementan comportamientos específicos para cada tipo de empleado. La clase `CallCenter` tiene el método `add_employee()` para agregar un empleado a la lista de empleados y el método `dispatch_call()` para enviar una llamada al primer agente disponible o derivarla a un gerente si no hay ningún agente disponible. Este ejemplo demuestra el uso de herencia, encapsulación y polimorfismo."
   ]
  }
 ],
 "metadata": {
  "kernelspec": {
   "display_name": "Python 3",
   "language": "python",
   "name": "python3"
  },
  "language_info": {
   "codemirror_mode": {
    "name": "ipython",
    "version": 3
   },
   "file_extension": ".py",
   "mimetype": "text/x-python",
   "name": "python",
   "nbconvert_exporter": "python",
   "pygments_lexer": "ipython3",
   "version": "3.10.10"
  },
  "orig_nbformat": 4
 },
 "nbformat": 4,
 "nbformat_minor": 2
}
