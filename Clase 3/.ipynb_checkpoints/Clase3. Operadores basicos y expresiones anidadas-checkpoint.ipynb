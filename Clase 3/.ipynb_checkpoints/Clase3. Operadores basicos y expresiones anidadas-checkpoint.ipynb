{
 "cells": [
  {
   "cell_type": "code",
   "execution_count": 1,
   "metadata": {},
   "outputs": [
    {
     "name": "stdout",
     "output_type": "stream",
     "text": [
      "7\n",
      "1.2999999999999998\n",
      "12.0\n",
      "2.3\n"
     ]
    }
   ],
   "source": [
    "# 1.1 Operadores aritmeticos\n",
    "print(5+2)\n",
    "print(2.3-1)\n",
    "print(2.4*5)\n",
    "print(4.6/2)"
   ]
  },
  {
   "cell_type": "code",
   "execution_count": 3,
   "metadata": {},
   "outputs": [
    {
     "name": "stdout",
     "output_type": "stream",
     "text": [
      "9.25\n"
     ]
    }
   ],
   "source": [
    "#1.2 operadores algebraicos\n",
    "var=2.5; var1=3.4\n",
    "print(2+4.3 +(var+var1)/2)"
   ]
  },
  {
   "cell_type": "code",
   "execution_count": 5,
   "metadata": {},
   "outputs": [
    {
     "name": "stdout",
     "output_type": "stream",
     "text": [
      "False\n",
      "True\n"
     ]
    }
   ],
   "source": [
    "# 1.3 Operadores Logicos\n",
    "print(1==2)\n",
    "print(1+1==2)"
   ]
  },
  {
   "cell_type": "code",
   "execution_count": 1,
   "metadata": {},
   "outputs": [
    {
     "data": {
      "text/plain": [
       "True"
      ]
     },
     "execution_count": 1,
     "metadata": {},
     "output_type": "execute_result"
    }
   ],
   "source": [
    "1 + 3 == 8  - 4    #False --- True"
   ]
  },
  {
   "cell_type": "code",
   "execution_count": 9,
   "metadata": {},
   "outputs": [
    {
     "name": "stdout",
     "output_type": "stream",
     "text": [
      "True\n",
      "False\n",
      "False\n",
      "True\n",
      "True\n",
      "True\n"
     ]
    }
   ],
   "source": [
    "# 1.4 Operadores relacionales\n",
    "print(2==2)\n",
    "print(2!=2)\n",
    "print(4<3)\n",
    "print(4<=4)\n",
    "print(4>1)\n",
    "print(4>=1)"
   ]
  },
  {
   "cell_type": "code",
   "execution_count": 12,
   "metadata": {},
   "outputs": [
    {
     "name": "stdout",
     "output_type": "stream",
     "text": [
      "True\n"
     ]
    },
    {
     "data": {
      "text/plain": [
       "False"
      ]
     },
     "execution_count": 12,
     "metadata": {},
     "output_type": "execute_result"
    }
   ],
   "source": [
    "# Y con strings?\n",
    "print('David'=='David')\n",
    "a='Hola'\n",
    "a[0]!='H'"
   ]
  },
  {
   "cell_type": "code",
   "execution_count": 14,
   "metadata": {},
   "outputs": [
    {
     "name": "stdout",
     "output_type": "stream",
     "text": [
      "True\n",
      "True False\n",
      "3\n",
      "5\n"
     ]
    }
   ],
   "source": [
    "# Y con booleanos\n",
    "print(True> False)\n",
    "print(True, False)\n",
    "print(True*3)\n",
    "print(False+5)"
   ]
  },
  {
   "cell_type": "code",
   "execution_count": 15,
   "metadata": {},
   "outputs": [
    {
     "name": "stdout",
     "output_type": "stream",
     "text": [
      "[False, True, True, True, True]\n"
     ]
    }
   ],
   "source": [
    "# Desafio operadores relacionales\n",
    "expresiones=[False==True,10>=2*4,33/3==11,True>False,True*5==2.5*2]\n",
    "print(expresiones)"
   ]
  },
  {
   "cell_type": "code",
   "execution_count": 19,
   "metadata": {},
   "outputs": [
    {
     "name": "stdout",
     "output_type": "stream",
     "text": [
      "False\n",
      "True\n",
      "True\n",
      "False\n"
     ]
    }
   ],
   "source": [
    "# 1.5 Operadores logicos\n",
    "print(not True)\n",
    "print(not True== False)\n",
    "print(2>1 and 5>2)\n",
    "print(5>20 or 20<1)"
   ]
  },
  {
   "cell_type": "code",
   "execution_count": 21,
   "metadata": {},
   "outputs": [
    {
     "data": {
      "text/plain": [
       "[True, True, True, True, True, False]"
      ]
     },
     "execution_count": 21,
     "metadata": {},
     "output_type": "execute_result"
    }
   ],
   "source": [
    "# Desafio operadores logicos\n",
    "expresiones=[\n",
    "    not False, # True\n",
    "    not 3== 5, # True\n",
    "    33/3 ==11 and 5>2, # True\n",
    "    True or False, # True\n",
    "    True*5==2.5*2 or 123>=23, # True\n",
    "    12>7 and True< False # False\n",
    "]\n",
    "expresiones"
   ]
  },
  {
   "cell_type": "code",
   "execution_count": 9,
   "metadata": {},
   "outputs": [
    {
     "name": "stdout",
     "output_type": "stream",
     "text": [
      "129746337890625\n",
      "43248779296875.0\n",
      "602816.3580246915\n",
      "7233796.296296298\n",
      "---------\n",
      "3\n",
      "15\n"
     ]
    }
   ],
   "source": [
    "# 1.6 Operaciones anidadas\n",
    "''' \n",
    "1. Parentesis\n",
    "2. Operaciones aritmeticas\n",
    "3. Expresiones relacionales de izquierda a derecha\n",
    "4. Operadores logicos (not tiene prioridad)\n",
    "'''\n",
    "a=15; b=12;\n",
    "a**b /3**a/a *b >=15 and not (a%b**2) !=0 # True and True= True\n",
    "# Aqui lo pueden ver mejor\n",
    "print(a**b)\n",
    "print(a**b/3)\n",
    "print(a**b/3**a/a)\n",
    "print(a**b /3**a/a *b)\n",
    "print('---------')\n",
    "print(a%b)\n",
    "print(a%b**2)\n",
    "# (a%b)= 3, (a%b**2)=15%144= 3 !=0 = True"
   ]
  },
  {
   "cell_type": "code",
   "execution_count": 42,
   "metadata": {},
   "outputs": [
    {
     "data": {
      "text/plain": [
       "True"
      ]
     },
     "execution_count": 42,
     "metadata": {},
     "output_type": "execute_result"
    }
   ],
   "source": [
    "# Desafio operaciones anidadas\n",
    "nombre=input('Ingresa un nombre:')\n",
    "edad=int(input('Ingresa tu edad:'))\n",
    "nombre != '****' and edad >10 and edad <18 and len(nombre)>=3 and len(nombre)<10 and edad*4 > 40"
   ]
  },
  {
   "cell_type": "code",
   "execution_count": 43,
   "metadata": {},
   "outputs": [
    {
     "data": {
      "text/plain": [
       "16"
      ]
     },
     "execution_count": 43,
     "metadata": {},
     "output_type": "execute_result"
    }
   ],
   "source": [
    "# Operadores de asignacion\n",
    "# Suma\n",
    "a=15\n",
    "a+=1\n",
    "a"
   ]
  },
  {
   "cell_type": "code",
   "execution_count": 44,
   "metadata": {},
   "outputs": [
    {
     "data": {
      "text/plain": [
       "10"
      ]
     },
     "execution_count": 44,
     "metadata": {},
     "output_type": "execute_result"
    }
   ],
   "source": [
    "# Resta\n",
    "a=15\n",
    "a-=5\n",
    "a"
   ]
  },
  {
   "cell_type": "code",
   "execution_count": 45,
   "metadata": {},
   "outputs": [
    {
     "data": {
      "text/plain": [
       "30"
      ]
     },
     "execution_count": 45,
     "metadata": {},
     "output_type": "execute_result"
    }
   ],
   "source": [
    "# Multiplicacion\n",
    "a=15\n",
    "a*=2\n",
    "a"
   ]
  },
  {
   "cell_type": "code",
   "execution_count": 46,
   "metadata": {},
   "outputs": [
    {
     "data": {
      "text/plain": [
       "2.0"
      ]
     },
     "execution_count": 46,
     "metadata": {},
     "output_type": "execute_result"
    }
   ],
   "source": [
    "# Division\n",
    "a=10\n",
    "a/=5\n",
    "a"
   ]
  },
  {
   "cell_type": "code",
   "execution_count": 47,
   "metadata": {},
   "outputs": [
    {
     "data": {
      "text/plain": [
       "0"
      ]
     },
     "execution_count": 47,
     "metadata": {},
     "output_type": "execute_result"
    }
   ],
   "source": [
    "# Modulo\n",
    "a=10\n",
    "a%=2\n",
    "a"
   ]
  },
  {
   "cell_type": "code",
   "execution_count": 48,
   "metadata": {},
   "outputs": [
    {
     "data": {
      "text/plain": [
       "25"
      ]
     },
     "execution_count": 48,
     "metadata": {},
     "output_type": "execute_result"
    }
   ],
   "source": [
    "# Exponenciacion\n",
    "a=5\n",
    "a**=2\n",
    "a"
   ]
  }
 ],
 "metadata": {
  "kernelspec": {
   "display_name": "Python 3 (ipykernel)",
   "language": "python",
   "name": "python3"
  },
  "language_info": {
   "codemirror_mode": {
    "name": "ipython",
    "version": 3
   },
   "file_extension": ".py",
   "mimetype": "text/x-python",
   "name": "python",
   "nbconvert_exporter": "python",
   "pygments_lexer": "ipython3",
   "version": "3.9.12"
  },
  "vscode": {
   "interpreter": {
    "hash": "8649ced70e2df50cbec1162fce5f764529cbe99dc753d77d52a836183a2bd877"
   }
  }
 },
 "nbformat": 4,
 "nbformat_minor": 2
}
