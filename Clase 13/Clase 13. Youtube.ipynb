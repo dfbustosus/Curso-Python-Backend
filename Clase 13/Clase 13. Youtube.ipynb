{
 "cells": [
  {
   "attachments": {},
   "cell_type": "markdown",
   "metadata": {},
   "source": [
    "# Clases - Parte 2\n",
    "\n",
    "Conceptos importantes:\n",
    "\n",
    "1. Atributos clase\n",
    "2. Atributos instancia \n",
    "3. Uso de distintos metodos \n",
    "3.  __str__\n",
    "4. __init__\n",
    "5. __len__ \n",
    "6. __getitem__\n",
    "7. __setitem__ \n",
    "8. __iter__\n",
    "9. subclases \n",
    "10. Encapsulamiento de metodos y atributos"
   ]
  },
  {
   "cell_type": "code",
   "execution_count": 10,
   "metadata": {},
   "outputs": [],
   "source": [
    "class Account:\n",
    "    bank_name = \"MyBancoDavid\"  # atributos de clase\n",
    "    __sucursal= \"ABC Street\" # instancia privada de la clase\n",
    "    \n",
    "    def __init__(self, account_number, balance, account_type):\n",
    "        self.account_number = account_number  # atributo de instancia\n",
    "        self.balance = balance # atributo  de la instancia\n",
    "        self.account_type = account_type # atributo de la instancia\n",
    "    \n",
    "    def deposit(self, amount): # metodo para depositar dinaero\n",
    "        self.balance += amount\n",
    "        \n",
    "    def withdraw(self, amount): # metodo para retirar dinero\n",
    "        if self.balance < amount:\n",
    "            raise ValueError(\"Fondos insuficientes\")\n",
    "        self.balance -= amount # en caso ocntrario retirar\n",
    "    \n",
    "    def __str__(self): # metodo especial para representar cadenas de texto\n",
    "        return f\"Cuenta {self.account_number} ({self.account_type}): {self.balance} USD\"\n",
    "    \n",
    "    def __len__(self): # metodo especial para representar la longitud de un objeto\n",
    "        return len(str(self.balance))\n",
    "    \n",
    "    def __getitem__(self, item): # metodo especial para trabajar con indexacion\n",
    "        if item == \"account_number\":\n",
    "            return self.account_number # si hay match con lo solicitado devuelve el valor sino nada\n",
    "        elif item == \"balance\":\n",
    "            return self.balance\n",
    "        elif item == \"account_type\":\n",
    "            return self.account_type\n",
    "        else:\n",
    "            raise KeyError(\"Key invalido\")\n",
    "    \n",
    "    def __setitem__(self, key, value): # metodo especial para modificar valores de acuerdo a la condicion\n",
    "        if key == \"account_number\":\n",
    "            self.account_number = value\n",
    "        elif key == \"balance\":\n",
    "            self.balance = value\n",
    "        elif key == \"account_type\":\n",
    "            self.account_type = value\n",
    "        else:\n",
    "            raise KeyError(\"Invalid key\")\n",
    "    \n",
    "    def __iter__(self): # metodo especial para iteraciones\n",
    "        yield \"account_number\", self.account_number # similar al return pero devuelve un objeto generador (funcion) en lugar de un valor\n",
    "        yield \"balance\", self.balance\n",
    "        yield \"account_type\", self.account_type\n",
    "        \n",
    "class CheckingAccount(Account): #subclase de Account que hereda el balance  (Corriente)\n",
    "    def __init__(self, account_number, balance):\n",
    "        super().__init__(account_number, balance, \"checking\") # permite la herencia de metodos y atributos de la clase principal\n",
    "        \n",
    "class SavingsAccount(Account): #subclase de Account que hereda el balance (Ahorro)\n",
    "    def __init__(self, account_number, balance):\n",
    "        super().__init__(account_number, balance, \"savings\") # permite la herencia de metodos y atributos de la clase principal\n",
    "        \n",
    "    def apply_interest(self, rate): # metodo adicional\n",
    "        interest = self.balance * rate\n",
    "        self.balance += interest"
   ]
  },
  {
   "attachments": {},
   "cell_type": "markdown",
   "metadata": {},
   "source": [
    "En este ejemplo, la clase Cuenta tiene \n",
    "1. **atributos de clase (nombre_banco),**  \n",
    "2. **atributos de instancia (número_cuenta, saldo, tipo_cuenta)**\n",
    "3. varios métodos (depósito, retiro, `__str__, __len__, __getitem__, __setitem__, __iter__`) \n",
    "4. encapsulación de algunos métodos y atributos ( los métodos de depósito y retiro están encapsulados dentro de la clase, y los atributos número_cuenta, saldo y tipo_cuenta están encapsulados dentro de las instancias de la clase).\n",
    "\n",
    "Las clases Cuenta Corriente y Cuenta Ahorro son subclases de Cuenta y heredan todos los atributos y métodos de la clase Cuenta. Sin embargo, SavingsAccount también tiene un método apply_interest adicional que es específico para las cuentas de ahorro."
   ]
  },
  {
   "attachments": {},
   "cell_type": "markdown",
   "metadata": {},
   "source": [
    "`super()` es una función integrada de Python que devuelve un objeto temporal de la superclase, lo que le permite llamar a sus métodos. En otras palabras, le permite heredar métodos y atributos de una clase principal.\n",
    "\n",
    "En el contexto de la herencia, la función `super()` generalmente se usa dentro del método `__init__` de una subclase para llamar al método `__init__` de su clase principal, de modo que la subclase pueda heredar todos los atributos y métodos de instancia de la clase principal.\n"
   ]
  },
  {
   "cell_type": "code",
   "execution_count": 11,
   "metadata": {},
   "outputs": [
    {
     "name": "stdout",
     "output_type": "stream",
     "text": [
      "Cuenta 12345 (checking): 1000 USD\n",
      "Cuenta 12345 (checking): 1500 USD\n"
     ]
    }
   ],
   "source": [
    "checking = CheckingAccount(12345, 1000) # account number, balance\n",
    "print(checking)  \n",
    "checking.deposit(500)\n",
    "print(checking)  "
   ]
  },
  {
   "cell_type": "code",
   "execution_count": 14,
   "metadata": {},
   "outputs": [
    {
     "name": "stdout",
     "output_type": "stream",
     "text": [
      "Cuenta 12345 (checking): 1300 USD\n"
     ]
    }
   ],
   "source": [
    "checking.withdraw(100)\n",
    "print(checking)"
   ]
  },
  {
   "cell_type": "code",
   "execution_count": 15,
   "metadata": {},
   "outputs": [
    {
     "name": "stdout",
     "output_type": "stream",
     "text": [
      "MyBancoDavid\n",
      "12345\n",
      "1300\n"
     ]
    }
   ],
   "source": [
    "print(checking.bank_name)\n",
    "print(checking.account_number)\n",
    "print(checking.balance)"
   ]
  },
  {
   "cell_type": "code",
   "execution_count": 16,
   "metadata": {},
   "outputs": [
    {
     "name": "stdout",
     "output_type": "stream",
     "text": [
      "Cuenta 67890 (savings): 5000 USD\n",
      "Cuenta 67890 (savings): 5050.0 USD\n"
     ]
    }
   ],
   "source": [
    "savings = SavingsAccount(67890, 5000)\n",
    "print(savings)  \n",
    "savings.apply_interest(0.01)\n",
    "print(savings)  "
   ]
  },
  {
   "cell_type": "code",
   "execution_count": 19,
   "metadata": {},
   "outputs": [
    {
     "data": {
      "text/plain": [
       "5050.0"
      ]
     },
     "execution_count": 19,
     "metadata": {},
     "output_type": "execute_result"
    }
   ],
   "source": [
    "savings['balance']"
   ]
  },
  {
   "cell_type": "code",
   "execution_count": 20,
   "metadata": {},
   "outputs": [
    {
     "name": "stdout",
     "output_type": "stream",
     "text": [
      "67890\n",
      "Cuenta 67890 (savings): 5150.0 USD\n"
     ]
    }
   ],
   "source": [
    "print(savings[\"account_number\"])  \n",
    "savings[\"balance\"] += 100\n",
    "print(savings)  #"
   ]
  }
 ],
 "metadata": {
  "kernelspec": {
   "display_name": "Python 3",
   "language": "python",
   "name": "python3"
  },
  "language_info": {
   "codemirror_mode": {
    "name": "ipython",
    "version": 3
   },
   "file_extension": ".py",
   "mimetype": "text/x-python",
   "name": "python",
   "nbconvert_exporter": "python",
   "pygments_lexer": "ipython3",
   "version": "3.10.10"
  },
  "orig_nbformat": 4
 },
 "nbformat": 4,
 "nbformat_minor": 2
}
