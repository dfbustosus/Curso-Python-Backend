{
 "cells": [
  {
   "cell_type": "code",
   "execution_count": 1,
   "metadata": {},
   "outputs": [],
   "source": [
    "class Perro:\n",
    "    pass"
   ]
  },
  {
   "cell_type": "code",
   "execution_count": 2,
   "metadata": {},
   "outputs": [],
   "source": [
    "# Instanciar la clase (Creacion de varios objetos)\n",
    "perro1=Perro()\n",
    "perro2=Perro()"
   ]
  },
  {
   "cell_type": "code",
   "execution_count": 3,
   "metadata": {},
   "outputs": [],
   "source": [
    "class Perro:\n",
    "    # Contructor de la clase\n",
    "    def __init__(self,nombre,raza):\n",
    "        # Atributos de la instancia\n",
    "        self.nombre=nombre \n",
    "        self.raza=raza"
   ]
  },
  {
   "cell_type": "code",
   "execution_count": 4,
   "metadata": {},
   "outputs": [],
   "source": [
    "# Atributo de clase\n",
    "class Perro:\n",
    "    # Atributo de la clase\n",
    "    especie ='Mamifero'\n",
    "    # Contructor de la clase\n",
    "    def __init__(self,nombre,raza):\n",
    "        # Atributos de la instancia\n",
    "        self.nombre=nombre \n",
    "        self.raza=raza"
   ]
  },
  {
   "cell_type": "code",
   "execution_count": 5,
   "metadata": {},
   "outputs": [
    {
     "name": "stdout",
     "output_type": "stream",
     "text": [
      "Mamifero\n"
     ]
    }
   ],
   "source": [
    "print(Perro.especie)"
   ]
  },
  {
   "cell_type": "code",
   "execution_count": 6,
   "metadata": {},
   "outputs": [
    {
     "data": {
      "text/plain": [
       "'Mamifero'"
      ]
     },
     "execution_count": 6,
     "metadata": {},
     "output_type": "execute_result"
    }
   ],
   "source": [
    "mi_perro=Perro('Ringo','Shitzu')\n",
    "mi_perro.especie"
   ]
  },
  {
   "cell_type": "code",
   "execution_count": 7,
   "metadata": {},
   "outputs": [
    {
     "name": "stdout",
     "output_type": "stream",
     "text": [
      "Su nombre es: Ringo\n",
      "Su raza es: Shitzu\n",
      "Es un: Mamifero\n"
     ]
    }
   ],
   "source": [
    "print('Su nombre es:',mi_perro.nombre)\n",
    "print('Su raza es:',mi_perro.raza)\n",
    "print('Es un:',mi_perro.especie)"
   ]
  },
  {
   "cell_type": "code",
   "execution_count": 8,
   "metadata": {},
   "outputs": [],
   "source": [
    "# MEtodos\n",
    "# Atributo de clase\n",
    "class Perro:\n",
    "    # Atributo de la clase\n",
    "    especie ='Mamifero'\n",
    "    # Contructor de la clase\n",
    "    def __init__(self,nombre,raza):\n",
    "        print(f'Creando perro {nombre},{raza}')\n",
    "        # Atributos de la instancia\n",
    "        self.nombre=nombre \n",
    "        self.raza=raza\n",
    "    # Mtetodos \n",
    "    def ladrar(self):\n",
    "        print('Guau')\n",
    "    def caminar(self,pasos):\n",
    "        print(f'Caminando {pasos} pasos')"
   ]
  },
  {
   "cell_type": "code",
   "execution_count": 9,
   "metadata": {},
   "outputs": [
    {
     "name": "stdout",
     "output_type": "stream",
     "text": [
      "Creando perro Ringo,Shitzu\n",
      "Guau\n"
     ]
    }
   ],
   "source": [
    "mi_perro=Perro('Ringo','Shitzu')\n",
    "mi_perro.ladrar()"
   ]
  },
  {
   "cell_type": "code",
   "execution_count": 10,
   "metadata": {},
   "outputs": [
    {
     "name": "stdout",
     "output_type": "stream",
     "text": [
      "Caminando 10 pasos\n"
     ]
    }
   ],
   "source": [
    "mi_perro.caminar(10)"
   ]
  },
  {
   "cell_type": "code",
   "execution_count": 23,
   "metadata": {},
   "outputs": [],
   "source": [
    "# Desafio generico\n",
    "class Persona:\n",
    "    categoria='Humano'\n",
    "    pais='Co'\n",
    "    def __init__(self,nombre,apellido,edad):\n",
    "        self.nombre=nombre \n",
    "        self.apellido=apellido\n",
    "        self.edad=edad \n",
    "    def nombre_apellido(self):\n",
    "        print(f'El nombre de la persona es {self.nombre} y el apellido {self.apellido}')\n",
    "    def pais(self):\n",
    "        print(f'La persona es de A')"
   ]
  },
  {
   "cell_type": "code",
   "execution_count": 24,
   "metadata": {},
   "outputs": [
    {
     "name": "stdout",
     "output_type": "stream",
     "text": [
      "David Bustos 18\n",
      "El nombre de la persona es David y el apellido Bustos\n",
      "La persona es de A\n"
     ]
    }
   ],
   "source": [
    "david=Persona(nombre='David',apellido='Bustos',edad=18)\n",
    "print(david.nombre, david.apellido,david.edad)\n",
    "david.nombre_apellido()\n",
    "david.pais()"
   ]
  },
  {
   "cell_type": "code",
   "execution_count": 26,
   "metadata": {},
   "outputs": [
    {
     "data": {
      "text/plain": [
       "<__main__.Vector at 0x17916bc4640>"
      ]
     },
     "execution_count": 26,
     "metadata": {},
     "output_type": "execute_result"
    }
   ],
   "source": [
    "## __init__\n",
    "class Vector():\n",
    "    def __init__(self, data):\n",
    "        self._data = data\n",
    "    \n",
    "v = Vector([1,2])\n",
    "v"
   ]
  },
  {
   "cell_type": "code",
   "execution_count": 27,
   "metadata": {},
   "outputs": [
    {
     "name": "stdout",
     "output_type": "stream",
     "text": [
      "Los valores son: [1, 2]\n"
     ]
    }
   ],
   "source": [
    "class Vector():\n",
    "    def __init__(self, data):\n",
    "        self._data = data\n",
    "        \n",
    "    def __str__(self):\n",
    "        return f\"Los valores son: {self._data}\"\n",
    "    \n",
    "v = Vector([1,2])\n",
    "print(v)\n"
   ]
  },
  {
   "cell_type": "code",
   "execution_count": 29,
   "metadata": {},
   "outputs": [
    {
     "data": {
      "text/plain": [
       "2"
      ]
     },
     "execution_count": 29,
     "metadata": {},
     "output_type": "execute_result"
    }
   ],
   "source": [
    "## __len__\n",
    "class Vector():\n",
    "    def __init__(self, data):\n",
    "        self._data = data\n",
    "    def __str__(self):\n",
    "        return f\"Valores de: {self._data}\"\n",
    "    def __len__(self):\n",
    "        return len(self._data)\n",
    "    \n",
    "v = Vector([1,2])\n",
    "len(v)\n"
   ]
  },
  {
   "cell_type": "code",
   "execution_count": 30,
   "metadata": {},
   "outputs": [
    {
     "data": {
      "text/plain": [
       "2"
      ]
     },
     "execution_count": 30,
     "metadata": {},
     "output_type": "execute_result"
    }
   ],
   "source": [
    "# __getitem__\n",
    "class Vector():\n",
    "    def __init__(self, data):\n",
    "        self._data = data\n",
    "           \n",
    "    def __str__(self):\n",
    "        return f\"The values are: {self._data}\"\n",
    "    \n",
    "    def __len__(self):\n",
    "        return len(self._data)\n",
    "    \n",
    "    def __getitem__(self, pos):\n",
    "        return self._data[pos]\n",
    "    \n",
    "v = Vector([1,2])\n",
    "v[1]"
   ]
  },
  {
   "cell_type": "code",
   "execution_count": 32,
   "metadata": {},
   "outputs": [
    {
     "name": "stdout",
     "output_type": "stream",
     "text": [
      "Los valores: [1, 20]\n"
     ]
    }
   ],
   "source": [
    "# __setitem__\n",
    "class Vector():\n",
    "    def __init__(self, data):\n",
    "        self._data = data\n",
    "        \n",
    "    def __str__(self):\n",
    "        return f\"Los valores: {self._data}\"\n",
    "    \n",
    "    def __len__(self):\n",
    "        return len(self._data)\n",
    "    \n",
    "    def __getitem__(self, pos):\n",
    "        return self._data[pos]\n",
    "    \n",
    "    def __setitem__(self, pos, value):\n",
    "        self._data[pos] = value\n",
    "        \n",
    "v = Vector([1,2])\n",
    "v[1] = 20\n",
    "print(v)"
   ]
  },
  {
   "cell_type": "code",
   "execution_count": 33,
   "metadata": {},
   "outputs": [
    {
     "name": "stdout",
     "output_type": "stream",
     "text": [
      "Valor[0]: 1\n",
      "Valor[1]: 2\n"
     ]
    }
   ],
   "source": [
    "## __iter__\n",
    "class Vector():\n",
    "    def __init__(self, data):\n",
    "        self._data = data\n",
    "        \n",
    "    def __str__(self):\n",
    "        return f\"Los valores: {self._data}\"\n",
    "    \n",
    "    def __len__(self):\n",
    "        return len(self._data)\n",
    "    \n",
    "    def __getitem__(self, pos):\n",
    "        return self._data[pos]\n",
    "    \n",
    "    def __setitem__(self, pos, value):\n",
    "        self._data[pos] = value\n",
    "    \n",
    "    def __iter__(self):\n",
    "        for pos in range(0, len(self._data)):\n",
    "            yield f\"Valor[{pos}]: {self._data[pos]}\"\n",
    "            \n",
    "v = Vector([1,2])\n",
    "\n",
    "for vec in v:\n",
    "    print(vec)"
   ]
  },
  {
   "attachments": {},
   "cell_type": "markdown",
   "metadata": {},
   "source": [
    "# Clases anidadas"
   ]
  },
  {
   "cell_type": "code",
   "execution_count": 35,
   "metadata": {},
   "outputs": [
    {
     "name": "stdout",
     "output_type": "stream",
     "text": [
      "Creando perro Ringo,French\n",
      "Mi nombre es: David BU\n",
      "<__main__.Perro object at 0x00000179173FB3D0>\n"
     ]
    }
   ],
   "source": [
    "class Perro:\n",
    "    # Atributo de la clase\n",
    "    especie ='Mamifero'\n",
    "    # Contructor de la clase\n",
    "    def __init__(self,nombre,raza):\n",
    "        print(f'Creando perro {nombre},{raza}')\n",
    "        # Atributos de la instancia\n",
    "        self.nombre=nombre \n",
    "        self.raza=raza\n",
    "    # Mtetodos \n",
    "    def ladrar(self):\n",
    "        print('Guau')\n",
    "    def caminar(self,pasos):\n",
    "        print(f'Caminando {pasos} pasos')\n",
    "class Persona:\n",
    "    def __init__(self, nombre,apellido,perro):\n",
    "        self.nombre= nombre\n",
    "        self.apellido= apellido \n",
    "        self.perro= perro \n",
    "    def __str__(self):\n",
    "        return \"Mi nombre es: \"+ self.nombre +\" \"+ self.apellido+ \"\\n\" + self.perro.__str__()\n",
    "perro1= Perro(\"Ringo\",\"French\")\n",
    "persona1= Persona('David','BU', perro1)\n",
    "print(persona1)"
   ]
  },
  {
   "cell_type": "code",
   "execution_count": 44,
   "metadata": {},
   "outputs": [
    {
     "name": "stdout",
     "output_type": "stream",
     "text": [
      "Resultado 1:\n",
      "SUELDO: 200\n",
      "Resultado 2:\n",
      "NOMBRE:David\n",
      "PUESTO: Profe\n",
      "\n",
      "SUELDO: 1200\n"
     ]
    }
   ],
   "source": [
    "class Sueldo:\n",
    "    def __init__(self,sueldo):\n",
    "        self.sueldo=sueldo \n",
    "    def __str__(self):\n",
    "        return f\"\\nSUELDO: {self.sueldo}\"\n",
    "    \n",
    "    class Empleado:\n",
    "        def __init__(self,nombre,puesto):\n",
    "            self.nombre= nombre \n",
    "            self.puesto= puesto \n",
    "            self.sueldo= Sueldo(1200)\n",
    "        def __str__(self):\n",
    "            return f\"\\nNOMBRE:{self.nombre}\\nPUESTO: {self.puesto}\\n\"+ self.sueldo.__str__()\n",
    "s1= Sueldo(200)\n",
    "emp1= Sueldo.Empleado('David','Profe')\n",
    "print(\"Resultado 1:\"+ s1.__str__())\n",
    "print(\"Resultado 2:\"+ emp1.__str__())"
   ]
  },
  {
   "cell_type": "code",
   "execution_count": 49,
   "metadata": {},
   "outputs": [
    {
     "name": "stdout",
     "output_type": "stream",
     "text": [
      "Resultado1: Humano\n",
      "\n",
      "Resultado3: David\n",
      "\n",
      "Resultado6: 23\n",
      "\n"
     ]
    }
   ],
   "source": [
    "## Encapsular\n",
    "class Persona:\n",
    "    tipo=\"Humano\" # Dato al que pueden acceder\n",
    "    __sueldo= 2000 # no quiero que accedan a mi cuenta\n",
    "\n",
    "    def __init__(self,nombre,apellido):\n",
    "        self.nombre= nombre # NO me molesta que sepan mi nombre\n",
    "        self.__apellido= apellido # no quiero que sepan mi apellido\n",
    "    def __soy_feliz(self):\n",
    "        print(\"No les importa: ...\")\n",
    "    def edad(self):\n",
    "        return 23 # mmostremola sin problema\n",
    "persona1= Persona('David','BU')\n",
    "print(f\"Resultado1: {persona1.tipo}\\n\")\n",
    "#print(f\"Resultado2: {persona1.__sueldo}\\n\")\n",
    "print(f\"Resultado3: {persona1.nombre}\\n\")\n",
    "#print(f\"Resultado4: {persona1.__apellido}\\n\") # miren los errores\n",
    "#print(f\"Resultado5: {persona1.__soy_feliz()}\\n\") \n",
    "print(f\"Resultado6: {persona1.edad()}\\n\")"
   ]
  },
  {
   "cell_type": "code",
   "execution_count": 50,
   "metadata": {},
   "outputs": [],
   "source": [
    "class Customer:\n",
    "    def __init__(self):\n",
    "        self.__accountNumber= 3423\n",
    "    def __processAccount(self):\n",
    "        print('Procesando cuenta')\n",
    "    def fetAccountNumber(self):\n",
    "        return self.__accountNumber"
   ]
  },
  {
   "cell_type": "code",
   "execution_count": 51,
   "metadata": {},
   "outputs": [
    {
     "name": "stdout",
     "output_type": "stream",
     "text": [
      "Nombre:  ivan\n",
      "Nota:  8\n",
      "El alumno ha aprobado\n",
      "Nombre:  juan\n",
      "Nota:  4\n",
      "El alumno ha suspendido\n"
     ]
    }
   ],
   "source": [
    "# Desafio generico\n",
    "class Alumno:\n",
    "    def __init__(self,nombre,nota):\n",
    "        self.nombre=nombre\n",
    "        self.nota=nota\n",
    "    # función para imprimir los datos\n",
    "    def imprimir(self):\n",
    "        print(\"Nombre: \",self.nombre)\n",
    "        print(\"Nota: \",self.nota)\n",
    " \n",
    " \n",
    "    # función para obtener el resultado\n",
    "    def resultado(self):\n",
    "         if self.nota < 5:\n",
    "            print(\"El alumno ha suspendido\")\n",
    "         else:\n",
    "            print(\"El alumno ha aprobado\")\n",
    "#bloque principal\n",
    "alumno1 =Alumno(\"ivan\",8)\n",
    "alumno2 =Alumno(\"juan\",4)\n",
    " \n",
    "# imprimimos los datos y resultados de cada alumno\n",
    "alumno1.imprimir()\n",
    "alumno1.resultado()\n",
    "alumno2.imprimir()\n",
    "alumno2.resultado()"
   ]
  }
 ],
 "metadata": {
  "kernelspec": {
   "display_name": "Python 3",
   "language": "python",
   "name": "python3"
  },
  "language_info": {
   "codemirror_mode": {
    "name": "ipython",
    "version": 3
   },
   "file_extension": ".py",
   "mimetype": "text/x-python",
   "name": "python",
   "nbconvert_exporter": "python",
   "pygments_lexer": "ipython3",
   "version": "3.10.10"
  },
  "orig_nbformat": 4
 },
 "nbformat": 4,
 "nbformat_minor": 2
}
