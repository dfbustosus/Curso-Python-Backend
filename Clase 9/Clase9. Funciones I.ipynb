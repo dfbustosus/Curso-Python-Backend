{
 "cells": [
  {
   "cell_type": "markdown",
   "metadata": {},
   "source": [
    "Notacion basica"
   ]
  },
  {
   "cell_type": "code",
   "execution_count": 1,
   "metadata": {},
   "outputs": [
    {
     "name": "stdout",
     "output_type": "stream",
     "text": [
      "Estoy saludando desde la funcion\n"
     ]
    }
   ],
   "source": [
    "def saludar():\n",
    "    print('Estoy saludando desde la funcion')  \n",
    "saludar()"
   ]
  },
  {
   "cell_type": "code",
   "execution_count": 2,
   "metadata": {},
   "outputs": [
    {
     "name": "stdout",
     "output_type": "stream",
     "text": [
      "Hola David! ¿Como estás?\n"
     ]
    }
   ],
   "source": [
    "def saludar_con_nombre(nombre):\n",
    "    saludando=print('Hola {}! ¿Como estás?'.format(nombre))\n",
    "    return saludando\n",
    "saludar_con_nombre('David')"
   ]
  },
  {
   "cell_type": "markdown",
   "metadata": {},
   "source": [
    "Variables locales y globales"
   ]
  },
  {
   "cell_type": "code",
   "execution_count": 4,
   "metadata": {},
   "outputs": [
    {
     "name": "stdout",
     "output_type": "stream",
     "text": [
      "10\n"
     ]
    }
   ],
   "source": [
    "variable_test=10 # varibales globales\n",
    "def test():\n",
    "    variable_test=155 # variables locales\n",
    "    print(variable_test)\n",
    "print(variable_test)"
   ]
  },
  {
   "cell_type": "code",
   "execution_count": 5,
   "metadata": {},
   "outputs": [
    {
     "name": "stdout",
     "output_type": "stream",
     "text": [
      "Dentro de la funcion variable total total :  30\n",
      "Afuera de la funcion variable global total :  0\n"
     ]
    }
   ],
   "source": [
    "total = 0; # Variable global\n",
    "# Definicion de funcion\n",
    "def sum( arg1, arg2 ):\n",
    "   # Adicionar dos valores numericos.\"\n",
    "   total = arg1 + arg2; # Esta es la variable local\n",
    "   print(\"Dentro de la funcion variable total total : \", total)\n",
    "   return total;\n",
    "\n",
    "#Usando la funcion\n",
    "sum( 10, 20 );\n",
    "print(\"Afuera de la funcion variable global total : \", total )"
   ]
  },
  {
   "cell_type": "markdown",
   "metadata": {},
   "source": [
    "Importancia del return"
   ]
  },
  {
   "cell_type": "code",
   "execution_count": 6,
   "metadata": {},
   "outputs": [],
   "source": [
    "# Tres casos de como crear una function  \n",
    "def suma_con(a,b):\n",
    "    return a+b\n",
    "\n",
    "def suma_sin(a,b):\n",
    "    print(a+b)\n",
    "   \n",
    "def suma_tri(a,b,c):\n",
    "    return a+b+c"
   ]
  },
  {
   "cell_type": "code",
   "execution_count": 7,
   "metadata": {},
   "outputs": [
    {
     "name": "stdout",
     "output_type": "stream",
     "text": [
      "3\n"
     ]
    }
   ],
   "source": [
    "a=suma_con(a=1,b=2)\n",
    "print(a)"
   ]
  },
  {
   "cell_type": "code",
   "execution_count": 8,
   "metadata": {},
   "outputs": [
    {
     "name": "stdout",
     "output_type": "stream",
     "text": [
      "3\n"
     ]
    }
   ],
   "source": [
    "suma_sin(a=1,b=2)"
   ]
  },
  {
   "cell_type": "code",
   "execution_count": 9,
   "metadata": {},
   "outputs": [
    {
     "name": "stdout",
     "output_type": "stream",
     "text": [
      "3\n",
      "None\n"
     ]
    }
   ],
   "source": [
    "a = suma_sin(1,2)\n",
    "print(a)"
   ]
  },
  {
   "cell_type": "code",
   "execution_count": 10,
   "metadata": {},
   "outputs": [
    {
     "name": "stdout",
     "output_type": "stream",
     "text": [
      "6\n"
     ]
    }
   ],
   "source": [
    "a = suma_tri(1,2,3)\n",
    "print(a)"
   ]
  },
  {
   "cell_type": "code",
   "execution_count": 11,
   "metadata": {},
   "outputs": [
    {
     "name": "stdout",
     "output_type": "stream",
     "text": [
      "Hola David! ¿Como estás?\n"
     ]
    }
   ],
   "source": [
    "def saludar_con_nombre(nombre):\n",
    "    saludando=print('Hola {}! ¿Como estás?'.format(nombre))\n",
    "    return saludando\n",
    "    print('Hola mundo') # Esto no se ejecuta es como un break\n",
    "saludar_con_nombre('David')"
   ]
  },
  {
   "cell_type": "code",
   "execution_count": 12,
   "metadata": {},
   "outputs": [
    {
     "name": "stdout",
     "output_type": "stream",
     "text": [
      "Hola David! ¿Cómo estás?\n"
     ]
    }
   ],
   "source": [
    "def saludar_con_nombre(nombre):\n",
    "    saludando = print('Hola {}! ¿Cómo estás?'.format(nombre))\n",
    "    return saludando\n",
    "    print(\"Hola Mundo\") # Esto es similar a un break no se ejecuta\n",
    "saludar_con_nombre('David')"
   ]
  },
  {
   "cell_type": "code",
   "execution_count": 13,
   "metadata": {},
   "outputs": [
    {
     "name": "stdout",
     "output_type": "stream",
     "text": [
      "[2, 3]\n"
     ]
    }
   ],
   "source": [
    "def lista():\n",
    "    return [1,2,3,4,5]\n",
    "print(lista()[1:3])"
   ]
  },
  {
   "cell_type": "markdown",
   "metadata": {},
   "source": [
    "Return multiple"
   ]
  },
  {
   "cell_type": "code",
   "execution_count": 14,
   "metadata": {},
   "outputs": [
    {
     "data": {
      "text/plain": [
       "('Python', 20, [1, 2, 3])"
      ]
     },
     "execution_count": 14,
     "metadata": {},
     "output_type": "execute_result"
    }
   ],
   "source": [
    "def test():\n",
    "    return 'Python',20,[1,2,3]\n",
    "test()"
   ]
  },
  {
   "cell_type": "markdown",
   "metadata": {},
   "source": [
    "Enviando valores a una funcion"
   ]
  },
  {
   "cell_type": "code",
   "execution_count": 15,
   "metadata": {},
   "outputs": [],
   "source": [
    "def suma(numero1,numero2):\n",
    "    return numero1* numero2"
   ]
  },
  {
   "cell_type": "code",
   "execution_count": 16,
   "metadata": {},
   "outputs": [
    {
     "data": {
      "text/plain": [
       "35"
      ]
     },
     "execution_count": 16,
     "metadata": {},
     "output_type": "execute_result"
    }
   ],
   "source": [
    "r=suma(7,5)\n",
    "r"
   ]
  },
  {
   "cell_type": "markdown",
   "metadata": {},
   "source": [
    "Actividad colaborativa"
   ]
  },
  {
   "cell_type": "code",
   "execution_count": 17,
   "metadata": {},
   "outputs": [
    {
     "data": {
      "text/plain": [
       "'Hola bienvenido a Conception'"
      ]
     },
     "execution_count": 17,
     "metadata": {},
     "output_type": "execute_result"
    }
   ],
   "source": [
    "def bienvenida(nombre):\n",
    "    return 'Hola bienvenido a ' +str(nombre)\n",
    "bienvenida('Conception')"
   ]
  },
  {
   "cell_type": "code",
   "execution_count": 23,
   "metadata": {},
   "outputs": [
    {
     "data": {
      "text/plain": [
       "3.0"
      ]
     },
     "execution_count": 23,
     "metadata": {},
     "output_type": "execute_result"
    }
   ],
   "source": [
    "lista=[1,2,3,4,5]\n",
    "import math\n",
    "def fun_suma(lista):\n",
    "    total = 0\n",
    "    for x in lista:\n",
    "        if (type(x) == float or type(x) == int) and not math.isnan(x):\n",
    "            total += x\n",
    "    return total/len(lista)\n",
    "fun_suma(lista)"
   ]
  },
  {
   "cell_type": "code",
   "execution_count": 24,
   "metadata": {},
   "outputs": [
    {
     "name": "stdout",
     "output_type": "stream",
     "text": [
      "Introduce el primer número entero: 2\n",
      "Introduce el segundo número entero: 4\n",
      "4 es múltiplo de 2\n"
     ]
    }
   ],
   "source": [
    "def es_multiplo():\n",
    "    num1 = int(input(\"Introduce el primer número entero: \"))\n",
    "    num2 = int(input(\"Introduce el segundo número entero: \"))\n",
    "    if num1 % num2 == 0:\n",
    "        print(f\"{num1} es múltiplo de {num2}\")\n",
    "    elif num2 % num1 == 0:\n",
    "        print(f\"{num2} es múltiplo de {num1}\")\n",
    "    else:\n",
    "        print(\"Ninguno de los dos números es múltiplo del otro\")\n",
    "\n",
    "es_multiplo()"
   ]
  },
  {
   "cell_type": "code",
   "execution_count": 25,
   "metadata": {},
   "outputs": [],
   "source": [
    "# Otra actividad\n",
    "def par_o_impar(numero):\n",
    "    if numero %2== 0:\n",
    "        print('Par')\n",
    "    else:\n",
    "        print('Impar')"
   ]
  },
  {
   "cell_type": "code",
   "execution_count": 26,
   "metadata": {},
   "outputs": [
    {
     "name": "stdout",
     "output_type": "stream",
     "text": [
      "Par\n"
     ]
    }
   ],
   "source": [
    "par_o_impar(10)"
   ]
  },
  {
   "cell_type": "code",
   "execution_count": 31,
   "metadata": {},
   "outputs": [
    {
     "name": "stdout",
     "output_type": "stream",
     "text": [
      "El año 2012 es bisiesto.\n",
      "El año 2010 no es bisiesto.\n",
      "El año 2000 es bisiesto.\n",
      "El año 1900 no es bisiesto.\n"
     ]
    }
   ],
   "source": [
    "# Actividad\n",
    "def es_bisiesto(año):\n",
    "    if type(año) != int:\n",
    "        print(\"Por favor ingrese un número.\")\n",
    "        return\n",
    "    if año % 400 == 0:\n",
    "        print(f\"El año {año} es bisiesto.\")\n",
    "    elif año % 100 == 0:\n",
    "        print(f\"El año {año} no es bisiesto.\")\n",
    "    elif año % 4 == 0:\n",
    "        print(f\"El año {año} es bisiesto.\")\n",
    "    else:\n",
    "        print(f\"El año {año} no es bisiesto.\")\n",
    "es_bisiesto(2012)\n",
    "es_bisiesto(2010)\n",
    "es_bisiesto(2000)\n",
    "es_bisiesto(1900)"
   ]
  }
 ],
 "metadata": {
  "kernelspec": {
   "display_name": "Python 3 (ipykernel)",
   "language": "python",
   "name": "python3"
  },
  "language_info": {
   "codemirror_mode": {
    "name": "ipython",
    "version": 3
   },
   "file_extension": ".py",
   "mimetype": "text/x-python",
   "name": "python",
   "nbconvert_exporter": "python",
   "pygments_lexer": "ipython3",
   "version": "3.9.12"
  },
  "vscode": {
   "interpreter": {
    "hash": "8649ced70e2df50cbec1162fce5f764529cbe99dc753d77d52a836183a2bd877"
   }
  }
 },
 "nbformat": 4,
 "nbformat_minor": 2
}
