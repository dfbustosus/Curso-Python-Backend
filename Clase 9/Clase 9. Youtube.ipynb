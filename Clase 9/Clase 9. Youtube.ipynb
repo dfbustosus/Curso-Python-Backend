{
 "cells": [
  {
   "attachments": {},
   "cell_type": "markdown",
   "metadata": {},
   "source": [
    "# Funciones\n",
    "\n",
    "- Son un conjunto de instrucciones para una tarea dada\n",
    "\n",
    "- Nos permiten fragmentar nuesto programa en componentes modulares\n",
    "\n",
    "- Permiten hacer los programas mas organizados\n",
    "\n",
    "- Evitan la repeticion"
   ]
  },
  {
   "attachments": {},
   "cell_type": "markdown",
   "metadata": {},
   "source": [
    "Hay dos grandes grupos\n",
    "\n",
    "1. Built-in function: son creadas por Python\n",
    "2. User-defined: las que creamos nosotros con algún proposito\n",
    "\n",
    "**Algunas funciones built-in**\n",
    "```python\n",
    "pow(); abs(); print(); round(); len();\n",
    "range(); next(); max(); slice(); sorted()\n",
    "\n",
    "```\n",
    "\n",
    "**Como crear funciones de usuario predeterminadas**\n",
    "1. Crear la funcion\n",
    "2. Llamarla para usarla\n",
    "\n",
    "```python\n",
    "def mi_funcion(parametros):\n",
    "    tareas\n",
    "    return expresion\n",
    "```"
   ]
  },
  {
   "cell_type": "code",
   "execution_count": 9,
   "metadata": {},
   "outputs": [
    {
     "name": "stdout",
     "output_type": "stream",
     "text": [
      "10.75\n",
      "4\n",
      "True\n",
      "12\n",
      "20\n",
      "-2\n"
     ]
    }
   ],
   "source": [
    "# Built-in functions\n",
    "# 1 abs\n",
    "print(abs(-10.75))\n",
    "# 2 len\n",
    "print(len([1,2,3,4]))\n",
    "# 3 all\n",
    "print(all([True,True,True]))\n",
    "# 4 sum\n",
    "print(sum([1,2,4,5]))\n",
    "# 5 max\n",
    "print(max(7,20,3))\n",
    "# 6 min\n",
    "print(min(-2,5,6))"
   ]
  },
  {
   "cell_type": "code",
   "execution_count": 10,
   "metadata": {},
   "outputs": [
    {
     "name": "stdout",
     "output_type": "stream",
     "text": [
      "David\n"
     ]
    }
   ],
   "source": [
    "# 7 iter\n",
    "lista=iter(['David','Pedro','Juan'])\n",
    "# 8 next\n",
    "x=next(lista)\n",
    "print(x)"
   ]
  },
  {
   "cell_type": "code",
   "execution_count": 11,
   "metadata": {},
   "outputs": [
    {
     "name": "stdout",
     "output_type": "stream",
     "text": [
      "Pedro\n"
     ]
    }
   ],
   "source": [
    "x=next(lista)\n",
    "print(x)"
   ]
  },
  {
   "cell_type": "code",
   "execution_count": 13,
   "metadata": {},
   "outputs": [
    {
     "name": "stdout",
     "output_type": "stream",
     "text": [
      "8\n",
      "0\n",
      "1\n",
      "2\n",
      "3\n",
      "4\n",
      "5\n"
     ]
    }
   ],
   "source": [
    "# 9 pow\n",
    "print(pow(2,3))\n",
    "# 10 range\n",
    "x= range(6)\n",
    "for n in x:\n",
    "    print(n)"
   ]
  },
  {
   "cell_type": "code",
   "execution_count": 14,
   "metadata": {},
   "outputs": [
    {
     "name": "stdout",
     "output_type": "stream",
     "text": [
      "-2\n",
      "0\n",
      "2\n",
      "4\n"
     ]
    }
   ],
   "source": [
    "for n in range(-2,6,2):\n",
    "    print(n)"
   ]
  },
  {
   "cell_type": "code",
   "execution_count": 15,
   "metadata": {},
   "outputs": [
    {
     "name": "stdout",
     "output_type": "stream",
     "text": [
      "5.68\n"
     ]
    }
   ],
   "source": [
    "# 11 round\n",
    "print(round(5.6777,2))"
   ]
  },
  {
   "cell_type": "code",
   "execution_count": 18,
   "metadata": {},
   "outputs": [
    {
     "data": {
      "text/plain": [
       "['b', 'a', 'Z', 'A']"
      ]
     },
     "execution_count": 18,
     "metadata": {},
     "output_type": "execute_result"
    }
   ],
   "source": [
    "# 12 sorted\n",
    "x=['a','b','A','Z']\n",
    "sorted(x,reverse=True)"
   ]
  },
  {
   "cell_type": "code",
   "execution_count": 19,
   "metadata": {},
   "outputs": [
    {
     "data": {
      "text/plain": [
       "[1, 2, 5, 7, 8]"
      ]
     },
     "execution_count": 19,
     "metadata": {},
     "output_type": "execute_result"
    }
   ],
   "source": [
    "x=[1,2,5,7,8]\n",
    "sorted(x,reverse=False)"
   ]
  },
  {
   "cell_type": "code",
   "execution_count": 22,
   "metadata": {},
   "outputs": [
    {
     "data": {
      "text/plain": [
       "('T', 'U', 'E')"
      ]
     },
     "execution_count": 22,
     "metadata": {},
     "output_type": "execute_result"
    }
   ],
   "source": [
    "# 13 slice \n",
    "a=('T','U','E','R','E','S')\n",
    "i=slice(3)\n",
    "a[i] # corta hasta el indice"
   ]
  },
  {
   "attachments": {},
   "cell_type": "markdown",
   "metadata": {},
   "source": [
    "Ahora las que se definen por el usuario"
   ]
  },
  {
   "cell_type": "code",
   "execution_count": 23,
   "metadata": {},
   "outputs": [
    {
     "name": "stdout",
     "output_type": "stream",
     "text": [
      "Hola a ti\n"
     ]
    }
   ],
   "source": [
    "# 1 sin argumentos\n",
    "def mu_funcion():\n",
    "    print(\"Hola a ti\")\n",
    "mu_funcion()"
   ]
  },
  {
   "cell_type": "code",
   "execution_count": 24,
   "metadata": {},
   "outputs": [],
   "source": [
    "def hola():\n",
    "    nombre=str(input('Ingresa tu nombre:'))\n",
    "    print('Hola eres '+ str(nombre))"
   ]
  },
  {
   "cell_type": "code",
   "execution_count": 25,
   "metadata": {},
   "outputs": [
    {
     "name": "stdout",
     "output_type": "stream",
     "text": [
      "Hola eresDavid\n"
     ]
    }
   ],
   "source": [
    "hola()"
   ]
  },
  {
   "cell_type": "code",
   "execution_count": 26,
   "metadata": {},
   "outputs": [],
   "source": [
    "# 2 Con Parametros\n",
    "def ft_a_cm(ft):\n",
    "    cm= ft*30.40 \n",
    "    return cm"
   ]
  },
  {
   "cell_type": "code",
   "execution_count": 27,
   "metadata": {},
   "outputs": [
    {
     "data": {
      "text/plain": [
       "60.8"
      ]
     },
     "execution_count": 27,
     "metadata": {},
     "output_type": "execute_result"
    }
   ],
   "source": [
    "ft_a_cm(2)"
   ]
  },
  {
   "cell_type": "code",
   "execution_count": 28,
   "metadata": {},
   "outputs": [
    {
     "name": "stdout",
     "output_type": "stream",
     "text": [
      "32\n"
     ]
    }
   ],
   "source": [
    "# 3 Multiples argumentos\n",
    "def suma(x,y):\n",
    "    suma= x+y \n",
    "    print(suma)\n",
    "suma(x=2,y=30)"
   ]
  },
  {
   "cell_type": "code",
   "execution_count": 29,
   "metadata": {},
   "outputs": [
    {
     "data": {
      "text/plain": [
       "10"
      ]
     },
     "execution_count": 29,
     "metadata": {},
     "output_type": "execute_result"
    }
   ],
   "source": [
    "# 4 Con condicionales\n",
    "def absoluto(x):\n",
    "    if x>=0:\n",
    "        return x\n",
    "    else:\n",
    "        return -x \n",
    "absoluto(-10)"
   ]
  },
  {
   "cell_type": "code",
   "execution_count": 30,
   "metadata": {},
   "outputs": [
    {
     "data": {
      "text/plain": [
       "6"
      ]
     },
     "execution_count": 30,
     "metadata": {},
     "output_type": "execute_result"
    }
   ],
   "source": [
    "# 5 Recursividad\n",
    "def factorial(x):\n",
    "    if x==0:\n",
    "        return 1\n",
    "    else:\n",
    "        return x* factorial(x-1)\n",
    "factorial(3)"
   ]
  },
  {
   "cell_type": "code",
   "execution_count": 33,
   "metadata": {},
   "outputs": [
    {
     "name": "stdout",
     "output_type": "stream",
     "text": [
      "Hola  Pablo\n"
     ]
    }
   ],
   "source": [
    "# 6 Argumentos defecto\n",
    "def hola(nombre='Pablo'):\n",
    "    print('Hola ', nombre)\n",
    "hola()"
   ]
  },
  {
   "cell_type": "code",
   "execution_count": 34,
   "metadata": {},
   "outputs": [
    {
     "name": "stdout",
     "output_type": "stream",
     "text": [
      "Hola  David\n"
     ]
    }
   ],
   "source": [
    "hola('David')"
   ]
  },
  {
   "cell_type": "code",
   "execution_count": 35,
   "metadata": {},
   "outputs": [
    {
     "name": "stdout",
     "output_type": "stream",
     "text": [
      "7\n"
     ]
    }
   ],
   "source": [
    "# 7. Scope: local vs global \n",
    "def funcion():\n",
    "    z=7\n",
    "    print(z)\n",
    "funcion()"
   ]
  },
  {
   "cell_type": "code",
   "execution_count": 36,
   "metadata": {},
   "outputs": [
    {
     "ename": "NameError",
     "evalue": "name 'z' is not defined",
     "output_type": "error",
     "traceback": [
      "\u001b[1;31m---------------------------------------------------------------------------\u001b[0m",
      "\u001b[1;31mNameError\u001b[0m                                 Traceback (most recent call last)",
      "Cell \u001b[1;32mIn [36], line 1\u001b[0m\n\u001b[1;32m----> 1\u001b[0m z\n",
      "\u001b[1;31mNameError\u001b[0m: name 'z' is not defined"
     ]
    }
   ],
   "source": [
    "z# no puedes acceder porque es variablelocal"
   ]
  },
  {
   "cell_type": "code",
   "execution_count": 37,
   "metadata": {},
   "outputs": [
    {
     "name": "stdout",
     "output_type": "stream",
     "text": [
      "7\n"
     ]
    }
   ],
   "source": [
    "z=7 # ahora es variable global\n",
    "def funcion():\n",
    "    print(z)\n",
    "funcion()"
   ]
  },
  {
   "cell_type": "code",
   "execution_count": 38,
   "metadata": {},
   "outputs": [
    {
     "data": {
      "text/plain": [
       "7"
      ]
     },
     "execution_count": 38,
     "metadata": {},
     "output_type": "execute_result"
    }
   ],
   "source": [
    "z # puedes acceder"
   ]
  },
  {
   "cell_type": "code",
   "execution_count": 39,
   "metadata": {},
   "outputs": [
    {
     "ename": "UnboundLocalError",
     "evalue": "local variable 'z' referenced before assignment",
     "output_type": "error",
     "traceback": [
      "\u001b[1;31m---------------------------------------------------------------------------\u001b[0m",
      "\u001b[1;31mUnboundLocalError\u001b[0m                         Traceback (most recent call last)",
      "Cell \u001b[1;32mIn [39], line 6\u001b[0m\n\u001b[0;32m      4\u001b[0m     z\u001b[39m=\u001b[39mz\u001b[39m+\u001b[39m\u001b[39m1\u001b[39m\n\u001b[0;32m      5\u001b[0m     \u001b[39mprint\u001b[39m(z)\n\u001b[1;32m----> 6\u001b[0m funcion()\n",
      "Cell \u001b[1;32mIn [39], line 4\u001b[0m, in \u001b[0;36mfuncion\u001b[1;34m()\u001b[0m\n\u001b[0;32m      3\u001b[0m \u001b[39mdef\u001b[39;00m \u001b[39mfuncion\u001b[39m():\n\u001b[1;32m----> 4\u001b[0m     z\u001b[39m=\u001b[39mz\u001b[39m+\u001b[39m\u001b[39m1\u001b[39m\n\u001b[0;32m      5\u001b[0m     \u001b[39mprint\u001b[39m(z)\n",
      "\u001b[1;31mUnboundLocalError\u001b[0m: local variable 'z' referenced before assignment"
     ]
    }
   ],
   "source": [
    "# un error comun!!!\n",
    "z= 7 \n",
    "def funcion():\n",
    "    z=z+1\n",
    "    print(z)\n",
    "funcion() ### OJO!!!"
   ]
  },
  {
   "cell_type": "code",
   "execution_count": 42,
   "metadata": {},
   "outputs": [
    {
     "name": "stdout",
     "output_type": "stream",
     "text": [
      "8\n"
     ]
    },
    {
     "data": {
      "text/plain": [
       "8"
      ]
     },
     "execution_count": 42,
     "metadata": {},
     "output_type": "execute_result"
    }
   ],
   "source": [
    "# Como lo puedes resolver\n",
    "z= 7 \n",
    "def funcion():\n",
    "    global z\n",
    "    z=z+1\n",
    "    print(z)\n",
    "funcion()\n",
    "z"
   ]
  },
  {
   "cell_type": "code",
   "execution_count": 46,
   "metadata": {},
   "outputs": [
    {
     "name": "stdout",
     "output_type": "stream",
     "text": [
      "Hola David Pedro\n"
     ]
    }
   ],
   "source": [
    "# 8. Kargs\n",
    "def hola(*nombres):\n",
    "    print('Hola '+ nombres[0]+' '+ nombres[1])\n",
    "hola('David','Pedro')"
   ]
  },
  {
   "cell_type": "code",
   "execution_count": 48,
   "metadata": {},
   "outputs": [
    {
     "name": "stdout",
     "output_type": "stream",
     "text": [
      "Area circulo con radio 15:  706.5\n",
      "Area esfera con radio 15:  2826.0\n"
     ]
    }
   ],
   "source": [
    "# 9. Funciones multiples\n",
    "pi= 3.14\n",
    "def areacirculo(radio):\n",
    "    return pi*radio**2\n",
    "def areaesfera(radio):\n",
    "    return 4*pi*radio**2\n",
    "def main():\n",
    "    print('Area circulo con radio 15: ', areacirculo(15))\n",
    "    print('Area esfera con radio 15: ', areaesfera(15))\n",
    "main()"
   ]
  },
  {
   "attachments": {},
   "cell_type": "markdown",
   "metadata": {},
   "source": [
    "# Ejemplo de banco"
   ]
  },
  {
   "cell_type": "code",
   "execution_count": 49,
   "metadata": {},
   "outputs": [],
   "source": [
    "def bank_system_process(customer_info, account_balance, transaction_type, transaction_amount):\n",
    "    \"\"\"\n",
    "    Esta función procesa una transacción bancaria para un cliente según el saldo de su cuenta y el tipo de transacción.\n",
    "\n",
    "     Argumentos:\n",
    "     customer_info (dict): un diccionario que contiene información del cliente, como el nombre, la dirección y el número de cuenta.\n",
    "     account_balance (float): El saldo actual de la cuenta del cliente.\n",
    "     transaction_type (str): el tipo de transacción que se está realizando (por ejemplo, depósito o retiro).\n",
    "     cantidad_transacción (flotante): La cantidad de dinero que se deposita o retira.\n",
    "\n",
    "     Devueleve:\n",
    "     float: El nuevo saldo de la cuenta del cliente después de que se haya procesado la transacción.\n",
    "    \"\"\"\n",
    "\n",
    "    # Verificar si la transaccion es valida \n",
    "    if transaction_type not in [\"deposit\", \"withdrawal\"]:\n",
    "        print(\"Tipo de transaccion invalida\")\n",
    "        return account_balance\n",
    "\n",
    "    # Verificar si el monto es correcto \n",
    "    if transaction_amount <= 0:\n",
    "        print(\"Valor de transaccion invalido \")\n",
    "        return account_balance\n",
    "\n",
    "    # Provesar la transaccion dependiendo del tipo \n",
    "    if transaction_type == \"deposit\":\n",
    "        new_balance = account_balance + transaction_amount\n",
    "    else:\n",
    "        if transaction_amount > account_balance:\n",
    "            print(\"Fondos insuficientes\")\n",
    "            return account_balance\n",
    "        else:\n",
    "            new_balance = account_balance - transaction_amount\n",
    "\n",
    "    # Devolver el balance\n",
    "    return new_balance"
   ]
  },
  {
   "cell_type": "code",
   "execution_count": 62,
   "metadata": {},
   "outputs": [
    {
     "data": {
      "text/html": [
       "<div>\n",
       "<style scoped>\n",
       "    .dataframe tbody tr th:only-of-type {\n",
       "        vertical-align: middle;\n",
       "    }\n",
       "\n",
       "    .dataframe tbody tr th {\n",
       "        vertical-align: top;\n",
       "    }\n",
       "\n",
       "    .dataframe thead th {\n",
       "        text-align: right;\n",
       "    }\n",
       "</style>\n",
       "<table border=\"1\" class=\"dataframe\">\n",
       "  <thead>\n",
       "    <tr style=\"text-align: right;\">\n",
       "      <th></th>\n",
       "      <th>name</th>\n",
       "      <th>address</th>\n",
       "      <th>account_number</th>\n",
       "      <th>balances</th>\n",
       "    </tr>\n",
       "  </thead>\n",
       "  <tbody>\n",
       "    <tr>\n",
       "      <th>0</th>\n",
       "      <td>David BU</td>\n",
       "      <td>123 Main St</td>\n",
       "      <td>78978</td>\n",
       "      <td>1000</td>\n",
       "    </tr>\n",
       "    <tr>\n",
       "      <th>1</th>\n",
       "      <td>Juan PE</td>\n",
       "      <td>831 Concept</td>\n",
       "      <td>34567</td>\n",
       "      <td>1200</td>\n",
       "    </tr>\n",
       "    <tr>\n",
       "      <th>2</th>\n",
       "      <td>Andres UY</td>\n",
       "      <td>734 Youldt</td>\n",
       "      <td>12567</td>\n",
       "      <td>3000</td>\n",
       "    </tr>\n",
       "  </tbody>\n",
       "</table>\n",
       "</div>"
      ],
      "text/plain": [
       "        name      address account_number  balances\n",
       "0   David BU  123 Main St          78978      1000\n",
       "1    Juan PE  831 Concept          34567      1200\n",
       "2  Andres UY   734 Youldt          12567      3000"
      ]
     },
     "execution_count": 62,
     "metadata": {},
     "output_type": "execute_result"
    }
   ],
   "source": [
    "import pandas as pd\n",
    "df= pd.DataFrame(columns=['name','address','account_number'])\n",
    "df['name']=['David BU','Juan PE','Andres UY']\n",
    "df['address']=['123 Main St','831 Concept','734 Youldt']\n",
    "df['account_number']=[\"78978\",\"34567\",\"12567\"]\n",
    "df['balances']=[1000,1200,3000]\n",
    "df"
   ]
  },
  {
   "cell_type": "code",
   "execution_count": 70,
   "metadata": {},
   "outputs": [
    {
     "name": "stdout",
     "output_type": "stream",
     "text": [
      "{'name': 'David BU', 'address': '123 Main St', 'account_number': '78978', 'balances': 1000}\n",
      "Nuevo balance: 1500.0\n",
      "Nuevo balance: 600.0\n"
     ]
    }
   ],
   "source": [
    "customer_info=df.loc[df[\"account_number\"]==\"78978\"].to_dict(orient='index')[0]\n",
    "print(customer_info)\n",
    "# Definimos el balance dle cliente\n",
    "account_balance = df.loc[df[\"account_number\"]==\"78978\",'balances'].values[0]\n",
    "# Depositar en la cuenta\n",
    "transaction_type = \"deposit\"\n",
    "transaction_amount = 500.0\n",
    "\n",
    "new_balance = bank_system_process(customer_info, account_balance, transaction_type, transaction_amount)\n",
    "print(\"Nuevo balance:\", new_balance)\n",
    "# Modifiquemos la tabla\n",
    "df.loc[df[\"account_number\"]==\"78978\",'balances']=new_balance\n",
    "\n",
    "# Retirar dinero\n",
    "transaction_type = \"withdrawal\"\n",
    "transaction_amount = 900.0\n",
    "\n",
    "new_balance = bank_system_process(customer_info, new_balance, transaction_type, transaction_amount)\n",
    "print(\"Nuevo balance:\", new_balance)\n",
    "df.loc[df[\"account_number\"]==\"78978\",'balances']=new_balance\n"
   ]
  },
  {
   "cell_type": "code",
   "execution_count": 71,
   "metadata": {},
   "outputs": [
    {
     "data": {
      "text/html": [
       "<div>\n",
       "<style scoped>\n",
       "    .dataframe tbody tr th:only-of-type {\n",
       "        vertical-align: middle;\n",
       "    }\n",
       "\n",
       "    .dataframe tbody tr th {\n",
       "        vertical-align: top;\n",
       "    }\n",
       "\n",
       "    .dataframe thead th {\n",
       "        text-align: right;\n",
       "    }\n",
       "</style>\n",
       "<table border=\"1\" class=\"dataframe\">\n",
       "  <thead>\n",
       "    <tr style=\"text-align: right;\">\n",
       "      <th></th>\n",
       "      <th>name</th>\n",
       "      <th>address</th>\n",
       "      <th>account_number</th>\n",
       "      <th>balances</th>\n",
       "    </tr>\n",
       "  </thead>\n",
       "  <tbody>\n",
       "    <tr>\n",
       "      <th>0</th>\n",
       "      <td>David BU</td>\n",
       "      <td>123 Main St</td>\n",
       "      <td>78978</td>\n",
       "      <td>600</td>\n",
       "    </tr>\n",
       "    <tr>\n",
       "      <th>1</th>\n",
       "      <td>Juan PE</td>\n",
       "      <td>831 Concept</td>\n",
       "      <td>34567</td>\n",
       "      <td>1200</td>\n",
       "    </tr>\n",
       "    <tr>\n",
       "      <th>2</th>\n",
       "      <td>Andres UY</td>\n",
       "      <td>734 Youldt</td>\n",
       "      <td>12567</td>\n",
       "      <td>3000</td>\n",
       "    </tr>\n",
       "  </tbody>\n",
       "</table>\n",
       "</div>"
      ],
      "text/plain": [
       "        name      address account_number  balances\n",
       "0   David BU  123 Main St          78978       600\n",
       "1    Juan PE  831 Concept          34567      1200\n",
       "2  Andres UY   734 Youldt          12567      3000"
      ]
     },
     "execution_count": 71,
     "metadata": {},
     "output_type": "execute_result"
    }
   ],
   "source": [
    "df"
   ]
  }
 ],
 "metadata": {
  "kernelspec": {
   "display_name": "Python 3",
   "language": "python",
   "name": "python3"
  },
  "language_info": {
   "codemirror_mode": {
    "name": "ipython",
    "version": 3
   },
   "file_extension": ".py",
   "mimetype": "text/x-python",
   "name": "python",
   "nbconvert_exporter": "python",
   "pygments_lexer": "ipython3",
   "version": "3.10.10"
  },
  "orig_nbformat": 4,
  "vscode": {
   "interpreter": {
    "hash": "8649ced70e2df50cbec1162fce5f764529cbe99dc753d77d52a836183a2bd877"
   }
  }
 },
 "nbformat": 4,
 "nbformat_minor": 2
}
