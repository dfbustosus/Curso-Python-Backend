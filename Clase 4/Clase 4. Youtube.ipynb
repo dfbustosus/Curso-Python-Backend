{
 "cells": [
  {
   "attachments": {},
   "cell_type": "markdown",
   "metadata": {},
   "source": [
    "# IF-ELIF-ELSE\n",
    "Permiten evaluar condiciones para evaluar y generar acciones y tomar decisiones"
   ]
  },
  {
   "attachments": {},
   "cell_type": "markdown",
   "metadata": {},
   "source": [
    "## IF \n",
    "\n",
    "```python\n",
    "if(condicion):\n",
    "    accion a tomar\n",
    "```"
   ]
  },
  {
   "cell_type": "code",
   "execution_count": 1,
   "metadata": {},
   "outputs": [
    {
     "name": "stdout",
     "output_type": "stream",
     "text": [
      "Pasaste la prueba\n"
     ]
    }
   ],
   "source": [
    "a=80 \n",
    "if a>=30:\n",
    "    print(\"Pasaste la prueba\")"
   ]
  },
  {
   "cell_type": "code",
   "execution_count": 2,
   "metadata": {},
   "outputs": [
    {
     "name": "stdout",
     "output_type": "stream",
     "text": [
      "Pasaste el examen\n"
     ]
    }
   ],
   "source": [
    "b= int(input('Ingresa un numero'))\n",
    "if b >=10:\n",
    "    print('Pasaste el examen')"
   ]
  },
  {
   "attachments": {},
   "cell_type": "markdown",
   "metadata": {},
   "source": [
    "## IF-ELSE\n",
    "\n",
    "```python\n",
    "if(condicion):\n",
    "    accion 1\n",
    "else:\n",
    "    accion 2\n",
    "```"
   ]
  },
  {
   "cell_type": "code",
   "execution_count": 4,
   "metadata": {},
   "outputs": [
    {
     "name": "stdout",
     "output_type": "stream",
     "text": [
      "Mayor a 5\n"
     ]
    }
   ],
   "source": [
    "b =10\n",
    "if b >=5:\n",
    "    print(\"Mayor a 5\")\n",
    "else:\n",
    "    print(\"Menor a 5\")"
   ]
  },
  {
   "attachments": {},
   "cell_type": "markdown",
   "metadata": {},
   "source": [
    "## IF-ELIF-ELSE\n",
    "```python\n",
    "if(condicion):\n",
    "    accion 1\n",
    "elif(condicion2):\n",
    "    accion 2\n",
    "else:\n",
    "    accion 3\n",
    "\n",
    "```"
   ]
  },
  {
   "cell_type": "code",
   "execution_count": 5,
   "metadata": {},
   "outputs": [
    {
     "name": "stdout",
     "output_type": "stream",
     "text": [
      "Entre 3 y 8\n"
     ]
    }
   ],
   "source": [
    "b =5\n",
    "if b >8:\n",
    "    print(\"Mayor a 8\")\n",
    "elif b<3:\n",
    "    print(\"Menor que 3\")\n",
    "else:\n",
    "    print(\"Entre 3 y 8\")"
   ]
  },
  {
   "attachments": {},
   "cell_type": "markdown",
   "metadata": {},
   "source": [
    "## NESTED-IF\n",
    "\n",
    "```python\n",
    "if(condicion):\n",
    "    if(condicion1):\n",
    "        accion a tomar\n",
    "```"
   ]
  },
  {
   "cell_type": "code",
   "execution_count": 7,
   "metadata": {},
   "outputs": [
    {
     "name": "stdout",
     "output_type": "stream",
     "text": [
      "a <10 y b >2\n"
     ]
    }
   ],
   "source": [
    "a=5;b=4\n",
    "if (a<10):\n",
    "    if (b>2):\n",
    "        print(\"a <10 y b >2\")"
   ]
  },
  {
   "attachments": {},
   "cell_type": "markdown",
   "metadata": {},
   "source": [
    "## NESTED IF-ELSE\n",
    "```python\n",
    "if(condicion):\n",
    "    if(condicion1):\n",
    "        accion 1\n",
    "    else:\n",
    "        accion 2\n",
    "else:\n",
    "    accion 3\n",
    "```"
   ]
  },
  {
   "cell_type": "code",
   "execution_count": 9,
   "metadata": {},
   "outputs": [
    {
     "name": "stdout",
     "output_type": "stream",
     "text": [
      "Es menor igual a 50\n"
     ]
    }
   ],
   "source": [
    "a= 47\n",
    "if a>50:\n",
    "    if a%2== 0:\n",
    "        print(\"Es par\")\n",
    "    else:\n",
    "        print(\"No es par pero es >50\")\n",
    "else:\n",
    "    print(\"Es menor igual a 50\")"
   ]
  },
  {
   "attachments": {},
   "cell_type": "markdown",
   "metadata": {},
   "source": [
    "# Ejemplo\n",
    "\n",
    "Piensa en que un cliente se registra con 3 datos:\n",
    "- Nombre (solo primer nombre)\n",
    "- Edad (numero entero)\n",
    "\n",
    "Pide al usuario estos tres valores y arroja como resultado lo siguiente:\n",
    "\n",
    "- Si el Nombre termina en vocal Y la edad es >18  devuelve \"Candidato a compra\"\n",
    "- Si el nombre termina en consonante y la edad <=18 devuelve en consola \"Candidato por pariente\"\n",
    "- En todos los demas casos devuelve \"No apto\"\n",
    "\n"
   ]
  },
  {
   "cell_type": "code",
   "execution_count": 16,
   "metadata": {},
   "outputs": [
    {
     "name": "stdout",
     "output_type": "stream",
     "text": [
      "Candidato por pariente\n"
     ]
    }
   ],
   "source": [
    "# 1 forma\n",
    "nombre=\"Pedrx\"\n",
    "edad=17\n",
    "#nombre=input('Ingresa tu nombre: ')\n",
    "#edad=int(input(\"Ingresa tu edad:\"))\n",
    "if (nombre[-1] in ['a','e','i','o','u']) and (edad >18):\n",
    "    print('Candidato a compra')\n",
    "elif (nombre[-1] not in ['a','e','i','o','u']) and (edad <=18):\n",
    "    print(\"Candidato por pariente\")\n",
    "else:\n",
    "    print(\"No apto\")"
   ]
  },
  {
   "cell_type": "code",
   "execution_count": 19,
   "metadata": {},
   "outputs": [
    {
     "name": "stdout",
     "output_type": "stream",
     "text": [
      "Candidato a compra\n"
     ]
    }
   ],
   "source": [
    "# 2 Forma\n",
    "nombre=\"Pedro\"\n",
    "edad=21\n",
    "#nombre=input('Ingresa tu nombre: ')\n",
    "#edad=int(input(\"Ingresa tu edad:\"))\n",
    "if (nombre[-1].endswith(('a','e','i','o','u')) and (edad >18)):\n",
    "    print('Candidato a compra')\n",
    "elif not(nombre[-1].endswith(('a','e','i','o','u'))) and (edad <=18):\n",
    "    print(\"Candidato por pariente\")\n",
    "else:\n",
    "    print(\"No apto\")"
   ]
  }
 ],
 "metadata": {
  "kernelspec": {
   "display_name": "Python 3",
   "language": "python",
   "name": "python3"
  },
  "language_info": {
   "codemirror_mode": {
    "name": "ipython",
    "version": 3
   },
   "file_extension": ".py",
   "mimetype": "text/x-python",
   "name": "python",
   "nbconvert_exporter": "python",
   "pygments_lexer": "ipython3",
   "version": "3.10.10"
  },
  "orig_nbformat": 4,
  "vscode": {
   "interpreter": {
    "hash": "8649ced70e2df50cbec1162fce5f764529cbe99dc753d77d52a836183a2bd877"
   }
  }
 },
 "nbformat": 4,
 "nbformat_minor": 2
}
