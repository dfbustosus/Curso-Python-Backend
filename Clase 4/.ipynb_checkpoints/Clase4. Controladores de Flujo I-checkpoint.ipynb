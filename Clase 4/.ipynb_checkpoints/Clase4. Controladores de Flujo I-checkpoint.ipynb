{
 "cells": [
  {
   "cell_type": "code",
   "execution_count": 1,
   "metadata": {},
   "outputs": [
    {
     "name": "stdout",
     "output_type": "stream",
     "text": [
      "10\n",
      "numero positivo\n"
     ]
    }
   ],
   "source": [
    "# 1. Sentencia IF\n",
    "a = int(input())\n",
    "if a > 0:\n",
    "    print('Positivo')"
   ]
  },
  {
   "cell_type": "code",
   "execution_count": 5,
   "metadata": {},
   "outputs": [
    {
     "name": "stdout",
     "output_type": "stream",
     "text": [
      "Tu numero  es par :)\n",
      "Tu numero es divisible por 3 :)\n"
     ]
    }
   ],
   "source": [
    "numero = 6\n",
    "\n",
    "if (  numero%2 == 0 ):\n",
    "  print(\"Tu numero  es par :)\")\n",
    "\n",
    "if ( numero%3 == 0):\n",
    "  print(\"Tu numero es divisible por 3 :)\")\n",
    "\n",
    "if (numero > 10):\n",
    "  print(\"Tu numero es muy grande :( \")"
   ]
  },
  {
   "cell_type": "code",
   "execution_count": 6,
   "metadata": {},
   "outputs": [
    {
     "ename": "IndentationError",
     "evalue": "expected an indented block (4224171593.py, line 5)",
     "output_type": "error",
     "traceback": [
      "\u001b[1;36m  Input \u001b[1;32mIn [6]\u001b[1;36m\u001b[0m\n\u001b[1;33m    print(\"b es más grande que a\")\u001b[0m\n\u001b[1;37m    ^\u001b[0m\n\u001b[1;31mIndentationError\u001b[0m\u001b[1;31m:\u001b[0m expected an indented block\n"
     ]
    }
   ],
   "source": [
    "# 1.1 Error de identacion\n",
    "a = 25\n",
    "b = 50\n",
    "if b > a:\n",
    "print(\"b es más grande que a\")"
   ]
  },
  {
   "cell_type": "code",
   "execution_count": 8,
   "metadata": {},
   "outputs": [
    {
     "name": "stdout",
     "output_type": "stream",
     "text": [
      "Ambas condiciones son verdaderas\n"
     ]
    }
   ],
   "source": [
    "# 1.2 IF con AND\n",
    "a = 195\n",
    "b = 30\n",
    "c = 400\n",
    "if a > b and c > a:\n",
    "  print(\"Ambas condiciones son verdaderas\")"
   ]
  },
  {
   "cell_type": "code",
   "execution_count": 10,
   "metadata": {},
   "outputs": [
    {
     "name": "stdout",
     "output_type": "stream",
     "text": [
      "Al menos una de las condiciones es verdadera\n"
     ]
    }
   ],
   "source": [
    "# 1.3 IF con OR\n",
    "a = 195\n",
    "b = 50\n",
    "c = 500\n",
    "if a > b or a > c:\n",
    "  print(\"Al menos una de las condiciones es verdadera\")"
   ]
  },
  {
   "cell_type": "code",
   "execution_count": 11,
   "metadata": {},
   "outputs": [
    {
     "name": "stdout",
     "output_type": "stream",
     "text": [
      "False\n"
     ]
    }
   ],
   "source": [
    "# 1.4 IF con NOT\n",
    "x = 10\n",
    "if not x > 15:\n",
    "    print(\"False\")"
   ]
  },
  {
   "cell_type": "code",
   "execution_count": 13,
   "metadata": {},
   "outputs": [
    {
     "name": "stdout",
     "output_type": "stream",
     "text": [
      "a es mayor que b\n"
     ]
    }
   ],
   "source": [
    "# 1.5 IF en una sola linea\n",
    "a = 150\n",
    "b = 35\n",
    "if a > b: print(\"a es mayor que b\")"
   ]
  },
  {
   "cell_type": "code",
   "execution_count": 14,
   "metadata": {},
   "outputs": [
    {
     "name": "stdout",
     "output_type": "stream",
     "text": [
      "B\n"
     ]
    }
   ],
   "source": [
    "a = 5\n",
    "b = 150\n",
    "print(\"A\") if a > b else print(\"B\")"
   ]
  },
  {
   "cell_type": "code",
   "execution_count": 15,
   "metadata": {},
   "outputs": [
    {
     "name": "stdout",
     "output_type": "stream",
     "text": [
      "B\n"
     ]
    }
   ],
   "source": [
    "a = 150\n",
    "b = 330\n",
    "print(\"A\") if a > b else print(\"=\") if a == b else print(\"B\")"
   ]
  },
  {
   "cell_type": "code",
   "execution_count": 16,
   "metadata": {},
   "outputs": [
    {
     "name": "stdout",
     "output_type": "stream",
     "text": [
      "El número es chico\n"
     ]
    }
   ],
   "source": [
    "# 2. Sentencia ELSE\n",
    "numero =  24\n",
    "if numero > 36:\n",
    "    print(\"El número es grande\")\n",
    "else:\n",
    "    print(\"El número es chico\")"
   ]
  },
  {
   "cell_type": "code",
   "execution_count": 17,
   "metadata": {},
   "outputs": [
    {
     "name": "stdout",
     "output_type": "stream",
     "text": [
      "por encima de diez,\n",
      "y también por encima de 20!\n"
     ]
    }
   ],
   "source": [
    "# 3. Multiples IF\n",
    "x = 25\n",
    "if x > 10:\n",
    "  print(\"por encima de diez,\")\n",
    "  if x > 20:\n",
    "    print(\"y también por encima de 20!\")\n",
    "  else:\n",
    "    print(\"pero no por encima de 20\")"
   ]
  },
  {
   "cell_type": "code",
   "execution_count": 18,
   "metadata": {},
   "outputs": [
    {
     "name": "stdout",
     "output_type": "stream",
     "text": [
      "por encima de diez,\n",
      "pero no por encima de 20\n"
     ]
    }
   ],
   "source": [
    "x = 15\n",
    "if x > 10:\n",
    "  print(\"por encima de diez,\")\n",
    "  if x > 20:\n",
    "    print(\"y también por encima de 20!\")\n",
    "  else:\n",
    "    print(\"pero no por encima de 20\")"
   ]
  },
  {
   "cell_type": "code",
   "execution_count": 19,
   "metadata": {},
   "outputs": [
    {
     "name": "stdout",
     "output_type": "stream",
     "text": [
      "A es igual a cinco\n"
     ]
    }
   ],
   "source": [
    "# 4. ELIF\n",
    "a = 2 + 3\n",
    "if a == 4: \n",
    "   print (\"A es igual a cuatro\")\n",
    "elif a == 5:\n",
    "   print (\"A es igual a cinco\")\n",
    "elif a == 6:\n",
    "   print (\"A es igual a seis\")\n",
    "else:\n",
    "   print (\"No se cumple la condición\")"
   ]
  },
  {
   "cell_type": "code",
   "execution_count": 20,
   "metadata": {},
   "outputs": [
    {
     "name": "stdout",
     "output_type": "stream",
     "text": [
      "Saliendo del sistema.\n"
     ]
    }
   ],
   "source": [
    "comando =  \"SALIR\"\n",
    "if comando == \"ENTRAR\":\n",
    "    print(\"Bienvenido al sistema.\")\n",
    "elif comando == \"SALUDO\":\n",
    "    print(\"Hola! ¿Cómo estás?\")\n",
    "elif comando == \"SALIR\":\n",
    "    print(\"Saliendo del sistema.\")\n",
    "else:\n",
    "    print(\"No se reconoce el comando.\")"
   ]
  },
  {
   "cell_type": "code",
   "execution_count": 27,
   "metadata": {},
   "outputs": [
    {
     "name": "stdout",
     "output_type": "stream",
     "text": [
      "Generacion Y\n"
     ]
    }
   ],
   "source": [
    "# Desafio generaciones digitales\n",
    "year= 1997\n",
    "if year >= 1920 and year <=1940:\n",
    "    print('Generacion Silenciosa')\n",
    "elif year >= 1946 and year <= 1964:\n",
    "    print('Generacion Boomer')\n",
    "elif year >= 1965 and year <= 1979:\n",
    "    print('Generacion X')\n",
    "elif year >= 1980 and year <= 2000:\n",
    "    print('Generacion Y')\n",
    "elif year >= 2001 and year <= 2010:\n",
    "    print('Generacion Z')"
   ]
  },
  {
   "cell_type": "code",
   "execution_count": 25,
   "metadata": {},
   "outputs": [
    {
     "name": "stdout",
     "output_type": "stream",
     "text": [
      "Aprobado\n"
     ]
    }
   ],
   "source": [
    "# Desafio Credito bancario\n",
    "edad = 18\n",
    "antiguedad = 10\n",
    "ingreso = 3000\n",
    "if edad >= 18:\n",
    "    if (antiguedad >=3) and (ingreso >2500):\n",
    "        print('Aprobado')\n",
    "    elif (antiguedad < 3) and (ingreso >=4000):\n",
    "        print('Aprobado')\n",
    "else:\n",
    "    print('No aprobado')"
   ]
  },
  {
   "cell_type": "code",
   "execution_count": 22,
   "metadata": {},
   "outputs": [
    {
     "name": "stdout",
     "output_type": "stream",
     "text": [
      "SOS DEL GRUPO A\n"
     ]
    }
   ],
   "source": [
    "# Desafio Marvel\n",
    "nombre = \"Nicolas\"   #input\n",
    "fan = \"Capcom\"    #input\n",
    "#Grupo A ------\n",
    "#Fanatico de marvel\n",
    "# fan == \"Marvel\"\n",
    "# nombre < \"M\"\n",
    "if (fan == \"Marvel\" and nombre < \"M\") or (fan == \"Capcom\" and nombre > \"N\"):\n",
    "  print(\"SOS DEL GRUPO A\")\n",
    "else: \n",
    "  print(\"Sos del epico grupo B!!!!!!!!!\")"
   ]
  },
  {
   "cell_type": "code",
   "execution_count": null,
   "metadata": {},
   "outputs": [],
   "source": [
    "# Otros ejemplos\n",
    "a = int(input())\n",
    "\n",
    "if a > 0:\n",
    "  print('numero positivo')\n",
    "elif a == 0:\n",
    "  print('es cero')\n",
    "else:\n",
    "  print('numero negativo')"
   ]
  },
  {
   "cell_type": "code",
   "execution_count": null,
   "metadata": {},
   "outputs": [],
   "source": [
    "edad =  30\n",
    "if edad >= 18:\n",
    "    print('Es un adulto')\n",
    "if True:\n",
    "    print('Se cumple la condición')"
   ]
  },
  {
   "cell_type": "code",
   "execution_count": null,
   "metadata": {},
   "outputs": [],
   "source": [
    "peso=82\n",
    "if ((not peso < 80)  or (peso == 82)):\n",
    "    print(\"Usted esta muy bien :( \")\n",
    "    print(\"\\n-----------------\\n\")\n",
    "    print(\"Otra clase epica :) \")"
   ]
  },
  {
   "cell_type": "code",
   "execution_count": 2,
   "metadata": {},
   "outputs": [
    {
     "name": "stdout",
     "output_type": "stream",
     "text": [
      "iguales\n"
     ]
    }
   ],
   "source": [
    "a = 4\n",
    "b = 4\n",
    "# operadores de igualdad \n",
    "# == != < > >= <= \n",
    "# operadores logicos \n",
    "# | (or) & (and)\n",
    "if a > b:\n",
    "    print('mayor')\n",
    "    if a > 0:\n",
    "        print('numero positivo')\n",
    "    elif a == 0:\n",
    "        print('es cero')\n",
    "    else:\n",
    "        print('numero negativo')\n",
    "elif a == b:\n",
    "    print('iguales')\n",
    "else:\n",
    "    print('menor')"
   ]
  },
  {
   "cell_type": "code",
   "execution_count": 3,
   "metadata": {},
   "outputs": [
    {
     "name": "stdout",
     "output_type": "stream",
     "text": [
      "impar\n"
     ]
    }
   ],
   "source": [
    "var = int(input('Ingrese un número:'))\n",
    "\n",
    "if var % 2 == 0:\n",
    "    print('par')\n",
    "else:\n",
    "    print('impar')"
   ]
  },
  {
   "cell_type": "code",
   "execution_count": 4,
   "metadata": {},
   "outputs": [
    {
     "name": "stdout",
     "output_type": "stream",
     "text": [
      "int\n",
      "david_david_\n"
     ]
    }
   ],
   "source": [
    "a =1\n",
    "b = 'f'\n",
    "c = 'david_'\n",
    "\n",
    "if type(a) == str:\n",
    "    print('string')\n",
    "    print('100' + c) # Concatenacion\n",
    "#elif type(a)== bool:\n",
    "elif isinstance(a, bool):\n",
    "    print('bool')\n",
    "else:\n",
    "    print('int')\n",
    "    print(2 * c)"
   ]
  },
  {
   "cell_type": "code",
   "execution_count": 5,
   "metadata": {},
   "outputs": [
    {
     "name": "stdout",
     "output_type": "stream",
     "text": [
      "Es David\n"
     ]
    }
   ],
   "source": [
    "a=1; b='David'\n",
    "if a==1 and b=='David':\n",
    "    print('Es David')\n",
    "else:\n",
    "    print('No es David')"
   ]
  },
  {
   "cell_type": "markdown",
   "metadata": {},
   "source": [
    "$Edad_{Humana}= 22 +(Edad_{Perro}-2)*5 , Edad_{Perro}\\geq 2$"
   ]
  },
  {
   "cell_type": "code",
   "execution_count": 6,
   "metadata": {},
   "outputs": [
    {
     "name": "stdout",
     "output_type": "stream",
     "text": [
      "Corresponde a  27 años humanos!\n"
     ]
    }
   ],
   "source": [
    "age = int(input(\"Ingresa la edad de tu perro: \"))\n",
    "\n",
    "if age < 0:\n",
    "    print(\"No puede ser cierto!\")\n",
    "elif age == 0:\n",
    "    print(\"Corresponde a la edad humana de 0 años!\")\n",
    "elif age == 1:\n",
    "    print(\"Aproximadamente 14 años!\")\n",
    "elif age == 2:\n",
    "    print(\"Aproximadamente 22 años!\")\n",
    "else:\n",
    "    human = 22 + (age -2) * 5\n",
    "    print(\"Corresponde a  \" + str(human) + \" años humanos!\")"
   ]
  },
  {
   "cell_type": "code",
   "execution_count": 7,
   "metadata": {},
   "outputs": [
    {
     "name": "stdout",
     "output_type": "stream",
     "text": [
      "BMI: 17.72998941919986\n",
      "Bajo peso\n"
     ]
    }
   ],
   "source": [
    "height = float(input(\"Cual es tu altura (m)? \"))\n",
    "weight = float(input(\"cual es tu peso (kg)? \"))\n",
    "\n",
    "bmi = weight / height**2\n",
    "print('BMI:',bmi)\n",
    "if bmi < 15:\n",
    "    print(\"Extremo bajo peso\")\n",
    "elif bmi < 16:\n",
    "    print(\"Severo bajo peso\")\n",
    "elif bmi < 18.5:\n",
    "    print(\"Bajo peso\")\n",
    "elif bmi < 25:\n",
    "    print(\"Normal (saludable)\")\n",
    "elif bmi < 30:\n",
    "    print(\"Sobre peso\")\n",
    "elif bmi < 35:\n",
    "    print(\"Obesidad Clase I (Moderada)\")\n",
    "elif bmi < 40:\n",
    "    print(\"Obesidad Clase II (Severa)\")\n",
    "else:\n",
    "    print(\"Obesidad Clase III (Muy severa)\")"
   ]
  },
  {
   "cell_type": "code",
   "execution_count": 8,
   "metadata": {},
   "outputs": [
    {
     "name": "stdout",
     "output_type": "stream",
     "text": [
      "Sobresaliente\n",
      "Muy bien\n",
      "Bien\n",
      "Regular\n"
     ]
    }
   ],
   "source": [
    "# Sentencias if vs elif\n",
    "nota=9;\n",
    "if nota >=9:\n",
    "    print('Sobresaliente')\n",
    "if nota>=7:\n",
    "    print('Muy bien')\n",
    "if nota>=6:\n",
    "    print('Bien')\n",
    "if nota >=4:\n",
    "    print('Regular')\n",
    "else:\n",
    "    print('Insuficiente')"
   ]
  },
  {
   "cell_type": "code",
   "execution_count": 9,
   "metadata": {},
   "outputs": [
    {
     "name": "stdout",
     "output_type": "stream",
     "text": [
      "Sobresaliente\n"
     ]
    }
   ],
   "source": [
    "# Sentencias if vs elif\n",
    "nota=9;\n",
    "if nota >=9:\n",
    "    print('Sobresaliente')\n",
    "elif nota>=7:\n",
    "    print('Muy bien')\n",
    "elif nota>=6:\n",
    "    print('Bien')\n",
    "elif nota >=4:\n",
    "    print('Regular')\n",
    "else:\n",
    "    print('Insuficiente')"
   ]
  },
  {
   "cell_type": "code",
   "execution_count": 11,
   "metadata": {},
   "outputs": [
    {
     "name": "stdout",
     "output_type": "stream",
     "text": [
      "Es mayor de edad\n"
     ]
    }
   ],
   "source": [
    "# Desafio generico\n",
    "edad=int(input('Ingresa tu edad en años (entero +): '))\n",
    "if edad >=18:\n",
    "    print('Es mayor de edad')\n",
    "else:\n",
    "    print('Es menor de edad')"
   ]
  },
  {
   "cell_type": "code",
   "execution_count": 12,
   "metadata": {},
   "outputs": [
    {
     "name": "stdout",
     "output_type": "stream",
     "text": [
      "ERES DEL GRUPO A\n"
     ]
    }
   ],
   "source": [
    "# Desafio generico\n",
    "nombre = \"Nicolas\"   #input\n",
    "fan = \"Capcom\"    #input\n",
    "#Grupo A ------\n",
    "#Fanatico de marvel\n",
    "# fan == \"Marvel\"\n",
    "# nombre < \"M\"\n",
    "if (fan == \"Marvel\" and nombre < \"M\") or (fan == \"Capcom\" and nombre > \"N\"):\n",
    "  print(\"ERES DEL GRUPO A\")\n",
    "else: \n",
    "  print(\"ERES del epico grupo B!!!!!!!!!\")"
   ]
  }
 ],
 "metadata": {
  "kernelspec": {
   "display_name": "Python 3 (ipykernel)",
   "language": "python",
   "name": "python3"
  },
  "language_info": {
   "codemirror_mode": {
    "name": "ipython",
    "version": 3
   },
   "file_extension": ".py",
   "mimetype": "text/x-python",
   "name": "python",
   "nbconvert_exporter": "python",
   "pygments_lexer": "ipython3",
   "version": "3.9.12"
  },
  "vscode": {
   "interpreter": {
    "hash": "8649ced70e2df50cbec1162fce5f764529cbe99dc753d77d52a836183a2bd877"
   }
  }
 },
 "nbformat": 4,
 "nbformat_minor": 2
}
