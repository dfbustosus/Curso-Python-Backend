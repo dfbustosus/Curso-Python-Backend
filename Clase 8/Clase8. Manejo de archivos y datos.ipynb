{
 "cells": [
  {
   "cell_type": "code",
   "execution_count": null,
   "metadata": {},
   "outputs": [],
   "source": [
    "#from google.colab import drive\n",
    "#drive.mount('/drive/')"
   ]
  },
  {
   "cell_type": "code",
   "execution_count": 2,
   "metadata": {},
   "outputs": [],
   "source": [
    "# 1. Escritura\n",
    "ruta='C:/Users/Windows/Desktop/Curso Python Coder/Clase 8/'\n",
    "f=open(ruta+'/archivo.txt','w') # El archivo (nombre) que quieres guardar\n",
    "f.write('Esto es un texto') # Texto que voy a escribir\n",
    "f.close() # Cerrar el archivo"
   ]
  },
  {
   "cell_type": "code",
   "execution_count": 3,
   "metadata": {},
   "outputs": [],
   "source": [
    "nombre='Nicolas'\n",
    "apellido='Perez'\n",
    "dni=111111\n",
    "d={'NOMBRE':nombre, 'APELLIDO':apellido,'DNI':dni}\n",
    "f=open(ruta+'/otro.txt','w')\n",
    "f.write(d['NOMBRE']+','+d['APELLIDO']+','+str(d['DNI']))\n",
    "f.close()"
   ]
  },
  {
   "cell_type": "code",
   "execution_count": 15,
   "metadata": {},
   "outputs": [
    {
     "name": "stdout",
     "output_type": "stream",
     "text": [
      "Ingresa tu hobbie favorito 0: Jugar\n",
      "Ingresa tu hobbie favorito 1: Saltar\n",
      "Ingresa tu hobbie favorito 2: Correr\n"
     ]
    }
   ],
   "source": [
    "# Desafio generico\n",
    "lista=[]\n",
    "for i in range(3):\n",
    "    var= input(f'Ingresa tu hobbie favorito {i}: ')\n",
    "    lista.append(var)\n",
    "texto='\\n '.join(lista)\n",
    "f=open(ruta+'/miHobbiesFavoritos.txt','w')\n",
    "f.write(texto)\n",
    "f.close()"
   ]
  },
  {
   "cell_type": "code",
   "execution_count": 5,
   "metadata": {},
   "outputs": [
    {
     "name": "stdout",
     "output_type": "stream",
     "text": [
      "Ingresa el nombre de tu mascota:Ringo\n",
      "Ingresa la edad de tu mascota:10\n"
     ]
    }
   ],
   "source": [
    "# Desafio (Otro)\n",
    "nombre=input('Ingresa el nombre de tu mascota:')\n",
    "edad=input('Ingresa la edad de tu mascota:')\n",
    "d={'NOMBRE':nombre, 'EDAD':edad}\n",
    "ruta='C:/Users/Windows/Desktop/Curso Python Coder/Clase 8/'\n",
    "f=open(ruta+'/miMascota.txt','w')\n",
    "f.write(d['NOMBRE']+','+d['EDAD'])\n",
    "f.close()"
   ]
  },
  {
   "cell_type": "code",
   "execution_count": 16,
   "metadata": {},
   "outputs": [
    {
     "name": "stdout",
     "output_type": "stream",
     "text": [
      "soy el primer renglon\n",
      "ahora soy el 2do renglon\n",
      "no sé ni que soy\n",
      "acá hay otro renglon\n",
      "soy el 5\n"
     ]
    }
   ],
   "source": [
    "#2. Lectura\n",
    "ruta='C:/Users/Windows/Desktop/Curso Python Coder/Clase 8/'\n",
    "f=open(ruta+'/paraLeer.txt','r',encoding='utf-8')\n",
    "content=f.read()\n",
    "print(content)\n",
    "f.close()"
   ]
  },
  {
   "cell_type": "code",
   "execution_count": 17,
   "metadata": {},
   "outputs": [
    {
     "name": "stdout",
     "output_type": "stream",
     "text": [
      "soy el primer renglon\n",
      "\n"
     ]
    }
   ],
   "source": [
    "ruta='C:/Users/Windows/Desktop/Curso Python Coder/Clase 8/'\n",
    "f=open(ruta+'/paraLeer.txt','r',encoding='utf-8')\n",
    "print(f.readline())\n",
    "f.close()"
   ]
  },
  {
   "cell_type": "code",
   "execution_count": 20,
   "metadata": {},
   "outputs": [
    {
     "name": "stdout",
     "output_type": "stream",
     "text": [
      "soy el primer renglon\n",
      "\n",
      "ahora soy el 2do renglon\n",
      "\n",
      "no sé ni que soy\n",
      "\n",
      "acá hay otro renglon\n",
      "\n",
      "soy el 5\n"
     ]
    }
   ],
   "source": [
    "ruta='C:/Users/Windows/Desktop/Curso Python Coder/Clase 8/'\n",
    "f=open(ruta+'/paraLeer.txt','r',encoding='utf-8')\n",
    "for line in f.readlines():\n",
    "    print(line)\n",
    "f.close()"
   ]
  },
  {
   "cell_type": "code",
   "execution_count": 21,
   "metadata": {},
   "outputs": [],
   "source": [
    "#3. archivos json\n",
    "# Escritura\n",
    "import json\n",
    "data={}\n",
    "data['clients']=[]\n",
    "data['clients'].append({\n",
    "    'first_name':'Sigrid',\n",
    "    'last_name':'Marnock',\n",
    "    'age':22, 'amount':7.17\n",
    "})\n",
    "data['clients'].append({\n",
    "    'first_name':'Jose',\n",
    "    'last_name':'Hinners',\n",
    "    'age':31, 'amount':[1.90,5.50]\n",
    "})\n",
    "data['clients'].append({\n",
    "    'first_name':'Theodoric',\n",
    "    'last_name':'Rivers',\n",
    "    'age':36, 'amount':1.11\n",
    "})\n",
    "with open(ruta+'/primerJson.json','w') as file:\n",
    "    json.dump(data, file,indent=4)"
   ]
  },
  {
   "cell_type": "code",
   "execution_count": 22,
   "metadata": {},
   "outputs": [
    {
     "name": "stdout",
     "output_type": "stream",
     "text": [
      "First name Sigrid\n",
      "Last name: Marnock\n",
      "Age: 22\n",
      "Amount: 7.17\n",
      "\n",
      "First name Jose\n",
      "Last name: Hinners\n",
      "Age: 31\n",
      "Amount: [1.9, 5.5]\n",
      "\n",
      "First name Theodoric\n",
      "Last name: Rivers\n",
      "Age: 36\n",
      "Amount: 1.11\n",
      "\n"
     ]
    }
   ],
   "source": [
    "# Lectura\n",
    "with open(ruta+'/primerJson.json') as file:\n",
    "    dataLectura=json.load(file)\n",
    "    for client in dataLectura['clients']:\n",
    "        print('First name', client['first_name'])\n",
    "        print('Last name:', client['last_name'])\n",
    "        print('Age:', client['age'])\n",
    "        print('Amount:',client['amount'])\n",
    "        print('')"
   ]
  },
  {
   "cell_type": "code",
   "execution_count": 23,
   "metadata": {},
   "outputs": [
    {
     "data": {
      "text/plain": [
       "{'clients': [{'first_name': 'Sigrid',\n",
       "   'last_name': 'Marnock',\n",
       "   'age': 22,\n",
       "   'amount': 7.17},\n",
       "  {'first_name': 'Jose',\n",
       "   'last_name': 'Hinners',\n",
       "   'age': 31,\n",
       "   'amount': [1.9, 5.5]},\n",
       "  {'first_name': 'Theodoric',\n",
       "   'last_name': 'Rivers',\n",
       "   'age': 36,\n",
       "   'amount': 1.11}]}"
      ]
     },
     "execution_count": 23,
     "metadata": {},
     "output_type": "execute_result"
    }
   ],
   "source": [
    "dataLectura"
   ]
  },
  {
   "cell_type": "code",
   "execution_count": 23,
   "metadata": {
    "scrolled": true
   },
   "outputs": [
    {
     "name": "stdout",
     "output_type": "stream",
     "text": [
      "Collecting pandas\n",
      "  Downloading pandas-1.5.1-cp310-cp310-win_amd64.whl (10.4 MB)\n",
      "     --------------------------------------- 10.4/10.4 MB 34.4 MB/s eta 0:00:00\n",
      "Collecting numpy>=1.21.0\n",
      "  Downloading numpy-1.23.4-cp310-cp310-win_amd64.whl (14.6 MB)\n",
      "     --------------------------------------- 14.6/14.6 MB 28.5 MB/s eta 0:00:00\n",
      "Collecting pytz>=2020.1\n",
      "  Downloading pytz-2022.5-py2.py3-none-any.whl (500 kB)\n",
      "     ------------------------------------- 500.7/500.7 kB 32.7 MB/s eta 0:00:00\n",
      "Requirement already satisfied: python-dateutil>=2.8.1 in c:\\users\\windows\\appdata\\local\\packages\\pythonsoftwarefoundation.python.3.10_qbz5n2kfra8p0\\localcache\\local-packages\\python310\\site-packages (from pandas) (2.8.2)\n",
      "Requirement already satisfied: six>=1.5 in c:\\users\\windows\\appdata\\local\\packages\\pythonsoftwarefoundation.python.3.10_qbz5n2kfra8p0\\localcache\\local-packages\\python310\\site-packages (from python-dateutil>=2.8.1->pandas) (1.16.0)\n",
      "Installing collected packages: pytz, numpy, pandas\n",
      "Successfully installed numpy-1.23.4 pandas-1.5.1 pytz-2022.5\n"
     ]
    },
    {
     "name": "stderr",
     "output_type": "stream",
     "text": [
      "  WARNING: The script f2py.exe is installed in 'C:\\Users\\Windows\\AppData\\Local\\Packages\\PythonSoftwareFoundation.Python.3.10_qbz5n2kfra8p0\\LocalCache\\local-packages\\Python310\\Scripts' which is not on PATH.\n",
      "  Consider adding this directory to PATH or, if you prefer to suppress this warning, use --no-warn-script-location.\n",
      "\n",
      "[notice] A new release of pip available: 22.2.2 -> 22.3\n",
      "[notice] To update, run: C:\\Users\\Windows\\AppData\\Local\\Microsoft\\WindowsApps\\PythonSoftwareFoundation.Python.3.10_qbz5n2kfra8p0\\python.exe -m pip install --upgrade pip\n"
     ]
    },
    {
     "name": "stdout",
     "output_type": "stream",
     "text": [
      "Requirement already satisfied: numpy in c:\\users\\windows\\appdata\\local\\packages\\pythonsoftwarefoundation.python.3.10_qbz5n2kfra8p0\\localcache\\local-packages\\python310\\site-packages (1.23.4)\n"
     ]
    },
    {
     "name": "stderr",
     "output_type": "stream",
     "text": [
      "\n",
      "[notice] A new release of pip available: 22.2.2 -> 22.3\n",
      "[notice] To update, run: C:\\Users\\Windows\\AppData\\Local\\Microsoft\\WindowsApps\\PythonSoftwareFoundation.Python.3.10_qbz5n2kfra8p0\\python.exe -m pip install --upgrade pip\n"
     ]
    }
   ],
   "source": [
    "!pip install pandas\n",
    "!pip install numpy"
   ]
  },
  {
   "cell_type": "code",
   "execution_count": null,
   "metadata": {},
   "outputs": [],
   "source": [
    "#Con esto daremos permisos para acceder al Drive, es importante colocar el codigo de verificacion correspondiente \n",
    "#from google.colab import drive\n",
    "#import pandas as pd  #Importamos pandas para la lectura de datos"
   ]
  },
  {
   "cell_type": "code",
   "execution_count": 24,
   "metadata": {},
   "outputs": [
    {
     "data": {
      "text/html": [
       "<div>\n",
       "<style scoped>\n",
       "    .dataframe tbody tr th:only-of-type {\n",
       "        vertical-align: middle;\n",
       "    }\n",
       "\n",
       "    .dataframe tbody tr th {\n",
       "        vertical-align: top;\n",
       "    }\n",
       "\n",
       "    .dataframe thead th {\n",
       "        text-align: right;\n",
       "    }\n",
       "</style>\n",
       "<table border=\"1\" class=\"dataframe\">\n",
       "  <thead>\n",
       "    <tr style=\"text-align: right;\">\n",
       "      <th></th>\n",
       "      <th>genero</th>\n",
       "      <th>sede</th>\n",
       "      <th>servicio</th>\n",
       "      <th>fecha_cita</th>\n",
       "    </tr>\n",
       "  </thead>\n",
       "  <tbody>\n",
       "    <tr>\n",
       "      <th>0</th>\n",
       "      <td>MASCULINO</td>\n",
       "      <td>Centro Islámico</td>\n",
       "      <td>Adultos Mayores de 80 años</td>\n",
       "      <td>01MAR2021:11:15:00</td>\n",
       "    </tr>\n",
       "    <tr>\n",
       "      <th>1</th>\n",
       "      <td>MASCULINO</td>\n",
       "      <td>Club Ferro</td>\n",
       "      <td>Adultos Mayores de 80 años</td>\n",
       "      <td>02MAR2021:09:00:00</td>\n",
       "    </tr>\n",
       "    <tr>\n",
       "      <th>2</th>\n",
       "      <td>FEMENINO</td>\n",
       "      <td>La Rural</td>\n",
       "      <td>Adultos Mayores de 80 años</td>\n",
       "      <td>01MAR2021:13:30:00</td>\n",
       "    </tr>\n",
       "    <tr>\n",
       "      <th>3</th>\n",
       "      <td>MASCULINO</td>\n",
       "      <td>Centro de día Parque Chacabuco</td>\n",
       "      <td>Adultos Mayores de 80 años</td>\n",
       "      <td>25FEB2021:13:00:00</td>\n",
       "    </tr>\n",
       "    <tr>\n",
       "      <th>4</th>\n",
       "      <td>FEMENINO</td>\n",
       "      <td>Centro C. Recoleta</td>\n",
       "      <td>Adultos Mayores de 80 años</td>\n",
       "      <td>01MAR2021:13:30:00</td>\n",
       "    </tr>\n",
       "  </tbody>\n",
       "</table>\n",
       "</div>"
      ],
      "text/plain": [
       "      genero                            sede                    servicio  \\\n",
       "0  MASCULINO                 Centro Islámico  Adultos Mayores de 80 años   \n",
       "1  MASCULINO                      Club Ferro  Adultos Mayores de 80 años   \n",
       "2   FEMENINO                        La Rural  Adultos Mayores de 80 años   \n",
       "3  MASCULINO  Centro de día Parque Chacabuco  Adultos Mayores de 80 años   \n",
       "4   FEMENINO              Centro C. Recoleta  Adultos Mayores de 80 años   \n",
       "\n",
       "           fecha_cita  \n",
       "0  01MAR2021:11:15:00  \n",
       "1  02MAR2021:09:00:00  \n",
       "2  01MAR2021:13:30:00  \n",
       "3  25FEB2021:13:00:00  \n",
       "4  01MAR2021:13:30:00  "
      ]
     },
     "execution_count": 24,
     "metadata": {},
     "output_type": "execute_result"
    }
   ],
   "source": [
    "#from google.colab import drive\n",
    "import pandas as pd \n",
    "import numpy as np \n",
    "variableTurnos=pd.read_csv(ruta+'/dataset_turnos_detalle.csv')\n",
    "variableTurnos.head()"
   ]
  },
  {
   "cell_type": "code",
   "execution_count": 26,
   "metadata": {},
   "outputs": [
    {
     "data": {
      "text/html": [
       "<div>\n",
       "<style scoped>\n",
       "    .dataframe tbody tr th:only-of-type {\n",
       "        vertical-align: middle;\n",
       "    }\n",
       "\n",
       "    .dataframe tbody tr th {\n",
       "        vertical-align: top;\n",
       "    }\n",
       "\n",
       "    .dataframe thead th {\n",
       "        text-align: right;\n",
       "    }\n",
       "</style>\n",
       "<table border=\"1\" class=\"dataframe\">\n",
       "  <thead>\n",
       "    <tr style=\"text-align: right;\">\n",
       "      <th></th>\n",
       "      <th>genero</th>\n",
       "      <th>sede</th>\n",
       "      <th>servicio</th>\n",
       "      <th>fecha_cita</th>\n",
       "    </tr>\n",
       "  </thead>\n",
       "  <tbody>\n",
       "    <tr>\n",
       "      <th>0</th>\n",
       "      <td>MASCULINO</td>\n",
       "      <td>Centro Islámico</td>\n",
       "      <td>Adultos Mayores de 80 años</td>\n",
       "      <td>01MAR2021:11:15:00</td>\n",
       "    </tr>\n",
       "    <tr>\n",
       "      <th>1</th>\n",
       "      <td>MASCULINO</td>\n",
       "      <td>Club Ferro</td>\n",
       "      <td>Adultos Mayores de 80 años</td>\n",
       "      <td>02MAR2021:09:00:00</td>\n",
       "    </tr>\n",
       "    <tr>\n",
       "      <th>2</th>\n",
       "      <td>FEMENINO</td>\n",
       "      <td>La Rural</td>\n",
       "      <td>Adultos Mayores de 80 años</td>\n",
       "      <td>01MAR2021:13:30:00</td>\n",
       "    </tr>\n",
       "  </tbody>\n",
       "</table>\n",
       "</div>"
      ],
      "text/plain": [
       "      genero             sede                    servicio          fecha_cita\n",
       "0  MASCULINO  Centro Islámico  Adultos Mayores de 80 años  01MAR2021:11:15:00\n",
       "1  MASCULINO       Club Ferro  Adultos Mayores de 80 años  02MAR2021:09:00:00\n",
       "2   FEMENINO         La Rural  Adultos Mayores de 80 años  01MAR2021:13:30:00"
      ]
     },
     "execution_count": 26,
     "metadata": {},
     "output_type": "execute_result"
    }
   ],
   "source": [
    "variableTurnos.head(3)"
   ]
  },
  {
   "cell_type": "code",
   "execution_count": 27,
   "metadata": {},
   "outputs": [
    {
     "data": {
      "text/html": [
       "<div>\n",
       "<style scoped>\n",
       "    .dataframe tbody tr th:only-of-type {\n",
       "        vertical-align: middle;\n",
       "    }\n",
       "\n",
       "    .dataframe tbody tr th {\n",
       "        vertical-align: top;\n",
       "    }\n",
       "\n",
       "    .dataframe thead th {\n",
       "        text-align: right;\n",
       "    }\n",
       "</style>\n",
       "<table border=\"1\" class=\"dataframe\">\n",
       "  <thead>\n",
       "    <tr style=\"text-align: right;\">\n",
       "      <th></th>\n",
       "      <th>genero</th>\n",
       "      <th>sede</th>\n",
       "      <th>servicio</th>\n",
       "      <th>fecha_cita</th>\n",
       "    </tr>\n",
       "  </thead>\n",
       "  <tbody>\n",
       "    <tr>\n",
       "      <th>1925040</th>\n",
       "      <td>FEMENINO</td>\n",
       "      <td>Casa del Historiador</td>\n",
       "      <td>Adultos Mayores de 80 años</td>\n",
       "      <td>23FEB2021:15:45:00</td>\n",
       "    </tr>\n",
       "    <tr>\n",
       "      <th>1925041</th>\n",
       "      <td>MASCULINO</td>\n",
       "      <td>La Rural</td>\n",
       "      <td>Adultos Mayores de 80 años</td>\n",
       "      <td>02MAR2021:15:00:00</td>\n",
       "    </tr>\n",
       "    <tr>\n",
       "      <th>1925042</th>\n",
       "      <td>FEMENINO</td>\n",
       "      <td>Club Glorias Argentinas</td>\n",
       "      <td>Adultos Mayores de 80 años</td>\n",
       "      <td>25FEB2021:13:30:00</td>\n",
       "    </tr>\n",
       "    <tr>\n",
       "      <th>1925043</th>\n",
       "      <td>MASCULINO</td>\n",
       "      <td>Centro de Dia N9 y 13</td>\n",
       "      <td>Adultos Mayores de 80 años</td>\n",
       "      <td>25FEB2021:08:15:00</td>\n",
       "    </tr>\n",
       "    <tr>\n",
       "      <th>1925044</th>\n",
       "      <td>FEMENINO</td>\n",
       "      <td>Club San Lorenzo</td>\n",
       "      <td>Adultos Mayores de 80 años</td>\n",
       "      <td>26FEB2021:11:30:00</td>\n",
       "    </tr>\n",
       "  </tbody>\n",
       "</table>\n",
       "</div>"
      ],
      "text/plain": [
       "            genero                     sede                    servicio  \\\n",
       "1925040   FEMENINO     Casa del Historiador  Adultos Mayores de 80 años   \n",
       "1925041  MASCULINO                 La Rural  Adultos Mayores de 80 años   \n",
       "1925042   FEMENINO  Club Glorias Argentinas  Adultos Mayores de 80 años   \n",
       "1925043  MASCULINO    Centro de Dia N9 y 13  Adultos Mayores de 80 años   \n",
       "1925044   FEMENINO         Club San Lorenzo  Adultos Mayores de 80 años   \n",
       "\n",
       "                 fecha_cita  \n",
       "1925040  23FEB2021:15:45:00  \n",
       "1925041  02MAR2021:15:00:00  \n",
       "1925042  25FEB2021:13:30:00  \n",
       "1925043  25FEB2021:08:15:00  \n",
       "1925044  26FEB2021:11:30:00  "
      ]
     },
     "execution_count": 27,
     "metadata": {},
     "output_type": "execute_result"
    }
   ],
   "source": [
    "variableTurnos.tail()"
   ]
  },
  {
   "cell_type": "code",
   "execution_count": 28,
   "metadata": {},
   "outputs": [
    {
     "data": {
      "text/html": [
       "<div>\n",
       "<style scoped>\n",
       "    .dataframe tbody tr th:only-of-type {\n",
       "        vertical-align: middle;\n",
       "    }\n",
       "\n",
       "    .dataframe tbody tr th {\n",
       "        vertical-align: top;\n",
       "    }\n",
       "\n",
       "    .dataframe thead th {\n",
       "        text-align: right;\n",
       "    }\n",
       "</style>\n",
       "<table border=\"1\" class=\"dataframe\">\n",
       "  <thead>\n",
       "    <tr style=\"text-align: right;\">\n",
       "      <th></th>\n",
       "      <th>genero</th>\n",
       "      <th>sede</th>\n",
       "      <th>servicio</th>\n",
       "      <th>fecha_cita</th>\n",
       "    </tr>\n",
       "  </thead>\n",
       "  <tbody>\n",
       "    <tr>\n",
       "      <th>1342360</th>\n",
       "      <td>FEMENINO</td>\n",
       "      <td>Centro Islámico</td>\n",
       "      <td>Adultos Mayores de 18 años</td>\n",
       "      <td>17JUN2021:12:15:00</td>\n",
       "    </tr>\n",
       "    <tr>\n",
       "      <th>144913</th>\n",
       "      <td>FEMENINO</td>\n",
       "      <td>Movistar Arena</td>\n",
       "      <td>Personal de Salud</td>\n",
       "      <td>18MAR2021:12:30:00</td>\n",
       "    </tr>\n",
       "    <tr>\n",
       "      <th>1134830</th>\n",
       "      <td>FEMENINO</td>\n",
       "      <td>Corralón Floresta</td>\n",
       "      <td>Docentes y No Docentes</td>\n",
       "      <td>08JUN2021:08:45:00</td>\n",
       "    </tr>\n",
       "  </tbody>\n",
       "</table>\n",
       "</div>"
      ],
      "text/plain": [
       "           genero               sede                    servicio  \\\n",
       "1342360  FEMENINO    Centro Islámico  Adultos Mayores de 18 años   \n",
       "144913   FEMENINO     Movistar Arena           Personal de Salud   \n",
       "1134830  FEMENINO  Corralón Floresta      Docentes y No Docentes   \n",
       "\n",
       "                 fecha_cita  \n",
       "1342360  17JUN2021:12:15:00  \n",
       "144913   18MAR2021:12:30:00  \n",
       "1134830  08JUN2021:08:45:00  "
      ]
     },
     "execution_count": 28,
     "metadata": {},
     "output_type": "execute_result"
    }
   ],
   "source": [
    "variableTurnos.sample(3)"
   ]
  },
  {
   "cell_type": "code",
   "execution_count": 29,
   "metadata": {},
   "outputs": [
    {
     "data": {
      "text/plain": [
       "Club San Lorenzo     264616\n",
       "La Rural             215748\n",
       "Estadio Luna Park    196126\n",
       "Parque Roca          181980\n",
       "Club River Plate     142751\n",
       "Name: sede, dtype: int64"
      ]
     },
     "execution_count": 29,
     "metadata": {},
     "output_type": "execute_result"
    }
   ],
   "source": [
    "variableTurnos['sede'].value_counts()[0:5]"
   ]
  },
  {
   "cell_type": "code",
   "execution_count": 30,
   "metadata": {},
   "outputs": [
    {
     "data": {
      "text/html": [
       "<div>\n",
       "<style scoped>\n",
       "    .dataframe tbody tr th:only-of-type {\n",
       "        vertical-align: middle;\n",
       "    }\n",
       "\n",
       "    .dataframe tbody tr th {\n",
       "        vertical-align: top;\n",
       "    }\n",
       "\n",
       "    .dataframe thead th {\n",
       "        text-align: right;\n",
       "    }\n",
       "</style>\n",
       "<table border=\"1\" class=\"dataframe\">\n",
       "  <thead>\n",
       "    <tr style=\"text-align: right;\">\n",
       "      <th></th>\n",
       "      <th>genero</th>\n",
       "      <th>sede</th>\n",
       "      <th>servicio</th>\n",
       "      <th>fecha_cita</th>\n",
       "    </tr>\n",
       "  </thead>\n",
       "  <tbody>\n",
       "    <tr>\n",
       "      <th>count</th>\n",
       "      <td>1925045</td>\n",
       "      <td>1925045</td>\n",
       "      <td>1925045</td>\n",
       "      <td>1925045</td>\n",
       "    </tr>\n",
       "    <tr>\n",
       "      <th>unique</th>\n",
       "      <td>3</td>\n",
       "      <td>50</td>\n",
       "      <td>16</td>\n",
       "      <td>5698</td>\n",
       "    </tr>\n",
       "    <tr>\n",
       "      <th>top</th>\n",
       "      <td>FEMENINO</td>\n",
       "      <td>Club San Lorenzo</td>\n",
       "      <td>Adultos Mayores de 18 años</td>\n",
       "      <td>28JUN2021:10:00:00</td>\n",
       "    </tr>\n",
       "    <tr>\n",
       "      <th>freq</th>\n",
       "      <td>1127425</td>\n",
       "      <td>264616</td>\n",
       "      <td>608162</td>\n",
       "      <td>1201</td>\n",
       "    </tr>\n",
       "  </tbody>\n",
       "</table>\n",
       "</div>"
      ],
      "text/plain": [
       "          genero              sede                    servicio  \\\n",
       "count    1925045           1925045                     1925045   \n",
       "unique         3                50                          16   \n",
       "top     FEMENINO  Club San Lorenzo  Adultos Mayores de 18 años   \n",
       "freq     1127425            264616                      608162   \n",
       "\n",
       "                fecha_cita  \n",
       "count              1925045  \n",
       "unique                5698  \n",
       "top     28JUN2021:10:00:00  \n",
       "freq                  1201  "
      ]
     },
     "execution_count": 30,
     "metadata": {},
     "output_type": "execute_result"
    }
   ],
   "source": [
    "variableTurnos.describe()"
   ]
  },
  {
   "cell_type": "code",
   "execution_count": 31,
   "metadata": {},
   "outputs": [
    {
     "name": "stdout",
     "output_type": "stream",
     "text": [
      "<class 'pandas.core.frame.DataFrame'>\n",
      "RangeIndex: 1925045 entries, 0 to 1925044\n",
      "Data columns (total 4 columns):\n",
      " #   Column      Dtype \n",
      "---  ------      ----- \n",
      " 0   genero      object\n",
      " 1   sede        object\n",
      " 2   servicio    object\n",
      " 3   fecha_cita  object\n",
      "dtypes: object(4)\n",
      "memory usage: 58.7+ MB\n"
     ]
    }
   ],
   "source": [
    "variableTurnos.info()"
   ]
  },
  {
   "cell_type": "code",
   "execution_count": 32,
   "metadata": {},
   "outputs": [
    {
     "data": {
      "text/plain": [
       "genero        object\n",
       "sede          object\n",
       "servicio      object\n",
       "fecha_cita    object\n",
       "dtype: object"
      ]
     },
     "execution_count": 32,
     "metadata": {},
     "output_type": "execute_result"
    }
   ],
   "source": [
    "variableTurnos.dtypes"
   ]
  },
  {
   "cell_type": "code",
   "execution_count": 33,
   "metadata": {},
   "outputs": [
    {
     "data": {
      "text/plain": [
       "genero        0\n",
       "sede          0\n",
       "servicio      0\n",
       "fecha_cita    0\n",
       "dtype: int64"
      ]
     },
     "execution_count": 33,
     "metadata": {},
     "output_type": "execute_result"
    }
   ],
   "source": [
    "variableTurnos.isnull().sum()"
   ]
  },
  {
   "cell_type": "code",
   "execution_count": 34,
   "metadata": {},
   "outputs": [
    {
     "data": {
      "text/plain": [
       "Index(['genero', 'sede', 'servicio', 'fecha_cita'], dtype='object')"
      ]
     },
     "execution_count": 34,
     "metadata": {},
     "output_type": "execute_result"
    }
   ],
   "source": [
    "variableTurnos.columns"
   ]
  },
  {
   "cell_type": "code",
   "execution_count": 35,
   "metadata": {},
   "outputs": [
    {
     "data": {
      "text/plain": [
       "(1925045, 4)"
      ]
     },
     "execution_count": 35,
     "metadata": {},
     "output_type": "execute_result"
    }
   ],
   "source": [
    "variableTurnos.shape"
   ]
  },
  {
   "cell_type": "code",
   "execution_count": 36,
   "metadata": {},
   "outputs": [
    {
     "data": {
      "text/plain": [
       "array(['MASCULINO', 'FEMENINO', 'OTROS'], dtype=object)"
      ]
     },
     "execution_count": 36,
     "metadata": {},
     "output_type": "execute_result"
    }
   ],
   "source": [
    "variableTurnos['genero'].unique()"
   ]
  },
  {
   "cell_type": "code",
   "execution_count": 37,
   "metadata": {},
   "outputs": [
    {
     "data": {
      "text/html": [
       "<div>\n",
       "<style scoped>\n",
       "    .dataframe tbody tr th:only-of-type {\n",
       "        vertical-align: middle;\n",
       "    }\n",
       "\n",
       "    .dataframe tbody tr th {\n",
       "        vertical-align: top;\n",
       "    }\n",
       "\n",
       "    .dataframe thead th {\n",
       "        text-align: right;\n",
       "    }\n",
       "</style>\n",
       "<table border=\"1\" class=\"dataframe\">\n",
       "  <thead>\n",
       "    <tr style=\"text-align: right;\">\n",
       "      <th></th>\n",
       "      <th>sede</th>\n",
       "      <th>servicio</th>\n",
       "    </tr>\n",
       "  </thead>\n",
       "  <tbody>\n",
       "    <tr>\n",
       "      <th>0</th>\n",
       "      <td>Centro Islámico</td>\n",
       "      <td>Adultos Mayores de 80 años</td>\n",
       "    </tr>\n",
       "    <tr>\n",
       "      <th>1</th>\n",
       "      <td>Club Ferro</td>\n",
       "      <td>Adultos Mayores de 80 años</td>\n",
       "    </tr>\n",
       "    <tr>\n",
       "      <th>3</th>\n",
       "      <td>Centro de día Parque Chacabuco</td>\n",
       "      <td>Adultos Mayores de 80 años</td>\n",
       "    </tr>\n",
       "    <tr>\n",
       "      <th>5</th>\n",
       "      <td>Centro C. Recoleta</td>\n",
       "      <td>Adultos Mayores de 80 años</td>\n",
       "    </tr>\n",
       "    <tr>\n",
       "      <th>10</th>\n",
       "      <td>Centro Cultural El Adan</td>\n",
       "      <td>Adultos Mayores de 80 años</td>\n",
       "    </tr>\n",
       "    <tr>\n",
       "      <th>...</th>\n",
       "      <td>...</td>\n",
       "      <td>...</td>\n",
       "    </tr>\n",
       "    <tr>\n",
       "      <th>1925034</th>\n",
       "      <td>Club Comunicaciones</td>\n",
       "      <td>Adultos Mayores de 80 años</td>\n",
       "    </tr>\n",
       "    <tr>\n",
       "      <th>1925036</th>\n",
       "      <td>Centro Cultural El Adan</td>\n",
       "      <td>Adultos Mayores de 80 años</td>\n",
       "    </tr>\n",
       "    <tr>\n",
       "      <th>1925038</th>\n",
       "      <td>Usina del Arte</td>\n",
       "      <td>Adultos Mayores de 80 años</td>\n",
       "    </tr>\n",
       "    <tr>\n",
       "      <th>1925041</th>\n",
       "      <td>La Rural</td>\n",
       "      <td>Adultos Mayores de 80 años</td>\n",
       "    </tr>\n",
       "    <tr>\n",
       "      <th>1925043</th>\n",
       "      <td>Centro de Dia N9 y 13</td>\n",
       "      <td>Adultos Mayores de 80 años</td>\n",
       "    </tr>\n",
       "  </tbody>\n",
       "</table>\n",
       "<p>789670 rows × 2 columns</p>\n",
       "</div>"
      ],
      "text/plain": [
       "                                   sede                    servicio\n",
       "0                       Centro Islámico  Adultos Mayores de 80 años\n",
       "1                            Club Ferro  Adultos Mayores de 80 años\n",
       "3        Centro de día Parque Chacabuco  Adultos Mayores de 80 años\n",
       "5                    Centro C. Recoleta  Adultos Mayores de 80 años\n",
       "10              Centro Cultural El Adan  Adultos Mayores de 80 años\n",
       "...                                 ...                         ...\n",
       "1925034             Club Comunicaciones  Adultos Mayores de 80 años\n",
       "1925036         Centro Cultural El Adan  Adultos Mayores de 80 años\n",
       "1925038                  Usina del Arte  Adultos Mayores de 80 años\n",
       "1925041                        La Rural  Adultos Mayores de 80 años\n",
       "1925043           Centro de Dia N9 y 13  Adultos Mayores de 80 años\n",
       "\n",
       "[789670 rows x 2 columns]"
      ]
     },
     "execution_count": 37,
     "metadata": {},
     "output_type": "execute_result"
    }
   ],
   "source": [
    "# Filtros\n",
    "variableTurnos.loc[variableTurnos['genero']=='MASCULINO',['sede','servicio']]"
   ]
  },
  {
   "cell_type": "code",
   "execution_count": 40,
   "metadata": {},
   "outputs": [
    {
     "data": {
      "text/html": [
       "<div>\n",
       "<style scoped>\n",
       "    .dataframe tbody tr th:only-of-type {\n",
       "        vertical-align: middle;\n",
       "    }\n",
       "\n",
       "    .dataframe tbody tr th {\n",
       "        vertical-align: top;\n",
       "    }\n",
       "\n",
       "    .dataframe thead th {\n",
       "        text-align: right;\n",
       "    }\n",
       "</style>\n",
       "<table border=\"1\" class=\"dataframe\">\n",
       "  <thead>\n",
       "    <tr style=\"text-align: right;\">\n",
       "      <th></th>\n",
       "      <th>sede</th>\n",
       "      <th>servicio</th>\n",
       "    </tr>\n",
       "  </thead>\n",
       "  <tbody>\n",
       "    <tr>\n",
       "      <th>0</th>\n",
       "      <td>Centro Islámico</td>\n",
       "      <td>Adultos Mayores de 80 años</td>\n",
       "    </tr>\n",
       "    <tr>\n",
       "      <th>1</th>\n",
       "      <td>Club Ferro</td>\n",
       "      <td>Adultos Mayores de 80 años</td>\n",
       "    </tr>\n",
       "    <tr>\n",
       "      <th>3</th>\n",
       "      <td>Centro de día Parque Chacabuco</td>\n",
       "      <td>Adultos Mayores de 80 años</td>\n",
       "    </tr>\n",
       "    <tr>\n",
       "      <th>5</th>\n",
       "      <td>Centro C. Recoleta</td>\n",
       "      <td>Adultos Mayores de 80 años</td>\n",
       "    </tr>\n",
       "    <tr>\n",
       "      <th>10</th>\n",
       "      <td>Centro Cultural El Adan</td>\n",
       "      <td>Adultos Mayores de 80 años</td>\n",
       "    </tr>\n",
       "    <tr>\n",
       "      <th>...</th>\n",
       "      <td>...</td>\n",
       "      <td>...</td>\n",
       "    </tr>\n",
       "    <tr>\n",
       "      <th>1925034</th>\n",
       "      <td>Club Comunicaciones</td>\n",
       "      <td>Adultos Mayores de 80 años</td>\n",
       "    </tr>\n",
       "    <tr>\n",
       "      <th>1925036</th>\n",
       "      <td>Centro Cultural El Adan</td>\n",
       "      <td>Adultos Mayores de 80 años</td>\n",
       "    </tr>\n",
       "    <tr>\n",
       "      <th>1925038</th>\n",
       "      <td>Usina del Arte</td>\n",
       "      <td>Adultos Mayores de 80 años</td>\n",
       "    </tr>\n",
       "    <tr>\n",
       "      <th>1925041</th>\n",
       "      <td>La Rural</td>\n",
       "      <td>Adultos Mayores de 80 años</td>\n",
       "    </tr>\n",
       "    <tr>\n",
       "      <th>1925043</th>\n",
       "      <td>Centro de Dia N9 y 13</td>\n",
       "      <td>Adultos Mayores de 80 años</td>\n",
       "    </tr>\n",
       "  </tbody>\n",
       "</table>\n",
       "<p>789670 rows × 2 columns</p>\n",
       "</div>"
      ],
      "text/plain": [
       "                                   sede                    servicio\n",
       "0                       Centro Islámico  Adultos Mayores de 80 años\n",
       "1                            Club Ferro  Adultos Mayores de 80 años\n",
       "3        Centro de día Parque Chacabuco  Adultos Mayores de 80 años\n",
       "5                    Centro C. Recoleta  Adultos Mayores de 80 años\n",
       "10              Centro Cultural El Adan  Adultos Mayores de 80 años\n",
       "...                                 ...                         ...\n",
       "1925034             Club Comunicaciones  Adultos Mayores de 80 años\n",
       "1925036         Centro Cultural El Adan  Adultos Mayores de 80 años\n",
       "1925038                  Usina del Arte  Adultos Mayores de 80 años\n",
       "1925041                        La Rural  Adultos Mayores de 80 años\n",
       "1925043           Centro de Dia N9 y 13  Adultos Mayores de 80 años\n",
       "\n",
       "[789670 rows x 2 columns]"
      ]
     },
     "execution_count": 40,
     "metadata": {},
     "output_type": "execute_result"
    }
   ],
   "source": [
    "variableTurnos[variableTurnos['genero']=='MASCULINO'][['sede','servicio']]"
   ]
  },
  {
   "cell_type": "code",
   "execution_count": 41,
   "metadata": {},
   "outputs": [
    {
     "data": {
      "text/html": [
       "<div>\n",
       "<style scoped>\n",
       "    .dataframe tbody tr th:only-of-type {\n",
       "        vertical-align: middle;\n",
       "    }\n",
       "\n",
       "    .dataframe tbody tr th {\n",
       "        vertical-align: top;\n",
       "    }\n",
       "\n",
       "    .dataframe thead th {\n",
       "        text-align: right;\n",
       "    }\n",
       "</style>\n",
       "<table border=\"1\" class=\"dataframe\">\n",
       "  <thead>\n",
       "    <tr style=\"text-align: right;\">\n",
       "      <th></th>\n",
       "      <th>genero</th>\n",
       "      <th>sede</th>\n",
       "    </tr>\n",
       "  </thead>\n",
       "  <tbody>\n",
       "    <tr>\n",
       "      <th>0</th>\n",
       "      <td>MASCULINO</td>\n",
       "      <td>Centro Islámico</td>\n",
       "    </tr>\n",
       "    <tr>\n",
       "      <th>1</th>\n",
       "      <td>MASCULINO</td>\n",
       "      <td>Club Ferro</td>\n",
       "    </tr>\n",
       "    <tr>\n",
       "      <th>2</th>\n",
       "      <td>FEMENINO</td>\n",
       "      <td>La Rural</td>\n",
       "    </tr>\n",
       "    <tr>\n",
       "      <th>3</th>\n",
       "      <td>MASCULINO</td>\n",
       "      <td>Centro de día Parque Chacabuco</td>\n",
       "    </tr>\n",
       "    <tr>\n",
       "      <th>4</th>\n",
       "      <td>FEMENINO</td>\n",
       "      <td>Centro C. Recoleta</td>\n",
       "    </tr>\n",
       "    <tr>\n",
       "      <th>...</th>\n",
       "      <td>...</td>\n",
       "      <td>...</td>\n",
       "    </tr>\n",
       "    <tr>\n",
       "      <th>1925040</th>\n",
       "      <td>FEMENINO</td>\n",
       "      <td>Casa del Historiador</td>\n",
       "    </tr>\n",
       "    <tr>\n",
       "      <th>1925041</th>\n",
       "      <td>MASCULINO</td>\n",
       "      <td>La Rural</td>\n",
       "    </tr>\n",
       "    <tr>\n",
       "      <th>1925042</th>\n",
       "      <td>FEMENINO</td>\n",
       "      <td>Club Glorias Argentinas</td>\n",
       "    </tr>\n",
       "    <tr>\n",
       "      <th>1925043</th>\n",
       "      <td>MASCULINO</td>\n",
       "      <td>Centro de Dia N9 y 13</td>\n",
       "    </tr>\n",
       "    <tr>\n",
       "      <th>1925044</th>\n",
       "      <td>FEMENINO</td>\n",
       "      <td>Club San Lorenzo</td>\n",
       "    </tr>\n",
       "  </tbody>\n",
       "</table>\n",
       "<p>1925045 rows × 2 columns</p>\n",
       "</div>"
      ],
      "text/plain": [
       "            genero                            sede\n",
       "0        MASCULINO                 Centro Islámico\n",
       "1        MASCULINO                      Club Ferro\n",
       "2         FEMENINO                        La Rural\n",
       "3        MASCULINO  Centro de día Parque Chacabuco\n",
       "4         FEMENINO              Centro C. Recoleta\n",
       "...            ...                             ...\n",
       "1925040   FEMENINO            Casa del Historiador\n",
       "1925041  MASCULINO                        La Rural\n",
       "1925042   FEMENINO         Club Glorias Argentinas\n",
       "1925043  MASCULINO           Centro de Dia N9 y 13\n",
       "1925044   FEMENINO                Club San Lorenzo\n",
       "\n",
       "[1925045 rows x 2 columns]"
      ]
     },
     "execution_count": 41,
     "metadata": {},
     "output_type": "execute_result"
    }
   ],
   "source": [
    "# Subset\n",
    "variableTurnos[['genero','sede']]"
   ]
  },
  {
   "cell_type": "code",
   "execution_count": 42,
   "metadata": {},
   "outputs": [
    {
     "data": {
      "text/html": [
       "<div>\n",
       "<style scoped>\n",
       "    .dataframe tbody tr th:only-of-type {\n",
       "        vertical-align: middle;\n",
       "    }\n",
       "\n",
       "    .dataframe tbody tr th {\n",
       "        vertical-align: top;\n",
       "    }\n",
       "\n",
       "    .dataframe thead th {\n",
       "        text-align: right;\n",
       "    }\n",
       "</style>\n",
       "<table border=\"1\" class=\"dataframe\">\n",
       "  <thead>\n",
       "    <tr style=\"text-align: right;\">\n",
       "      <th></th>\n",
       "      <th>genero</th>\n",
       "      <th>sede</th>\n",
       "      <th>servicio</th>\n",
       "      <th>fecha_cita</th>\n",
       "    </tr>\n",
       "  </thead>\n",
       "  <tbody>\n",
       "    <tr>\n",
       "      <th>0</th>\n",
       "      <td>MASCULINO</td>\n",
       "      <td>Centro Islámico</td>\n",
       "      <td>Adultos Mayores de 80 años</td>\n",
       "      <td>01MAR2021:11:15:00</td>\n",
       "    </tr>\n",
       "    <tr>\n",
       "      <th>1</th>\n",
       "      <td>MASCULINO</td>\n",
       "      <td>Club Ferro</td>\n",
       "      <td>Adultos Mayores de 80 años</td>\n",
       "      <td>02MAR2021:09:00:00</td>\n",
       "    </tr>\n",
       "    <tr>\n",
       "      <th>3</th>\n",
       "      <td>MASCULINO</td>\n",
       "      <td>Centro de día Parque Chacabuco</td>\n",
       "      <td>Adultos Mayores de 80 años</td>\n",
       "      <td>25FEB2021:13:00:00</td>\n",
       "    </tr>\n",
       "    <tr>\n",
       "      <th>5</th>\n",
       "      <td>MASCULINO</td>\n",
       "      <td>Centro C. Recoleta</td>\n",
       "      <td>Adultos Mayores de 80 años</td>\n",
       "      <td>01MAR2021:09:30:00</td>\n",
       "    </tr>\n",
       "    <tr>\n",
       "      <th>10</th>\n",
       "      <td>MASCULINO</td>\n",
       "      <td>Centro Cultural El Adan</td>\n",
       "      <td>Adultos Mayores de 80 años</td>\n",
       "      <td>24FEB2021:14:15:00</td>\n",
       "    </tr>\n",
       "    <tr>\n",
       "      <th>...</th>\n",
       "      <td>...</td>\n",
       "      <td>...</td>\n",
       "      <td>...</td>\n",
       "      <td>...</td>\n",
       "    </tr>\n",
       "    <tr>\n",
       "      <th>1925034</th>\n",
       "      <td>MASCULINO</td>\n",
       "      <td>Club Comunicaciones</td>\n",
       "      <td>Adultos Mayores de 80 años</td>\n",
       "      <td>01MAR2021:09:00:00</td>\n",
       "    </tr>\n",
       "    <tr>\n",
       "      <th>1925036</th>\n",
       "      <td>MASCULINO</td>\n",
       "      <td>Centro Cultural El Adan</td>\n",
       "      <td>Adultos Mayores de 80 años</td>\n",
       "      <td>25FEB2021:15:30:00</td>\n",
       "    </tr>\n",
       "    <tr>\n",
       "      <th>1925038</th>\n",
       "      <td>MASCULINO</td>\n",
       "      <td>Usina del Arte</td>\n",
       "      <td>Adultos Mayores de 80 años</td>\n",
       "      <td>24FEB2021:12:15:00</td>\n",
       "    </tr>\n",
       "    <tr>\n",
       "      <th>1925041</th>\n",
       "      <td>MASCULINO</td>\n",
       "      <td>La Rural</td>\n",
       "      <td>Adultos Mayores de 80 años</td>\n",
       "      <td>02MAR2021:15:00:00</td>\n",
       "    </tr>\n",
       "    <tr>\n",
       "      <th>1925043</th>\n",
       "      <td>MASCULINO</td>\n",
       "      <td>Centro de Dia N9 y 13</td>\n",
       "      <td>Adultos Mayores de 80 años</td>\n",
       "      <td>25FEB2021:08:15:00</td>\n",
       "    </tr>\n",
       "  </tbody>\n",
       "</table>\n",
       "<p>50511 rows × 4 columns</p>\n",
       "</div>"
      ],
      "text/plain": [
       "            genero                            sede  \\\n",
       "0        MASCULINO                 Centro Islámico   \n",
       "1        MASCULINO                      Club Ferro   \n",
       "3        MASCULINO  Centro de día Parque Chacabuco   \n",
       "5        MASCULINO              Centro C. Recoleta   \n",
       "10       MASCULINO         Centro Cultural El Adan   \n",
       "...            ...                             ...   \n",
       "1925034  MASCULINO             Club Comunicaciones   \n",
       "1925036  MASCULINO         Centro Cultural El Adan   \n",
       "1925038  MASCULINO                  Usina del Arte   \n",
       "1925041  MASCULINO                        La Rural   \n",
       "1925043  MASCULINO           Centro de Dia N9 y 13   \n",
       "\n",
       "                           servicio          fecha_cita  \n",
       "0        Adultos Mayores de 80 años  01MAR2021:11:15:00  \n",
       "1        Adultos Mayores de 80 años  02MAR2021:09:00:00  \n",
       "3        Adultos Mayores de 80 años  25FEB2021:13:00:00  \n",
       "5        Adultos Mayores de 80 años  01MAR2021:09:30:00  \n",
       "10       Adultos Mayores de 80 años  24FEB2021:14:15:00  \n",
       "...                             ...                 ...  \n",
       "1925034  Adultos Mayores de 80 años  01MAR2021:09:00:00  \n",
       "1925036  Adultos Mayores de 80 años  25FEB2021:15:30:00  \n",
       "1925038  Adultos Mayores de 80 años  24FEB2021:12:15:00  \n",
       "1925041  Adultos Mayores de 80 años  02MAR2021:15:00:00  \n",
       "1925043  Adultos Mayores de 80 años  25FEB2021:08:15:00  \n",
       "\n",
       "[50511 rows x 4 columns]"
      ]
     },
     "execution_count": 42,
     "metadata": {},
     "output_type": "execute_result"
    }
   ],
   "source": [
    "variableTurnos[(variableTurnos['genero']=='MASCULINO') & (variableTurnos['servicio']=='Adultos Mayores de 80 años')]"
   ]
  }
 ],
 "metadata": {
  "kernelspec": {
   "display_name": "Python 3 (ipykernel)",
   "language": "python",
   "name": "python3"
  },
  "language_info": {
   "codemirror_mode": {
    "name": "ipython",
    "version": 3
   },
   "file_extension": ".py",
   "mimetype": "text/x-python",
   "name": "python",
   "nbconvert_exporter": "python",
   "pygments_lexer": "ipython3",
   "version": "3.9.12"
  },
  "vscode": {
   "interpreter": {
    "hash": "8649ced70e2df50cbec1162fce5f764529cbe99dc753d77d52a836183a2bd877"
   }
  }
 },
 "nbformat": 4,
 "nbformat_minor": 2
}
