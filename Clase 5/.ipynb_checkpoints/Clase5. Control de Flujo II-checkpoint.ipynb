{
 "cells": [
  {
   "cell_type": "markdown",
   "metadata": {},
   "source": [
    "## while\n",
    "\n",
    "```python\n",
    "while condicion:\n",
    "    bloque de codigo a repetir\n",
    "```"
   ]
  },
  {
   "cell_type": "code",
   "execution_count": 2,
   "metadata": {},
   "outputs": [
    {
     "name": "stdout",
     "output_type": "stream",
     "text": [
      "5\n",
      "4\n",
      "3\n",
      "2\n",
      "1\n",
      "Termino el conteo!\n"
     ]
    }
   ],
   "source": [
    "# 1. While\n",
    "num=5\n",
    "while num>0:\n",
    "    print(f\"{num}\")\n",
    "    num-=1\n",
    "print('Termino el conteo!')"
   ]
  },
  {
   "cell_type": "code",
   "execution_count": 3,
   "metadata": {},
   "outputs": [
    {
     "name": "stdout",
     "output_type": "stream",
     "text": [
      "N vale  6\n"
     ]
    }
   ],
   "source": [
    "n = 0\n",
    "while n <= 5:\n",
    "    n += 1\n",
    "print('N vale ', n)"
   ]
  },
  {
   "cell_type": "code",
   "execution_count": null,
   "metadata": {},
   "outputs": [],
   "source": [
    "# No correr es infinito\n",
    "while True:\n",
    "    print(\"Esto es un bucle infinito!!!!!\"\")"
   ]
  },
  {
   "cell_type": "code",
   "execution_count": 4,
   "metadata": {},
   "outputs": [
    {
     "name": "stdout",
     "output_type": "stream",
     "text": [
      "Escribe SI: SI\n",
      "Ok, lo conseguiste en el intento 1\n"
     ]
    }
   ],
   "source": [
    "# 2. While -Else\n",
    "chance  = 1\n",
    "while chance <= 3:\n",
    "  txt = input(\"Escribe SI: \")\n",
    "  if txt == \"SI\":\n",
    "     print(\"Ok, lo conseguiste en el intento\", chance)\n",
    "     break\n",
    "  chance += 1\n",
    "else:\n",
    "  print(\"Has agotado tus tres intentos\")"
   ]
  },
  {
   "cell_type": "code",
   "execution_count": 5,
   "metadata": {},
   "outputs": [
    {
     "name": "stdout",
     "output_type": "stream",
     "text": [
      "Ingrese un número ('exit' para terminar): 2\n",
      "La suma es 2\n",
      "Ingrese un número ('exit' para terminar): 3\n",
      "La suma es 5\n",
      "Ingrese un número ('exit' para terminar): exit\n",
      "La suma final es 5\n"
     ]
    }
   ],
   "source": [
    "# Desafio generico\n",
    "suma = 0\n",
    "continuar = True\n",
    "while continuar:\n",
    "    input_usuario = input(\"Ingrese un número ('exit' para terminar): \")\n",
    "    if input_usuario == 'exit':\n",
    "        continuar = False\n",
    "    else:\n",
    "        numero = int(input_usuario)\n",
    "        suma = suma + numero\n",
    "        print(f\"La suma es {suma}\")\n",
    "print(f\"La suma final es {suma}\")"
   ]
  },
  {
   "cell_type": "code",
   "execution_count": 6,
   "metadata": {},
   "outputs": [
    {
     "name": "stdout",
     "output_type": "stream",
     "text": [
      "Tu numero vale: -1\n",
      "\n",
      "Ingresar otro numero, 0 para salir\n",
      "5\n",
      "Tu numero vale: 5\n",
      "\n",
      "Ingresar otro numero, 0 para salir\n",
      "4\n",
      "Tu numero vale: 4\n",
      "\n",
      "Ingresar otro numero, 0 para salir\n",
      "2\n",
      "Tu numero vale: 2\n",
      "\n",
      "Ingresar otro numero, 0 para salir\n",
      "1\n",
      "Tu numero vale: 1\n",
      "\n",
      "Ingresar otro numero, 0 para salir\n",
      "0\n",
      "Has salido con una suma de: 12\n"
     ]
    }
   ],
   "source": [
    "# Otro ejemplo\n",
    "numero = -1\n",
    "contador = 0\n",
    "while (numero != 0):\n",
    "  print(f\"Tu numero vale: {numero}\\n\")\n",
    "  numero = int (input(\"Ingresar otro numero, 0 para salir\\n\"))\n",
    "  contador = contador + numero\n",
    "else:\n",
    "\n",
    "  print(f\"Has salido con una suma de: {contador}\")"
   ]
  },
  {
   "cell_type": "code",
   "execution_count": 7,
   "metadata": {},
   "outputs": [
    {
     "name": "stdout",
     "output_type": "stream",
     "text": [
      "1\n",
      "2\n",
      "3\n"
     ]
    }
   ],
   "source": [
    "# 3. Break\n",
    "i = 1\n",
    "while i < 6:\n",
    "  print(i)\n",
    "  if i == 3:\n",
    "    break\n",
    "  i += 1"
   ]
  },
  {
   "cell_type": "code",
   "execution_count": 9,
   "metadata": {},
   "outputs": [
    {
     "name": "stdout",
     "output_type": "stream",
     "text": [
      "Numero es 0\n",
      "Numero es 1\n",
      "Numero es 2\n",
      "Numero es 3\n",
      "Numero es 4\n",
      "Fuera del Loop\n"
     ]
    }
   ],
   "source": [
    "number = 0\n",
    "for number in range(10):\n",
    "    if number == 5:\n",
    "        break    # break here\n",
    "    print('Numero es ' + str(number))\n",
    "print('Fuera del Loop')"
   ]
  },
  {
   "cell_type": "code",
   "execution_count": 8,
   "metadata": {},
   "outputs": [
    {
     "name": "stdout",
     "output_type": "stream",
     "text": [
      "4\n",
      "Fin del bucle\n",
      "3\n",
      "Fin del bucle\n",
      "2\n",
      "Fin del bucle\n",
      "1\n",
      "Fin del bucle\n",
      "0\n"
     ]
    }
   ],
   "source": [
    "# Actividad en clase\n",
    "x = 5\n",
    "while True:\n",
    "    x -= 1\n",
    "    print(x)\n",
    "    if x == 0:\n",
    "        break\n",
    "    print(\"Fin del bucle\")"
   ]
  },
  {
   "cell_type": "code",
   "execution_count": 10,
   "metadata": {},
   "outputs": [
    {
     "name": "stdout",
     "output_type": "stream",
     "text": [
      "1\n",
      "2\n",
      "4\n",
      "5\n",
      "6\n"
     ]
    }
   ],
   "source": [
    "# 4. Continue\n",
    "i = 0\n",
    "while i < 6:\n",
    "  i += 1\n",
    "  if i == 3:\n",
    "    continue\n",
    "  print(i)"
   ]
  },
  {
   "cell_type": "code",
   "execution_count": 11,
   "metadata": {},
   "outputs": [
    {
     "name": "stdout",
     "output_type": "stream",
     "text": [
      "Numero es 0\n",
      "Numero es 1\n",
      "Numero es 2\n",
      "Numero es 3\n",
      "Numero es 4\n",
      "Numero es 6\n",
      "Numero es 7\n",
      "Numero es 8\n",
      "Numero es 9\n",
      "Fuera del Loop\n"
     ]
    }
   ],
   "source": [
    "number = 0\n",
    "for number in range(10):\n",
    "    if number == 5:\n",
    "        continue    # continue here\n",
    "    print('Numero es ' + str(number))\n",
    "print('Fuera del Loop')"
   ]
  },
  {
   "cell_type": "code",
   "execution_count": 12,
   "metadata": {},
   "outputs": [
    {
     "name": "stdout",
     "output_type": "stream",
     "text": [
      "n vale 1\n",
      "n vale 2\n",
      "n vale 3\n",
      "n vale 4\n",
      "n vale 5\n",
      "n vale 6\n",
      "n vale 7\n",
      "n vale 8\n",
      "n vale 9\n",
      "n vale 10\n"
     ]
    }
   ],
   "source": [
    "# 6. Pass\n",
    "n = 0\n",
    "while n < 10:\n",
    "    n += 1\n",
    "    if n == 2:\n",
    "        pass\n",
    "    print('n vale' , n)"
   ]
  },
  {
   "cell_type": "code",
   "execution_count": 14,
   "metadata": {},
   "outputs": [
    {
     "name": "stdout",
     "output_type": "stream",
     "text": [
      "n vale 2\n"
     ]
    }
   ],
   "source": [
    "# ven la diferencia?\n",
    "n = 0\n",
    "while n < 10:\n",
    "    n += 1\n",
    "    if n == 2:\n",
    "        pass\n",
    "        print('n vale' , n)"
   ]
  },
  {
   "cell_type": "code",
   "execution_count": 16,
   "metadata": {},
   "outputs": [
    {
     "name": "stdout",
     "output_type": "stream",
     "text": [
      "Soy un item de la lista y valgo 1\n",
      "Soy un item de la lista y valgo 2\n",
      "Soy un item de la lista y valgo 3\n",
      "Soy un item de la lista y valgo 4\n",
      "Soy un item de la lista y valgo 5\n"
     ]
    }
   ],
   "source": [
    "# 7. Ciclo For\n",
    "lista = [1,2,3,4,5]\n",
    "for valor in lista:\n",
    "    print('Soy un item de la lista y valgo', valor)"
   ]
  },
  {
   "cell_type": "code",
   "execution_count": 17,
   "metadata": {},
   "outputs": [
    {
     "name": "stdout",
     "output_type": "stream",
     "text": [
      "Soy un valor de la lista y valgo 0\n",
      "Soy un valor de la lista y ahora valgo 0\n",
      "Soy un valor de la lista y valgo 1\n",
      "Soy un valor de la lista y ahora valgo 5\n",
      "Soy un valor de la lista y valgo 2\n",
      "Soy un valor de la lista y ahora valgo 10\n",
      "Soy un valor de la lista y valgo 3\n",
      "Soy un valor de la lista y ahora valgo 15\n",
      "Soy un valor de la lista y valgo 4\n",
      "Soy un valor de la lista y ahora valgo 20\n",
      "Soy un valor de la lista y valgo 5\n",
      "Soy un valor de la lista y ahora valgo 25\n",
      "Soy un valor de la lista y valgo 6\n",
      "Soy un valor de la lista y ahora valgo 30\n",
      "Soy un valor de la lista y valgo 7\n",
      "Soy un valor de la lista y ahora valgo 35\n",
      "Soy un valor de la lista y valgo 8\n",
      "Soy un valor de la lista y ahora valgo 40\n",
      "Soy un valor de la lista y valgo 9\n",
      "Soy un valor de la lista y ahora valgo 45\n",
      "Soy un valor de la lista y valgo 10\n",
      "Soy un valor de la lista y ahora valgo 50\n"
     ]
    }
   ],
   "source": [
    "lista = [0,1,2,3,4,5,6,7,8,9,10]\n",
    "for num in lista:\n",
    "    print('Soy un valor de la lista y valgo', num)\n",
    "    num *= 5\n",
    "    print('Soy un valor de la lista y ahora valgo', num)"
   ]
  },
  {
   "cell_type": "code",
   "execution_count": 18,
   "metadata": {},
   "outputs": [
    {
     "name": "stdout",
     "output_type": "stream",
     "text": [
      "[0, 5, 10, 15, 20, 25, 30, 35, 40, 45, 50]\n"
     ]
    }
   ],
   "source": [
    "indice = 0\n",
    "numeros = [0,1,2,3,4,5,6,7,8,9,10]\n",
    "for numero in numeros:\n",
    "    numeros[indice] *= 5\n",
    "    indice += 1\n",
    "print(numeros)"
   ]
  },
  {
   "cell_type": "code",
   "execution_count": 21,
   "metadata": {},
   "outputs": [
    {
     "name": "stdout",
     "output_type": "stream",
     "text": [
      "Numero vale 0\n",
      "Numero vale 1\n",
      "Numero vale 3\n",
      "Numero vale 4\n",
      "Numero vale 5\n",
      "Numero vale 6\n",
      "Numero vale 7\n"
     ]
    }
   ],
   "source": [
    "#Otro ejemplo\n",
    "for numero in range(10):\n",
    "        if numero == 2:\n",
    "            continue\n",
    "        elif numero == 8:\n",
    "            break\n",
    "        print(\"Numero vale\",numero)\n",
    "else:\n",
    "    print(\"Se terminó de iterar y numero vale: \", numero)"
   ]
  },
  {
   "cell_type": "code",
   "execution_count": 22,
   "metadata": {
    "scrolled": false
   },
   "outputs": [
    {
     "name": "stdout",
     "output_type": "stream",
     "text": [
      "H\n",
      "o\n",
      "l\n",
      "a\n",
      " \n",
      "M\n",
      "u\n",
      "n\n",
      "d\n",
      "o\n",
      ",\n",
      " \n",
      "e\n",
      "s\n",
      "t\n",
      "o\n",
      "y\n",
      " \n",
      "u\n",
      "s\n",
      "a\n",
      "n\n",
      "d\n",
      "o\n",
      " \n",
      "f\n",
      "o\n",
      "r\n",
      " \n",
      "e\n",
      "n\n",
      " \n",
      "P\n",
      "y\n",
      "t\n",
      "h\n",
      "o\n",
      "n\n",
      "nn\n"
     ]
    }
   ],
   "source": [
    "# 8. Enumerate\n",
    "texto = 'Hola Mundo, estoy usando for en Python'\n",
    "for letra in texto:\n",
    "    print(letra)\n",
    "texto2 = ''\n",
    "for letra in texto:\n",
    "    texto2 = letra * 2\n",
    "print(texto2)"
   ]
  },
  {
   "cell_type": "code",
   "execution_count": 23,
   "metadata": {},
   "outputs": [
    {
     "name": "stdout",
     "output_type": "stream",
     "text": [
      "0 Java\n",
      "1 C\n",
      "2 C++\n",
      "3 Python\n",
      "4 R\n"
     ]
    }
   ],
   "source": [
    "lenguajes = [\"Java\", \"C\", \"C++\", \"Python\", \"R\"]\n",
    "for i, lenguaje in enumerate(lenguajes):\n",
    "    print(i, lenguaje)"
   ]
  },
  {
   "cell_type": "code",
   "execution_count": 24,
   "metadata": {},
   "outputs": [
    {
     "name": "stdout",
     "output_type": "stream",
     "text": [
      "0 Java\n",
      "1 C\n",
      "2 C++\n",
      "3 Python\n",
      "4 R\n"
     ]
    }
   ],
   "source": [
    "for i in range(len(lenguajes)):\n",
    "    print(i, lenguajes[i])"
   ]
  },
  {
   "cell_type": "code",
   "execution_count": 25,
   "metadata": {},
   "outputs": [
    {
     "name": "stdout",
     "output_type": "stream",
     "text": [
      "1\n",
      "4\n",
      "7\n",
      "10\n",
      "13\n",
      "16\n",
      "19\n"
     ]
    }
   ],
   "source": [
    "# 9. Range\n",
    "for numero in range(1, 20, 3):\n",
    "    print(numero)"
   ]
  },
  {
   "cell_type": "code",
   "execution_count": 26,
   "metadata": {},
   "outputs": [
    {
     "name": "stdout",
     "output_type": "stream",
     "text": [
      "20\n",
      "17\n",
      "14\n",
      "11\n",
      "8\n",
      "5\n",
      "2\n"
     ]
    }
   ],
   "source": [
    "for numero in range(20, 1, -3):\n",
    "    print(numero)"
   ]
  },
  {
   "cell_type": "code",
   "execution_count": 27,
   "metadata": {},
   "outputs": [
    {
     "name": "stdout",
     "output_type": "stream",
     "text": [
      "Numero vale 0\n",
      "Numero vale 1\n",
      "Numero vale 2\n",
      "Numero vale 3\n",
      "Numero vale 4\n",
      "Numero vale 5\n",
      "Numero vale 6\n",
      "Numero vale 7\n",
      "Numero vale 8\n",
      "Numero vale 9\n",
      "Se terminó de iterar y numero vale:  9\n"
     ]
    }
   ],
   "source": [
    "for numero in range(10):\n",
    "    print('Numero vale',numero)\n",
    "else:\n",
    "    print(\"Se terminó de iterar y numero vale: \", numero)"
   ]
  },
  {
   "cell_type": "code",
   "execution_count": 28,
   "metadata": {},
   "outputs": [
    {
     "name": "stdout",
     "output_type": "stream",
     "text": [
      "Se terminó de iterar y numero vale:  0\n",
      "Se terminó de iterar y numero vale:  1\n",
      "Se terminó de iterar y numero vale:  3\n",
      "Se terminó de iterar y numero vale:  4\n",
      "Se terminó de iterar y numero vale:  5\n",
      "Se terminó de iterar y numero vale:  6\n",
      "Se terminó de iterar y numero vale:  7\n"
     ]
    }
   ],
   "source": [
    "for numero in range(10):\n",
    "    if numero == 2:\n",
    "        continue\n",
    "    elif numero == 8:\n",
    "        break\n",
    "    else:\n",
    "        print(\"Se terminó de iterar y numero vale: \", numero)"
   ]
  },
  {
   "cell_type": "code",
   "execution_count": 19,
   "metadata": {},
   "outputs": [
    {
     "name": "stdout",
     "output_type": "stream",
     "text": [
      "Me gusta los aviones, me gustas tú\n",
      "Me gusta viajar, me gustas tú\n",
      "Me gusta la mañana, me gustas tú\n",
      "Me gusta el viento, me gustas tú\n",
      "Me gusta soñar, me gustas tú\n",
      "Me gusta la mar, me gustas tú\n"
     ]
    }
   ],
   "source": [
    "# Actividad en clase\n",
    "lista_cancion = [\"los aviones\", \"viajar\", \"la mañana\", \"el viento\", \"soñar\", \"la mar\"]\n",
    "for frase in lista_cancion:\n",
    "    print(f\"Me gusta {frase}, me gustas tú\")"
   ]
  },
  {
   "cell_type": "code",
   "execution_count": 29,
   "metadata": {
    "scrolled": true
   },
   "outputs": [
    {
     "name": "stdout",
     "output_type": "stream",
     "text": [
      "Chile\n",
      "USA\n",
      "Canada\n",
      "Australia\n",
      "Colombia\n",
      "Uruguay\n",
      "625\n",
      "20\n",
      "19\n",
      "18\n",
      "17\n",
      "16\n",
      "15\n",
      "14\n",
      "13\n",
      "12\n",
      "11\n",
      "10\n",
      "9\n",
      "8\n",
      "7\n",
      "6\n",
      "5\n",
      "4\n",
      "3\n",
      "2\n",
      "1\n"
     ]
    }
   ],
   "source": [
    "# Ejercicios complementarios\n",
    "#Resolución Practicas complementarias\n",
    "\n",
    "#Ejercicio 1\n",
    "paises = ['Chile', 'USA', 'Canada', 'Australia','Colombia','Uruguay']\n",
    "for i in paises:\n",
    "    print(i)\n",
    "\n",
    "#Ejercicio 2\n",
    "suma = 0\n",
    "for i in range(51):\n",
    "    if i % 2 != 0:\n",
    "        suma = suma + i\n",
    "print(suma)\n",
    "\n",
    "#Ejercicio 3\n",
    "for i in range(20,0,-1):\n",
    "    print(i)"
   ]
  },
  {
   "cell_type": "markdown",
   "metadata": {},
   "source": [
    "# Complemento"
   ]
  },
  {
   "cell_type": "code",
   "execution_count": 15,
   "metadata": {},
   "outputs": [
    {
     "name": "stdout",
     "output_type": "stream",
     "text": [
      "c vale -2\n",
      "c vale -1\n",
      "c vale 0\n",
      "c vale 1\n",
      "c vale 2\n",
      "c vale 3\n",
      "c vale 4\n",
      "c vale 5\n",
      "c vale 6\n",
      "c vale 7\n",
      "c vale 8\n",
      "c vale 9\n",
      "c vale 10\n"
     ]
    }
   ],
   "source": [
    "c = -3\n",
    "while c < 10:\n",
    "    c += 1\n",
    "    if c == 2:\n",
    "        pass\n",
    "    print('c vale', c)"
   ]
  },
  {
   "cell_type": "code",
   "execution_count": 1,
   "metadata": {},
   "outputs": [
    {
     "name": "stdout",
     "output_type": "stream",
     "text": [
      "Valor actual : 10\n",
      "Valor actual : 9\n",
      "Valor actual : 8\n",
      "Valor actual : 7\n",
      "Valor actual : 6\n"
     ]
    }
   ],
   "source": [
    "var = 10                    \n",
    "while var > 0:              \n",
    "   print ('Valor actual :', var)\n",
    "   var = var -1\n",
    "   if var == 5:\n",
    "      break"
   ]
  },
  {
   "cell_type": "code",
   "execution_count": null,
   "metadata": {},
   "outputs": [],
   "source": [
    "# Bucles infinitos (No correr)\n",
    "while True:\n",
    "    print('Este es un bucle infinito')"
   ]
  },
  {
   "cell_type": "code",
   "execution_count": 4,
   "metadata": {},
   "outputs": [
    {
     "name": "stdout",
     "output_type": "stream",
     "text": [
      "4\n",
      "5\n",
      "6\n",
      "7\n"
     ]
    }
   ],
   "source": [
    "i = 4\n",
    "while i < 8:\n",
    "    print(i)\n",
    "    i += 1"
   ]
  },
  {
   "cell_type": "code",
   "execution_count": 5,
   "metadata": {},
   "outputs": [
    {
     "name": "stdout",
     "output_type": "stream",
     "text": [
      "Ok, lo conseguiste en el intento 3\n"
     ]
    }
   ],
   "source": [
    "#1.1 While-Else -break\n",
    "chance=1\n",
    "while chance <=3:\n",
    "    txt=input('Escribe SI:')\n",
    "    if txt=='SI':\n",
    "        print('Ok, lo conseguiste en el intento', chance)\n",
    "        break\n",
    "    chance+=1\n",
    "else:\n",
    "    print('Has agaotado tus tres intentos')"
   ]
  },
  {
   "cell_type": "code",
   "execution_count": 6,
   "metadata": {},
   "outputs": [
    {
     "name": "stdout",
     "output_type": "stream",
     "text": [
      "2196\n"
     ]
    }
   ],
   "source": [
    "import random\n",
    "while True:\n",
    "    n = random.randint(0, 10000)\n",
    "    print(n)\n",
    "    # Hacer el break si el numero es par.\n",
    "    if n % 2 == 0:\n",
    "        break"
   ]
  },
  {
   "cell_type": "code",
   "execution_count": 10,
   "metadata": {},
   "outputs": [
    {
     "name": "stdout",
     "output_type": "stream",
     "text": [
      "n vale  4\n",
      "n vale  3\n",
      "Ahora que n vale 2 salimos\n"
     ]
    }
   ],
   "source": [
    "#1.2 Break-continue- pass\n",
    "n=5\n",
    "while n<10:\n",
    "    n-=1\n",
    "    if n==2:\n",
    "        print('Ahora que n vale 2 salimos')\n",
    "        break \n",
    "    print('n vale ', n)"
   ]
  },
  {
   "cell_type": "code",
   "execution_count": 11,
   "metadata": {},
   "outputs": [
    {
     "name": "stdout",
     "output_type": "stream",
     "text": [
      "C vale  -2\n",
      "C vale  -1\n",
      "C vale  0\n",
      "C vale  1\n",
      "Ahora que c vale 2 salimos\n"
     ]
    }
   ],
   "source": [
    "# Ejemplo break \n",
    "c=-3\n",
    "while True:\n",
    "    c+=1\n",
    "    if c==2:\n",
    "        print('Ahora que c vale 2 salimos')\n",
    "        break \n",
    "    print('C vale ', c)"
   ]
  },
  {
   "cell_type": "code",
   "execution_count": 12,
   "metadata": {},
   "outputs": [
    {
     "name": "stdout",
     "output_type": "stream",
     "text": [
      "n vale 1\n",
      "Continuamos con la siguiente iteracion\n",
      "n vale 3\n",
      "n vale 4\n",
      "n vale 5\n",
      "n vale 6\n",
      "n vale 7\n",
      "n vale 8\n",
      "n vale 9\n",
      "n vale 10\n"
     ]
    }
   ],
   "source": [
    "# Continue\n",
    "n=0\n",
    "while n<10:\n",
    "    n+=1\n",
    "    if n==2:\n",
    "        print('Continuamos con la siguiente iteracion')\n",
    "        continue \n",
    "    print('n vale', n)"
   ]
  },
  {
   "cell_type": "code",
   "execution_count": 16,
   "metadata": {},
   "outputs": [
    {
     "name": "stdout",
     "output_type": "stream",
     "text": [
      "16\n",
      "Current Letter : a\n",
      "Current Letter : v\n",
      "Current Letter : i\n",
      "Current Letter :  \n",
      "Current Letter : u\n",
      "Current Letter : e\n",
      "Current Letter : g\n",
      "Current Letter : a\n",
      "Current Letter :  \n",
      "Current Letter : s\n",
      "Current Letter : o\n",
      "Current Letter : l\n",
      "Current Letter : o\n"
     ]
    }
   ],
   "source": [
    "# Imprimir todas las letras excepto 'a' and 'j' \n",
    "i = 0\n",
    "a = 'david Juega solo'\n",
    "print(len(a))\n",
    "  \n",
    "while i < len(a): \n",
    "    if a[i] == 'd' or a[i] == 'J': \n",
    "        i += 1\n",
    "        continue\n",
    "    print('Current Letter :', a[i])\n",
    "    i += 1"
   ]
  },
  {
   "cell_type": "code",
   "execution_count": 13,
   "metadata": {},
   "outputs": [
    {
     "name": "stdout",
     "output_type": "stream",
     "text": [
      "n vale 1\n",
      "n vale 2\n",
      "n vale 3\n",
      "n vale 4\n",
      "n vale 5\n",
      "n vale 6\n",
      "n vale 7\n",
      "n vale 8\n",
      "n vale 9\n",
      "n vale 10\n"
     ]
    }
   ],
   "source": [
    "# Pass\n",
    "n=0\n",
    "while n<10:\n",
    "    n+=1\n",
    "    if n==2:\n",
    "        pass\n",
    "    print('n vale',n)"
   ]
  },
  {
   "cell_type": "code",
   "execution_count": 14,
   "metadata": {},
   "outputs": [
    {
     "name": "stdout",
     "output_type": "stream",
     "text": [
      "C vale -2\n",
      "C vale -1\n",
      "C vale 0\n",
      "C vale 1\n",
      "C vale 2\n",
      "C vale 3\n",
      "C vale 4\n",
      "C vale 5\n",
      "C vale 6\n",
      "C vale 7\n",
      "C vale 8\n",
      "C vale 9\n",
      "C vale 10\n"
     ]
    }
   ],
   "source": [
    "c=-3\n",
    "while c<10:\n",
    "    c+=1\n",
    "    if c==2:\n",
    "        pass\n",
    "    print('C vale', c)"
   ]
  },
  {
   "cell_type": "code",
   "execution_count": 15,
   "metadata": {},
   "outputs": [
    {
     "name": "stdout",
     "output_type": "stream",
     "text": [
      "Parcializado : a=1, b=1\n",
      "Excepcion encontrada: a=2, b=0\n",
      "Parcializado : a=2, b=0\n",
      "Parcializado : a=3, b=-1\n",
      "Parcializado : a=4, b=-2\n",
      "Parcializado : a=5, b=-3\n",
      "Finalizar\n"
     ]
    }
   ],
   "source": [
    "# 1.3 Try- except- finally\n",
    "a=0\n",
    "b= 2\n",
    "while a<5:\n",
    "  a+=1\n",
    "  b-=1\n",
    "  try:\n",
    "    a/b\n",
    "  except:\n",
    "    print(\"Excepcion encontrada: a={0}, b={1}\".format(a,b))\n",
    "    continue\n",
    "  finally:\n",
    "    print(\"Parcializado : a={0}, b={1}\".format(a,b))\n",
    "else:\n",
    "  print('Finalizar')"
   ]
  },
  {
   "cell_type": "code",
   "execution_count": 17,
   "metadata": {},
   "outputs": [
    {
     "name": "stdout",
     "output_type": "stream",
     "text": [
      "Soy el item de la lista y valgo 1\n",
      "Soy el item de la lista y valgo 2\n",
      "Soy el item de la lista y valgo 3\n",
      "Soy el item de la lista y valgo 4\n",
      "Soy el item de la lista y valgo 5\n"
     ]
    }
   ],
   "source": [
    "# 2. For\n",
    "lista=[1,2,3,4,5]\n",
    "for valor in lista:\n",
    "    print('Soy el item de la lista y valgo', valor)"
   ]
  },
  {
   "cell_type": "code",
   "execution_count": 19,
   "metadata": {},
   "outputs": [
    {
     "name": "stdout",
     "output_type": "stream",
     "text": [
      "Soy un valor de la lista y valgo 0\n",
      "Soy un valor de la lista y ahora valgo 0\n",
      "Soy un valor de la lista y valgo 1\n",
      "Soy un valor de la lista y ahora valgo 5\n",
      "Soy un valor de la lista y valgo 2\n",
      "Soy un valor de la lista y ahora valgo 10\n",
      "Soy un valor de la lista y valgo 3\n",
      "Soy un valor de la lista y ahora valgo 15\n",
      "Soy un valor de la lista y valgo 4\n",
      "Soy un valor de la lista y ahora valgo 20\n"
     ]
    }
   ],
   "source": [
    "lista=[0,1,2,3,4]\n",
    "for num in lista:\n",
    "    print('Soy un valor de la lista y valgo',num)\n",
    "    num*=5\n",
    "    print('Soy un valor de la lista y ahora valgo',num)"
   ]
  },
  {
   "cell_type": "code",
   "execution_count": 20,
   "metadata": {},
   "outputs": [
    {
     "name": "stdout",
     "output_type": "stream",
     "text": [
      "[0, 5, 10, 15, 20, 25]\n"
     ]
    }
   ],
   "source": [
    "indice=0\n",
    "numeros=[0,1,2,3,4,5]\n",
    "for numero in numeros:\n",
    "    numeros[indice]*=5\n",
    "    indice+=1\n",
    "print(numeros)"
   ]
  },
  {
   "cell_type": "code",
   "execution_count": 22,
   "metadata": {},
   "outputs": [
    {
     "name": "stdout",
     "output_type": "stream",
     "text": [
      "E\n",
      "D\n",
      "U\n",
      "R\n"
     ]
    }
   ],
   "source": [
    "company = ['E','D','U','R','A','K','E']\n",
    "for x in company:\n",
    "    if x == \"A\":\n",
    "        break\n",
    "    print(x)"
   ]
  },
  {
   "cell_type": "code",
   "execution_count": 23,
   "metadata": {},
   "outputs": [
    {
     "name": "stdout",
     "output_type": "stream",
     "text": [
      "['red', 'black', 'white']\n"
     ]
    }
   ],
   "source": [
    "# Iteraciones con efectos\n",
    "colours = [\"red\"]\n",
    "for i in colours:\n",
    "    if i == \"red\":\n",
    "        colours += [\"black\"]\n",
    "    elif i == \"black\":\n",
    "        colours += [\"white\"]\n",
    "print(colours)"
   ]
  },
  {
   "cell_type": "code",
   "execution_count": 24,
   "metadata": {},
   "outputs": [
    {
     "name": "stdout",
     "output_type": "stream",
     "text": [
      "['red', 'black']\n"
     ]
    }
   ],
   "source": [
    "colours = [\"red\"]\n",
    "for i in colours[:]:\n",
    "    if i == \"red\":\n",
    "        colours += [\"black\"]\n",
    "    elif i == \"black\":\n",
    "        colours += [\"white\"]\n",
    "print(colours)"
   ]
  },
  {
   "cell_type": "code",
   "execution_count": 26,
   "metadata": {},
   "outputs": [
    {
     "name": "stdout",
     "output_type": "stream",
     "text": [
      "Indice: 0\n",
      "Numero: 66 \n",
      "\n",
      "\n",
      "f- > 66\n",
      "\n",
      " -------------------\n",
      "Indice: 1\n",
      "Numero: -3 \n",
      "\n",
      "\n",
      "f- > -3\n",
      "\n",
      " -------------------\n",
      "Indice: 2\n",
      "Numero: 35 \n",
      "\n",
      "\n",
      "f- > 35\n",
      "\n",
      " -------------------\n",
      "Indice: 3\n",
      "Numero: 96 \n",
      "\n",
      "\n",
      "f- > 96\n",
      "\n",
      " -------------------\n"
     ]
    }
   ],
   "source": [
    "# 1.1 Enumerate\n",
    "lista=[66,-3,35,96]\n",
    "for indice, numero in enumerate(lista):\n",
    "    print(f\"Indice: {indice}\")\n",
    "    print(f\"Numero: {numero} \\n\\n\")\n",
    "    print(f\"f- > {lista[indice]}\\n\\n -------------------\")"
   ]
  },
  {
   "cell_type": "code",
   "execution_count": 27,
   "metadata": {},
   "outputs": [
    {
     "name": "stdout",
     "output_type": "stream",
     "text": [
      "Numero vale:  0\n",
      "Numero vale:  1\n",
      "Numero vale:  2\n",
      "Numero vale:  3\n",
      "Numero vale:  4\n",
      "Numero vale:  5\n",
      "Numero vale:  6\n",
      "Numero vale:  7\n",
      "Numero vale:  8\n",
      "Numero vale:  9\n",
      "Se termino de iterar y numero vale 9\n"
     ]
    }
   ],
   "source": [
    "# 1.2 Range\n",
    "for numero in range(10):\n",
    "    print('Numero vale: ', numero)\n",
    "else:\n",
    "    print('Se termino de iterar y numero vale', numero)"
   ]
  },
  {
   "cell_type": "code",
   "execution_count": 28,
   "metadata": {},
   "outputs": [
    {
     "name": "stdout",
     "output_type": "stream",
     "text": [
      "2\n",
      "3\n",
      "4\n"
     ]
    }
   ],
   "source": [
    "for i in range(2,5,1):\n",
    "    print(i)"
   ]
  },
  {
   "cell_type": "code",
   "execution_count": 29,
   "metadata": {},
   "outputs": [
    {
     "name": "stdout",
     "output_type": "stream",
     "text": [
      "Numero vale 0\n",
      "Numero vale 1\n",
      "Numero vale 3\n",
      "Numero vale 4\n",
      "Numero vale 5\n",
      "Numero vale 6\n",
      "Numero vale 7\n"
     ]
    }
   ],
   "source": [
    "# 1.3 For- break-continue-pass\n",
    "for numero in range(10):\n",
    "    if numero==2:\n",
    "        continue \n",
    "    elif numero ==8:\n",
    "        break\n",
    "    print('Numero vale', numero)\n",
    "else:\n",
    "    print('Se termino de iterar y numero vale', numero)"
   ]
  },
  {
   "cell_type": "code",
   "execution_count": 31,
   "metadata": {},
   "outputs": [
    {
     "name": "stdout",
     "output_type": "stream",
     "text": [
      "Pais 1: Canada\n",
      "Pais 2: USA\n",
      "Pais 3: Mexico\n",
      "Pais 4: Australia\n",
      "Pais 5: Argentina\n",
      "Pais 6: China\n",
      "Pais 7: India\n"
     ]
    }
   ],
   "source": [
    "# Ejercicios\n",
    "paises=['Canada','USA','Mexico','Australia','Argentina','China','India']\n",
    "for i,j in enumerate(paises):\n",
    "    print(f'Pais {i+1}: {j}')"
   ]
  },
  {
   "cell_type": "code",
   "execution_count": 35,
   "metadata": {},
   "outputs": [
    {
     "name": "stdout",
     "output_type": "stream",
     "text": [
      "2550\n"
     ]
    }
   ],
   "source": [
    "conteo=0\n",
    "for i in range(0,100+1,1):\n",
    "    if i%2==0:\n",
    "        conteo+=i\n",
    "    else:\n",
    "        continue\n",
    "print(conteo)"
   ]
  },
  {
   "cell_type": "code",
   "execution_count": 39,
   "metadata": {},
   "outputs": [
    {
     "name": "stdout",
     "output_type": "stream",
     "text": [
      "0  Es un numero par\n",
      "1  es un numero impar\n",
      "2  Es un numero par\n",
      "3  es un numero impar\n",
      "4  Es un numero par\n",
      "5  es un numero impar\n",
      "6  Es un numero par\n",
      "7  es un numero impar\n",
      "8  Es un numero par\n",
      "9  es un numero impar\n"
     ]
    }
   ],
   "source": [
    "n=0 \n",
    "while n<10:\n",
    "    if (n%2)==0:\n",
    "        print(n, ' Es un numero par')\n",
    "    else:\n",
    "        print(n, ' es un numero impar')\n",
    "    n+=1"
   ]
  },
  {
   "cell_type": "code",
   "execution_count": 37,
   "metadata": {},
   "outputs": [
    {
     "name": "stdout",
     "output_type": "stream",
     "text": [
      "10\n",
      "9\n",
      "8\n",
      "7\n",
      "6\n",
      "5\n",
      "4\n",
      "3\n",
      "2\n",
      "1\n"
     ]
    }
   ],
   "source": [
    "for i in range(10,0,-1):\n",
    "    print(i)"
   ]
  },
  {
   "cell_type": "code",
   "execution_count": 38,
   "metadata": {},
   "outputs": [
    {
     "name": "stdout",
     "output_type": "stream",
     "text": [
      "4\n"
     ]
    }
   ],
   "source": [
    "numero=input('Ingresa un numero entero:')\n",
    "conteo=0\n",
    "for i in numero:\n",
    "    conteo+=1\n",
    "print(conteo)"
   ]
  }
 ],
 "metadata": {
  "kernelspec": {
   "display_name": "Python 3 (ipykernel)",
   "language": "python",
   "name": "python3"
  },
  "language_info": {
   "codemirror_mode": {
    "name": "ipython",
    "version": 3
   },
   "file_extension": ".py",
   "mimetype": "text/x-python",
   "name": "python",
   "nbconvert_exporter": "python",
   "pygments_lexer": "ipython3",
   "version": "3.9.12"
  },
  "vscode": {
   "interpreter": {
    "hash": "8649ced70e2df50cbec1162fce5f764529cbe99dc753d77d52a836183a2bd877"
   }
  }
 },
 "nbformat": 4,
 "nbformat_minor": 2
}
