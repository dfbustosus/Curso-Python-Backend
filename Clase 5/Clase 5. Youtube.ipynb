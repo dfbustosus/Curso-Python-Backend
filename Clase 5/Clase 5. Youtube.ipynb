{
 "cells": [
  {
   "attachments": {},
   "cell_type": "markdown",
   "metadata": {},
   "source": [
    "# While\n",
    "Loop para iterar hasta que cierta condicion no se cumpla\n",
    "\n",
    "```python \n",
    "while expresion:\n",
    "    ejecucion \n",
    "```"
   ]
  },
  {
   "cell_type": "code",
   "execution_count": 1,
   "metadata": {},
   "outputs": [
    {
     "name": "stdout",
     "output_type": "stream",
     "text": [
      "1#\n",
      "2#\n",
      "3#\n",
      "4#\n",
      "5#\n",
      "6#\n",
      "7#\n",
      "8#\n",
      "9#\n",
      "10#\n"
     ]
    }
   ],
   "source": [
    "i=0\n",
    "while i <10:\n",
    "    i+=1\n",
    "    print(i, end='#')\n",
    "    print()"
   ]
  },
  {
   "cell_type": "code",
   "execution_count": 2,
   "metadata": {},
   "outputs": [
    {
     "name": "stdout",
     "output_type": "stream",
     "text": [
      "La condicion es verdad\n",
      "La condicion es verdad\n",
      "La condicion es verdad\n",
      "La condicion es verdad\n",
      "La condicion es verdad\n",
      "La condicion es verdad\n",
      "Se acado el loop\n"
     ]
    }
   ],
   "source": [
    "count=0\n",
    "while count <=5:\n",
    "    print(\"La condicion es verdad\")\n",
    "    count+=1\n",
    "print(\"Se acado el loop\")"
   ]
  },
  {
   "attachments": {},
   "cell_type": "markdown",
   "metadata": {},
   "source": [
    "# Break\n",
    "\n",
    "Permite salior del bucle cuando se cumple una condicion\n",
    "\n",
    "```python\n",
    "break\n",
    "```\n"
   ]
  },
  {
   "cell_type": "code",
   "execution_count": 7,
   "metadata": {},
   "outputs": [
    {
     "name": "stdout",
     "output_type": "stream",
     "text": [
      "El numero nuevo es 1\n",
      "El numero nuevo es 2\n",
      "El numero nuevo es 3\n",
      " Se termino el loop\n"
     ]
    }
   ],
   "source": [
    "x=0\n",
    "while x<=10:\n",
    "    if x==3:\n",
    "        break # descanso o interrupcion\n",
    "    print(\"El numero nuevo es\", x+1)\n",
    "    x+=1\n",
    "print(\" Se termino el loop\")"
   ]
  },
  {
   "attachments": {},
   "cell_type": "markdown",
   "metadata": {},
   "source": [
    "# Continue \n",
    "\n",
    "Omite una parte del bucle cuando se cumple una condicion. Continua con el resto\n",
    "\n",
    "```python \n",
    "continue\n",
    "```"
   ]
  },
  {
   "cell_type": "code",
   "execution_count": 12,
   "metadata": {},
   "outputs": [
    {
     "name": "stdout",
     "output_type": "stream",
     "text": [
      "El numero nuevo es 2\n",
      "El numero nuevo es 3\n",
      "El numero nuevo es 5\n",
      "El numero nuevo es 6\n",
      "El numero nuevo es 7\n",
      " Se termino el loop\n"
     ]
    }
   ],
   "source": [
    "x=0\n",
    "while x<=5:\n",
    "    x+=1\n",
    "    if x==3:\n",
    "        continue # continuar con el resto del bucle\n",
    "    print(\"El numero nuevo es\", x+1)\n",
    "print(\" Se termino el loop\")"
   ]
  },
  {
   "attachments": {},
   "cell_type": "markdown",
   "metadata": {},
   "source": [
    "# Pass\n",
    "Permite continuar con una sentencia o funcion que ya no tiene un bloque de codigo util\n",
    "\n",
    "```python \n",
    "pass\n",
    "```"
   ]
  },
  {
   "cell_type": "code",
   "execution_count": 17,
   "metadata": {},
   "outputs": [
    {
     "name": "stdout",
     "output_type": "stream",
     "text": [
      "9\n",
      "8\n",
      "7\n",
      "6\n",
      "4\n",
      "3\n",
      "2\n"
     ]
    }
   ],
   "source": [
    "x=10\n",
    "while x>2:\n",
    "    x-=1\n",
    "    if x ==5: # Desactiva el bloque de codigo\n",
    "        pass\n",
    "    else:\n",
    "        print(x)"
   ]
  },
  {
   "attachments": {},
   "cell_type": "markdown",
   "metadata": {},
   "source": [
    "# For \n",
    "\n",
    "Ciclo para iterar sobre distintos items en una secuencia como listas,tuplas, diccionarios o strings\n",
    "\n",
    "```python\n",
    "for iterador in sequence:\n",
    "    acciones\n",
    "```"
   ]
  },
  {
   "cell_type": "code",
   "execution_count": 19,
   "metadata": {},
   "outputs": [
    {
     "name": "stdout",
     "output_type": "stream",
     "text": [
      "D\n",
      "a\n",
      "v\n",
      "i\n",
      "d\n"
     ]
    }
   ],
   "source": [
    "# Strings\n",
    "s=\"David\"\n",
    "for i in s:\n",
    "    print(i)"
   ]
  },
  {
   "cell_type": "code",
   "execution_count": 20,
   "metadata": {},
   "outputs": [
    {
     "name": "stdout",
     "output_type": "stream",
     "text": [
      "Java\n",
      "Python\n",
      "Ruby\n",
      "HTML\n"
     ]
    }
   ],
   "source": [
    "# Listas\n",
    "lang=['Java','Python',\"Ruby\",'HTML']\n",
    "for a in lang:\n",
    "    print(a)"
   ]
  },
  {
   "cell_type": "code",
   "execution_count": 22,
   "metadata": {},
   "outputs": [
    {
     "name": "stdout",
     "output_type": "stream",
     "text": [
      "1\n",
      "3\n",
      "5\n",
      "7\n",
      "9\n"
     ]
    }
   ],
   "source": [
    "# range\n",
    "for i in range(1,10,2):\n",
    "    print(i)"
   ]
  },
  {
   "cell_type": "code",
   "execution_count": 23,
   "metadata": {},
   "outputs": [
    {
     "name": "stdout",
     "output_type": "stream",
     "text": [
      "Veamos las letras de Google\n",
      "G\n",
      "o\n",
      "o\n",
      "g\n",
      "l\n",
      "e\n",
      "Veamos las letras de Amazon\n",
      "A\n",
      "m\n",
      "a\n",
      "z\n",
      "o\n",
      "n\n",
      "Veamos las letras de Apple\n",
      "A\n",
      "p\n",
      "p\n",
      "l\n",
      "e\n"
     ]
    }
   ],
   "source": [
    "# Nested For\n",
    "comp=['Google','Amazon','Apple']\n",
    "for i in comp:\n",
    "    print(\"Veamos las letras de\", i)\n",
    "    for l in i:\n",
    "        print(l)"
   ]
  },
  {
   "attachments": {},
   "cell_type": "markdown",
   "metadata": {},
   "source": [
    "# Ejemplo\n",
    "\n",
    "Eres el primer empleado del banco DBU y tenemos nuestros tres primeros clientes con los siguientes nombres, balance y numeros de cuenta:\n",
    "\n",
    "```python \n",
    "accounts = [\n",
    "    [\"John Doe\", 1000.0, \"123456789\"],\n",
    "    [\"Jane Doe\", 500.0, \"987654321\"],\n",
    "    [\"Jim Smith\", 2000.0, \"111111111\"]\n",
    "]\n",
    "```\n",
    "El gerente del banco necesita que diseñes un sistema basico por el momento que satisfaga lo siguiente:\n",
    "1. Debe mostrar 5 opciones para accionar (1=Ver todas las cuentas de todos los clientes, 2=Ver detalles de tu cuenta, 3= Retirar dinero de tu cuenta, 4= Depositar en tu cuenta y 5= Salir del sistema)\n",
    "2. La **opcion 1** debe permitir ver todas las cuentas del sistema\n",
    "3. La **opcion 2** te debe pedir tu numero de cuenta y si existe mostrar balance y numero de cuenta en caso contrario debe desplegar un mensaje que diga la cuenta no fue encontrada\n",
    "4. La **opcion 3** te debe pedir tu numero de cuenta y si existe deberas ingresar $ a retirar y si no tienes suficientes fondos debe mandar una alerta, si tienes fondos debe mostrarte cuanto sacaste de tu cuenta y el balance actual\n",
    "5. La **opcion 4** te debe pedir tu numero de cuenta y si existe deberas ingresar $ a depositar ademas debera mostrarte tu balance actual\n",
    "6. La **opcion 5** te dejara salir del sistema"
   ]
  },
  {
   "cell_type": "code",
   "execution_count": 4,
   "metadata": {},
   "outputs": [
    {
     "name": "stdout",
     "output_type": "stream",
     "text": [
      "\n",
      "Bienvenido al sistema de transacciones del banco DBU\n",
      "1. Ver todas las cuentas\n",
      "2. Ver detalles de tu cuenta\n",
      "3. Retirar dinero de tu cuenta\n",
      "4. Depositar en tu cuenta\n",
      "5. Salir\n",
      "\n",
      "Todas las cuentas:\n",
      "1. John Doe (123456789)\n",
      "2. Jane Doe (987654321)\n",
      "3. Jim Smith (111111111)\n",
      "\n",
      "Informacion para la cuenta John Doe:\n",
      "Numero de cuenta: 123456789\n",
      "Balance: $1000.0\n",
      "\n",
      "$10.0 retirados de tu cuenta.\n",
      "Balance actual: $490.0\n",
      "\n",
      "$100.0 han sido depositados.\n",
      "Balance actual: $1100.0\n",
      "\n",
      "Saliendo del sistema del banco DBU.\n"
     ]
    }
   ],
   "source": [
    "# Definimos las cuentas con nombre, balance y numero de cuenta\n",
    "accounts = [\n",
    "    [\"John Doe\", 1000.0, \"123456789\"],\n",
    "    [\"Jane Doe\", 500.0, \"987654321\"],\n",
    "    [\"Jim Smith\", 2000.0, \"111111111\"]\n",
    "]\n",
    "\n",
    "# Desplegamos el meno\n",
    "print(\"\\nBienvenido al sistema de transacciones del banco DBU\")\n",
    "print(\"1. Ver todas las cuentas\")\n",
    "print(\"2. Ver detalles de tu cuenta\")\n",
    "print(\"3. Retirar dinero de tu cuenta\")\n",
    "print(\"4. Depositar en tu cuenta\")\n",
    "print(\"5. Salir\")\n",
    "\n",
    "# Repetir continuamente hasta que el usuario salga\n",
    "while True:\n",
    "    # Obtener la opcion del usuario\n",
    "    choice = int(input(\"\\nIngresa tu opcion: \"))\n",
    "\n",
    "    # Ver todas las cuentas\n",
    "    if choice == 1:\n",
    "        print(\"\\nTodas las cuentas:\")\n",
    "        for i, account in enumerate(accounts):\n",
    "            print(f\"{i+1}. {account[0]} ({account[2]})\")\n",
    "\n",
    "    # Ver detalles de la cuenta\n",
    "    elif choice == 2:\n",
    "        account_number = input(\"\\nIngresa tu numero de cuenta: \")\n",
    "        for i, account in enumerate(accounts):\n",
    "            if account[2] == account_number:\n",
    "                print(f\"\\nInformacion para la cuenta {account[0]}:\")\n",
    "                print(f\"Numero de cuenta: {account[2]}\")\n",
    "                print(f\"Balance: ${account[1]}\")\n",
    "                break\n",
    "        else:\n",
    "            print(\"\\nCuenta no encontrada.\")\n",
    "\n",
    "    # Retirar de tu cuenta\n",
    "    elif choice == 3:\n",
    "        account_number = input(\"\\nIngresa el numero de tu cuenta: \")\n",
    "        for i, account in enumerate(accounts):\n",
    "            if account[2] == account_number:\n",
    "                withdraw_amount = float(input(\"Ingresa la cantidad a retirar: $\"))\n",
    "                if account[1] - withdraw_amount >= 0:\n",
    "                    account[1] -= withdraw_amount # reducir el monto\n",
    "                    print(f\"\\n${withdraw_amount} retirados de tu cuenta.\")\n",
    "                    print(f\"Balance actual: ${account[1]}\")\n",
    "                else:\n",
    "                    print(\"\\nFondos insuficientes.\")\n",
    "                break\n",
    "        else:\n",
    "            print(\"\\nCuenta no encontrada.\")\n",
    "\n",
    "    # Depositar el la cuenta\n",
    "    elif choice == 4:\n",
    "        account_number = input(\"\\nIngresa el numero de cuenta: \")\n",
    "        for i, account in enumerate(accounts):\n",
    "            if account[2] == account_number:\n",
    "                deposit_amount = float(input(\"Ingresa la cantidad a depositar: $\"))\n",
    "                account[1] += deposit_amount\n",
    "                print(f\"\\n${deposit_amount} han sido depositados.\")\n",
    "                print(f\"Balance actual: ${account[1]}\")\n",
    "                break\n",
    "        else:\n",
    "            print(\"\\nCuenta no encontrada.\")\n",
    "\n",
    "    # Salida\n",
    "    elif choice == 5:\n",
    "        print(\"\\nSaliendo del sistema del banco DBU.\")\n",
    "        break\n",
    "\n",
    "    # Opcion invalida\n",
    "    else:\n",
    "        print(\"\\nOpcion invalida. Intentalo otra vez.\")"
   ]
  }
 ],
 "metadata": {
  "kernelspec": {
   "display_name": "Python 3",
   "language": "python",
   "name": "python3"
  },
  "language_info": {
   "codemirror_mode": {
    "name": "ipython",
    "version": 3
   },
   "file_extension": ".py",
   "mimetype": "text/x-python",
   "name": "python",
   "nbconvert_exporter": "python",
   "pygments_lexer": "ipython3",
   "version": "3.10.10"
  },
  "orig_nbformat": 4,
  "vscode": {
   "interpreter": {
    "hash": "8649ced70e2df50cbec1162fce5f764529cbe99dc753d77d52a836183a2bd877"
   }
  }
 },
 "nbformat": 4,
 "nbformat_minor": 2
}
