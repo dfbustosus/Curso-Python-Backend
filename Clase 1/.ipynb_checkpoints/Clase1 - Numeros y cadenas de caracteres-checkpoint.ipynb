{
 "cells": [
  {
   "cell_type": "code",
   "execution_count": 2,
   "metadata": {},
   "outputs": [
    {
     "name": "stdout",
     "output_type": "stream",
     "text": [
      "<class 'int'>\n",
      "<class 'float'>\n",
      "<class 'complex'>\n",
      "<class 'complex'>\n",
      "3.0\n",
      "-7.0\n"
     ]
    }
   ],
   "source": [
    "#1. Numeros\n",
    "# 1.1 Enteros\n",
    "print(type(2))\n",
    "# 1.2 Decimales\n",
    "print(type(1.322))\n",
    "# 1.3 Complejos\n",
    "print(type(2 +4j))\n",
    "c= 3-7j\n",
    "print(type(c))\n",
    "print(c.real)\n",
    "print(c.imag)"
   ]
  },
  {
   "cell_type": "code",
   "execution_count": 3,
   "metadata": {},
   "outputs": [
    {
     "name": "stdout",
     "output_type": "stream",
     "text": [
      "4.6\n",
      "0.5\n",
      "20\n",
      "8\n",
      "0.8333333333333334\n",
      "1\n",
      "2\n"
     ]
    }
   ],
   "source": [
    "# 2. Operaciones numericas\n",
    "# 2.1 Suma\n",
    "print(2.5+2.1)\n",
    "# 2.2 Resta\n",
    "print(4-3.5)\n",
    "# 2.3 Multiplicacion\n",
    "print(5*4)\n",
    "# 2.4 Potencia\n",
    "print(2**3)\n",
    "# 2.5 Division\n",
    "print(5/6)\n",
    "# 2.6 division (resto)\n",
    "print(4%3) \n",
    "# 2.7 Floor division (division parte entera)\n",
    "print(5//2) "
   ]
  },
  {
   "cell_type": "code",
   "execution_count": 4,
   "metadata": {},
   "outputs": [
    {
     "name": "stdout",
     "output_type": "stream",
     "text": [
      "150\n"
     ]
    }
   ],
   "source": [
    "# 3. Precedencia de operaciones\n",
    "'''\n",
    "1. Parentesis\n",
    "2. Exponenciacion\n",
    "3. * y /, %, //\n",
    "4. + y -\n",
    "'''\n",
    "print((4**2 +3*4 +2)*(2*1+3))"
   ]
  },
  {
   "cell_type": "code",
   "execution_count": 8,
   "metadata": {},
   "outputs": [
    {
     "name": "stdout",
     "output_type": "stream",
     "text": [
      "Una cadena \t con tabulacion\n",
      "Una cadena \n",
      " con nueva linea\n",
      "C:Users/Windows/David\n",
      "C:David/Users/Windows\n",
      "Esta es una cadena \n",
      "en formato long\n",
      "<class 'str'>\n",
      "3\n",
      "David_  _Juan\n",
      "False\n",
      "True\n",
      "Hola David, has obtenido un score de 3 del total de 100.000000\n",
      "Hola Juan, has obtenido un score de 2.150000 del total de 2.500000\n"
     ]
    }
   ],
   "source": [
    "# 4. Strings\n",
    "print('Una cadena \\t con tabulacion')\n",
    "print('Una cadena \\n con nueva linea')\n",
    "print('C:Users/Windows/David')\n",
    "print(r'C:David/Users/Windows')\n",
    "print(\"\"\"Esta es una cadena \n",
    "en formato long\"\"\")\n",
    "a = \"1\"\n",
    "print(type(a))\n",
    "print(1+2)\n",
    "print(\"David_\",\" _Juan\") # Concatenation de Strings\n",
    "a = \"pic123\"\n",
    "b = \"21344\"\n",
    "print (a.isnumeric()) # Fijense que el print no esta pegado al parentesis \n",
    "print (b.isnumeric()) # Con la funcion is.numeric puedo verificar si es numero "
   ]
  },
  {
   "cell_type": "code",
   "execution_count": 9,
   "metadata": {},
   "outputs": [
    {
     "name": "stdout",
     "output_type": "stream",
     "text": [
      "Una cadena \t con tabulacion\n",
      "Una cadena \n",
      " con nueva linea\n",
      "C:Users/Windows/David\n",
      "C:David/Users/Windows\n",
      "Esta es una cadena \n",
      "en formato long\n",
      "Hola David, has obtenido un score de 3 del total de 100.000000\n",
      "Hola Juan, has obtenido un score de 2.150000 del total de 2.500000\n"
     ]
    }
   ],
   "source": [
    "# 5. Print\n",
    "print('Una cadena \\t con tabulacion')\n",
    "print('Una cadena \\n con nueva linea')\n",
    "print('C:Users/Windows/David')\n",
    "print(r'C:David/Users/Windows')\n",
    "print(\"\"\"Esta es una cadena \n",
    "en formato long\"\"\")\n",
    "print(\"Hola %s, has obtenido un score de %i del total de %f\" % (\"David\", 3, 100))\n",
    "print(\"Hola %s, has obtenido un score de %f del total de %f\" % (\"Juan\", 2.15, 2.5))"
   ]
  },
  {
   "cell_type": "code",
   "execution_count": 11,
   "metadata": {},
   "outputs": [
    {
     "name": "stdout",
     "output_type": "stream",
     "text": [
      "2\n",
      "<class 'int'>\n",
      "<class 'bool'>\n",
      "<class 'str'>\n",
      "<class 'str'>\n",
      "David Juan Andrea\n"
     ]
    }
   ],
   "source": [
    "# 6. Variables\n",
    "a=2\n",
    "print(a)\n",
    "print(type(a))\n",
    "b= True\n",
    "print(type(b))\n",
    "c_123= \"David F BU\"\n",
    "print(type(c_123))\n",
    "d_Juan_Perez= 'Este es un escenario X'\n",
    "print(type(d_Juan_Perez))\n",
    "nombre='David'\n",
    "Nombre='Juan'\n",
    "nomBre='Andrea'\n",
    "print(nombre, Nombre, nomBre) # Distincion de mayusculas"
   ]
  },
  {
   "cell_type": "code",
   "execution_count": 11,
   "metadata": {},
   "outputs": [
    {
     "name": "stdout",
     "output_type": "stream",
     "text": [
      "<class 'str'> <class 'int'> <class 'float'>\n",
      "5 5 5.0\n"
     ]
    }
   ],
   "source": [
    "# Ejemplo en vivo 1\n",
    "#Si deseamos definir el tipo de dato de una variable podemos por ejmplo hacer lo siguiente:\n",
    "x = str(5)    # x sera '5'\n",
    "y = int(5)    # y sera 5\n",
    "z = float(5)  # z sera 5.0\n",
    "print(type(x),type(y),type(z))\n",
    "print(x,y,z)"
   ]
  },
  {
   "cell_type": "code",
   "execution_count": 12,
   "metadata": {},
   "outputs": [],
   "source": [
    "#Importante: Python es Case Sentitive, el siguiente codigo creara 2 variables:\n",
    "a = 4\n",
    "A = \"Susan\"\n",
    "# Nombres aceptados por las variables\n",
    "myvar = \"Susan\"\n",
    "my_var = \"Susan\"\n",
    "_my_var = \"Susan\"\n",
    "myVar = \"Susan\"\n",
    "MYVAR = \"Susan\"\n",
    "myvar2 = \"Susan\""
   ]
  },
  {
   "cell_type": "code",
   "execution_count": 13,
   "metadata": {},
   "outputs": [
    {
     "ename": "SyntaxError",
     "evalue": "invalid syntax (3882809572.py, line 2)",
     "output_type": "error",
     "traceback": [
      "\u001b[1;36m  Input \u001b[1;32mIn [13]\u001b[1;36m\u001b[0m\n\u001b[1;33m    2myvar = \"John\"\u001b[0m\n\u001b[1;37m     ^\u001b[0m\n\u001b[1;31mSyntaxError\u001b[0m\u001b[1;31m:\u001b[0m invalid syntax\n"
     ]
    }
   ],
   "source": [
    "# Nombres no aceptados\n",
    "2myvar = \"John\"\n",
    "my-var = \"John\"\n",
    "my var = \"John\""
   ]
  },
  {
   "cell_type": "code",
   "execution_count": 14,
   "metadata": {},
   "outputs": [
    {
     "name": "stdout",
     "output_type": "stream",
     "text": [
      "Naranja\n",
      "Manzana\n",
      "Cherry\n"
     ]
    }
   ],
   "source": [
    "#Muchos valores para múltiples variables\n",
    "x, y, z = \"Naranja\", \"Manzana\", \"Cherry\"\n",
    "\n",
    "print(x)\n",
    "print(y)\n",
    "print(z)"
   ]
  },
  {
   "cell_type": "code",
   "execution_count": 15,
   "metadata": {},
   "outputs": [
    {
     "name": "stdout",
     "output_type": "stream",
     "text": [
      "Naranja\n",
      "Naranja\n",
      "Naranja\n"
     ]
    }
   ],
   "source": [
    "#Un valor para múltiples variables\n",
    "x = y = z = \"Naranja\"\n",
    "print(x)\n",
    "print(y)\n",
    "print(z)"
   ]
  },
  {
   "cell_type": "code",
   "execution_count": 23,
   "metadata": {},
   "outputs": [
    {
     "name": "stdout",
     "output_type": "stream",
     "text": [
      "4\n",
      "4.6\n",
      "<class 'int'>\n",
      "4.0\n"
     ]
    }
   ],
   "source": [
    "#Conversion de variables numericas\n",
    "x = 4.6\n",
    "y = 5.4\n",
    "#Con esta función estamos convirtiendo a la variable x en una variable de tipo int\n",
    "z = int(x)\n",
    "print(z)\n",
    "#La función round redondea el número al valor superior más próximo\n",
    "z = round(x,2)\n",
    "print(z)\n",
    "#Veamos nuevamente el tipo de dato de x\n",
    "x = 4\n",
    "print(type(x))\n",
    "#Convertimos en flotante\n",
    "z = float(x)\n",
    "print(z)"
   ]
  },
  {
   "cell_type": "code",
   "execution_count": 24,
   "metadata": {},
   "outputs": [
    {
     "name": "stdout",
     "output_type": "stream",
     "text": [
      "Lorem ipsum dolor sit amet,\n",
      "consectetur adipiscing elit,\n",
      "sed do eiusmod tempor incididunt\n",
      "ut labore et dolore magna aliqua.\n"
     ]
    }
   ],
   "source": [
    "# Strings\n",
    "#Cadenas multilínea\n",
    "a = \"\"\"Lorem ipsum dolor sit amet,\n",
    "consectetur adipiscing elit,\n",
    "sed do eiusmod tempor incididunt\n",
    "ut labore et dolore magna aliqua.\"\"\"\n",
    "print(a)"
   ]
  },
  {
   "cell_type": "code",
   "execution_count": 26,
   "metadata": {},
   "outputs": [
    {
     "name": "stdout",
     "output_type": "stream",
     "text": [
      "Mi nombre es John, y tengo 36\n"
     ]
    }
   ],
   "source": [
    "#Formateo de Strings: Si yo intento combinar strings con nros obtendremos un error:\n",
    "edad = 36\n",
    "txt = \"Mi nombre es John, y tengo \" + str(edad)\n",
    "#txt = \"Mi nombre es John, y tengo \" + str(edad)\n",
    "print(txt)"
   ]
  },
  {
   "cell_type": "code",
   "execution_count": 27,
   "metadata": {},
   "outputs": [
    {
     "name": "stdout",
     "output_type": "stream",
     "text": [
      "Mi nombre es John, y tengo 36\n"
     ]
    }
   ],
   "source": [
    "# Funcion format()\n",
    "edad = 36\n",
    "txt = \"Mi nombre es John, y tengo {}\"\n",
    "print(txt.format(edad))"
   ]
  },
  {
   "cell_type": "code",
   "execution_count": 6,
   "metadata": {},
   "outputs": [
    {
     "name": "stdout",
     "output_type": "stream",
     "text": [
      "Hola como te llamas?: David\n"
     ]
    }
   ],
   "source": [
    "# 7. Input\n",
    "nombre_x= input('Hola como te llamas?: ')"
   ]
  },
  {
   "cell_type": "code",
   "execution_count": 7,
   "metadata": {},
   "outputs": [
    {
     "name": "stdout",
     "output_type": "stream",
     "text": [
      "Que edad tienes?: 10\n",
      "<class 'int'>\n"
     ]
    }
   ],
   "source": [
    "edad= int(input('Que edad tienes?: '))\n",
    "print(type(edad))"
   ]
  },
  {
   "cell_type": "code",
   "execution_count": 28,
   "metadata": {},
   "outputs": [
    {
     "name": "stdout",
     "output_type": "stream",
     "text": [
      "Ingrese su nombre: David\n",
      "Ingrese su edad: 1\n",
      "David\n",
      "1\n"
     ]
    }
   ],
   "source": [
    "# Ejemplo en vivo 2\n",
    "nombre = input(\"Ingrese su nombre: \")\n",
    "edad = int(input(\"Ingrese su edad: \"))\n",
    "print(nombre)\n",
    "print(edad)"
   ]
  },
  {
   "cell_type": "code",
   "execution_count": 30,
   "metadata": {},
   "outputs": [
    {
     "name": "stdout",
     "output_type": "stream",
     "text": [
      "Tayu\n",
      "Me alegro de conocerte, Tayu\n"
     ]
    }
   ],
   "source": [
    "#Otro ejemplo\n",
    "miNombre = input()\n",
    "print('Me alegro de conocerte, ' + miNombre)"
   ]
  },
  {
   "cell_type": "code",
   "execution_count": 8,
   "metadata": {},
   "outputs": [
    {
     "name": "stdout",
     "output_type": "stream",
     "text": [
      "5.1\n",
      "6.2\n",
      "0.6451612903225806\n",
      "8.574187700290345\n",
      "1.0\n"
     ]
    }
   ],
   "source": [
    "# 8. Operaciones aritmeticas\n",
    "a=2;b=3.1\n",
    "print(a+b)\n",
    "print(a*b)\n",
    "print(a/b)\n",
    "print(a**b)\n",
    "print(b//a) # modulo"
   ]
  },
  {
   "cell_type": "code",
   "execution_count": 16,
   "metadata": {},
   "outputs": [
    {
     "name": "stdout",
     "output_type": "stream",
     "text": [
      "DavidDavid\n",
      "DavidDavid\n"
     ]
    }
   ],
   "source": [
    "cadena='David'\n",
    "print(cadena*2)\n",
    "print(cadena+cadena)"
   ]
  },
  {
   "cell_type": "code",
   "execution_count": 18,
   "metadata": {},
   "outputs": [
    {
     "name": "stdout",
     "output_type": "stream",
     "text": [
      "r\n",
      "p\n",
      "J\n"
     ]
    }
   ],
   "source": [
    "# 9. Indexacion de strings\n",
    "planet = \"Jupiter\"\n",
    "print(planet[-1])   # Indice reverso\n",
    "print(planet[2])\n",
    "print(planet[0])\n"
   ]
  },
  {
   "cell_type": "code",
   "execution_count": 19,
   "metadata": {},
   "outputs": [
    {
     "name": "stdout",
     "output_type": "stream",
     "text": [
      "21\n",
      "7\n"
     ]
    }
   ],
   "source": [
    "# 10. Longitud de strings\n",
    "a= 'Hola este es el mundo'\n",
    "print(len(a))\n",
    "b='David !'\n",
    "print(len(b))"
   ]
  },
  {
   "cell_type": "code",
   "execution_count": 9,
   "metadata": {},
   "outputs": [
    {
     "name": "stdout",
     "output_type": "stream",
     "text": [
      "pit\n",
      "Jupite\n",
      "r\n",
      "up\n",
      "ui\n"
     ]
    }
   ],
   "source": [
    "# 11. Slicing\n",
    "planet = \"Jupiter\"\n",
    "print(planet[2:5])   # va desde 0: n-1 indice comienza en 0\n",
    "print(planet[:-1])\n",
    "print(planet[-1:])\n",
    "print(planet[1:3])\n",
    "print(planet[1:4:2])"
   ]
  },
  {
   "cell_type": "code",
   "execution_count": 21,
   "metadata": {},
   "outputs": [
    {
     "ename": "TypeError",
     "evalue": "'str' object does not support item assignment",
     "output_type": "error",
     "traceback": [
      "\u001b[1;31m---------------------------------------------------------------------------\u001b[0m",
      "\u001b[1;31mTypeError\u001b[0m                                 Traceback (most recent call last)",
      "Cell \u001b[1;32mIn [21], line 3\u001b[0m\n\u001b[0;32m      1\u001b[0m \u001b[39m#12. Inmutabilidad y reasignacion de strings\u001b[39;00m\n\u001b[0;32m      2\u001b[0m cad\u001b[39m=\u001b[39m\u001b[39m'\u001b[39m\u001b[39mPithon\u001b[39m\u001b[39m'\u001b[39m\n\u001b[1;32m----> 3\u001b[0m cad[\u001b[39m1\u001b[39;49m]\u001b[39m=\u001b[39m\u001b[39m'\u001b[39m\u001b[39my\u001b[39m\u001b[39m'\u001b[39m\n",
      "\u001b[1;31mTypeError\u001b[0m: 'str' object does not support item assignment"
     ]
    }
   ],
   "source": [
    "#12. Inmutabilidad y reasignacion de strings\n",
    "cad='Pithon'\n",
    "cad[1]='y' # Los strings son inmutables por ende no se pueden modificar "
   ]
  },
  {
   "cell_type": "code",
   "execution_count": 23,
   "metadata": {},
   "outputs": [
    {
     "data": {
      "text/plain": [
       "'Python'"
      ]
     },
     "execution_count": 23,
     "metadata": {},
     "output_type": "execute_result"
    }
   ],
   "source": [
    "cad='Pithon'\n",
    "cad[0:1]+'y'+cad[2:]"
   ]
  },
  {
   "cell_type": "markdown",
   "metadata": {},
   "source": [
    "# Desafío Números\n",
    "\n",
    "### Desarrollar un programa que permita calcular el promedio final de puntos de los equipos de fútbol en un torneo.\n",
    "\n",
    "En nuestro trabajo, nos solicitan desarrollar un programa que permita calcular el promedio final de los equipos de futbol en un torneo. Para ello, debemos considerar 3 aspectos: a) jugaron 20 partidos durante el torneo, b) los partidos poseen diferente puntaje según el resultado, partidos ganados 2 puntos, partido empatado 1 punto, partido perdido 0 puntos y c) el promedio final resulta de la cantidad de puntos totales dividido la cantidad de partidos.\n",
    "\n",
    "La cantidad de partidos que debemos considerar a un equipo para el ejemplo se detallan a continuación: \n",
    "\n",
    "*   partidos_ganados 8\n",
    "*   partidos_empatados 7\n",
    "*   partidos_perdidos 5\n",
    "\n",
    "Importante: Cada una de las cantidades de partidos ganados, empatados o perdidos debe soliticarse al usuario utilizando la función **input()**\n"
   ]
  },
  {
   "cell_type": "code",
   "execution_count": 32,
   "metadata": {},
   "outputs": [
    {
     "name": "stdout",
     "output_type": "stream",
     "text": [
      "Ingresá la cantidad de partidos ganados: 8\n",
      "Ingresá la cantidad de partidos empatados: 7\n",
      "Ingresá la cantidad de partidos perdidos: 5\n",
      "Ingresá la cantidad de partidos total: 20\n"
     ]
    },
    {
     "data": {
      "text/plain": [
       "1.15"
      ]
     },
     "execution_count": 32,
     "metadata": {},
     "output_type": "execute_result"
    }
   ],
   "source": [
    "partidos_ganados = int(input(\"Ingresá la cantidad de partidos ganados: \"))\n",
    "partidos_empatados = int(input(\"Ingresá la cantidad de partidos empatados: \"))\n",
    "partidos_perdidos = int(input(\"Ingresá la cantidad de partidos perdidos: \"))\n",
    "cantidad_de_partidos = int(input(\"Ingresá la cantidad de partidos total: \"))\n",
    "#Asignacion de puntaje\n",
    "partidos_ganados = partidos_ganados * 2\n",
    "partidos_empatados = partidos_empatados * 1\n",
    "partidos_perdidos = partidos_perdidos * 0\n",
    "promedio = (partidos_ganados + partidos_empatados + partidos_perdidos)/ cantidad_de_partidos\n",
    "promedio"
   ]
  },
  {
   "cell_type": "markdown",
   "metadata": {},
   "source": [
    "# Desafio String"
   ]
  },
  {
   "cell_type": "code",
   "execution_count": 37,
   "metadata": {},
   "outputs": [
    {
     "name": "stdout",
     "output_type": "stream",
     "text": [
      "Python es un lenguaje de programación  versátil\n"
     ]
    }
   ],
   "source": [
    "# Desafio string\n",
    "cadena_1  = \"versátil\"\n",
    "cadena_2  = \"Python\"\n",
    "cadena_3  = \"es un lenguaje\"\n",
    "cadena_4  = \"de programación\"\n",
    "print(cadena_2 +' '+ cadena_3 +' ' + cadena_4+ ' ',cadena_1)    "
   ]
  },
  {
   "cell_type": "markdown",
   "metadata": {},
   "source": [
    "# Desafio Slicing\n"
   ]
  },
  {
   "cell_type": "code",
   "execution_count": 39,
   "metadata": {},
   "outputs": [
    {
     "data": {
      "text/plain": [
       "'Pedro Pepito, 8.5, Matematica'"
      ]
     },
     "execution_count": 39,
     "metadata": {},
     "output_type": "execute_result"
    }
   ],
   "source": [
    "# Parte 1\n",
    "#Tenemos la cadena en el sentido invertido\n",
    "cadena = \"acitametaM ,5.8 ,otipeP ordeP\"\n",
    "\n",
    "#Damos vuelta la cadena, con el comando que nos indica iterar en el sentido invertido\n",
    "cadena_volteada = cadena[::-1]\n",
    "cadena_volteada"
   ]
  },
  {
   "cell_type": "code",
   "execution_count": 47,
   "metadata": {},
   "outputs": [
    {
     "data": {
      "text/plain": [
       "('Pedro Pepito', ' 8.5', ' Matematica')"
      ]
     },
     "execution_count": 47,
     "metadata": {},
     "output_type": "execute_result"
    }
   ],
   "source": [
    "cadena_volteada.split(\",\")[0],cadena_volteada.split(\",\")[1],cadena_volteada.split(\",\")[2]"
   ]
  },
  {
   "cell_type": "code",
   "execution_count": null,
   "metadata": {},
   "outputs": [],
   "source": []
  },
  {
   "cell_type": "code",
   "execution_count": 40,
   "metadata": {},
   "outputs": [
    {
     "data": {
      "text/plain": [
       "'Pedro Pepito'"
      ]
     },
     "execution_count": 40,
     "metadata": {},
     "output_type": "execute_result"
    }
   ],
   "source": [
    "# Parte 2\n",
    "nombre = cadena_volteada[0:12] #De la posición 0 a las 12 esta pepito\n",
    "nombre   #Efectivamente se guardo bien :) "
   ]
  },
  {
   "cell_type": "code",
   "execution_count": 41,
   "metadata": {},
   "outputs": [
    {
     "data": {
      "text/plain": [
       "'8.5'"
      ]
     },
     "execution_count": 41,
     "metadata": {},
     "output_type": "execute_result"
    }
   ],
   "source": [
    "# Parte 3\n",
    "nota = cadena_volteada[14:17]  #Lo dejamos como cadena, pero si lo quieren como float, harian lo siguiente\n",
    "#nota = float (cadena_volteada[14:17] )  #Antes casteabamos con el int, ahora es un dato decimal\n",
    "nota"
   ]
  },
  {
   "cell_type": "code",
   "execution_count": 42,
   "metadata": {},
   "outputs": [
    {
     "data": {
      "text/plain": [
       "'Matematica'"
      ]
     },
     "execution_count": 42,
     "metadata": {},
     "output_type": "execute_result"
    }
   ],
   "source": [
    "# Parte 4\n",
    "cantidad_de_letras = len(cadena_volteada)\n",
    "materia = cadena_volteada[19:cantidad_de_letras] #Increible, pensarlo\n",
    "materia"
   ]
  },
  {
   "cell_type": "code",
   "execution_count": 43,
   "metadata": {},
   "outputs": [
    {
     "data": {
      "text/plain": [
       "'El estudiante Pedro Pepito ha sacado un 8.5 en Matematica'"
      ]
     },
     "execution_count": 43,
     "metadata": {},
     "output_type": "execute_result"
    }
   ],
   "source": [
    "# Parte 5\n",
    "texto_final = f\"El estudiante {nombre} ha sacado un {nota} en {materia}\"\n",
    "texto_final"
   ]
  },
  {
   "cell_type": "markdown",
   "metadata": {},
   "source": [
    "# Otros desafios"
   ]
  },
  {
   "cell_type": "code",
   "execution_count": 24,
   "metadata": {},
   "outputs": [
    {
     "name": "stdout",
     "output_type": "stream",
     "text": [
      "Tu nota final es: 4.62\n"
     ]
    }
   ],
   "source": [
    "# Desafio nota final\n",
    "nota_1= float(input('Ingresa nota 1: '))\n",
    "nota_2= float(input('Ingresa nota 2: '))\n",
    "promedio= nota_1*0.4 + nota_2*0.6\n",
    "print('Tu nota final es:', promedio)"
   ]
  },
  {
   "cell_type": "code",
   "execution_count": 28,
   "metadata": {},
   "outputs": [
    {
     "name": "stdout",
     "output_type": "stream",
     "text": [
      "Python es un lenguaje de programación moderno\n"
     ]
    }
   ],
   "source": [
    "# Desafio String\n",
    "cadena_1='moderno'\n",
    "cadena_2='Python'\n",
    "cadena_3='es un lenguaje'\n",
    "cadena_4='de programación'\n",
    "print(cadena_2+' '+ cadena_3 +' '+cadena_4 +' '+ cadena_1)"
   ]
  },
  {
   "cell_type": "code",
   "execution_count": 36,
   "metadata": {},
   "outputs": [
    {
     "name": "stdout",
     "output_type": "stream",
     "text": [
      "Matematicas 4.6 David\n",
      "El nombre es:  David  ha sacado una nota  4.6 en  Matematicas\n"
     ]
    }
   ],
   "source": [
    "# Desafio Slicing\n",
    "cadena='divaD 6.4 sacitametaM'\n",
    "print(cadena[::-1])\n",
    "nombre= cadena[::-1][-5:]\n",
    "nota= cadena[::-1][-9:-6]\n",
    "materia=cadena[::-1][0:11]\n",
    "print('El nombre es: ',nombre, ' ha sacado una nota ', nota, 'en ', materia)"
   ]
  }
 ],
 "metadata": {
  "kernelspec": {
   "display_name": "Python 3 (ipykernel)",
   "language": "python",
   "name": "python3"
  },
  "language_info": {
   "codemirror_mode": {
    "name": "ipython",
    "version": 3
   },
   "file_extension": ".py",
   "mimetype": "text/x-python",
   "name": "python",
   "nbconvert_exporter": "python",
   "pygments_lexer": "ipython3",
   "version": "3.9.12"
  },
  "vscode": {
   "interpreter": {
    "hash": "8649ced70e2df50cbec1162fce5f764529cbe99dc753d77d52a836183a2bd877"
   }
  }
 },
 "nbformat": 4,
 "nbformat_minor": 2
}
