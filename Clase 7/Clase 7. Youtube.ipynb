{
 "cells": [
  {
   "attachments": {},
   "cell_type": "markdown",
   "metadata": {},
   "source": [
    "# Strings\n",
    "\n",
    "Veamos algunos de los metodos principales"
   ]
  },
  {
   "cell_type": "code",
   "execution_count": 10,
   "metadata": {},
   "outputs": [
    {
     "name": "stdout",
     "output_type": "stream",
     "text": [
      "Hola\n",
      "hola\n",
      "Yo soy tu\n",
      "Hola soy you\n",
      "ejempli_learn\n"
     ]
    }
   ],
   "source": [
    "# 1. Slicing\n",
    "s= 'Hola como estas soy D'\n",
    "print(s[0:4]) # recortar\n",
    "# 2, Strip\n",
    "s= '     hola     '\n",
    "print(s.strip()) # remueve el espacio adicional\n",
    "# 3. Strip con caracter\n",
    "s= '##Yo soy tu##'\n",
    "print(s.strip('#'))\n",
    "s= '\\n \\t Hola soy you \\n'\n",
    "print(s.strip('\\n \\t'))\n",
    "s= 'www.ejempli_learn.com'\n",
    "print(s.strip('cmow.')) # puedes remover varios caracteres"
   ]
  },
  {
   "cell_type": "code",
   "execution_count": 3,
   "metadata": {},
   "outputs": [
    {
     "name": "stdout",
     "output_type": "stream",
     "text": [
      "\u001b[1;31mSignature:\u001b[0m \u001b[0ms\u001b[0m\u001b[1;33m.\u001b[0m\u001b[0mstrip\u001b[0m\u001b[1;33m(\u001b[0m\u001b[0mchars\u001b[0m\u001b[1;33m=\u001b[0m\u001b[1;32mNone\u001b[0m\u001b[1;33m,\u001b[0m \u001b[1;33m/\u001b[0m\u001b[1;33m)\u001b[0m\u001b[1;33m\u001b[0m\u001b[1;33m\u001b[0m\u001b[0m\n",
      "\u001b[1;31mDocstring:\u001b[0m\n",
      "Return a copy of the string with leading and trailing whitespace removed.\n",
      "\n",
      "If chars is given and not None, remove characters in chars instead.\n",
      "\u001b[1;31mType:\u001b[0m      builtin_function_or_method\n"
     ]
    }
   ],
   "source": [
    "s.strip?"
   ]
  },
  {
   "cell_type": "code",
   "execution_count": 13,
   "metadata": {},
   "outputs": [
    {
     "name": "stdout",
     "output_type": "stream",
     "text": [
      "Hola como has estado\n",
      "Hola como has estado         \n"
     ]
    }
   ],
   "source": [
    "# 4. lstrip y rstrip\n",
    "s=\"     Hola como has estado\"\n",
    "print(s.lstrip())\n",
    "s=\"Hola como has estado         \"\n",
    "print(s.lstrip())"
   ]
  },
  {
   "cell_type": "code",
   "execution_count": 16,
   "metadata": {},
   "outputs": [
    {
     "name": "stdout",
     "output_type": "stream",
     "text": [
      " tres!\n",
      "hola: \n"
     ]
    }
   ],
   "source": [
    "#5. removeprefix \n",
    "s= \"hola: tres!\"\n",
    "print(s.removeprefix(\"hola:\"))\n",
    "# 6. removesuffix\n",
    "print(s.removesuffix(\"tres!\"))"
   ]
  },
  {
   "cell_type": "code",
   "execution_count": 19,
   "metadata": {},
   "outputs": [
    {
     "name": "stdout",
     "output_type": "stream",
     "text": [
      "-Esto-es-Python-un-languaje-sencilo\n",
      "-Esto-es----Python-un-languaje-sencilo\n",
      "-Esto-es-Python-un-languaje-sencilo\n"
     ]
    }
   ],
   "source": [
    "# 7. Replace\n",
    "s=\" Esto es Python un languaje sencilo\"\n",
    "print(s.replace(' ','-'))\n",
    "# 8. re.sub\n",
    "import re \n",
    "s=\" Esto es    Python un languaje sencilo\"\n",
    "print(s.replace(' ','-')) # aparecen muchos -\n",
    "print(re.sub(\"\\s+\", '-',s)) #remover multiple caracteres vacios"
   ]
  },
  {
   "cell_type": "code",
   "execution_count": 25,
   "metadata": {},
   "outputs": [
    {
     "name": "stdout",
     "output_type": "stream",
     "text": [
      "['Esto', 'es', 'Python', 'un', 'languaje', 'sencilo']\n",
      "['Esto', 'es Python un languaje sencilo']\n",
      "['Esto es Python un languaje', 'sencilo']\n"
     ]
    }
   ],
   "source": [
    "# 9. split \n",
    "s=\"Esto es Python un languaje sencilo\"\n",
    "print(s.split()) # lo devuelve ne una lista\n",
    "print(s.split(' ',maxsplit=1)) # lo devuelve ne una lista separando con el indice\n",
    "# 10. rsplit \n",
    "print(s.rsplit(' ',maxsplit=1)) # ahora lo haces a derecha"
   ]
  },
  {
   "cell_type": "code",
   "execution_count": 30,
   "metadata": {},
   "outputs": [
    {
     "name": "stdout",
     "output_type": "stream",
     "text": [
      "hola-soy-yo-tu-amigo\n",
      "hola soy yo tu amigo\n",
      "PYTHON ES COOL !\n",
      "python es cool !\n",
      "Python es cool !\n"
     ]
    }
   ],
   "source": [
    "## 11. join\n",
    "lista=['hola','soy','yo','tu','amigo']\n",
    "print('-'.join(lista))\n",
    "print(' '.join(lista))\n",
    "# 12. upper\n",
    "s= 'python es cool !'\n",
    "print(s.upper())\n",
    "# 13. lower\n",
    "s= 'PYTHON ES COOL !'\n",
    "print(s.lower())\n",
    "# 14. capitalize \n",
    "s= 'python es cool !'\n",
    "print(s.capitalize()) # Primera letra en mayuscula"
   ]
  },
  {
   "cell_type": "code",
   "execution_count": 35,
   "metadata": {},
   "outputs": [
    {
     "name": "stdout",
     "output_type": "stream",
     "text": [
      "True\n",
      "False\n",
      "False\n",
      "True\n"
     ]
    }
   ],
   "source": [
    "# 15. islower\n",
    "s= 'python es cool !'\n",
    "print(s.islower())\n",
    "print(s.isupper())\n",
    "# 16. isupper\n",
    "s= 'PYTHON ES COOL !'\n",
    "print(s.islower())\n",
    "print(s.isupper())\n"
   ]
  },
  {
   "cell_type": "code",
   "execution_count": 40,
   "metadata": {},
   "outputs": [
    {
     "name": "stdout",
     "output_type": "stream",
     "text": [
      "True\n",
      "False\n",
      "True\n",
      "True\n"
     ]
    }
   ],
   "source": [
    "# 17. isalpha = si todos los caracteres son del alfabeto\n",
    "s='python'\n",
    "print(s.isalpha())\n",
    "s='python123'\n",
    "print(s.isalpha())\n",
    "# 18. isnumeric = si todos los caracteres son numericos\n",
    "s= '1234'\n",
    "print(s.isnumeric())\n",
    "# 19. isalnum = si son alfanumericos true\n",
    "s= 'Hola1234'\n",
    "print(s.isalnum()) # ojo con los espacios"
   ]
  },
  {
   "cell_type": "code",
   "execution_count": 42,
   "metadata": {},
   "outputs": [
    {
     "name": "stdout",
     "output_type": "stream",
     "text": [
      "5\n",
      "2\n",
      "ango Backend\n"
     ]
    }
   ],
   "source": [
    "# 20. count\n",
    "s=\"Hola como estas amigo hoy?\"\n",
    "print(s.count('o'))\n",
    "# 21. find()\n",
    "s=\"Django Backend\"\n",
    "idx= s.find('a')\n",
    "print(idx)\n",
    "print(s[idx:])"
   ]
  },
  {
   "cell_type": "code",
   "execution_count": 44,
   "metadata": {},
   "outputs": [
    {
     "name": "stdout",
     "output_type": "stream",
     "text": [
      "8\n",
      "ackend\n"
     ]
    }
   ],
   "source": [
    "idx= s.find('a',6) # comienza a mirar desde l apisicion 6\n",
    "print(idx)\n",
    "print(s[idx:])"
   ]
  },
  {
   "cell_type": "code",
   "execution_count": 45,
   "metadata": {},
   "outputs": [
    {
     "name": "stdout",
     "output_type": "stream",
     "text": [
      "8\n",
      "ackend\n"
     ]
    }
   ],
   "source": [
    "# 22. rfind\n",
    "s=\"Django Backend\"\n",
    "idx= s.rfind('a') # primera ocurrencia desde derecha\n",
    "print(idx)\n",
    "print(s[idx:])"
   ]
  },
  {
   "cell_type": "code",
   "execution_count": 47,
   "metadata": {},
   "outputs": [
    {
     "name": "stdout",
     "output_type": "stream",
     "text": [
      "True\n",
      "False\n"
     ]
    }
   ],
   "source": [
    "# 23. startswith\n",
    "s='David'\n",
    "print(s.startswith('D'))\n",
    "# 24. endswith\n",
    "print(s.endswith('a'))"
   ]
  },
  {
   "cell_type": "code",
   "execution_count": 48,
   "metadata": {},
   "outputs": [
    {
     "name": "stdout",
     "output_type": "stream",
     "text": [
      "('Hola ', 'como', ' estas')\n"
     ]
    }
   ],
   "source": [
    "# 25. partition >> paritciona en base a un string dado\n",
    "s=\"Hola como estas\"\n",
    "partes= s.partition('como')\n",
    "print(partes)\n"
   ]
  },
  {
   "cell_type": "code",
   "execution_count": 54,
   "metadata": {},
   "outputs": [
    {
     "name": "stdout",
     "output_type": "stream",
     "text": [
      "--------Python es cool--------\n",
      "Python es cool----------------\n",
      "----------------Python es cool\n"
     ]
    }
   ],
   "source": [
    "# 26. center\n",
    "s=\"Python es cool\"\n",
    "s1= s.center(30,'-') # llenar hasta cumplir 30 caracteres\n",
    "print(s1)\n",
    "# 27. ljust left justified\n",
    "print(s.ljust(30,'-'))\n",
    "# 28. rjust right justified\n",
    "print(s.rjust(30,'-'))"
   ]
  },
  {
   "cell_type": "code",
   "execution_count": 55,
   "metadata": {},
   "outputs": [
    {
     "name": "stdout",
     "output_type": "stream",
     "text": [
      "Python es el numero 1 de todos los lenguajes\n"
     ]
    }
   ],
   "source": [
    "# 29. f-strings: f is format\n",
    "num=1\n",
    "lenguaje=\"Python\"\n",
    "s=f'{lenguaje} es el numero {num} de todos los lenguajes'\n",
    "print(s)"
   ]
  },
  {
   "cell_type": "code",
   "execution_count": 56,
   "metadata": {},
   "outputs": [
    {
     "name": "stdout",
     "output_type": "stream",
     "text": [
      "hola MUNDO\n"
     ]
    }
   ],
   "source": [
    "# 30. swapcase= modificar lower to upper y viceversa\n",
    "s= \"HOLA mundo\"\n",
    "print(s.swapcase())"
   ]
  },
  {
   "cell_type": "code",
   "execution_count": 58,
   "metadata": {},
   "outputs": [
    {
     "name": "stdout",
     "output_type": "stream",
     "text": [
      "00042\n",
      "00000Hola\n"
     ]
    }
   ],
   "source": [
    "# 31. zfill()\n",
    "s= '42'.zfill(5) # llenar con ceros hasta completar tamaño\n",
    "print(s)\n",
    "s= 'Hola'.zfill(9)\n",
    "print(s)"
   ]
  },
  {
   "attachments": {},
   "cell_type": "markdown",
   "metadata": {},
   "source": [
    "# Listas"
   ]
  },
  {
   "cell_type": "code",
   "execution_count": 61,
   "metadata": {},
   "outputs": [
    {
     "data": {
      "text/plain": [
       "['__add__',\n",
       " '__class__',\n",
       " '__class_getitem__',\n",
       " '__contains__',\n",
       " '__delattr__',\n",
       " '__delitem__',\n",
       " '__dir__',\n",
       " '__doc__',\n",
       " '__eq__',\n",
       " '__format__',\n",
       " '__ge__',\n",
       " '__getattribute__',\n",
       " '__getitem__',\n",
       " '__gt__',\n",
       " '__hash__',\n",
       " '__iadd__',\n",
       " '__imul__',\n",
       " '__init__',\n",
       " '__init_subclass__',\n",
       " '__iter__',\n",
       " '__le__',\n",
       " '__len__',\n",
       " '__lt__',\n",
       " '__mul__',\n",
       " '__ne__',\n",
       " '__new__',\n",
       " '__reduce__',\n",
       " '__reduce_ex__',\n",
       " '__repr__',\n",
       " '__reversed__',\n",
       " '__rmul__',\n",
       " '__setattr__',\n",
       " '__setitem__',\n",
       " '__sizeof__',\n",
       " '__str__',\n",
       " '__subclasshook__',\n",
       " 'append',\n",
       " 'clear',\n",
       " 'copy',\n",
       " 'count',\n",
       " 'extend',\n",
       " 'index',\n",
       " 'insert',\n",
       " 'pop',\n",
       " 'remove',\n",
       " 'reverse',\n",
       " 'sort']"
      ]
     },
     "execution_count": 61,
     "metadata": {},
     "output_type": "execute_result"
    }
   ],
   "source": [
    "dir(list)"
   ]
  },
  {
   "cell_type": "code",
   "execution_count": 63,
   "metadata": {},
   "outputs": [
    {
     "name": "stdout",
     "output_type": "stream",
     "text": [
      "4\n",
      "2\n",
      "[1, 2, 3, 4, 'Hola']\n",
      "[]\n"
     ]
    }
   ],
   "source": [
    "# 1. len\n",
    "lista=[1,2,3,4]\n",
    "print(len(lista))\n",
    "# 2. index \n",
    "print(lista.index(3))\n",
    "# 3. append \n",
    "lista.append('Hola')\n",
    "print(lista)\n",
    "# 4. clear\n",
    "lista.clear() # vacia\n",
    "print(lista)"
   ]
  },
  {
   "cell_type": "code",
   "execution_count": 66,
   "metadata": {},
   "outputs": [
    {
     "name": "stdout",
     "output_type": "stream",
     "text": [
      "[1, 2, 3, 4]\n",
      "1\n"
     ]
    },
    {
     "name": "stdout",
     "output_type": "stream",
     "text": [
      "\u001b[1;31mSignature:\u001b[0m \u001b[0mlista\u001b[0m\u001b[1;33m.\u001b[0m\u001b[0mextend\u001b[0m\u001b[1;33m(\u001b[0m\u001b[0miterable\u001b[0m\u001b[1;33m,\u001b[0m \u001b[1;33m/\u001b[0m\u001b[1;33m)\u001b[0m\u001b[1;33m\u001b[0m\u001b[1;33m\u001b[0m\u001b[0m\n",
      "\u001b[1;31mDocstring:\u001b[0m Extend list by appending elements from the iterable.\n",
      "\u001b[1;31mType:\u001b[0m      builtin_function_or_method\n"
     ]
    }
   ],
   "source": [
    "# 5. copy\n",
    "lista=[1,2,3,4]\n",
    "lista1= lista.copy()\n",
    "print(lista1)\n",
    "# 6. count()\n",
    "print(lista.count(2))\n",
    "# 7. extend\n",
    "lista.extend?"
   ]
  },
  {
   "cell_type": "code",
   "execution_count": 73,
   "metadata": {},
   "outputs": [
    {
     "name": "stdout",
     "output_type": "stream",
     "text": [
      "[1, 2, 3, 4, 0, 0.1, 0.3]\n",
      "3\n"
     ]
    }
   ],
   "source": [
    "lista=[1,2,3,4]\n",
    "lista.extend([0,0.1,0.3]) # similar al append\n",
    "print(lista)\n",
    "# 8. index\n",
    "lista=[1,2,3,4]\n",
    "print(lista.index(4))# extrae el indice de un valor"
   ]
  },
  {
   "cell_type": "code",
   "execution_count": 74,
   "metadata": {},
   "outputs": [
    {
     "name": "stdout",
     "output_type": "stream",
     "text": [
      "[1, 2, 'David', 3, 4]\n"
     ]
    }
   ],
   "source": [
    "# 9. insert\n",
    "lista.insert(2,'David')\n",
    "print(lista)"
   ]
  },
  {
   "cell_type": "code",
   "execution_count": 75,
   "metadata": {},
   "outputs": [
    {
     "name": "stdout",
     "output_type": "stream",
     "text": [
      "Removed Element: 5\n",
      "Updated List: [2, 3, 7]\n"
     ]
    }
   ],
   "source": [
    "# 10. pop\n",
    "''' \n",
    "method removes the item at the given index from the list and returns \n",
    "the removed item.\n",
    "'''\n",
    "prime_numbers = [2, 3, 5, 7]\n",
    "# remover el elemento al inidce 2\n",
    "removed_element = prime_numbers.pop(2)\n",
    "print('Removed Element:', removed_element)\n",
    "print('Updated List:', prime_numbers)"
   ]
  },
  {
   "cell_type": "code",
   "execution_count": 76,
   "metadata": {},
   "outputs": [
    {
     "name": "stdout",
     "output_type": "stream",
     "text": [
      "[1, 4, 5]\n"
     ]
    }
   ],
   "source": [
    "# 11. remove\n",
    "'''  \n",
    "method removes the first matching element (which is passed as an argument) \n",
    "from the list.\n",
    "'''\n",
    "lista=[1,3,4,5]\n",
    "lista.remove(3)\n",
    "print(lista) # borra y axtualiza la lista"
   ]
  },
  {
   "cell_type": "code",
   "execution_count": 77,
   "metadata": {},
   "outputs": [
    {
     "name": "stdout",
     "output_type": "stream",
     "text": [
      "[5, 4, 3, 1]\n"
     ]
    }
   ],
   "source": [
    "# 12. reverse\n",
    "lista=[1,3,4,5]\n",
    "lista.reverse()\n",
    "print(lista)"
   ]
  },
  {
   "cell_type": "code",
   "execution_count": 78,
   "metadata": {},
   "outputs": [
    {
     "name": "stdout",
     "output_type": "stream",
     "text": [
      "[1, 3, 4, 5]\n"
     ]
    }
   ],
   "source": [
    "# 13. sort\n",
    "lista=[1,3,4,5]\n",
    "lista.sort()\n",
    "print(lista)"
   ]
  },
  {
   "cell_type": "code",
   "execution_count": 81,
   "metadata": {},
   "outputs": [
    {
     "name": "stdout",
     "output_type": "stream",
     "text": [
      "4\n",
      "5\n",
      "1\n",
      "13\n"
     ]
    }
   ],
   "source": [
    "# 14. len \n",
    "print(len(lista))\n",
    "# 15. max \n",
    "print(max(lista))\n",
    "# 16. min \n",
    "print(min(lista))\n",
    "# 17. sum \n",
    "print(sum(lista))\n"
   ]
  },
  {
   "attachments": {},
   "cell_type": "markdown",
   "metadata": {},
   "source": [
    "# Conjuntos"
   ]
  },
  {
   "cell_type": "code",
   "execution_count": 84,
   "metadata": {},
   "outputs": [
    {
     "data": {
      "text/plain": [
       "['__and__',\n",
       " '__class__',\n",
       " '__class_getitem__',\n",
       " '__contains__',\n",
       " '__delattr__',\n",
       " '__dir__',\n",
       " '__doc__',\n",
       " '__eq__',\n",
       " '__format__',\n",
       " '__ge__',\n",
       " '__getattribute__',\n",
       " '__gt__',\n",
       " '__hash__',\n",
       " '__iand__',\n",
       " '__init__',\n",
       " '__init_subclass__',\n",
       " '__ior__',\n",
       " '__isub__',\n",
       " '__iter__',\n",
       " '__ixor__',\n",
       " '__le__',\n",
       " '__len__',\n",
       " '__lt__',\n",
       " '__ne__',\n",
       " '__new__',\n",
       " '__or__',\n",
       " '__rand__',\n",
       " '__reduce__',\n",
       " '__reduce_ex__',\n",
       " '__repr__',\n",
       " '__ror__',\n",
       " '__rsub__',\n",
       " '__rxor__',\n",
       " '__setattr__',\n",
       " '__sizeof__',\n",
       " '__str__',\n",
       " '__sub__',\n",
       " '__subclasshook__',\n",
       " '__xor__',\n",
       " 'add',\n",
       " 'clear',\n",
       " 'copy',\n",
       " 'difference',\n",
       " 'difference_update',\n",
       " 'discard',\n",
       " 'intersection',\n",
       " 'intersection_update',\n",
       " 'isdisjoint',\n",
       " 'issubset',\n",
       " 'issuperset',\n",
       " 'pop',\n",
       " 'remove',\n",
       " 'symmetric_difference',\n",
       " 'symmetric_difference_update',\n",
       " 'union',\n",
       " 'update']"
      ]
     },
     "execution_count": 84,
     "metadata": {},
     "output_type": "execute_result"
    }
   ],
   "source": [
    "dir(set)"
   ]
  },
  {
   "cell_type": "code",
   "execution_count": 90,
   "metadata": {},
   "outputs": [
    {
     "name": "stdout",
     "output_type": "stream",
     "text": [
      "{1, 2, 3, 4, 10}\n",
      "set()\n",
      "{10, 3, 4}\n",
      "set()\n"
     ]
    },
    {
     "name": "stdout",
     "output_type": "stream",
     "text": [
      "\u001b[1;31mDocstring:\u001b[0m Remove all elements of another set from this set.\n",
      "\u001b[1;31mType:\u001b[0m      builtin_function_or_method\n"
     ]
    }
   ],
   "source": [
    "A= {1,2,3,4}\n",
    "B= {1,2}\n",
    "C= {1,3,4,5}\n",
    "D={1,2,3}\n",
    "# 1. add \n",
    "A.add(10)\n",
    "print(A)\n",
    "# 2. clear\n",
    "D.clear()\n",
    "print(D)\n",
    "# 3. difference\n",
    "print(A.difference(B))\n",
    "print(B.difference(A))\n",
    "# 4. difference_update \n",
    "A.difference_update?"
   ]
  },
  {
   "cell_type": "code",
   "execution_count": 93,
   "metadata": {},
   "outputs": [
    {
     "name": "stdout",
     "output_type": "stream",
     "text": [
      "{5}\n",
      "{1, 2, 3, 4}\n"
     ]
    }
   ],
   "source": [
    "C.difference_update(A) # todo lo de C que no esta en A y lo remoeuev\n",
    "print(C)\n",
    "# 5. discard \n",
    "A.discard(10) #Remove an element from a set if it is a member.\n",
    "print(A)"
   ]
  },
  {
   "cell_type": "code",
   "execution_count": 104,
   "metadata": {},
   "outputs": [
    {
     "name": "stdout",
     "output_type": "stream",
     "text": [
      "{1, 2}\n"
     ]
    },
    {
     "data": {
      "text/plain": [
       "({1, 2}, {1, 2})"
      ]
     },
     "execution_count": 104,
     "metadata": {},
     "output_type": "execute_result"
    }
   ],
   "source": [
    "# 6. intersection\n",
    "print(A.intersection(B))\n",
    "# 7. intersection_update\n",
    "A.intersection_update(B) #Update a set with the intersection of itself and another\n",
    "B,A# Modifica A, B"
   ]
  },
  {
   "cell_type": "code",
   "execution_count": 116,
   "metadata": {},
   "outputs": [
    {
     "name": "stdout",
     "output_type": "stream",
     "text": [
      "False\n",
      "True\n",
      "True\n",
      "{2, 3, 4}\n",
      "{3, 4}\n"
     ]
    }
   ],
   "source": [
    "# 8. isdisjoint\n",
    "A= {1,2,3,4}\n",
    "B= {1,2}\n",
    "print(A.isdisjoint(B))# Return True if two sets have a null intersection\n",
    "# 9. isubset \n",
    "print(B.issubset(A))\n",
    "# 10. issuperse t\n",
    "print(A.issuperset(B)) # Report whether this set contains another set\n",
    "# 11. pop\n",
    "A= {1,2,3,4}\n",
    "B= {1,2}\n",
    "A.pop()\n",
    "print(A)\n",
    "# 12. remove \n",
    "A.remove(2)\n",
    "print(A)"
   ]
  },
  {
   "cell_type": "code",
   "execution_count": 119,
   "metadata": {},
   "outputs": [
    {
     "data": {
      "text/plain": [
       "{3, 4}"
      ]
     },
     "execution_count": 119,
     "metadata": {},
     "output_type": "execute_result"
    }
   ],
   "source": [
    "# 13. symmetric_difference\n",
    "A= {1,2,3,4}\n",
    "B= {1,2}\n",
    "A.symmetric_difference(B) #  all elements that are in exactly one of the sets."
   ]
  },
  {
   "cell_type": "code",
   "execution_count": 120,
   "metadata": {},
   "outputs": [
    {
     "data": {
      "text/plain": [
       "{1, 2, 3, 4}"
      ]
     },
     "execution_count": 120,
     "metadata": {},
     "output_type": "execute_result"
    }
   ],
   "source": [
    "# 14. Union\n",
    "A.union(B)"
   ]
  },
  {
   "cell_type": "code",
   "execution_count": 124,
   "metadata": {},
   "outputs": [
    {
     "data": {
      "text/plain": [
       "{1, 2, 3, 4, 6, 7, 8}"
      ]
     },
     "execution_count": 124,
     "metadata": {},
     "output_type": "execute_result"
    }
   ],
   "source": [
    "# 15. update\n",
    "E={6,7,8}\n",
    "A.update(E) # Update a set with the union of itself and others\n",
    "A"
   ]
  },
  {
   "attachments": {},
   "cell_type": "markdown",
   "metadata": {},
   "source": [
    "# Diccionarios"
   ]
  },
  {
   "cell_type": "code",
   "execution_count": 126,
   "metadata": {},
   "outputs": [
    {
     "data": {
      "text/plain": [
       "['__class__',\n",
       " '__class_getitem__',\n",
       " '__contains__',\n",
       " '__delattr__',\n",
       " '__delitem__',\n",
       " '__dir__',\n",
       " '__doc__',\n",
       " '__eq__',\n",
       " '__format__',\n",
       " '__ge__',\n",
       " '__getattribute__',\n",
       " '__getitem__',\n",
       " '__gt__',\n",
       " '__hash__',\n",
       " '__init__',\n",
       " '__init_subclass__',\n",
       " '__ior__',\n",
       " '__iter__',\n",
       " '__le__',\n",
       " '__len__',\n",
       " '__lt__',\n",
       " '__ne__',\n",
       " '__new__',\n",
       " '__or__',\n",
       " '__reduce__',\n",
       " '__reduce_ex__',\n",
       " '__repr__',\n",
       " '__reversed__',\n",
       " '__ror__',\n",
       " '__setattr__',\n",
       " '__setitem__',\n",
       " '__sizeof__',\n",
       " '__str__',\n",
       " '__subclasshook__',\n",
       " 'clear',\n",
       " 'copy',\n",
       " 'fromkeys',\n",
       " 'get',\n",
       " 'items',\n",
       " 'keys',\n",
       " 'pop',\n",
       " 'popitem',\n",
       " 'setdefault',\n",
       " 'update',\n",
       " 'values']"
      ]
     },
     "execution_count": 126,
     "metadata": {},
     "output_type": "execute_result"
    }
   ],
   "source": [
    "dir(dict)"
   ]
  },
  {
   "cell_type": "code",
   "execution_count": 149,
   "metadata": {},
   "outputs": [
    {
     "name": "stdout",
     "output_type": "stream",
     "text": [
      "{}\n",
      "{1: 'David', 'T': 2.3, 'A': 3}\n",
      "{'b': [1, 2, 3], 'a': [1, 2, 3], 'c': [1, 2, 3]}\n",
      "2.3\n",
      "No existe\n",
      "dict_items([(1, 'David'), ('T', 2.3), ('A', 3)])\n",
      "dict_keys([1, 'T', 'A'])\n",
      "{'Physics': 67, 'Math': 89}\n",
      "72\n"
     ]
    }
   ],
   "source": [
    "a={1:'David', 'T':2.3, 'A':3}\n",
    "b={9:'DavidX', 'T1':2.9, 'A':4}\n",
    "# 1. clear\n",
    "b.clear()\n",
    "print(b)\n",
    "# 2. copy \n",
    "c=a.copy()\n",
    "print(c)\n",
    "# 3. fromkeys \n",
    "alpha = {'a', 'b', 'c'} #keys\n",
    "#num = 1 # valor en el diccionario\n",
    "num=[1,2,3] # lo repite OJO\n",
    "dictionary = dict.fromkeys(alpha, num)\n",
    "print(dictionary)\n",
    "# 4. get\n",
    "print(a.get('T','No existe'))\n",
    "print(a.get('Andres','No existe')) # el defaul tvalues\n",
    "# 5. items\n",
    "print(a.items())\n",
    "# 6. keys \n",
    "print(a.keys())\n",
    "# 7. pop\n",
    "materias = { 'Physics': 67, 'Chemistry': 72, 'Math': 89 }\n",
    "elemento = materias.pop('Chemistry')\n",
    "print(materias)\n",
    "print(elemento)"
   ]
  },
  {
   "cell_type": "code",
   "execution_count": 150,
   "metadata": {},
   "outputs": [
    {
     "name": "stdout",
     "output_type": "stream",
     "text": [
      "{1: 'David', 'T': 2.3, 'A': 3}\n",
      "('A', 3)\n",
      "{1: 'David', 'T': 2.3, 'A': 3, 'Juan': 1}\n"
     ]
    }
   ],
   "source": [
    "# 8. popitem\n",
    "print(a)\n",
    "b=a.popitem()\n",
    "print(b)\n",
    "# 9. setdefault \n",
    "a={1:'David', 'T':2.3, 'A':3}\n",
    "a.setdefault('Juan',1) # Insert key with a value of default if key is not in the dictionary.\n",
    "print(a)"
   ]
  },
  {
   "cell_type": "code",
   "execution_count": 152,
   "metadata": {},
   "outputs": [
    {
     "name": "stdout",
     "output_type": "stream",
     "text": [
      "{'Physics': 67, 'Maths': 87, 'Practical': 48}\n"
     ]
    }
   ],
   "source": [
    "# 10. update\n",
    "materias = {'Physics':67, 'Maths':87}\n",
    "otras = {'Practical':48}\n",
    "materias.update(otras)\n",
    "print(materias)"
   ]
  },
  {
   "cell_type": "code",
   "execution_count": 154,
   "metadata": {},
   "outputs": [
    {
     "name": "stdout",
     "output_type": "stream",
     "text": [
      "{1: 'David', 'T': 2.3, 'A': 3, 'Juan': 1}\n"
     ]
    },
    {
     "data": {
      "text/plain": [
       "<function dict.values>"
      ]
     },
     "execution_count": 154,
     "metadata": {},
     "output_type": "execute_result"
    }
   ],
   "source": [
    "# 11. values\n",
    "print(a)\n",
    "a.values"
   ]
  }
 ],
 "metadata": {
  "kernelspec": {
   "display_name": "Python 3",
   "language": "python",
   "name": "python3"
  },
  "language_info": {
   "codemirror_mode": {
    "name": "ipython",
    "version": 3
   },
   "file_extension": ".py",
   "mimetype": "text/x-python",
   "name": "python",
   "nbconvert_exporter": "python",
   "pygments_lexer": "ipython3",
   "version": "3.10.10"
  },
  "orig_nbformat": 4,
  "vscode": {
   "interpreter": {
    "hash": "8649ced70e2df50cbec1162fce5f764529cbe99dc753d77d52a836183a2bd877"
   }
  }
 },
 "nbformat": 4,
 "nbformat_minor": 2
}
