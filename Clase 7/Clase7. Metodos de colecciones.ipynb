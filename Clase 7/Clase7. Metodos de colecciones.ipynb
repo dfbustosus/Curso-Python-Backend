{
 "cells": [
  {
   "cell_type": "code",
   "execution_count": 1,
   "metadata": {},
   "outputs": [
    {
     "name": "stdout",
     "output_type": "stream",
     "text": [
      "HOLA MUNDO\n"
     ]
    },
    {
     "data": {
      "text/plain": [
       "'HOLA AMIGO!'"
      ]
     },
     "execution_count": 1,
     "metadata": {},
     "output_type": "execute_result"
    }
   ],
   "source": [
    "# 1. Cadenas\n",
    "# 1.1 Upper\n",
    "cadena='Hola Mundo'\n",
    "print(cadena.upper())\n",
    "\"hola amigo!\".upper()"
   ]
  },
  {
   "cell_type": "code",
   "execution_count": 2,
   "metadata": {},
   "outputs": [
    {
     "name": "stdout",
     "output_type": "stream",
     "text": [
      "hola mundo\n"
     ]
    },
    {
     "data": {
      "text/plain": [
       "'hola amigo!'"
      ]
     },
     "execution_count": 2,
     "metadata": {},
     "output_type": "execute_result"
    }
   ],
   "source": [
    "# 1.2 lower\n",
    "cadena='Hola Mundo'\n",
    "print(cadena.lower())\n",
    "\"HoLa AmIgO!\".lower()"
   ]
  },
  {
   "cell_type": "code",
   "execution_count": 3,
   "metadata": {},
   "outputs": [
    {
     "name": "stdout",
     "output_type": "stream",
     "text": [
      "Hola mundo\n"
     ]
    },
    {
     "data": {
      "text/plain": [
       "'Hola amigo!'"
      ]
     },
     "execution_count": 3,
     "metadata": {},
     "output_type": "execute_result"
    }
   ],
   "source": [
    "#1.3 Capitalize\n",
    "cadena='Hola Mundo'\n",
    "print(cadena.capitalize())\n",
    "\"hola amigo!\".capitalize()"
   ]
  },
  {
   "cell_type": "code",
   "execution_count": 4,
   "metadata": {},
   "outputs": [
    {
     "name": "stdout",
     "output_type": "stream",
     "text": [
      "Hola Mundo\n"
     ]
    },
    {
     "data": {
      "text/plain": [
       "'Hola Amigo!'"
      ]
     },
     "execution_count": 4,
     "metadata": {},
     "output_type": "execute_result"
    }
   ],
   "source": [
    "# 1.4 Title (primer caracter de cada palabra en mayus)\n",
    "cadena='hOLA mUNDO'\n",
    "print(cadena.title())\n",
    "\"HoLa AmigO!\".title()"
   ]
  },
  {
   "cell_type": "code",
   "execution_count": 5,
   "metadata": {},
   "outputs": [
    {
     "name": "stdout",
     "output_type": "stream",
     "text": [
      "1\n",
      "1\n"
     ]
    }
   ],
   "source": [
    "# 1.5 count\n",
    "cadena='Hola Mundo'\n",
    "print(cadena.count('a'))\n",
    "cadena='Hola Mundo soy tu amigo'\n",
    "print(cadena.count('amigo'))"
   ]
  },
  {
   "cell_type": "code",
   "execution_count": 6,
   "metadata": {},
   "outputs": [
    {
     "name": "stdout",
     "output_type": "stream",
     "text": [
      "3\n"
     ]
    }
   ],
   "source": [
    "# 1.6 Find (primera ocurrencia)\n",
    "cadena='Hola Mundo esta cadena tienes muchas A'\n",
    "print(cadena.find('a')) # discrimina a y A"
   ]
  },
  {
   "cell_type": "code",
   "execution_count": 7,
   "metadata": {},
   "outputs": [
    {
     "name": "stdout",
     "output_type": "stream",
     "text": [
      "34\n"
     ]
    }
   ],
   "source": [
    "# 1.7 Rfind( ultima ocurrencia)\n",
    "cadena='Hola Mundo esta cadena tienes muchas A'\n",
    "print(cadena.rfind('a')) # discrimina a y A"
   ]
  },
  {
   "cell_type": "code",
   "execution_count": 9,
   "metadata": {},
   "outputs": [
    {
     "name": "stdout",
     "output_type": "stream",
     "text": [
      "['Hola', 'Mundo']\n",
      "['Hola ', ' como estas']\n",
      "['David', 'es', 'un', 'jugado']\n"
     ]
    }
   ],
   "source": [
    "# 1.8 split\n",
    "cadena='Hola Mundo'\n",
    "print(cadena.split())\n",
    "cadena='Hola amigo como estas'\n",
    "print(cadena.split('amigo'))\n",
    "print(\"David_es_un_jugado\".split('_'))"
   ]
  },
  {
   "cell_type": "code",
   "execution_count": 14,
   "metadata": {},
   "outputs": [
    {
     "name": "stdout",
     "output_type": "stream",
     "text": [
      "H,o,l,a, ,m,u,n,d,o\n",
      "H o l a   m u n d o\n"
     ]
    }
   ],
   "source": [
    "# 1.9 join\n",
    "cadena='Hola mundo'\n",
    "print(','.join(cadena))\n",
    "print(' '.join(cadena))"
   ]
  },
  {
   "cell_type": "code",
   "execution_count": 10,
   "metadata": {},
   "outputs": [
    {
     "name": "stdout",
     "output_type": "stream",
     "text": [
      "hola mundo \n",
      "hola mundo ----------soy\n"
     ]
    },
    {
     "data": {
      "text/plain": [
       "'Hola mundo'"
      ]
     },
     "execution_count": 10,
     "metadata": {},
     "output_type": "execute_result"
    }
   ],
   "source": [
    "# 1.10 Strip (borra caracteres delante y detras)\n",
    "cadena='------------hola mundo ----------'\n",
    "print(cadena.strip('-'))\n",
    "cadena='------------hola mundo ----------soy'\n",
    "print(cadena.strip('-'))\n",
    "'              Hola mundo  '.strip()"
   ]
  },
  {
   "cell_type": "code",
   "execution_count": 11,
   "metadata": {},
   "outputs": [
    {
     "name": "stdout",
     "output_type": "stream",
     "text": [
      "hOla mundO\n",
      "Hola mundo\n"
     ]
    }
   ],
   "source": [
    "# 1.11 Replace\n",
    "cadena='hola mundo'\n",
    "print(cadena.replace('o','O'))\n",
    "# Reemplazar mundo 4 vaces por un caracter vacio\n",
    "print('Hola mundo mundo mundo mundo mundo'.replace(' mundo','',4))"
   ]
  },
  {
   "cell_type": "code",
   "execution_count": 12,
   "metadata": {},
   "outputs": [
    {
     "data": {
      "text/plain": [
       "[]"
      ]
     },
     "execution_count": 12,
     "metadata": {},
     "output_type": "execute_result"
    }
   ],
   "source": [
    "# 2. Listas\n",
    "# 2.1 Clear\n",
    "letras=['a','b','c','d','e','f']\n",
    "letras.clear()\n",
    "letras"
   ]
  },
  {
   "cell_type": "code",
   "execution_count": 13,
   "metadata": {},
   "outputs": [
    {
     "data": {
      "text/plain": [
       "[1, 2, 3, 4, 5, 6, 7, 8]"
      ]
     },
     "execution_count": 13,
     "metadata": {},
     "output_type": "execute_result"
    }
   ],
   "source": [
    "# 2.2 Extend\n",
    "numeros=[1,2,3,4]\n",
    "numeros+[5,6,7,8]"
   ]
  },
  {
   "cell_type": "code",
   "execution_count": 14,
   "metadata": {},
   "outputs": [
    {
     "data": {
      "text/plain": [
       "[1, 2, 3, 4, 5, 6, 7, 8]"
      ]
     },
     "execution_count": 14,
     "metadata": {},
     "output_type": "execute_result"
    }
   ],
   "source": [
    "lista1=[1,2,3,4]\n",
    "lista2=[5,6,7,8]\n",
    "lista1.extend(lista2)\n",
    "lista1"
   ]
  },
  {
   "cell_type": "code",
   "execution_count": 29,
   "metadata": {},
   "outputs": [
    {
     "data": {
      "text/plain": [
       "[0, 1, 2, 3, 4, 5]"
      ]
     },
     "execution_count": 29,
     "metadata": {},
     "output_type": "execute_result"
    }
   ],
   "source": [
    "# 2.3 Insert\n",
    "lista=[1,2,3,4,5]\n",
    "lista.insert(0,0) # valor, indice\n",
    "lista"
   ]
  },
  {
   "cell_type": "code",
   "execution_count": 15,
   "metadata": {},
   "outputs": [
    {
     "data": {
      "text/plain": [
       "[5, 10, 15, 20, 25]"
      ]
     },
     "execution_count": 15,
     "metadata": {},
     "output_type": "execute_result"
    }
   ],
   "source": [
    "lista2=[5,10,15,25]\n",
    "lista2.insert(-1,20) # Posicion anteultima 20\n",
    "lista2"
   ]
  },
  {
   "cell_type": "code",
   "execution_count": 16,
   "metadata": {},
   "outputs": [
    {
     "data": {
      "text/plain": [
       "[5, 10, 15, 25, 30]"
      ]
     },
     "execution_count": 16,
     "metadata": {},
     "output_type": "execute_result"
    }
   ],
   "source": [
    "lista3=[5,10,15,25]\n",
    "n=len(lista3)\n",
    "lista3.insert(n,30) # Ultima posicion\n",
    "lista3"
   ]
  },
  {
   "cell_type": "code",
   "execution_count": 17,
   "metadata": {},
   "outputs": [
    {
     "data": {
      "text/plain": [
       "[4, 3, 2, 1]"
      ]
     },
     "execution_count": 17,
     "metadata": {},
     "output_type": "execute_result"
    }
   ],
   "source": [
    "# 2.4 Reverse\n",
    "lista=[1,2,3,4]\n",
    "lista.reverse()\n",
    "lista"
   ]
  },
  {
   "cell_type": "code",
   "execution_count": 18,
   "metadata": {},
   "outputs": [
    {
     "data": {
      "text/plain": [
       "[-65, -10, 0, 5, 35, 100]"
      ]
     },
     "execution_count": 18,
     "metadata": {},
     "output_type": "execute_result"
    }
   ],
   "source": [
    "# 2.5 Sort\n",
    "lista=[5,-10,35,0,-65,100]\n",
    "lista.sort()\n",
    "lista"
   ]
  },
  {
   "cell_type": "code",
   "execution_count": 39,
   "metadata": {},
   "outputs": [
    {
     "data": {
      "text/plain": [
       "[100, 35, 5, 0, -10, -65]"
      ]
     },
     "execution_count": 39,
     "metadata": {},
     "output_type": "execute_result"
    }
   ],
   "source": [
    "lista.sort(reverse=True)\n",
    "lista"
   ]
  },
  {
   "cell_type": "code",
   "execution_count": 20,
   "metadata": {},
   "outputs": [
    {
     "data": {
      "text/plain": [
       "'gordon lanzó su curva&strawberry ha fallado por un pie! -grito Joe Castiglione&dos pies -le corrigió Troop&strawberry menea la cabeza como disgustado... -agrega el comentarista'"
      ]
     },
     "execution_count": 20,
     "metadata": {},
     "output_type": "execute_result"
    }
   ],
   "source": [
    "# Desafio generico\n",
    "texto='''gordon lanzó su curva&strawberry ha fallado por un pie! -grito Joe Castiglione&dos pies -le corrigió Troop&strawberry menea la cabeza como disgustado... -agrega el comentarista'''\n",
    "texto"
   ]
  },
  {
   "cell_type": "code",
   "execution_count": 21,
   "metadata": {},
   "outputs": [
    {
     "name": "stdout",
     "output_type": "stream",
     "text": [
      "Gordon lanzó su curva... \n",
      " - Strawberry ha fallado por un pie! -grito Joe Castiglione. \n",
      " - Dos pies le corrigió troop .\n",
      " - Strawberry menea la cabeza como disgustado... -agrega el comentarista .\n"
     ]
    }
   ],
   "source": [
    "texto1=texto[0:texto.find('&')+1].capitalize().replace('&','...')\n",
    "texto2=texto[texto.find('&')+1:][0:texto[texto.find('&')+1:].find('&')+1].replace('&','.').capitalize().replace('joe castiglione','Joe Castiglione')\n",
    "texto3=texto[texto.find('&dos')+1:][0:texto[texto.find('&dos')+1:].find('&')].capitalize().replace('-','')\n",
    "texto4=texto[texto.find('p&stra')+1:].replace('&','').capitalize()\n",
    "print(texto1,'\\n -', texto2, '\\n -', texto3,'.\\n -',texto4,'.')"
   ]
  },
  {
   "cell_type": "code",
   "execution_count": 22,
   "metadata": {},
   "outputs": [
    {
     "name": "stdout",
     "output_type": "stream",
     "text": [
      "{1, 2, 3, 4}\n"
     ]
    }
   ],
   "source": [
    "# 3. Conjuntos\n",
    "#3.1 copy\n",
    "set1={1,2,3,4}\n",
    "set2=set1.copy()\n",
    "print(set2)"
   ]
  },
  {
   "cell_type": "code",
   "execution_count": 23,
   "metadata": {},
   "outputs": [
    {
     "data": {
      "text/plain": [
       "False"
      ]
     },
     "execution_count": 23,
     "metadata": {},
     "output_type": "execute_result"
    }
   ],
   "source": [
    "# 3.2 isdisjoint (Ningun item en comun entre los dos sets?)\n",
    "set1={1,2,3}\n",
    "set2={3,4,5}\n",
    "set1.isdisjoint(set2)"
   ]
  },
  {
   "cell_type": "code",
   "execution_count": 24,
   "metadata": {},
   "outputs": [
    {
     "data": {
      "text/plain": [
       "False"
      ]
     },
     "execution_count": 24,
     "metadata": {},
     "output_type": "execute_result"
    }
   ],
   "source": [
    "# 3.3 issubset\n",
    "set3={-1,99}\n",
    "set4={1,2,3,4,5}\n",
    "set3.issubset(set4)"
   ]
  },
  {
   "cell_type": "code",
   "execution_count": 25,
   "metadata": {},
   "outputs": [
    {
     "data": {
      "text/plain": [
       "True"
      ]
     },
     "execution_count": 25,
     "metadata": {},
     "output_type": "execute_result"
    }
   ],
   "source": [
    "# 3.4 issuperset (prueba si el set es contenedor de otro totalmente)\n",
    "set5={1,2,3}\n",
    "set6={1,2}\n",
    "set5.issuperset(set6)"
   ]
  },
  {
   "cell_type": "code",
   "execution_count": 26,
   "metadata": {},
   "outputs": [
    {
     "data": {
      "text/plain": [
       "{1, 2, 3, 4, 5}"
      ]
     },
     "execution_count": 26,
     "metadata": {},
     "output_type": "execute_result"
    }
   ],
   "source": [
    "# 3.5 union\n",
    "set1={1,2,3}\n",
    "set2={3,4,5}\n",
    "set1.union(set2)"
   ]
  },
  {
   "cell_type": "code",
   "execution_count": 27,
   "metadata": {},
   "outputs": [
    {
     "data": {
      "text/plain": [
       "{1, 2}"
      ]
     },
     "execution_count": 27,
     "metadata": {},
     "output_type": "execute_result"
    }
   ],
   "source": [
    "# 3.6 difference\n",
    "set1={1,2,3}\n",
    "set2={3,4,5}\n",
    "set1.difference(set2)"
   ]
  },
  {
   "cell_type": "code",
   "execution_count": 28,
   "metadata": {},
   "outputs": [
    {
     "data": {
      "text/plain": [
       "{1, 2}"
      ]
     },
     "execution_count": 28,
     "metadata": {},
     "output_type": "execute_result"
    }
   ],
   "source": [
    "# 3.7 difference_update (asigna como nuevos valores los items distintos)\n",
    "set1={1,2,3}\n",
    "set2={3,4,5}\n",
    "set1.difference_update(set2)\n",
    "set1"
   ]
  },
  {
   "cell_type": "code",
   "execution_count": 29,
   "metadata": {},
   "outputs": [
    {
     "data": {
      "text/plain": [
       "{3}"
      ]
     },
     "execution_count": 29,
     "metadata": {},
     "output_type": "execute_result"
    }
   ],
   "source": [
    "# 3.8 Intersection\n",
    "set1={1,2,3}\n",
    "set2={3,4,5}\n",
    "set1.intersection(set2)"
   ]
  },
  {
   "cell_type": "code",
   "execution_count": 30,
   "metadata": {},
   "outputs": [
    {
     "data": {
      "text/plain": [
       "{3}"
      ]
     },
     "execution_count": 30,
     "metadata": {},
     "output_type": "execute_result"
    }
   ],
   "source": [
    "# 3.9 intersection_update (actualziacion por datos en comun)\n",
    "set1={1,2,3}\n",
    "set2={3,4,5}\n",
    "set1.intersection_update(set2)\n",
    "set1"
   ]
  },
  {
   "cell_type": "code",
   "execution_count": 31,
   "metadata": {},
   "outputs": [
    {
     "name": "stdout",
     "output_type": "stream",
     "text": [
      "{1, 2, 3, 4, 5}\n"
     ]
    }
   ],
   "source": [
    "# Desafio 2\n",
    "my_set_1 = set([1, 2, 3])\n",
    "my_set_2 = set([3, 4, 5])\n",
    "my_new_set = my_set_1.union(my_set_2)\n",
    "print(my_new_set)"
   ]
  },
  {
   "cell_type": "code",
   "execution_count": 32,
   "metadata": {},
   "outputs": [
    {
     "name": "stdout",
     "output_type": "stream",
     "text": [
      "{3}\n"
     ]
    }
   ],
   "source": [
    "my_set_1 = set([1, 2, 3])\n",
    "my_set_2 = set([3, 4, 5])\n",
    "my_new_set = my_set_1.intersection(my_set_2)\n",
    "print(my_new_set)"
   ]
  },
  {
   "cell_type": "code",
   "execution_count": 33,
   "metadata": {},
   "outputs": [
    {
     "name": "stdout",
     "output_type": "stream",
     "text": [
      "{1, 2}\n"
     ]
    }
   ],
   "source": [
    "my_set_1 = set([1, 2, 3])\n",
    "my_set_2 = set([3, 4, 5])\n",
    "my_new_set = my_set_1.difference(my_set_2) # Lo que esta en set1 y no en set2\n",
    "print(my_new_set)"
   ]
  },
  {
   "cell_type": "code",
   "execution_count": 36,
   "metadata": {},
   "outputs": [
    {
     "name": "stdout",
     "output_type": "stream",
     "text": [
      "no hay clave rojo\n",
      "yellow\n",
      "purple\n"
     ]
    },
    {
     "data": {
      "text/plain": [
       "{'amarillo': 'yellow', 'azul': 'blue', 'verde': 'green'}"
      ]
     },
     "execution_count": 36,
     "metadata": {},
     "output_type": "execute_result"
    }
   ],
   "source": [
    "# 4. Diccionarios\n",
    "# 4.1 get (busca y en cado de no existir devuelve valor por defecto)\n",
    "colors={'amarillo':'yellow','azul':'blue','verde':'green'}\n",
    "print(colors.get('rojo','no hay clave rojo'))\n",
    "print(colors.get('amarillo','no hay clave amarillo'))\n",
    "print(colors.get('purpura','purple'))\n",
    "colors"
   ]
  },
  {
   "cell_type": "code",
   "execution_count": 37,
   "metadata": {},
   "outputs": [
    {
     "data": {
      "text/plain": [
       "dict_keys(['amarillo', 'azul', 'verde'])"
      ]
     },
     "execution_count": 37,
     "metadata": {},
     "output_type": "execute_result"
    }
   ],
   "source": [
    "# 4.2 keys\n",
    "colors.keys()"
   ]
  },
  {
   "cell_type": "code",
   "execution_count": 38,
   "metadata": {},
   "outputs": [
    {
     "data": {
      "text/plain": [
       "dict_values(['yellow', 'blue', 'green'])"
      ]
     },
     "execution_count": 38,
     "metadata": {},
     "output_type": "execute_result"
    }
   ],
   "source": [
    "# 4.3 values\n",
    "colors.values()"
   ]
  },
  {
   "cell_type": "code",
   "execution_count": 39,
   "metadata": {},
   "outputs": [
    {
     "data": {
      "text/plain": [
       "dict_items([('amarillo', 'yellow'), ('azul', 'blue'), ('verde', 'green')])"
      ]
     },
     "execution_count": 39,
     "metadata": {},
     "output_type": "execute_result"
    }
   ],
   "source": [
    "# 4.4 items\n",
    "colors.items()"
   ]
  },
  {
   "cell_type": "code",
   "execution_count": 40,
   "metadata": {},
   "outputs": [
    {
     "name": "stdout",
     "output_type": "stream",
     "text": [
      "amarillo yellow\n",
      "azul blue\n",
      "verde green\n"
     ]
    }
   ],
   "source": [
    "for clave,valor in colors.items():\n",
    "    print(clave,valor)"
   ]
  },
  {
   "cell_type": "code",
   "execution_count": 44,
   "metadata": {},
   "outputs": [
    {
     "name": "stdout",
     "output_type": "stream",
     "text": [
      "Ingresa la divisa que quieres solicitar (Dolar, Euro, Libra)Peso\n",
      "No esta disponible tu divisa\n"
     ]
    }
   ],
   "source": [
    "# Desafio generico\n",
    "dicc={'Dolar':'$','Euro':'€', 'Libra':'£'}\n",
    "valor= input('Ingresa la divisa que quieres solicitar (Dolar, Euro, Libra)')\n",
    "try:\n",
    "    print(dicc[valor])\n",
    "except:\n",
    "    print('No esta disponible tu divisa')"
   ]
  },
  {
   "cell_type": "code",
   "execution_count": 112,
   "metadata": {},
   "outputs": [
    {
     "data": {
      "text/plain": [
       "[29, 24, 23, 17, 16, 12, 5, -5, -12]"
      ]
     },
     "execution_count": 112,
     "metadata": {},
     "output_type": "execute_result"
    }
   ],
   "source": [
    "# Desafio generico (Otro)\n",
    "lista=[29,-5,-12,17,5,24,5,12,23,16,12,5,-12,17]\n",
    "l_n=list(dict.fromkeys(lista)) #1.\n",
    "l_n.sort(reverse=True) #2.\n",
    "l_n"
   ]
  },
  {
   "cell_type": "code",
   "execution_count": 114,
   "metadata": {},
   "outputs": [
    {
     "data": {
      "text/plain": [
       "69"
      ]
     },
     "execution_count": 114,
     "metadata": {},
     "output_type": "execute_result"
    }
   ],
   "source": [
    "# 3 y 4\n",
    "sum([x for x in l_n if x%2!=0])"
   ]
  },
  {
   "cell_type": "code",
   "execution_count": 115,
   "metadata": {},
   "outputs": [
    {
     "data": {
      "text/plain": [
       "[69, 29, 24, 23, 17, 16, 12, 5, -5, -12]"
      ]
     },
     "execution_count": 115,
     "metadata": {},
     "output_type": "execute_result"
    }
   ],
   "source": [
    "l_n.insert(0,sum([x for x in l_n if x%2!=0]))\n",
    "l_n"
   ]
  },
  {
   "cell_type": "code",
   "execution_count": 117,
   "metadata": {},
   "outputs": [
    {
     "data": {
      "text/plain": [
       "69"
      ]
     },
     "execution_count": 117,
     "metadata": {},
     "output_type": "execute_result"
    }
   ],
   "source": [
    "sum([x for x in l_n[1:] if x%2!=0]) # Ok"
   ]
  }
 ],
 "metadata": {
  "kernelspec": {
   "display_name": "Python 3 (ipykernel)",
   "language": "python",
   "name": "python3"
  },
  "language_info": {
   "codemirror_mode": {
    "name": "ipython",
    "version": 3
   },
   "file_extension": ".py",
   "mimetype": "text/x-python",
   "name": "python",
   "nbconvert_exporter": "python",
   "pygments_lexer": "ipython3",
   "version": "3.9.12"
  },
  "vscode": {
   "interpreter": {
    "hash": "8649ced70e2df50cbec1162fce5f764529cbe99dc753d77d52a836183a2bd877"
   }
  }
 },
 "nbformat": 4,
 "nbformat_minor": 2
}
