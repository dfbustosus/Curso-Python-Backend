{
 "cells": [
  {
   "cell_type": "markdown",
   "metadata": {},
   "source": [
    "Argumentos y parametros"
   ]
  },
  {
   "cell_type": "code",
   "execution_count": 1,
   "metadata": {},
   "outputs": [
    {
     "data": {
      "text/plain": [
       "12"
      ]
     },
     "execution_count": 1,
     "metadata": {},
     "output_type": "execute_result"
    }
   ],
   "source": [
    "def suma(numero1,numero2):\n",
    "    return numero1+numero2\n",
    "resultado=suma(7,5)\n",
    "resultado"
   ]
  },
  {
   "cell_type": "code",
   "execution_count": 3,
   "metadata": {},
   "outputs": [
    {
     "data": {
      "text/plain": [
       "-3"
      ]
     },
     "execution_count": 3,
     "metadata": {},
     "output_type": "execute_result"
    }
   ],
   "source": [
    "def resta(a,b):\n",
    "    return a-b\n",
    "resultado=resta(12,15)\n",
    "resultado"
   ]
  },
  {
   "cell_type": "markdown",
   "metadata": {},
   "source": [
    "Argumentos por nombre"
   ]
  },
  {
   "cell_type": "code",
   "execution_count": 4,
   "metadata": {},
   "outputs": [
    {
     "data": {
      "text/plain": [
       "0"
      ]
     },
     "execution_count": 4,
     "metadata": {},
     "output_type": "execute_result"
    }
   ],
   "source": [
    "def resta(a,b):\n",
    "    return a-b\n",
    "resultado=resta(b=15,a=15)\n",
    "resultado"
   ]
  },
  {
   "cell_type": "markdown",
   "metadata": {},
   "source": [
    "Llamada sin argumentos"
   ]
  },
  {
   "cell_type": "code",
   "execution_count": 5,
   "metadata": {},
   "outputs": [
    {
     "ename": "TypeError",
     "evalue": "resta() missing 2 required positional arguments: 'a' and 'b'",
     "output_type": "error",
     "traceback": [
      "\u001b[1;31m---------------------------------------------------------------------------\u001b[0m",
      "\u001b[1;31mTypeError\u001b[0m                                 Traceback (most recent call last)",
      "Input \u001b[1;32mIn [5]\u001b[0m, in \u001b[0;36m<cell line: 3>\u001b[1;34m()\u001b[0m\n\u001b[0;32m      1\u001b[0m \u001b[38;5;28;01mdef\u001b[39;00m \u001b[38;5;21mresta\u001b[39m(a,b):\n\u001b[0;32m      2\u001b[0m     \u001b[38;5;28;01mreturn\u001b[39;00m a\u001b[38;5;241m-\u001b[39mb \n\u001b[1;32m----> 3\u001b[0m \u001b[43mresta\u001b[49m\u001b[43m(\u001b[49m\u001b[43m)\u001b[49m\n",
      "\u001b[1;31mTypeError\u001b[0m: resta() missing 2 required positional arguments: 'a' and 'b'"
     ]
    }
   ],
   "source": [
    "def resta(a,b):\n",
    "    return a-b \n",
    "resta()"
   ]
  },
  {
   "cell_type": "markdown",
   "metadata": {},
   "source": [
    "Parametros por defecto"
   ]
  },
  {
   "cell_type": "code",
   "execution_count": 6,
   "metadata": {},
   "outputs": [
    {
     "data": {
      "text/plain": [
       "2"
      ]
     },
     "execution_count": 6,
     "metadata": {},
     "output_type": "execute_result"
    }
   ],
   "source": [
    "def resta(a=5,b=3):\n",
    "    return a-b \n",
    "resultado=resta() \n",
    "resultado"
   ]
  },
  {
   "cell_type": "code",
   "execution_count": 6,
   "metadata": {},
   "outputs": [
    {
     "name": "stdout",
     "output_type": "stream",
     "text": [
      "Error, debes enviar dos numeros a la funcion\n"
     ]
    }
   ],
   "source": [
    "def resta(a=None,b=None):\n",
    "    if a==None or b==None:\n",
    "        print('Error, debes enviar dos numeros a la funcion')\n",
    "        return\n",
    "    return a-b \n",
    "resultado=resta() \n",
    "resultado"
   ]
  },
  {
   "cell_type": "markdown",
   "metadata": {},
   "source": [
    "Paso por valor"
   ]
  },
  {
   "cell_type": "code",
   "execution_count": 7,
   "metadata": {},
   "outputs": [
    {
     "name": "stdout",
     "output_type": "stream",
     "text": [
      "10\n"
     ]
    }
   ],
   "source": [
    "def doblar_valor(numero):\n",
    "    numero*=2 \n",
    "numero=10\n",
    "doblar_valor(numero)\n",
    "print(numero)"
   ]
  },
  {
   "cell_type": "markdown",
   "metadata": {},
   "source": [
    "Paso por referencia"
   ]
  },
  {
   "cell_type": "code",
   "execution_count": 8,
   "metadata": {},
   "outputs": [],
   "source": [
    "def doblar_valores(numeros):\n",
    "    for i,n in enumerate(numeros):\n",
    "        numeros[i]*=2"
   ]
  },
  {
   "cell_type": "code",
   "execution_count": 9,
   "metadata": {},
   "outputs": [
    {
     "data": {
      "text/plain": [
       "[20, 100, 200]"
      ]
     },
     "execution_count": 9,
     "metadata": {},
     "output_type": "execute_result"
    }
   ],
   "source": [
    "lista=[10,50,100]\n",
    "doblar_valores(lista)\n",
    "lista"
   ]
  },
  {
   "cell_type": "markdown",
   "metadata": {},
   "source": [
    "Argumentos indeterminados"
   ]
  },
  {
   "cell_type": "code",
   "execution_count": 10,
   "metadata": {},
   "outputs": [
    {
     "data": {
      "text/plain": [
       "13"
      ]
     },
     "execution_count": 10,
     "metadata": {},
     "output_type": "execute_result"
    }
   ],
   "source": [
    "#Uso de *args\n",
    "def suma(*args):\n",
    "    return sum(args)\n",
    "\n",
    "suma(5, 5, 3)"
   ]
  },
  {
   "cell_type": "code",
   "execution_count": 11,
   "metadata": {},
   "outputs": [
    {
     "data": {
      "text/plain": [
       "12"
      ]
     },
     "execution_count": 11,
     "metadata": {},
     "output_type": "execute_result"
    }
   ],
   "source": [
    "def suma(*args):\n",
    "    s=0\n",
    "    for arg in args:\n",
    "        s+=arg\n",
    "    return s\n",
    "suma(1,2,3,4,2)"
   ]
  },
  {
   "cell_type": "code",
   "execution_count": 12,
   "metadata": {},
   "outputs": [],
   "source": [
    "# agrs (Un ejemplo mas complicado)\n",
    "def op_functions(l,*args):\n",
    "    if args:\n",
    "        print('hay argumentos extra')\n",
    "        print(args)\n",
    "        if args[0] == 1:\n",
    "            '''\n",
    "                1 = Promedio\n",
    "            '''\n",
    "            prom = 0\n",
    "            for i in l:\n",
    "                prom += i\n",
    "            return prom/len(l)\n",
    "        elif args[0] == 2:\n",
    "            '''\n",
    "                2 = Par o impar\n",
    "            '''\n",
    "            result = []\n",
    "            for i in l:\n",
    "                if i % 2 == 0:\n",
    "                    result.append('par')\n",
    "                else:\n",
    "                    result.append('impar')\n",
    "            return result\n",
    "        elif args[0] == 3:\n",
    "            '''\n",
    "                3 = Mediana\n",
    "            '''\n",
    "            if len(l) % 2 == 0:\n",
    "                return ((l[len(l)//2]) + (l[(len(l)//2) - 1]))/2\n",
    "            else:\n",
    "                #return f'Mediana: {l[len(l)//2]}'\n",
    "                return l[len(l)//2]\n",
    "    else:\n",
    "        print('no hay argumentos extra')"
   ]
  },
  {
   "cell_type": "code",
   "execution_count": 13,
   "metadata": {},
   "outputs": [
    {
     "name": "stdout",
     "output_type": "stream",
     "text": [
      "hay argumentos extra\n",
      "(1,)\n"
     ]
    },
    {
     "data": {
      "text/plain": [
       "3.0"
      ]
     },
     "execution_count": 13,
     "metadata": {},
     "output_type": "execute_result"
    }
   ],
   "source": [
    "lista = [1,2,3,4,5]\n",
    "op_functions(lista,1)"
   ]
  },
  {
   "cell_type": "code",
   "execution_count": 14,
   "metadata": {},
   "outputs": [
    {
     "name": "stdout",
     "output_type": "stream",
     "text": [
      "hay argumentos extra\n",
      "(2,)\n"
     ]
    },
    {
     "data": {
      "text/plain": [
       "['impar', 'par', 'impar', 'par', 'impar']"
      ]
     },
     "execution_count": 14,
     "metadata": {},
     "output_type": "execute_result"
    }
   ],
   "source": [
    "op_functions(lista,2)"
   ]
  },
  {
   "cell_type": "code",
   "execution_count": 15,
   "metadata": {},
   "outputs": [
    {
     "name": "stdout",
     "output_type": "stream",
     "text": [
      "hay argumentos extra\n",
      "(3,)\n"
     ]
    },
    {
     "data": {
      "text/plain": [
       "3"
      ]
     },
     "execution_count": 15,
     "metadata": {},
     "output_type": "execute_result"
    }
   ],
   "source": [
    "op_functions(lista,3)"
   ]
  },
  {
   "cell_type": "code",
   "execution_count": 16,
   "metadata": {},
   "outputs": [
    {
     "name": "stdout",
     "output_type": "stream",
     "text": [
      "no hay argumentos extra\n"
     ]
    }
   ],
   "source": [
    "op_functions(lista)"
   ]
  },
  {
   "cell_type": "code",
   "execution_count": 20,
   "metadata": {},
   "outputs": [
    {
     "name": "stdout",
     "output_type": "stream",
     "text": [
      "hay argumentos extra\n",
      "(1,)\n"
     ]
    },
    {
     "data": {
      "text/plain": [
       "3.0"
      ]
     },
     "execution_count": 20,
     "metadata": {},
     "output_type": "execute_result"
    }
   ],
   "source": [
    "op_functions(lista,1)"
   ]
  },
  {
   "cell_type": "code",
   "execution_count": 17,
   "metadata": {},
   "outputs": [
    {
     "name": "stdout",
     "output_type": "stream",
     "text": [
      "a = 3\n",
      "b = 10\n",
      "c = 3\n"
     ]
    },
    {
     "data": {
      "text/plain": [
       "16"
      ]
     },
     "execution_count": 17,
     "metadata": {},
     "output_type": "execute_result"
    }
   ],
   "source": [
    "# Kwargs\n",
    "def suma(**kwargs):\n",
    "    s=0\n",
    "    for key, value in kwargs.items():\n",
    "        print(key, '=', value)\n",
    "        s+=value\n",
    "    return s \n",
    "suma(a=3,b=10,c=3)"
   ]
  },
  {
   "cell_type": "code",
   "execution_count": 18,
   "metadata": {},
   "outputs": [],
   "source": [
    "# Kwargs\n",
    "def op_functions_2(l,**kargs):\n",
    "    \n",
    "    if kargs.keys():\n",
    "        print('hay argumentos extra')\n",
    "        # print(kargs.keys())\n",
    "        if 'prom' in kargs.keys():            \n",
    "            if kargs['prom'] == True:\n",
    "                '''\n",
    "                    Promedio\n",
    "                '''\n",
    "                prom = 0\n",
    "                for i in l:\n",
    "                    prom += i\n",
    "                return prom/len(l)\n",
    "        \n",
    "        if 'odd' in kargs.keys():\n",
    "            \n",
    "            if kargs['odd'] == True:\n",
    "                '''\n",
    "                    Par o impar\n",
    "                '''\n",
    "                result = []\n",
    "                for i in l:\n",
    "                    if i % 2 == 0:\n",
    "                        result.append('par')\n",
    "                    else:\n",
    "                        result.append('impar')\n",
    "                return result\n",
    "            \n",
    "        if 'median' in kargs.keys():\n",
    "            \n",
    "            if kargs['median'] == True:\n",
    "                '''\n",
    "                    Mediana\n",
    "                '''\n",
    "                if len(l) % 2 == 0:\n",
    "                    return ((l[len(l)//2]) + (l[(len(l)//2) - 1]))/2\n",
    "                else:\n",
    "                    return l[len(l)//2]\n",
    "    else:\n",
    "        print('no hay argumentos extra')"
   ]
  },
  {
   "cell_type": "code",
   "execution_count": 19,
   "metadata": {},
   "outputs": [
    {
     "name": "stdout",
     "output_type": "stream",
     "text": [
      "hay argumentos extra\n"
     ]
    },
    {
     "data": {
      "text/plain": [
       "3.0"
      ]
     },
     "execution_count": 19,
     "metadata": {},
     "output_type": "execute_result"
    }
   ],
   "source": [
    "op_functions_2(lista, prom=True)"
   ]
  },
  {
   "cell_type": "code",
   "execution_count": 20,
   "metadata": {},
   "outputs": [
    {
     "name": "stdout",
     "output_type": "stream",
     "text": [
      "hay argumentos extra\n"
     ]
    },
    {
     "data": {
      "text/plain": [
       "['impar', 'par', 'impar', 'par', 'impar']"
      ]
     },
     "execution_count": 20,
     "metadata": {},
     "output_type": "execute_result"
    }
   ],
   "source": [
    "op_functions_2(lista, odd=True)"
   ]
  },
  {
   "cell_type": "code",
   "execution_count": 21,
   "metadata": {},
   "outputs": [
    {
     "name": "stdout",
     "output_type": "stream",
     "text": [
      "hay argumentos extra\n"
     ]
    },
    {
     "data": {
      "text/plain": [
       "3"
      ]
     },
     "execution_count": 21,
     "metadata": {},
     "output_type": "execute_result"
    }
   ],
   "source": [
    "op_functions_2(lista, median=True)"
   ]
  },
  {
   "cell_type": "code",
   "execution_count": 22,
   "metadata": {},
   "outputs": [],
   "source": [
    "# Actividad colaborativa\n",
    "def convertir_unidades(**kwargs):\n",
    "    if len(kwargs) == 1:\n",
    "        milimetros = list(kwargs.values())[0]\n",
    "        metros = milimetros / 1000\n",
    "        centimetros = (milimetros / 10) % 100\n",
    "        return metros, centimetros, milimetros\n",
    "    elif len(kwargs) == 3:\n",
    "        metros = kwargs.get('metros', 0)\n",
    "        centimetros = kwargs.get('centimetros', 0)\n",
    "        milimetros = kwargs.get('milimetros', 0)\n",
    "        return (metros * 1000) + (centimetros * 10) + milimetros\n",
    "    else:\n",
    "        return \"Error: Debe proporcionar 1 argumento o 3 argumentos (metros, centímetros y milímetros)\""
   ]
  },
  {
   "cell_type": "code",
   "execution_count": 23,
   "metadata": {},
   "outputs": [
    {
     "data": {
      "text/plain": [
       "(1.5, 50.0, 1500)"
      ]
     },
     "execution_count": 23,
     "metadata": {},
     "output_type": "execute_result"
    }
   ],
   "source": [
    "convertir_unidades(milimetros=1500)"
   ]
  },
  {
   "cell_type": "code",
   "execution_count": 24,
   "metadata": {},
   "outputs": [
    {
     "data": {
      "text/plain": [
       "1500"
      ]
     },
     "execution_count": 24,
     "metadata": {},
     "output_type": "execute_result"
    }
   ],
   "source": [
    "convertir_unidades(metros=1, centimetros=50, milimetros=0)"
   ]
  },
  {
   "cell_type": "markdown",
   "metadata": {},
   "source": [
    "Otro ejemplo !! Pero lo vemos mas adelante, reloj basico"
   ]
  },
  {
   "cell_type": "code",
   "execution_count": 25,
   "metadata": {},
   "outputs": [
    {
     "name": "stdout",
     "output_type": "stream",
     "text": [
      "Segundos en horas: 13\n",
      "Segundos en minutos: 53\n"
     ]
    }
   ],
   "source": [
    "def time_conv(sec):\n",
    "   sec_value = sec % (24 * 3600)\n",
    "   hora_value = sec_value // 3600\n",
    "   sec_value %= 3600\n",
    "   min = sec_value // 60\n",
    "   sec_value %= 60\n",
    "   print(\"Segundos en horas:\",hora_value)\n",
    "   print(\"Segundos en minutos:\",min)\n",
    "    \n",
    "sec = 50000\n",
    "time_conv(sec)"
   ]
  },
  {
   "cell_type": "code",
   "execution_count": 26,
   "metadata": {},
   "outputs": [
    {
     "name": "stdout",
     "output_type": "stream",
     "text": [
      "Segundos totales: 36610\n"
     ]
    }
   ],
   "source": [
    "def time_conv2(hora,minutos,segundos):\n",
    "   sec1= hora*60*60\n",
    "   sec2= minutos*60\n",
    "   print(\"Segundos totales:\",sec1+sec2+segundos) \n",
    "time_conv2(hora=10,minutos=10,segundos=10)"
   ]
  },
  {
   "cell_type": "code",
   "execution_count": 27,
   "metadata": {},
   "outputs": [
    {
     "name": "stdout",
     "output_type": "stream",
     "text": [
      "Numero argumentos 1 , Horas: 0 Minutos: 20 Segundos: 0\n",
      "0\n",
      "Numero argumentos 3 Total segundos: 1203\n",
      "1203\n"
     ]
    }
   ],
   "source": [
    "# Kwargs\n",
    "def suma(**kwargs):\n",
    "    if len(kwargs)==1:\n",
    "        sec_value = list(kwargs.values())[0] % (24 * 3600)\n",
    "        hora_value = sec_value // 3600\n",
    "        sec_value %= 3600\n",
    "        min = sec_value // 60\n",
    "        sec_value %= 60\n",
    "        print('Numero argumentos',len(kwargs),\n",
    "        ', Horas:',hora_value,'Minutos:',min,\n",
    "        'Segundos:',list(kwargs.values())[0]-hora_value*60*60-min*60)\n",
    "        return list(kwargs.values())[0]-hora_value*60*60-min*60\n",
    "    if len(kwargs)==3:\n",
    "        horas=list(kwargs.values())[0]*60*60\n",
    "        minutos=list(kwargs.values())[1]*60\n",
    "        segundos=list(kwargs.values())[2]\n",
    "        print('Numero argumentos', len(kwargs),\n",
    "        'Total segundos:',horas+minutos+segundos)\n",
    "        return horas+minutos+segundos\n",
    "print(suma(seg=1200))\n",
    "print(suma(horas=0,min=20,seg=3))"
   ]
  },
  {
   "cell_type": "markdown",
   "metadata": {},
   "source": [
    "Recursividad"
   ]
  },
  {
   "cell_type": "code",
   "execution_count": 28,
   "metadata": {},
   "outputs": [],
   "source": [
    "# iterador contador y condicion\n",
    "count = 0\n",
    "def recorrer(count):\n",
    "    # print('Inicio recursividad')\n",
    "    print(count)\n",
    "    if count < 10:\n",
    "        count += 1\n",
    "        recorrer(count)\n",
    "    else:\n",
    "        print('fin')"
   ]
  },
  {
   "cell_type": "code",
   "execution_count": 29,
   "metadata": {},
   "outputs": [
    {
     "name": "stdout",
     "output_type": "stream",
     "text": [
      "3\n",
      "4\n",
      "5\n",
      "6\n",
      "7\n",
      "8\n",
      "9\n",
      "10\n",
      "fin\n"
     ]
    }
   ],
   "source": [
    "recorrer(count=3)"
   ]
  },
  {
   "cell_type": "code",
   "execution_count": 30,
   "metadata": {},
   "outputs": [
    {
     "name": "stdout",
     "output_type": "stream",
     "text": [
      "El factorial del numero 3 es 6\n"
     ]
    }
   ],
   "source": [
    "def factorial(x):\n",
    "    if x == 1:\n",
    "        return 1\n",
    "    else:\n",
    "        return (x * factorial(x-1))\n",
    "num = 3\n",
    "print(\"El factorial del numero\", num, \"es\", factorial(num))"
   ]
  },
  {
   "cell_type": "code",
   "execution_count": 31,
   "metadata": {},
   "outputs": [],
   "source": [
    "lista = ['a','b','c','d','e']\n",
    "count = 0\n",
    "def recorrer(count, david):\n",
    "    '''\n",
    "    Comentarios!!!!\n",
    "    '''\n",
    "    # print('Inicio recursividad')\n",
    "    lon = count\n",
    "    if count < len(david):\n",
    "        print(david[count])\n",
    "        count += 1\n",
    "        recorrer(count, david)"
   ]
  },
  {
   "cell_type": "code",
   "execution_count": 32,
   "metadata": {},
   "outputs": [
    {
     "name": "stdout",
     "output_type": "stream",
     "text": [
      "a\n",
      "b\n",
      "c\n",
      "d\n",
      "e\n"
     ]
    }
   ],
   "source": [
    "recorrer(count, lista)"
   ]
  },
  {
   "cell_type": "code",
   "execution_count": 33,
   "metadata": {},
   "outputs": [
    {
     "name": "stdout",
     "output_type": "stream",
     "text": [
      "a\n",
      "b\n",
      "c\n",
      "d\n",
      "e\n"
     ]
    }
   ],
   "source": [
    "longitud = recorrer(count, lista)"
   ]
  },
  {
   "cell_type": "code",
   "execution_count": 34,
   "metadata": {},
   "outputs": [],
   "source": [
    "def cuenta(numero):\n",
    "    numero -=1\n",
    "    if numero >0:\n",
    "        print(f'---->{numero}')\n",
    "        cuenta(numero)\n",
    "    else:\n",
    "        print('Booooom!!')"
   ]
  },
  {
   "cell_type": "markdown",
   "metadata": {},
   "source": [
    "Funciones integradas"
   ]
  },
  {
   "cell_type": "code",
   "execution_count": 35,
   "metadata": {},
   "outputs": [
    {
     "data": {
      "text/plain": [
       "2"
      ]
     },
     "execution_count": 35,
     "metadata": {},
     "output_type": "execute_result"
    }
   ],
   "source": [
    "int(2.5)"
   ]
  },
  {
   "cell_type": "code",
   "execution_count": 36,
   "metadata": {},
   "outputs": [
    {
     "data": {
      "text/plain": [
       "25"
      ]
     },
     "execution_count": 36,
     "metadata": {},
     "output_type": "execute_result"
    }
   ],
   "source": [
    "int('25')"
   ]
  },
  {
   "cell_type": "code",
   "execution_count": 37,
   "metadata": {},
   "outputs": [
    {
     "ename": "ValueError",
     "evalue": "invalid literal for int() with base 10: '2.5'",
     "output_type": "error",
     "traceback": [
      "\u001b[1;31m---------------------------------------------------------------------------\u001b[0m",
      "\u001b[1;31mValueError\u001b[0m                                Traceback (most recent call last)",
      "Input \u001b[1;32mIn [37]\u001b[0m, in \u001b[0;36m<cell line: 1>\u001b[1;34m()\u001b[0m\n\u001b[1;32m----> 1\u001b[0m \u001b[38;5;28;43mint\u001b[39;49m\u001b[43m(\u001b[49m\u001b[38;5;124;43m'\u001b[39;49m\u001b[38;5;124;43m2.5\u001b[39;49m\u001b[38;5;124;43m'\u001b[39;49m\u001b[43m)\u001b[49m\n",
      "\u001b[1;31mValueError\u001b[0m: invalid literal for int() with base 10: '2.5'"
     ]
    }
   ],
   "source": [
    "int('2.5')"
   ]
  },
  {
   "cell_type": "code",
   "execution_count": 38,
   "metadata": {},
   "outputs": [
    {
     "data": {
      "text/plain": [
       "2.5"
      ]
     },
     "execution_count": 38,
     "metadata": {},
     "output_type": "execute_result"
    }
   ],
   "source": [
    "float(2.5)"
   ]
  },
  {
   "cell_type": "code",
   "execution_count": 39,
   "metadata": {},
   "outputs": [
    {
     "data": {
      "text/plain": [
       "2.0"
      ]
     },
     "execution_count": 39,
     "metadata": {},
     "output_type": "execute_result"
    }
   ],
   "source": [
    "float(\"2\")"
   ]
  },
  {
   "cell_type": "code",
   "execution_count": 40,
   "metadata": {},
   "outputs": [
    {
     "data": {
      "text/plain": [
       "'2.5'"
      ]
     },
     "execution_count": 40,
     "metadata": {},
     "output_type": "execute_result"
    }
   ],
   "source": [
    "str(2.5)"
   ]
  },
  {
   "cell_type": "code",
   "execution_count": 41,
   "metadata": {},
   "outputs": [
    {
     "data": {
      "text/plain": [
       "2"
      ]
     },
     "execution_count": 41,
     "metadata": {},
     "output_type": "execute_result"
    }
   ],
   "source": [
    "round(2.5)"
   ]
  },
  {
   "cell_type": "code",
   "execution_count": 42,
   "metadata": {},
   "outputs": [
    {
     "data": {
      "text/plain": [
       "2"
      ]
     },
     "execution_count": 42,
     "metadata": {},
     "output_type": "execute_result"
    }
   ],
   "source": [
    "round(2,4)"
   ]
  },
  {
   "cell_type": "code",
   "execution_count": 88,
   "metadata": {},
   "outputs": [
    {
     "name": "stdout",
     "output_type": "stream",
     "text": [
      "\n",
      "Welcome to Python 3.10's help utility!\n",
      "\n",
      "If this is your first time using Python, you should definitely check out\n",
      "the tutorial on the internet at https://docs.python.org/3.10/tutorial/.\n",
      "\n",
      "Enter the name of any module, keyword, or topic to get help on writing\n",
      "Python programs and using Python modules.  To quit this help utility and\n",
      "return to the interpreter, just type \"quit\".\n",
      "\n",
      "To get a list of available modules, keywords, symbols, or topics, type\n",
      "\"modules\", \"keywords\", \"symbols\", or \"topics\".  Each module also comes\n",
      "with a one-line summary of what it does; to list the modules whose name\n",
      "or summary contain a given string such as \"spam\", type \"modules spam\".\n",
      "\n"
     ]
    }
   ],
   "source": [
    "help()"
   ]
  },
  {
   "cell_type": "code",
   "execution_count": 43,
   "metadata": {},
   "outputs": [
    {
     "name": "stdout",
     "output_type": "stream",
     "text": [
      "a = 10\n",
      "b = 20\n",
      "args = 1\n",
      "args = 2\n",
      "args = 3\n",
      "args = 4\n",
      "x = Hola\n",
      "y = Que\n",
      "z = Tal\n"
     ]
    }
   ],
   "source": [
    "# Otros ejemplos\n",
    "#Un ratito para pensar!\n",
    "def funcion(a, b, *args, **kwargs):\n",
    "    print(\"a =\", a)\n",
    "    print(\"b =\", b)\n",
    "    for arg in args:\n",
    "        print(\"args =\", arg)\n",
    "    for key, value in kwargs.items():\n",
    "        print(key, \"=\", value)\n",
    "\n",
    "funcion(10, 20, 1, 2, 3, 4, x=\"Hola\", y=\"Que\", z=\"Tal\")"
   ]
  },
  {
   "cell_type": "code",
   "execution_count": 44,
   "metadata": {},
   "outputs": [
    {
     "name": "stdout",
     "output_type": "stream",
     "text": [
      "a = 10\n",
      "b = 20\n",
      "args = 1\n",
      "args = 2\n",
      "args = 3\n",
      "args = 4\n",
      "x = Hola\n",
      "y = Que\n",
      "z = Tal\n"
     ]
    }
   ],
   "source": [
    "#Realmente el nombre no importa!\n",
    "def funcion(a, b, *ejemplo_args, **ejemplo_kwargs):\n",
    "    print(\"a =\", a)\n",
    "    print(\"b =\", b)\n",
    "    for arg in ejemplo_args:\n",
    "        print(\"args =\", arg)\n",
    "    for key, value in ejemplo_kwargs.items():\n",
    "        print(key, \"=\", value)\n",
    "\n",
    "funcion(10, 20, 1, 2, 3, 4, x=\"Hola\", y=\"Que\", z=\"Tal\")"
   ]
  },
  {
   "cell_type": "code",
   "execution_count": 45,
   "metadata": {},
   "outputs": [
    {
     "name": "stdout",
     "output_type": "stream",
     "text": [
      "a = 10\n",
      "b = 20\n",
      "args = 1\n",
      "args = 2\n",
      "args = 3\n",
      "args = 4\n",
      "x = Hola\n",
      "y = Que\n",
      "z = Tal\n"
     ]
    }
   ],
   "source": [
    "def funcion(a, b, *args, **kwargs):\n",
    "    print(\"a =\", a)\n",
    "    print(\"b =\", b)\n",
    "    for arg in args:\n",
    "        print(\"args =\", arg)\n",
    "    for key, value in kwargs.items():\n",
    "        print(key, \"=\", value)\n",
    "\n",
    "args = [1, 2, 3, 4]\n",
    "kwargs = {'x':\"Hola\", 'y':\"Que\", 'z':\"Tal\"}\n",
    "\n",
    "funcion(10, 20, *args, **kwargs)"
   ]
  }
 ],
 "metadata": {
  "kernelspec": {
   "display_name": "Python 3 (ipykernel)",
   "language": "python",
   "name": "python3"
  },
  "language_info": {
   "codemirror_mode": {
    "name": "ipython",
    "version": 3
   },
   "file_extension": ".py",
   "mimetype": "text/x-python",
   "name": "python",
   "nbconvert_exporter": "python",
   "pygments_lexer": "ipython3",
   "version": "3.9.12"
  },
  "vscode": {
   "interpreter": {
    "hash": "8649ced70e2df50cbec1162fce5f764529cbe99dc753d77d52a836183a2bd877"
   }
  }
 },
 "nbformat": 4,
 "nbformat_minor": 2
}
