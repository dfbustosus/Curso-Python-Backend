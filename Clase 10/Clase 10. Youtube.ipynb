{
 "cells": [
  {
   "attachments": {},
   "cell_type": "markdown",
   "metadata": {},
   "source": [
    "# Argumentos vs Parametros\n",
    "**Argumentos:** valores que se pasan a los parametros para evaluar\n",
    "\n",
    "**Parametros:** son las variables que se usan dentro de los parantesis cuando defines una funcion"
   ]
  },
  {
   "cell_type": "code",
   "execution_count": 1,
   "metadata": {},
   "outputs": [
    {
     "name": "stdout",
     "output_type": "stream",
     "text": [
      "David\n"
     ]
    }
   ],
   "source": [
    "def print_nombre(nombre):\n",
    "    print(nombre)\n",
    "print_nombre('David')"
   ]
  },
  {
   "cell_type": "code",
   "execution_count": 2,
   "metadata": {},
   "outputs": [
    {
     "name": "stdout",
     "output_type": "stream",
     "text": [
      "1 2 3\n",
      "3 2 1\n"
     ]
    }
   ],
   "source": [
    "# Argumentos tipo keyword\n",
    "def f(a,b,c):\n",
    "    print(a,b,c)\n",
    "f(1,2,3)\n",
    "f(c=1,b=2,a=3) # no importa el orden"
   ]
  },
  {
   "cell_type": "code",
   "execution_count": 5,
   "metadata": {},
   "outputs": [
    {
     "name": "stdout",
     "output_type": "stream",
     "text": [
      "1 2 3 4\n"
     ]
    }
   ],
   "source": [
    "def f(a,b,c,d=4):\n",
    "    print(a,b,c,d)\n",
    "f(a=1,b=2,c=3)"
   ]
  },
  {
   "cell_type": "code",
   "execution_count": 8,
   "metadata": {},
   "outputs": [
    {
     "data": {
      "text/plain": [
       "8"
      ]
     },
     "execution_count": 8,
     "metadata": {},
     "output_type": "execute_result"
    }
   ],
   "source": [
    "#Uso de *args\n",
    "def suma(*args):\n",
    "    return sum(args)\n",
    "\n",
    "suma(5,3)"
   ]
  },
  {
   "cell_type": "code",
   "execution_count": 9,
   "metadata": {},
   "outputs": [
    {
     "name": "stdout",
     "output_type": "stream",
     "text": [
      "1 2\n",
      "4\n",
      "5\n",
      "at 6\n",
      "et 7\n"
     ]
    }
   ],
   "source": [
    "# **kwargs and *args\n",
    "def f(a,b, *args, **kwargs):\n",
    "    print(a,b)\n",
    "    for arg in args:\n",
    "        print(arg)\n",
    "    for key in kwargs:\n",
    "        print(key, kwargs[key])\n",
    "f(1,2,4,5, at=6, et=7 )"
   ]
  },
  {
   "cell_type": "code",
   "execution_count": 10,
   "metadata": {},
   "outputs": [
    {
     "name": "stdout",
     "output_type": "stream",
     "text": [
      "1 2\n",
      "4\n",
      "5\n"
     ]
    }
   ],
   "source": [
    "f(1,2,4,5) # solo usa los args por que son opcionales"
   ]
  },
  {
   "cell_type": "code",
   "execution_count": 11,
   "metadata": {},
   "outputs": [],
   "source": [
    "# agrs (Un ejemplo mas complicado)\n",
    "def op_functions(l,*args):\n",
    "    if args:\n",
    "        print('hay argumentos extra')\n",
    "        print(args)\n",
    "        if args[0] == 1:\n",
    "            '''\n",
    "                1 = Promedio\n",
    "            '''\n",
    "            prom = 0\n",
    "            for i in l:\n",
    "                prom += i\n",
    "            return prom/len(l)\n",
    "        elif args[0] == 2:\n",
    "            '''\n",
    "                2 = Par o impar\n",
    "            '''\n",
    "            result = []\n",
    "            for i in l:\n",
    "                if i % 2 == 0:\n",
    "                    result.append('par')\n",
    "                else:\n",
    "                    result.append('impar')\n",
    "            return result\n",
    "        elif args[0] == 3:\n",
    "            '''\n",
    "                3 = Mediana\n",
    "            '''\n",
    "            if len(l) % 2 == 0:\n",
    "                return ((l[len(l)//2]) + (l[(len(l)//2) - 1]))/2\n",
    "            else:\n",
    "                #return f'Mediana: {l[len(l)//2]}'\n",
    "                return l[len(l)//2]\n",
    "    else:\n",
    "        print('no hay argumentos extra')"
   ]
  },
  {
   "cell_type": "code",
   "execution_count": 12,
   "metadata": {},
   "outputs": [
    {
     "name": "stdout",
     "output_type": "stream",
     "text": [
      "hay argumentos extra\n",
      "(1,)\n"
     ]
    },
    {
     "data": {
      "text/plain": [
       "3.0"
      ]
     },
     "execution_count": 12,
     "metadata": {},
     "output_type": "execute_result"
    }
   ],
   "source": [
    "lista = [1,2,3,4,5]\n",
    "op_functions(lista,1)"
   ]
  },
  {
   "cell_type": "code",
   "execution_count": 13,
   "metadata": {},
   "outputs": [
    {
     "name": "stdout",
     "output_type": "stream",
     "text": [
      "hay argumentos extra\n",
      "(2,)\n"
     ]
    },
    {
     "data": {
      "text/plain": [
       "['impar', 'par', 'impar', 'par', 'impar']"
      ]
     },
     "execution_count": 13,
     "metadata": {},
     "output_type": "execute_result"
    }
   ],
   "source": [
    "op_functions(lista,2)"
   ]
  },
  {
   "cell_type": "code",
   "execution_count": 14,
   "metadata": {},
   "outputs": [
    {
     "name": "stdout",
     "output_type": "stream",
     "text": [
      "hay argumentos extra\n",
      "(3,)\n"
     ]
    },
    {
     "data": {
      "text/plain": [
       "3"
      ]
     },
     "execution_count": 14,
     "metadata": {},
     "output_type": "execute_result"
    }
   ],
   "source": [
    "op_functions(lista,3)"
   ]
  },
  {
   "cell_type": "code",
   "execution_count": 15,
   "metadata": {},
   "outputs": [
    {
     "name": "stdout",
     "output_type": "stream",
     "text": [
      "no hay argumentos extra\n"
     ]
    }
   ],
   "source": [
    "op_functions(lista)"
   ]
  },
  {
   "cell_type": "code",
   "execution_count": 32,
   "metadata": {},
   "outputs": [
    {
     "name": "stdout",
     "output_type": "stream",
     "text": [
      "hay argumentos extra\n",
      "(1,)\n"
     ]
    },
    {
     "data": {
      "text/plain": [
       "3.0"
      ]
     },
     "execution_count": 32,
     "metadata": {},
     "output_type": "execute_result"
    }
   ],
   "source": [
    "op_functions(lista,1)"
   ]
  },
  {
   "cell_type": "code",
   "execution_count": 19,
   "metadata": {},
   "outputs": [
    {
     "name": "stdout",
     "output_type": "stream",
     "text": [
      "a = 3\n",
      "b = 10\n",
      "c = 3\n"
     ]
    },
    {
     "data": {
      "text/plain": [
       "16"
      ]
     },
     "execution_count": 19,
     "metadata": {},
     "output_type": "execute_result"
    }
   ],
   "source": [
    "# Kwargs\n",
    "def suma(**kwargs):\n",
    "    s=0\n",
    "    for key, value in kwargs.items():\n",
    "        print(key, '=', value)\n",
    "        s+=value\n",
    "    return s \n",
    "suma(a=3,b=10,c=3)"
   ]
  },
  {
   "cell_type": "code",
   "execution_count": 21,
   "metadata": {},
   "outputs": [],
   "source": [
    "# Kwargs\n",
    "def op_functions_2(l,**kargs):\n",
    "    \n",
    "    if kargs.keys():\n",
    "        print('hay argumentos extra')\n",
    "        # print(kargs.keys())\n",
    "        if 'prom' in kargs.keys():            \n",
    "            if kargs['prom'] == True:\n",
    "                '''\n",
    "                    Promedio\n",
    "                '''\n",
    "                prom = 0\n",
    "                for i in l:\n",
    "                    prom += i\n",
    "                return prom/len(l)\n",
    "        \n",
    "        if 'odd' in kargs.keys():\n",
    "            \n",
    "            if kargs['odd'] == True:\n",
    "                '''\n",
    "                    Par o impar\n",
    "                '''\n",
    "                result = []\n",
    "                for i in l:\n",
    "                    if i % 2 == 0:\n",
    "                        result.append('par')\n",
    "                    else:\n",
    "                        result.append('impar')\n",
    "                return result\n",
    "            \n",
    "        if 'median' in kargs.keys():\n",
    "            \n",
    "            if kargs['median'] == True:\n",
    "                '''\n",
    "                    Mediana\n",
    "                '''\n",
    "                if len(l) % 2 == 0:\n",
    "                    return ((l[len(l)//2]) + (l[(len(l)//2) - 1]))/2\n",
    "                else:\n",
    "                    return l[len(l)//2]\n",
    "    else:\n",
    "        print('no hay argumentos extra')"
   ]
  },
  {
   "cell_type": "code",
   "execution_count": 22,
   "metadata": {},
   "outputs": [
    {
     "name": "stdout",
     "output_type": "stream",
     "text": [
      "hay argumentos extra\n"
     ]
    },
    {
     "data": {
      "text/plain": [
       "3.0"
      ]
     },
     "execution_count": 22,
     "metadata": {},
     "output_type": "execute_result"
    }
   ],
   "source": [
    "op_functions_2(lista, prom=True)"
   ]
  },
  {
   "cell_type": "code",
   "execution_count": 23,
   "metadata": {},
   "outputs": [
    {
     "name": "stdout",
     "output_type": "stream",
     "text": [
      "hay argumentos extra\n"
     ]
    },
    {
     "data": {
      "text/plain": [
       "['impar', 'par', 'impar', 'par', 'impar']"
      ]
     },
     "execution_count": 23,
     "metadata": {},
     "output_type": "execute_result"
    }
   ],
   "source": [
    "op_functions_2(lista, odd=True)"
   ]
  },
  {
   "cell_type": "code",
   "execution_count": 24,
   "metadata": {},
   "outputs": [
    {
     "name": "stdout",
     "output_type": "stream",
     "text": [
      "hay argumentos extra\n"
     ]
    },
    {
     "data": {
      "text/plain": [
       "3"
      ]
     },
     "execution_count": 24,
     "metadata": {},
     "output_type": "execute_result"
    }
   ],
   "source": [
    "op_functions_2(lista, median=True)"
   ]
  },
  {
   "cell_type": "code",
   "execution_count": 28,
   "metadata": {},
   "outputs": [
    {
     "name": "stdout",
     "output_type": "stream",
     "text": [
      "1 2 3 4\n"
     ]
    }
   ],
   "source": [
    "def f(a,b,*,c,d): # posicionar kwargs solamente\n",
    "    print(a,b,c,d)\n",
    "#f(1,2,3,4) # Error\n",
    "f(1,2,c=3,d=4) "
   ]
  },
  {
   "cell_type": "code",
   "execution_count": 29,
   "metadata": {},
   "outputs": [
    {
     "name": "stdout",
     "output_type": "stream",
     "text": [
      "3 4\n"
     ]
    }
   ],
   "source": [
    "def f(*args, c,d):\n",
    "    print(c,d)\n",
    "f(1,2,c=3,d=4)"
   ]
  },
  {
   "cell_type": "code",
   "execution_count": 30,
   "metadata": {},
   "outputs": [
    {
     "name": "stdout",
     "output_type": "stream",
     "text": [
      "0 1 2\n"
     ]
    }
   ],
   "source": [
    "# Unpacking arguments\n",
    "def f(a,b,c):\n",
    "    print(a,b,c)\n",
    "lista=[0,1,2] # la longitud debe ser la misma\n",
    "f(*lista) # hace el unpacking\n"
   ]
  },
  {
   "cell_type": "code",
   "execution_count": 33,
   "metadata": {},
   "outputs": [
    {
     "name": "stdout",
     "output_type": "stream",
     "text": [
      "1 2 3\n"
     ]
    }
   ],
   "source": [
    "dict_a={'a':1,'b':2,'c':3}# los keys deben ser iguales a los argumentos y de la misma longitud\n",
    "f(**dict_a)"
   ]
  },
  {
   "cell_type": "code",
   "execution_count": 34,
   "metadata": {},
   "outputs": [
    {
     "name": "stdout",
     "output_type": "stream",
     "text": [
      "0\n"
     ]
    }
   ],
   "source": [
    "# local vs global\n",
    "number=0\n",
    "def f():\n",
    "    x=number \n",
    "    print(x)\n",
    "f()"
   ]
  },
  {
   "cell_type": "code",
   "execution_count": 36,
   "metadata": {},
   "outputs": [
    {
     "ename": "UnboundLocalError",
     "evalue": "local variable 'number' referenced before assignment",
     "output_type": "error",
     "traceback": [
      "\u001b[1;31m---------------------------------------------------------------------------\u001b[0m",
      "\u001b[1;31mUnboundLocalError\u001b[0m                         Traceback (most recent call last)",
      "\u001b[1;32mc:\\Users\\Windows\\Desktop\\Curso Python Coder\\Clase 10\\Clase 10. Youtube.ipynb Cell 24\u001b[0m in \u001b[0;36m6\n\u001b[0;32m      <a href='vscode-notebook-cell:/c%3A/Users/Windows/Desktop/Curso%20Python%20Coder/Clase%2010/Clase%2010.%20Youtube.ipynb#X32sZmlsZQ%3D%3D?line=3'>4</a>\u001b[0m     number\u001b[39m=\u001b[39m\u001b[39m3\u001b[39m \u001b[39m# local variable \u001b[39;00m\n\u001b[0;32m      <a href='vscode-notebook-cell:/c%3A/Users/Windows/Desktop/Curso%20Python%20Coder/Clase%2010/Clase%2010.%20Youtube.ipynb#X32sZmlsZQ%3D%3D?line=4'>5</a>\u001b[0m     \u001b[39mprint\u001b[39m(x)\n\u001b[1;32m----> <a href='vscode-notebook-cell:/c%3A/Users/Windows/Desktop/Curso%20Python%20Coder/Clase%2010/Clase%2010.%20Youtube.ipynb#X32sZmlsZQ%3D%3D?line=5'>6</a>\u001b[0m f()\n",
      "\u001b[1;32mc:\\Users\\Windows\\Desktop\\Curso Python Coder\\Clase 10\\Clase 10. Youtube.ipynb Cell 24\u001b[0m in \u001b[0;36m3\n\u001b[0;32m      <a href='vscode-notebook-cell:/c%3A/Users/Windows/Desktop/Curso%20Python%20Coder/Clase%2010/Clase%2010.%20Youtube.ipynb#X32sZmlsZQ%3D%3D?line=1'>2</a>\u001b[0m \u001b[39mdef\u001b[39;00m \u001b[39mf\u001b[39m():\n\u001b[1;32m----> <a href='vscode-notebook-cell:/c%3A/Users/Windows/Desktop/Curso%20Python%20Coder/Clase%2010/Clase%2010.%20Youtube.ipynb#X32sZmlsZQ%3D%3D?line=2'>3</a>\u001b[0m     x\u001b[39m=\u001b[39mnumber \n\u001b[0;32m      <a href='vscode-notebook-cell:/c%3A/Users/Windows/Desktop/Curso%20Python%20Coder/Clase%2010/Clase%2010.%20Youtube.ipynb#X32sZmlsZQ%3D%3D?line=3'>4</a>\u001b[0m     number\u001b[39m=\u001b[39m\u001b[39m3\u001b[39m \u001b[39m# local variable \u001b[39;00m\n\u001b[0;32m      <a href='vscode-notebook-cell:/c%3A/Users/Windows/Desktop/Curso%20Python%20Coder/Clase%2010/Clase%2010.%20Youtube.ipynb#X32sZmlsZQ%3D%3D?line=4'>5</a>\u001b[0m     \u001b[39mprint\u001b[39m(x)\n",
      "\u001b[1;31mUnboundLocalError\u001b[0m: local variable 'number' referenced before assignment"
     ]
    }
   ],
   "source": [
    "number=0\n",
    "def f():\n",
    "    x=number \n",
    "    number=3 # local variable \n",
    "    print(x)\n",
    "f()"
   ]
  },
  {
   "cell_type": "code",
   "execution_count": 37,
   "metadata": {},
   "outputs": [
    {
     "name": "stdout",
     "output_type": "stream",
     "text": [
      "0\n"
     ]
    }
   ],
   "source": [
    "number=0\n",
    "def f():\n",
    "    global number\n",
    "    x=number \n",
    "    number=3 # local variable \n",
    "    print(x)\n",
    "f()"
   ]
  },
  {
   "cell_type": "code",
   "execution_count": 38,
   "metadata": {},
   "outputs": [
    {
     "name": "stdout",
     "output_type": "stream",
     "text": [
      "3\n"
     ]
    }
   ],
   "source": [
    "# error comun\n",
    "def f():\n",
    "    number=0 #local\n",
    "number=3 #local\n",
    "f()\n",
    "print(number)"
   ]
  },
  {
   "cell_type": "code",
   "execution_count": 39,
   "metadata": {},
   "outputs": [
    {
     "name": "stdout",
     "output_type": "stream",
     "text": [
      "[1, 2, 3, 4]\n"
     ]
    }
   ],
   "source": [
    "# Obejtos mutables pueden ser modificados pero los inmutables no (ej. caso anterior)\n",
    "def f(lista):\n",
    "    lista.append(4)\n",
    "lista_x=[1,2,3]\n",
    "f(lista_x)\n",
    "print(lista_x)"
   ]
  }
 ],
 "metadata": {
  "kernelspec": {
   "display_name": "Python 3",
   "language": "python",
   "name": "python3"
  },
  "language_info": {
   "codemirror_mode": {
    "name": "ipython",
    "version": 3
   },
   "file_extension": ".py",
   "mimetype": "text/x-python",
   "name": "python",
   "nbconvert_exporter": "python",
   "pygments_lexer": "ipython3",
   "version": "3.10.10"
  },
  "orig_nbformat": 4,
  "vscode": {
   "interpreter": {
    "hash": "8649ced70e2df50cbec1162fce5f764529cbe99dc753d77d52a836183a2bd877"
   }
  }
 },
 "nbformat": 4,
 "nbformat_minor": 2
}
