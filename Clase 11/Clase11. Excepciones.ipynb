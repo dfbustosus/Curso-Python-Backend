{
 "cells": [
  {
   "cell_type": "markdown",
   "metadata": {},
   "source": [
    "**Excepciones**"
   ]
  },
  {
   "cell_type": "code",
   "execution_count": 1,
   "metadata": {},
   "outputs": [
    {
     "ename": "SyntaxError",
     "evalue": "incomplete input (1175813270.py, line 2)",
     "output_type": "error",
     "traceback": [
      "\u001b[1;36m  Cell \u001b[1;32mIn [1], line 2\u001b[1;36m\u001b[0m\n\u001b[1;33m    print('Hola'\u001b[0m\n\u001b[1;37m                ^\u001b[0m\n\u001b[1;31mSyntaxError\u001b[0m\u001b[1;31m:\u001b[0m incomplete input\n"
     ]
    }
   ],
   "source": [
    "# Error sintaxis\n",
    "print('Hola'"
   ]
  },
  {
   "cell_type": "code",
   "execution_count": 2,
   "metadata": {},
   "outputs": [
    {
     "ename": "NameError",
     "evalue": "name 'pint' is not defined",
     "output_type": "error",
     "traceback": [
      "\u001b[1;31m---------------------------------------------------------------------------\u001b[0m",
      "\u001b[1;31mNameError\u001b[0m                                 Traceback (most recent call last)",
      "Cell \u001b[1;32mIn [2], line 2\u001b[0m\n\u001b[0;32m      1\u001b[0m \u001b[39m# Error de nombre\u001b[39;00m\n\u001b[1;32m----> 2\u001b[0m pint(\u001b[39m'\u001b[39m\u001b[39mHola\u001b[39m\u001b[39m'\u001b[39m)\n",
      "\u001b[1;31mNameError\u001b[0m: name 'pint' is not defined"
     ]
    }
   ],
   "source": [
    "# Error de nombre\n",
    "pint('Hola')"
   ]
  },
  {
   "cell_type": "code",
   "execution_count": 3,
   "metadata": {},
   "outputs": [
    {
     "ename": "IndexError",
     "evalue": "pop from empty list",
     "output_type": "error",
     "traceback": [
      "\u001b[1;31m---------------------------------------------------------------------------\u001b[0m",
      "\u001b[1;31mIndexError\u001b[0m                                Traceback (most recent call last)",
      "Cell \u001b[1;32mIn [3], line 3\u001b[0m\n\u001b[0;32m      1\u001b[0m \u001b[39m# Errores semanticos\u001b[39;00m\n\u001b[0;32m      2\u001b[0m l\u001b[39m=\u001b[39m[]\n\u001b[1;32m----> 3\u001b[0m l\u001b[39m.\u001b[39;49mpop()\n",
      "\u001b[1;31mIndexError\u001b[0m: pop from empty list"
     ]
    }
   ],
   "source": [
    "# Errores semanticos\n",
    "l=[]\n",
    "l.pop()"
   ]
  },
  {
   "cell_type": "code",
   "execution_count": 4,
   "metadata": {},
   "outputs": [],
   "source": [
    "lista=[]\n",
    "if len(lista)>0:\n",
    "    lista.pop()"
   ]
  },
  {
   "cell_type": "code",
   "execution_count": 5,
   "metadata": {},
   "outputs": [
    {
     "name": "stdout",
     "output_type": "stream",
     "text": [
      "--->4/4=4/4\n"
     ]
    }
   ],
   "source": [
    "# Errores semanticos\n",
    "n=input('Ingresar un numero n: \\n')\n",
    "m=4\n",
    "print(f'--->{n}/{m}={n}/{m}')"
   ]
  },
  {
   "cell_type": "code",
   "execution_count": 6,
   "metadata": {},
   "outputs": [
    {
     "ename": "TypeError",
     "evalue": "unsupported operand type(s) for /: 'str' and 'int'",
     "output_type": "error",
     "traceback": [
      "\u001b[1;31m---------------------------------------------------------------------------\u001b[0m",
      "\u001b[1;31mTypeError\u001b[0m                                 Traceback (most recent call last)",
      "Cell \u001b[1;32mIn [6], line 1\u001b[0m\n\u001b[1;32m----> 1\u001b[0m \u001b[39mprint\u001b[39m(\u001b[39m'\u001b[39m\u001b[39m{}\u001b[39;00m\u001b[39m/\u001b[39m\u001b[39m{}\u001b[39;00m\u001b[39m=\u001b[39m\u001b[39m{}\u001b[39;00m\u001b[39m'\u001b[39m\u001b[39m.\u001b[39mformat(n,m,n\u001b[39m/\u001b[39;49mm))\n",
      "\u001b[1;31mTypeError\u001b[0m: unsupported operand type(s) for /: 'str' and 'int'"
     ]
    }
   ],
   "source": [
    "print('{}/{}={}'.format(n,m,n/m))"
   ]
  },
  {
   "cell_type": "code",
   "execution_count": 7,
   "metadata": {},
   "outputs": [
    {
     "name": "stdout",
     "output_type": "stream",
     "text": [
      "5.0/4=1.25\n"
     ]
    }
   ],
   "source": [
    "n=float(input('Ingresar un numero n: \\n'))\n",
    "m=4\n",
    "print('{}/{}={}'.format(n,m,n/m))"
   ]
  },
  {
   "cell_type": "code",
   "execution_count": 9,
   "metadata": {},
   "outputs": [],
   "source": [
    "# Desafio\n",
    "def dividir(a,b):\n",
    "    if b==0:\n",
    "        return None \n",
    "    else:\n",
    "        return a/b\n",
    "dividir(a=2,b=0)"
   ]
  },
  {
   "cell_type": "code",
   "execution_count": 10,
   "metadata": {},
   "outputs": [
    {
     "data": {
      "text/plain": [
       "0.5"
      ]
     },
     "execution_count": 10,
     "metadata": {},
     "output_type": "execute_result"
    }
   ],
   "source": [
    "dividir(2,4)"
   ]
  },
  {
   "cell_type": "code",
   "execution_count": 1,
   "metadata": {},
   "outputs": [
    {
     "name": "stdout",
     "output_type": "stream",
     "text": [
      "Ingresar un numero n: \n",
      "4\n",
      "4.0/4=1.0\n"
     ]
    }
   ],
   "source": [
    "try:\n",
    "   n=float(input('Ingresar un numero n: \\n'))\n",
    "   m=4\n",
    "   print('{}/{}={}'.format(n,m,n/m))\n",
    "except:\n",
    "    print('Algo salio mal!!')"
   ]
  },
  {
   "cell_type": "code",
   "execution_count": 2,
   "metadata": {},
   "outputs": [
    {
     "name": "stdout",
     "output_type": "stream",
     "text": [
      "Introduce un numero: \n",
      "4\n",
      "4.0/4=1.0\n"
     ]
    }
   ],
   "source": [
    "while True:\n",
    "    try:\n",
    "        n=float(input('Introduce un numero: \\n'))\n",
    "        m=4\n",
    "        print('{}/{}={}'.format(n,m,n/m))\n",
    "        break \n",
    "    except:\n",
    "        print('Ha ocurrido un error introduce bien un numero')\n"
   ]
  },
  {
   "cell_type": "code",
   "execution_count": 14,
   "metadata": {},
   "outputs": [
    {
     "name": "stdout",
     "output_type": "stream",
     "text": [
      "5.0/4=1.25\n",
      "Todo ha funcionado correctamente\n"
     ]
    }
   ],
   "source": [
    "while True:\n",
    "    try:\n",
    "        n=float(input('Introduce un numero: \\n'))\n",
    "        m=4\n",
    "        print('{}/{}={}'.format(n,m,n/m))\n",
    "        #break \n",
    "    except:\n",
    "        print('Ha ocurrido un error introduce bien un numero')\n",
    "    else:\n",
    "        print('Todo ha funcionado correctamente')\n",
    "        break\n"
   ]
  },
  {
   "cell_type": "code",
   "execution_count": 15,
   "metadata": {},
   "outputs": [
    {
     "name": "stdout",
     "output_type": "stream",
     "text": [
      "5.0/4=1.25\n",
      "Todo ha funcionado correctamente\n",
      "Fin de la iteracion\n"
     ]
    }
   ],
   "source": [
    "while True:\n",
    "    try:\n",
    "        n=float(input('Introduce un numero: \\n'))\n",
    "        m=4\n",
    "        print('{}/{}={}'.format(n,m,n/m))\n",
    "        #break \n",
    "    except:\n",
    "        print('Ha ocurrido un error introduce bien un numero')\n",
    "    else:\n",
    "        print('Todo ha funcionado correctamente')\n",
    "        break\n",
    "    finally:\n",
    "        print('Fin de la iteracion')"
   ]
  },
  {
   "cell_type": "code",
   "execution_count": 16,
   "metadata": {},
   "outputs": [
    {
     "name": "stdout",
     "output_type": "stream",
     "text": [
      "Ha ocurrido un error ==>> ValueError\n"
     ]
    }
   ],
   "source": [
    "# Excepciones multiples\n",
    "try:\n",
    "    n=float(input('Introduce un numero: \\n')) \n",
    "    5/n \n",
    "except Exception as e:\n",
    "    print('Ha ocurrido un error ==>>',type(e).__name__)\n"
   ]
  },
  {
   "cell_type": "code",
   "execution_count": 19,
   "metadata": {},
   "outputs": [
    {
     "name": "stdout",
     "output_type": "stream",
     "text": [
      "int\n",
      "float\n",
      "list\n",
      "tuple\n"
     ]
    }
   ],
   "source": [
    "print(type(1).__name__)\n",
    "print(type(3.14).__name__)\n",
    "print(type([]).__name__)\n",
    "print(type(()).__name__)"
   ]
  },
  {
   "cell_type": "code",
   "execution_count": 23,
   "metadata": {},
   "outputs": [
    {
     "name": "stdout",
     "output_type": "stream",
     "text": [
      "Debes introducir una cadena que no sea un numero\n"
     ]
    }
   ],
   "source": [
    "try:\n",
    "    n=float(input('Introduce un numero divisor:'))\n",
    "    5/n \n",
    "except TypeError:\n",
    "    print('No se puede dividir el numero entre otra cadena')\n",
    "except ValueError:\n",
    "    print('Debes introducir una cadena que no sea un numero')\n",
    "except ZeroDivisionError:\n",
    "    print('No se puede dividir por cero, prueba otro numero')\n",
    "except Exception as e:\n",
    "    print('Ha ocurrido un error no previsto',type(e).__name__)\n"
   ]
  },
  {
   "cell_type": "code",
   "execution_count": 26,
   "metadata": {},
   "outputs": [
    {
     "ename": "ZeroDivisionError",
     "evalue": "division by zero",
     "output_type": "error",
     "traceback": [
      "\u001b[1;31m---------------------------------------------------------------------------\u001b[0m",
      "\u001b[1;31mZeroDivisionError\u001b[0m                         Traceback (most recent call last)",
      "Cell \u001b[1;32mIn [26], line 7\u001b[0m\n\u001b[0;32m      5\u001b[0m     \u001b[39mexcept\u001b[39;00m \u001b[39mValueError\u001b[39;00m:\n\u001b[0;32m      6\u001b[0m         \u001b[39mprint\u001b[39m(\u001b[39m'\u001b[39m\u001b[39mNo se puede dividir por cero\u001b[39m\u001b[39m'\u001b[39m)\n\u001b[1;32m----> 7\u001b[0m dividir(\u001b[39m4\u001b[39;49m,\u001b[39m0\u001b[39;49m)\n",
      "Cell \u001b[1;32mIn [26], line 4\u001b[0m, in \u001b[0;36mdividir\u001b[1;34m(a, b)\u001b[0m\n\u001b[0;32m      2\u001b[0m \u001b[39mdef\u001b[39;00m \u001b[39mdividir\u001b[39m(a,b):\n\u001b[0;32m      3\u001b[0m     \u001b[39mtry\u001b[39;00m:\n\u001b[1;32m----> 4\u001b[0m         \u001b[39mreturn\u001b[39;00m a\u001b[39m/\u001b[39;49mb\n\u001b[0;32m      5\u001b[0m     \u001b[39mexcept\u001b[39;00m \u001b[39mValueError\u001b[39;00m:\n\u001b[0;32m      6\u001b[0m         \u001b[39mprint\u001b[39m(\u001b[39m'\u001b[39m\u001b[39mNo se puede dividir por cero\u001b[39m\u001b[39m'\u001b[39m)\n",
      "\u001b[1;31mZeroDivisionError\u001b[0m: division by zero"
     ]
    }
   ],
   "source": [
    "# Desafio\n",
    "def dividir(a,b):\n",
    "    try:\n",
    "        return a/b\n",
    "    except ValueError:\n",
    "        print('No se puede dividir por cero')\n",
    "dividir(4,0)"
   ]
  }
 ],
 "metadata": {
  "kernelspec": {
   "display_name": "Python 3 (ipykernel)",
   "language": "python",
   "name": "python3"
  },
  "language_info": {
   "codemirror_mode": {
    "name": "ipython",
    "version": 3
   },
   "file_extension": ".py",
   "mimetype": "text/x-python",
   "name": "python",
   "nbconvert_exporter": "python",
   "pygments_lexer": "ipython3",
   "version": "3.9.12"
  },
  "vscode": {
   "interpreter": {
    "hash": "8649ced70e2df50cbec1162fce5f764529cbe99dc753d77d52a836183a2bd877"
   }
  }
 },
 "nbformat": 4,
 "nbformat_minor": 2
}
